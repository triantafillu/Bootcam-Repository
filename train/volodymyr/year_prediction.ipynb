{
 "cells": [
  {
   "cell_type": "code",
   "execution_count": 2,
   "metadata": {},
   "outputs": [],
   "source": [
    "import pandas as pd\n",
    "import spacy\n",
    "from sklearn import model_selection\n",
    "import numpy as np\n",
    "\n",
    "\n",
    "from tensorflow import keras\n",
    "from tensorflow.keras import layers, models"
   ]
  },
  {
   "cell_type": "code",
   "execution_count": 3,
   "metadata": {},
   "outputs": [],
   "source": [
    "df = pd.read_json(open(\"../../data/data.json\", \"r\", encoding=\"utf8\"))"
   ]
  },
  {
   "cell_type": "code",
   "execution_count": 4,
   "metadata": {},
   "outputs": [
    {
     "data": {
      "text/html": [
       "<div>\n",
       "<style scoped>\n",
       "    .dataframe tbody tr th:only-of-type {\n",
       "        vertical-align: middle;\n",
       "    }\n",
       "\n",
       "    .dataframe tbody tr th {\n",
       "        vertical-align: top;\n",
       "    }\n",
       "\n",
       "    .dataframe thead th {\n",
       "        text-align: right;\n",
       "    }\n",
       "</style>\n",
       "<table border=\"1\" class=\"dataframe\">\n",
       "  <thead>\n",
       "    <tr style=\"text-align: right;\">\n",
       "      <th></th>\n",
       "      <th>title</th>\n",
       "      <th>author</th>\n",
       "      <th>year</th>\n",
       "      <th>text</th>\n",
       "      <th>themes</th>\n",
       "    </tr>\n",
       "  </thead>\n",
       "  <tbody>\n",
       "    <tr>\n",
       "      <th>0</th>\n",
       "      <td>[45, 4, 141, 903]</td>\n",
       "      <td>0</td>\n",
       "      <td>2002</td>\n",
       "      <td>[2, 2334, 1097, 5, 2334, 298, 9780, 1002, 412,...</td>\n",
       "      <td>[0, 0, 0, 0, 0, 0, 1, 0, 0, 0, 0, 0, 0, 0, 0, ...</td>\n",
       "    </tr>\n",
       "    <tr>\n",
       "      <th>1</th>\n",
       "      <td>[2828]</td>\n",
       "      <td>1</td>\n",
       "      <td>2002</td>\n",
       "      <td>[1, 95, 106, 4385, 3, 144, 291, 33, 1426, 8803...</td>\n",
       "      <td>[0, 0, 0, 0, 0, 0, 0, 0, 0, 0, 0, 0, 0, 0, 0, ...</td>\n",
       "    </tr>\n",
       "    <tr>\n",
       "      <th>2</th>\n",
       "      <td>[209]</td>\n",
       "      <td>2</td>\n",
       "      <td>2002</td>\n",
       "      <td>[106, 20, 719, 21, 1474, 329, 240, 159, 421, 2...</td>\n",
       "      <td>[0, 0, 0, 0, 0, 0, 0, 0, 0, 0, 0, 0, 0, 0, 0, ...</td>\n",
       "    </tr>\n",
       "    <tr>\n",
       "      <th>3</th>\n",
       "      <td>[1210, 40, 114, 1989, 18, 2321]</td>\n",
       "      <td>3</td>\n",
       "      <td>2002</td>\n",
       "      <td>[329, 303, 17, 70, 8, 1, 8, 1, 43, 1345, 1, 20...</td>\n",
       "      <td>[0, 0, 0, 0, 0, 0, 0, 0, 0, 0, 0, 0, 0, 0, 0, ...</td>\n",
       "    </tr>\n",
       "    <tr>\n",
       "      <th>4</th>\n",
       "      <td>[259, 1210]</td>\n",
       "      <td>4</td>\n",
       "      <td>2002</td>\n",
       "      <td>[9, 649, 76, 140, 544, 206, 679, 179, 107, 44,...</td>\n",
       "      <td>[0, 0, 0, 0, 0, 0, 0, 0, 0, 0, 0, 0, 0, 0, 0, ...</td>\n",
       "    </tr>\n",
       "    <tr>\n",
       "      <th>...</th>\n",
       "      <td>...</td>\n",
       "      <td>...</td>\n",
       "      <td>...</td>\n",
       "      <td>...</td>\n",
       "      <td>...</td>\n",
       "    </tr>\n",
       "    <tr>\n",
       "      <th>17067</th>\n",
       "      <td>[151, 18, 2, 5178]</td>\n",
       "      <td>168</td>\n",
       "      <td>1990</td>\n",
       "      <td>[1, 395, 2499, 331, 545, 8944, 28, 2573, 93, 8...</td>\n",
       "      <td>[0, 0, 0, 0, 0, 0, 0, 1, 0, 0, 1, 0, 0, 0, 0, ...</td>\n",
       "    </tr>\n",
       "    <tr>\n",
       "      <th>17068</th>\n",
       "      <td>[]</td>\n",
       "      <td>1172</td>\n",
       "      <td>1990</td>\n",
       "      <td>[2, 597, 152, 153, 200, 277, 167, 4114, 3080, ...</td>\n",
       "      <td>[0, 0, 0, 0, 0, 0, 0, 0, 1, 0, 0, 0, 1, 0, 0, ...</td>\n",
       "    </tr>\n",
       "    <tr>\n",
       "      <th>17070</th>\n",
       "      <td>[15, 114]</td>\n",
       "      <td>3191</td>\n",
       "      <td>1990</td>\n",
       "      <td>[114, 17, 70, 125, 628, 2, 797, 1, 99, 1133, 1...</td>\n",
       "      <td>[0, 0, 0, 0, 0, 0, 0, 0, 0, 0, 0, 0, 0, 0, 0, ...</td>\n",
       "    </tr>\n",
       "    <tr>\n",
       "      <th>17071</th>\n",
       "      <td>[15, 25, 1, 13]</td>\n",
       "      <td>3434</td>\n",
       "      <td>2005</td>\n",
       "      <td>[15, 1, 13, 37, 36, 15, 1, 311, 174, 544, 38, ...</td>\n",
       "      <td>[0, 0, 0, 0, 0, 0, 0, 0, 0, 0, 0, 0, 0, 0, 0, ...</td>\n",
       "    </tr>\n",
       "    <tr>\n",
       "      <th>17073</th>\n",
       "      <td>[7, 283, 1626, 26, 1173, 24, 224, 7]</td>\n",
       "      <td>3015</td>\n",
       "      <td>1990</td>\n",
       "      <td>[6340, 6987, 1926, 791, 1613, 1018, 7647, 1792...</td>\n",
       "      <td>[0, 0, 0, 0, 0, 0, 0, 0, 0, 0, 0, 0, 0, 0, 0, ...</td>\n",
       "    </tr>\n",
       "  </tbody>\n",
       "</table>\n",
       "<p>13684 rows × 5 columns</p>\n",
       "</div>"
      ],
      "text/plain": [
       "                                      title  author  year  \\\n",
       "0                         [45, 4, 141, 903]       0  2002   \n",
       "1                                    [2828]       1  2002   \n",
       "2                                     [209]       2  2002   \n",
       "3           [1210, 40, 114, 1989, 18, 2321]       3  2002   \n",
       "4                               [259, 1210]       4  2002   \n",
       "...                                     ...     ...   ...   \n",
       "17067                    [151, 18, 2, 5178]     168  1990   \n",
       "17068                                    []    1172  1990   \n",
       "17070                             [15, 114]    3191  1990   \n",
       "17071                       [15, 25, 1, 13]    3434  2005   \n",
       "17073  [7, 283, 1626, 26, 1173, 24, 224, 7]    3015  1990   \n",
       "\n",
       "                                                    text  \\\n",
       "0      [2, 2334, 1097, 5, 2334, 298, 9780, 1002, 412,...   \n",
       "1      [1, 95, 106, 4385, 3, 144, 291, 33, 1426, 8803...   \n",
       "2      [106, 20, 719, 21, 1474, 329, 240, 159, 421, 2...   \n",
       "3      [329, 303, 17, 70, 8, 1, 8, 1, 43, 1345, 1, 20...   \n",
       "4      [9, 649, 76, 140, 544, 206, 679, 179, 107, 44,...   \n",
       "...                                                  ...   \n",
       "17067  [1, 395, 2499, 331, 545, 8944, 28, 2573, 93, 8...   \n",
       "17068  [2, 597, 152, 153, 200, 277, 167, 4114, 3080, ...   \n",
       "17070  [114, 17, 70, 125, 628, 2, 797, 1, 99, 1133, 1...   \n",
       "17071  [15, 1, 13, 37, 36, 15, 1, 311, 174, 544, 38, ...   \n",
       "17073  [6340, 6987, 1926, 791, 1613, 1018, 7647, 1792...   \n",
       "\n",
       "                                                  themes  \n",
       "0      [0, 0, 0, 0, 0, 0, 1, 0, 0, 0, 0, 0, 0, 0, 0, ...  \n",
       "1      [0, 0, 0, 0, 0, 0, 0, 0, 0, 0, 0, 0, 0, 0, 0, ...  \n",
       "2      [0, 0, 0, 0, 0, 0, 0, 0, 0, 0, 0, 0, 0, 0, 0, ...  \n",
       "3      [0, 0, 0, 0, 0, 0, 0, 0, 0, 0, 0, 0, 0, 0, 0, ...  \n",
       "4      [0, 0, 0, 0, 0, 0, 0, 0, 0, 0, 0, 0, 0, 0, 0, ...  \n",
       "...                                                  ...  \n",
       "17067  [0, 0, 0, 0, 0, 0, 0, 1, 0, 0, 1, 0, 0, 0, 0, ...  \n",
       "17068  [0, 0, 0, 0, 0, 0, 0, 0, 1, 0, 0, 0, 1, 0, 0, ...  \n",
       "17070  [0, 0, 0, 0, 0, 0, 0, 0, 0, 0, 0, 0, 0, 0, 0, ...  \n",
       "17071  [0, 0, 0, 0, 0, 0, 0, 0, 0, 0, 0, 0, 0, 0, 0, ...  \n",
       "17073  [0, 0, 0, 0, 0, 0, 0, 0, 0, 0, 0, 0, 0, 0, 0, ...  \n",
       "\n",
       "[13684 rows x 5 columns]"
      ]
     },
     "execution_count": 4,
     "metadata": {},
     "output_type": "execute_result"
    }
   ],
   "source": [
    "df"
   ]
  },
  {
   "cell_type": "code",
   "execution_count": 5,
   "metadata": {},
   "outputs": [],
   "source": [
    "# one hot encoding for authors\n",
    "def encode_authors(author_code):\n",
    "    qty = df.author.max()\n",
    "    result = [0] * (qty + 1)\n",
    "    result[author_code] = 1\n",
    "    return result\n",
    "\n",
    "df.author = df.author.apply(encode_authors)"
   ]
  },
  {
   "cell_type": "code",
   "execution_count": 6,
   "metadata": {},
   "outputs": [],
   "source": [
    "max_features = 10000  # maximum number of words in vocabulari 5000\n",
    "max_len = 150  # max length of string"
   ]
  },
  {
   "cell_type": "code",
   "execution_count": 18,
   "metadata": {},
   "outputs": [],
   "source": [
    "df['joined_text'] = df['text'] + df['title']\n",
    "df['X2'] = df['themes'] + df['author'] \n",
    "train_df, test_df = model_selection.train_test_split(df, test_size=0.1, random_state=42)\n",
    "X1_train = keras.preprocessing.sequence.pad_sequences(train_df['joined_text'].to_list(), maxlen=max_len, padding='post')\n",
    "X2_train = np.stack(train_df['X2'])\n",
    "Y_train = np.stack(train_df['year'])\n",
    "X1_test = keras.preprocessing.sequence.pad_sequences(list(test_df['joined_text']), maxlen=max_len, padding='post')\n",
    "X2_test = np.stack(test_df['X2'])\n",
    "Y_test = np.stack(test_df['year'])"
   ]
  },
  {
   "cell_type": "markdown",
   "metadata": {},
   "source": [
    "### Model "
   ]
  },
  {
   "cell_type": "code",
   "execution_count": 19,
   "metadata": {},
   "outputs": [
    {
     "name": "stdout",
     "output_type": "stream",
     "text": [
      "Model: \"sequential_2\"\n",
      "_________________________________________________________________\n",
      "Layer (type)                 Output Shape              Param #   \n",
      "=================================================================\n",
      "embedding_2 (Embedding)      (None, 150, 64)           640000    \n",
      "_________________________________________________________________\n",
      "flatten_2 (Flatten)          (None, 9600)              0         \n",
      "_________________________________________________________________\n",
      "dense_8 (Dense)              (None, 2000)              19202000  \n",
      "_________________________________________________________________\n",
      "dense_9 (Dense)              (None, 500)               1000500   \n",
      "_________________________________________________________________\n",
      "dense_10 (Dense)             (None, 100)               50100     \n",
      "_________________________________________________________________\n",
      "dense_11 (Dense)             (None, 1)                 101       \n",
      "=================================================================\n",
      "Total params: 20,892,701\n",
      "Trainable params: 20,892,701\n",
      "Non-trainable params: 0\n",
      "_________________________________________________________________\n"
     ]
    }
   ],
   "source": [
    "embedding_dim =64\n",
    "model1 = keras.models.Sequential([\n",
    "  keras.layers.Embedding(input_dim=max_features,\n",
    "                           output_dim=embedding_dim,\n",
    "                           input_length=max_len),\n",
    "  keras.layers.Flatten(),\n",
    "  keras.layers.Dense(2000,activation='relu'),\n",
    "  keras.layers.Dense(500,activation='relu'),\n",
    "  keras.layers.Dense(100,activation='relu'),\n",
    "  keras.layers.Dense(1, activation='relu')\n",
    "])\n",
    "\n",
    "model1.compile(optimizer='nadam',\n",
    "              loss='mean_squared_error',\n",
    "              metrics=['MAE'])\n",
    "\n",
    "model1.summary()"
   ]
  },
  {
   "cell_type": "code",
   "execution_count": 20,
   "metadata": {},
   "outputs": [
    {
     "name": "stdout",
     "output_type": "stream",
     "text": [
      "Epoch 1/5\n",
      "385/385 [==============================] - 88s 229ms/step - loss: 141485.2812 - MAE: 189.7935 - val_loss: 10381.7842 - val_MAE: 82.9884\n",
      "Epoch 2/5\n",
      "385/385 [==============================] - 89s 230ms/step - loss: 16184.9746 - MAE: 98.7228 - val_loss: 9193.0645 - val_MAE: 76.8472\n",
      "Epoch 3/5\n",
      "385/385 [==============================] - 87s 227ms/step - loss: 12304.0918 - MAE: 87.8769 - val_loss: 5372.7788 - val_MAE: 52.9201\n",
      "Epoch 4/5\n",
      "385/385 [==============================] - 88s 229ms/step - loss: 10282.0518 - MAE: 80.5133 - val_loss: 5044.4580 - val_MAE: 51.7279\n",
      "Epoch 5/5\n",
      "385/385 [==============================] - 88s 228ms/step - loss: 9399.6963 - MAE: 76.6931 - val_loss: 5334.0562 - val_MAE: 51.7882\n"
     ]
    },
    {
     "data": {
      "text/plain": [
       "<tensorflow.python.keras.callbacks.History at 0x7fe8947a4d68>"
      ]
     },
     "execution_count": 20,
     "metadata": {},
     "output_type": "execute_result"
    }
   ],
   "source": [
    "epochs = 5\n",
    "model1.fit(X1_train, Y_train,\n",
    "          #batch_size=128,\n",
    "          validation_data=(X1_test,Y_test),\n",
    "          epochs=epochs)"
   ]
  },
  {
   "cell_type": "code",
   "execution_count": 21,
   "metadata": {},
   "outputs": [
    {
     "name": "stdout",
     "output_type": "stream",
     "text": [
      "43/43 [==============================] - 1s 14ms/step - loss: 5334.0562 - MAE: 51.7882\n",
      "Test Score: 5334.05615234375\n",
      "Test Accuracy: 51.788211822509766\n"
     ]
    }
   ],
   "source": [
    "score1 = model1.evaluate(np.array(X1_test), np.array(Y_test)) \n",
    "\n",
    "print(\"Test Score:\", score1[0])\n",
    "print(\"Test Accuracy:\", score1[1])"
   ]
  },
  {
   "cell_type": "code",
   "execution_count": 12,
   "metadata": {},
   "outputs": [],
   "source": [
    "'''\n",
    "model2 = keras.models.Sequential([\n",
    "  keras.layers.Dense(units=2000, activation='relu', input_shape=[len(X2_train[0])]),\n",
    "  \n",
    "  keras.layers.Dense(2000,activation='relu'),\n",
    "  keras.layers.Dense(500,activation='relu'),\n",
    "  keras.layers.Dense(100,activation='relu'),\n",
    "  keras.layers.Dense(1, activation='relu')\n",
    "])\n",
    "\n",
    "model2.build()'''"
   ]
  },
  {
   "cell_type": "code",
   "execution_count": 8,
   "metadata": {},
   "outputs": [],
   "source": [
    "model2 = keras.models.Sequential([\n",
    "  keras.layers.Embedding(input_dim=2,\n",
    "                           output_dim=8,\n",
    "                           input_length=len(X2_train[0])),\n",
    "  keras.layers.Flatten(),\n",
    "  keras.layers.Dense(2000,activation='relu'),\n",
    "  keras.layers.Dense(500,activation='relu'),\n",
    "  keras.layers.Dense(100,activation='relu'),\n",
    "  keras.layers.Dense(1, activation='relu')\n",
    "])\n",
    "\n",
    "model2.build()"
   ]
  },
  {
   "cell_type": "code",
   "execution_count": 9,
   "metadata": {},
   "outputs": [],
   "source": [
    "model2.compile(optimizer='nadam',\n",
    "              loss='mean_squared_error',\n",
    "              metrics=['MAE'])"
   ]
  },
  {
   "cell_type": "code",
   "execution_count": 10,
   "metadata": {},
   "outputs": [
    {
     "name": "stdout",
     "output_type": "stream",
     "text": [
      "Model: \"sequential\"\n",
      "_________________________________________________________________\n",
      "Layer (type)                 Output Shape              Param #   \n",
      "=================================================================\n",
      "embedding (Embedding)        (None, 4116, 8)           16        \n",
      "_________________________________________________________________\n",
      "flatten (Flatten)            (None, 32928)             0         \n",
      "_________________________________________________________________\n",
      "dense (Dense)                (None, 2000)              65858000  \n",
      "_________________________________________________________________\n",
      "dense_1 (Dense)              (None, 500)               1000500   \n",
      "_________________________________________________________________\n",
      "dense_2 (Dense)              (None, 100)               50100     \n",
      "_________________________________________________________________\n",
      "dense_3 (Dense)              (None, 1)                 101       \n",
      "=================================================================\n",
      "Total params: 66,908,717\n",
      "Trainable params: 66,908,717\n",
      "Non-trainable params: 0\n",
      "_________________________________________________________________\n"
     ]
    }
   ],
   "source": [
    "model2.summary()"
   ]
  },
  {
   "cell_type": "code",
   "execution_count": 11,
   "metadata": {},
   "outputs": [
    {
     "name": "stdout",
     "output_type": "stream",
     "text": [
      "Epoch 1/5\n",
      "347/347 [==============================] - 277s 797ms/step - loss: 90519.9766 - MAE: 137.9661 - val_loss: 36406.3164 - val_MAE: 187.6237\n",
      "Epoch 2/5\n",
      "347/347 [==============================] - 240s 693ms/step - loss: 14187.0254 - MAE: 95.0268 - val_loss: 7031.6729 - val_MAE: 66.9134\n",
      "Epoch 3/5\n",
      "347/347 [==============================] - 247s 711ms/step - loss: 13675.5176 - MAE: 92.3169 - val_loss: 5841.9893 - val_MAE: 58.5031\n",
      "Epoch 4/5\n",
      "347/347 [==============================] - 244s 704ms/step - loss: 9364.1357 - MAE: 78.2141 - val_loss: 2604.0647 - val_MAE: 36.5821\n",
      "Epoch 5/5\n",
      "347/347 [==============================] - 242s 698ms/step - loss: 7796.7041 - MAE: 67.4034 - val_loss: 2205.5088 - val_MAE: 23.5959\n"
     ]
    },
    {
     "data": {
      "text/plain": [
       "<tensorflow.python.keras.callbacks.History at 0x7fe8d40df668>"
      ]
     },
     "execution_count": 11,
     "metadata": {},
     "output_type": "execute_result"
    }
   ],
   "source": [
    "model2.fit(X2_train, Y_train, epochs=5, validation_split=0.1)"
   ]
  },
  {
   "cell_type": "code",
   "execution_count": 12,
   "metadata": {},
   "outputs": [
    {
     "name": "stdout",
     "output_type": "stream",
     "text": [
      "43/43 [==============================] - 2s 45ms/step - loss: 2023.9536 - MAE: 23.0112\n",
      "Test Score: 2023.95361328125\n",
      "Test Accuracy: 23.011194229125977\n"
     ]
    }
   ],
   "source": [
    "score2 = model2.evaluate(np.array(X2_test), np.array(Y_test)) \n",
    "\n",
    "print(\"Test Score:\", score2[0])\n",
    "print(\"Test Accuracy:\", score2[1])"
   ]
  },
  {
   "cell_type": "code",
   "execution_count": 25,
   "metadata": {},
   "outputs": [],
   "source": [
    "y_pred1 = model1.predict(X1_test)\n",
    "y_pred2 = model2.predict(X2_test)\n",
    "result = (y_pred1 + y_pred2)/2"
   ]
  },
  {
   "cell_type": "code",
   "execution_count": 29,
   "metadata": {},
   "outputs": [
    {
     "data": {
      "text/plain": [
       "<tf.Tensor: shape=(), dtype=float32, numpy=45.97911>"
      ]
     },
     "execution_count": 29,
     "metadata": {},
     "output_type": "execute_result"
    }
   ],
   "source": [
    "keras.metrics.mean_absolute_error(\n",
    "    y_pred1.flatten(), y_pred2.flatten()\n",
    ")"
   ]
  },
  {
   "cell_type": "markdown",
   "metadata": {},
   "source": [
    "### Multi-input model"
   ]
  },
  {
   "cell_type": "code",
   "execution_count": 34,
   "metadata": {},
   "outputs": [],
   "source": [
    "text_input = keras.Input(shape=(max_len,))\n",
    "categorical_input = keras.Input(shape=(len(X2_train[0]),))\n",
    "\n",
    "text_embedding = layers.Embedding(max_features, 64)(text_input)\n",
    "categorical_embedding = layers.Embedding(2, 8)(categorical_input)\n",
    "\n",
    "flat_text = layers.Flatten()(text_embedding)\n",
    "flat_categories = layers.Flatten()(categorical_embedding)\n",
    "\n",
    "concatenated = keras.layers.Concatenate()([flat_text, flat_categories])\n",
    "\n",
    "dense1 = keras.layers.Dense(2000, activation='relu', )(concatenated)\n",
    "dense2 = keras.layers.Dense(500, activation='relu', )(dense1)\n",
    "dense3 = keras.layers.Dense(100, activation='relu', )(dense2)\n",
    "out = keras.layers.Dense(1, activation='relu', )(dense3)\n",
    "\n",
    "\n",
    "united_model = keras.Model(inputs=[text_input, categorical_input], outputs=out)\n"
   ]
  },
  {
   "cell_type": "code",
   "execution_count": 35,
   "metadata": {},
   "outputs": [
    {
     "name": "stdout",
     "output_type": "stream",
     "text": [
      "Model: \"model_2\"\n",
      "__________________________________________________________________________________________________\n",
      "Layer (type)                    Output Shape         Param #     Connected to                     \n",
      "==================================================================================================\n",
      "input_7 (InputLayer)            [(None, 150)]        0                                            \n",
      "__________________________________________________________________________________________________\n",
      "input_8 (InputLayer)            [(None, 4116)]       0                                            \n",
      "__________________________________________________________________________________________________\n",
      "embedding_7 (Embedding)         (None, 150, 64)      640000      input_7[0][0]                    \n",
      "__________________________________________________________________________________________________\n",
      "embedding_8 (Embedding)         (None, 4116, 8)      16          input_8[0][0]                    \n",
      "__________________________________________________________________________________________________\n",
      "flatten_7 (Flatten)             (None, 9600)         0           embedding_7[0][0]                \n",
      "__________________________________________________________________________________________________\n",
      "flatten_8 (Flatten)             (None, 32928)        0           embedding_8[0][0]                \n",
      "__________________________________________________________________________________________________\n",
      "concatenate_2 (Concatenate)     (None, 42528)        0           flatten_7[0][0]                  \n",
      "                                                                 flatten_8[0][0]                  \n",
      "__________________________________________________________________________________________________\n",
      "dense_20 (Dense)                (None, 2000)         85058000    concatenate_2[0][0]              \n",
      "__________________________________________________________________________________________________\n",
      "dense_21 (Dense)                (None, 500)          1000500     dense_20[0][0]                   \n",
      "__________________________________________________________________________________________________\n",
      "dense_22 (Dense)                (None, 100)          50100       dense_21[0][0]                   \n",
      "__________________________________________________________________________________________________\n",
      "dense_23 (Dense)                (None, 1)            101         dense_22[0][0]                   \n",
      "==================================================================================================\n",
      "Total params: 86,748,717\n",
      "Trainable params: 86,748,717\n",
      "Non-trainable params: 0\n",
      "__________________________________________________________________________________________________\n"
     ]
    }
   ],
   "source": [
    "united_model.compile(optimizer='nadam',\n",
    "              loss='mean_squared_error',\n",
    "              metrics=['MAE'])\n",
    "united_model.summary()"
   ]
  },
  {
   "cell_type": "code",
   "execution_count": 36,
   "metadata": {},
   "outputs": [
    {
     "name": "stdout",
     "output_type": "stream",
     "text": [
      "Epoch 1/5\n",
      "347/347 [==============================] - 309s 891ms/step - loss: 88809.9531 - MAE: 143.0949 - val_loss: 3243.6409 - val_MAE: 46.2809\n",
      "Epoch 2/5\n",
      "347/347 [==============================] - 311s 897ms/step - loss: 13986.5469 - MAE: 99.2000 - val_loss: 6614.6440 - val_MAE: 67.1657\n",
      "Epoch 3/5\n",
      "347/347 [==============================] - 312s 898ms/step - loss: 11291.5625 - MAE: 88.8946 - val_loss: 4938.8389 - val_MAE: 61.5934\n",
      "Epoch 4/5\n",
      "347/347 [==============================] - 311s 896ms/step - loss: 7745.2114 - MAE: 68.3477 - val_loss: 4401.6143 - val_MAE: 57.2549\n",
      "Epoch 5/5\n",
      "347/347 [==============================] - 310s 894ms/step - loss: 7208.7290 - MAE: 68.1534 - val_loss: 2147.5571 - val_MAE: 28.1049\n"
     ]
    },
    {
     "data": {
      "text/plain": [
       "<tensorflow.python.keras.callbacks.History at 0x7fe8cd3fbdd8>"
      ]
     },
     "execution_count": 36,
     "metadata": {},
     "output_type": "execute_result"
    }
   ],
   "source": [
    "united_model.fit([X1_train, X2_train], Y_train, epochs=5, validation_split=0.1)"
   ]
  },
  {
   "cell_type": "code",
   "execution_count": 39,
   "metadata": {},
   "outputs": [
    {
     "name": "stdout",
     "output_type": "stream",
     "text": [
      "43/43 [==============================] - 3s 59ms/step - loss: 1949.2349 - MAE: 27.5944\n",
      "Test Score: 1949.23486328125\n",
      "Test Accuracy: 27.59442901611328\n"
     ]
    }
   ],
   "source": [
    "score3 = united_model.evaluate([np.array(X1_test), np.array(X2_test)], np.array(Y_test)) \n",
    "\n",
    "print(\"Test Score:\", score3[0])\n",
    "print(\"Test Accuracy:\", score3[1])"
   ]
  },
  {
   "cell_type": "code",
   "execution_count": 20,
   "metadata": {},
   "outputs": [],
   "source": [
    "output_dim = 100\n",
    "\n",
    "inputs = keras.Input(shape=(None,), dtype=\"int64\")\n",
    "\n",
    "# Next, we add a layer to map those vocab indices into a space of dimensionality\n",
    "# 'embedding_dim'.\n",
    "x = layers.Embedding(max_features, output_dim)(inputs)\n",
    "x = layers.Dropout(0.5)(x)\n",
    "\n",
    "# Conv1D + global max pooling\n",
    "x = layers.Conv1D(128, 7, padding=\"valid\", activation=\"relu\", strides=3)(x)\n",
    "x = layers.Conv1D(128, 7, padding=\"valid\", activation=\"relu\", strides=3)(x)\n",
    "x = layers.GlobalMaxPooling1D()(x)\n",
    "\n",
    "# We add a vanilla hidden layer:\n",
    "x = layers.Dense(128, activation=\"relu\")(x)\n",
    "x = layers.Dropout(0.5)(x)\n",
    "\n",
    "predictions = layers.Dense(1, activation='relu', name=\"predictions\")(x)\n",
    "\n",
    "model3 = keras.Model(inputs, predictions)\n",
    "\n",
    "# Compile the model with binary crossentropy loss and an adam optimizer.\n",
    "model3.compile(loss=\"mean_squared_error\", optimizer=\"adam\", metrics=[\"MAE\"])\n"
   ]
  },
  {
   "cell_type": "code",
   "execution_count": 21,
   "metadata": {},
   "outputs": [
    {
     "name": "stdout",
     "output_type": "stream",
     "text": [
      "Model: \"model\"\n",
      "_________________________________________________________________\n",
      "Layer (type)                 Output Shape              Param #   \n",
      "=================================================================\n",
      "input_1 (InputLayer)         [(None, None)]            0         \n",
      "_________________________________________________________________\n",
      "embedding_1 (Embedding)      (None, None, 100)         1000000   \n",
      "_________________________________________________________________\n",
      "dropout (Dropout)            (None, None, 100)         0         \n",
      "_________________________________________________________________\n",
      "conv1d (Conv1D)              (None, None, 128)         89728     \n",
      "_________________________________________________________________\n",
      "conv1d_1 (Conv1D)            (None, None, 128)         114816    \n",
      "_________________________________________________________________\n",
      "global_max_pooling1d (Global (None, 128)               0         \n",
      "_________________________________________________________________\n",
      "dense_9 (Dense)              (None, 128)               16512     \n",
      "_________________________________________________________________\n",
      "dropout_1 (Dropout)          (None, 128)               0         \n",
      "_________________________________________________________________\n",
      "predictions (Dense)          (None, 1)                 129       \n",
      "=================================================================\n",
      "Total params: 1,221,185\n",
      "Trainable params: 1,221,185\n",
      "Non-trainable params: 0\n",
      "_________________________________________________________________\n"
     ]
    }
   ],
   "source": [
    "model3.summary()"
   ]
  },
  {
   "cell_type": "code",
   "execution_count": 22,
   "metadata": {},
   "outputs": [
    {
     "name": "stdout",
     "output_type": "stream",
     "text": [
      "Epoch 1/5\n",
      "174/174 [==============================] - 5s 30ms/step - loss: 842177.5000 - MAE: 635.3064 - val_loss: 25712.9609 - val_MAE: 116.9544\n",
      "Epoch 2/5\n",
      "174/174 [==============================] - 5s 29ms/step - loss: 85895.0781 - MAE: 234.0970 - val_loss: 18861.3516 - val_MAE: 104.8669\n",
      "Epoch 3/5\n",
      "174/174 [==============================] - 5s 29ms/step - loss: 77035.4688 - MAE: 221.5358 - val_loss: 12337.6826 - val_MAE: 80.1150\n",
      "Epoch 4/5\n",
      "174/174 [==============================] - 5s 29ms/step - loss: 73586.9062 - MAE: 216.4773 - val_loss: 14829.7373 - val_MAE: 94.7481\n",
      "Epoch 5/5\n",
      "174/174 [==============================] - 5s 29ms/step - loss: 73614.9844 - MAE: 215.3411 - val_loss: 9908.3105 - val_MAE: 68.6175\n"
     ]
    },
    {
     "data": {
      "text/plain": [
       "<tensorflow.python.keras.callbacks.History at 0x7f5cf072f0b8>"
      ]
     },
     "execution_count": 22,
     "metadata": {},
     "output_type": "execute_result"
    }
   ],
   "source": [
    "batch_size = 64\n",
    "epochs = 5\n",
    "model3.fit(X1_train, Y_train, epochs=epochs, batch_size=batch_size,validation_split=0.1)"
   ]
  },
  {
   "cell_type": "code",
   "execution_count": 23,
   "metadata": {},
   "outputs": [
    {
     "name": "stdout",
     "output_type": "stream",
     "text": [
      "43/43 [==============================] - 0s 4ms/step - loss: 7898.9966 - MAE: 63.7953\n",
      "Test set\n",
      "  Loss: 7898.997\n",
      "  Accuracy: 63.795\n"
     ]
    }
   ],
   "source": [
    "accr = model3.evaluate(X1_test,Y_test)\n",
    "print('Test set\\n  Loss: {:0.3f}\\n  Accuracy: {:0.3f}'.format(accr[0],accr[1]))"
   ]
  },
  {
   "cell_type": "code",
   "execution_count": null,
   "metadata": {},
   "outputs": [],
   "source": []
  },
  {
   "cell_type": "code",
   "execution_count": null,
   "metadata": {},
   "outputs": [],
   "source": []
  }
 ],
 "metadata": {
  "kernelspec": {
   "display_name": "Python 3",
   "language": "python",
   "name": "python3"
  },
  "language_info": {
   "codemirror_mode": {
    "name": "ipython",
    "version": 3
   },
   "file_extension": ".py",
   "mimetype": "text/x-python",
   "name": "python",
   "nbconvert_exporter": "python",
   "pygments_lexer": "ipython3",
   "version": "3.6.9"
  }
 },
 "nbformat": 4,
 "nbformat_minor": 2
}
