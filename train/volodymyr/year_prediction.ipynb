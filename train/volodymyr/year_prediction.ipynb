{
 "cells": [
  {
   "cell_type": "code",
   "execution_count": 1,
   "metadata": {},
   "outputs": [],
   "source": [
    "import pandas as pd\n",
    "import spacy\n",
    "from sklearn import model_selection\n",
    "import numpy as np\n",
    "\n",
    "\n",
    "from tensorflow import keras\n",
    "from tensorflow.keras import layers, models"
   ]
  },
  {
   "cell_type": "code",
   "execution_count": 2,
   "metadata": {},
   "outputs": [],
   "source": [
    "df = pd.read_json(open(\"../../data/data.json\", \"r\", encoding=\"utf8\"))"
   ]
  },
  {
   "cell_type": "code",
   "execution_count": 3,
   "metadata": {},
   "outputs": [
    {
     "data": {
      "text/html": [
       "<div>\n",
       "<style scoped>\n",
       "    .dataframe tbody tr th:only-of-type {\n",
       "        vertical-align: middle;\n",
       "    }\n",
       "\n",
       "    .dataframe tbody tr th {\n",
       "        vertical-align: top;\n",
       "    }\n",
       "\n",
       "    .dataframe thead th {\n",
       "        text-align: right;\n",
       "    }\n",
       "</style>\n",
       "<table border=\"1\" class=\"dataframe\">\n",
       "  <thead>\n",
       "    <tr style=\"text-align: right;\">\n",
       "      <th></th>\n",
       "      <th>title</th>\n",
       "      <th>author</th>\n",
       "      <th>year</th>\n",
       "      <th>text</th>\n",
       "      <th>themes</th>\n",
       "    </tr>\n",
       "  </thead>\n",
       "  <tbody>\n",
       "    <tr>\n",
       "      <th>0</th>\n",
       "      <td>[45, 4, 141, 898]</td>\n",
       "      <td>0</td>\n",
       "      <td>2002</td>\n",
       "      <td>[2, 2329, 1094, 5, 2329, 295, 9741, 1002, 412,...</td>\n",
       "      <td>[0, 0, 0, 0, 0, 0, 0, 0, 0, 0, 0, 0, 0, 0, 0, ...</td>\n",
       "    </tr>\n",
       "    <tr>\n",
       "      <th>1</th>\n",
       "      <td>[2833]</td>\n",
       "      <td>1</td>\n",
       "      <td>2002</td>\n",
       "      <td>[1, 95, 106, 4422, 3, 144, 292, 32, 1425, 8751...</td>\n",
       "      <td>[0, 0, 0, 0, 0, 0, 0, 0, 0, 0, 0, 0, 0, 0, 0, ...</td>\n",
       "    </tr>\n",
       "    <tr>\n",
       "      <th>2</th>\n",
       "      <td>[209]</td>\n",
       "      <td>2</td>\n",
       "      <td>2002</td>\n",
       "      <td>[106, 19, 717, 21, 1465, 329, 240, 162, 421, 2...</td>\n",
       "      <td>[0, 0, 0, 0, 0, 0, 0, 0, 0, 0, 0, 0, 0, 0, 0, ...</td>\n",
       "    </tr>\n",
       "    <tr>\n",
       "      <th>4</th>\n",
       "      <td>[259, 1207]</td>\n",
       "      <td>3</td>\n",
       "      <td>2002</td>\n",
       "      <td>[10, 648, 76, 139, 541, 206, 679, 179, 107, 44...</td>\n",
       "      <td>[0, 0, 0, 0, 0, 0, 0, 0, 0, 0, 0, 0, 0, 0, 0, ...</td>\n",
       "    </tr>\n",
       "    <tr>\n",
       "      <th>5</th>\n",
       "      <td>[522, 522]</td>\n",
       "      <td>4</td>\n",
       "      <td>2001</td>\n",
       "      <td>[175, 532, 352, 153, 324, 1903, 2272, 1356, 37...</td>\n",
       "      <td>[0, 0, 0, 0, 0, 0, 0, 0, 0, 0, 0, 0, 0, 0, 0, ...</td>\n",
       "    </tr>\n",
       "    <tr>\n",
       "      <th>...</th>\n",
       "      <td>...</td>\n",
       "      <td>...</td>\n",
       "      <td>...</td>\n",
       "      <td>...</td>\n",
       "      <td>...</td>\n",
       "    </tr>\n",
       "    <tr>\n",
       "      <th>17067</th>\n",
       "      <td>[151, 16, 2, 5151]</td>\n",
       "      <td>163</td>\n",
       "      <td>1990</td>\n",
       "      <td>[1, 395, 2485, 331, 545, 8900, 28, 2562, 93, 8...</td>\n",
       "      <td>[0, 0, 0, 0, 0, 0, 0, 0, 0, 0, 0, 0, 1, 0, 0, ...</td>\n",
       "    </tr>\n",
       "    <tr>\n",
       "      <th>17068</th>\n",
       "      <td>[]</td>\n",
       "      <td>1160</td>\n",
       "      <td>1990</td>\n",
       "      <td>[2, 596, 152, 155, 200, 277, 167, 4093, 3064, ...</td>\n",
       "      <td>[1, 0, 0, 0, 0, 0, 0, 0, 0, 0, 1, 0, 0, 0, 0, ...</td>\n",
       "    </tr>\n",
       "    <tr>\n",
       "      <th>17070</th>\n",
       "      <td>[15, 114]</td>\n",
       "      <td>3182</td>\n",
       "      <td>1990</td>\n",
       "      <td>[114, 20, 73, 125, 631, 2, 795, 1, 99, 1127, 1...</td>\n",
       "      <td>[0, 0, 0, 0, 0, 0, 0, 0, 0, 0, 0, 0, 0, 0, 0, ...</td>\n",
       "    </tr>\n",
       "    <tr>\n",
       "      <th>17071</th>\n",
       "      <td>[15, 25, 1, 13]</td>\n",
       "      <td>3425</td>\n",
       "      <td>2005</td>\n",
       "      <td>[15, 1, 13, 37, 36, 15, 1, 312, 178, 541, 38, ...</td>\n",
       "      <td>[0, 0, 0, 0, 0, 0, 0, 0, 0, 0, 0, 0, 0, 0, 0, ...</td>\n",
       "    </tr>\n",
       "    <tr>\n",
       "      <th>17073</th>\n",
       "      <td>[7, 285, 1645, 26, 1182, 24, 223, 7]</td>\n",
       "      <td>3004</td>\n",
       "      <td>1990</td>\n",
       "      <td>[6309, 6943, 1913, 792, 1621, 1017, 7615, 1780...</td>\n",
       "      <td>[0, 0, 0, 0, 0, 0, 0, 0, 0, 0, 0, 0, 0, 0, 0, ...</td>\n",
       "    </tr>\n",
       "  </tbody>\n",
       "</table>\n",
       "<p>13593 rows × 5 columns</p>\n",
       "</div>"
      ],
      "text/plain": [
       "                                      title  author  year  \\\n",
       "0                         [45, 4, 141, 898]       0  2002   \n",
       "1                                    [2833]       1  2002   \n",
       "2                                     [209]       2  2002   \n",
       "4                               [259, 1207]       3  2002   \n",
       "5                                [522, 522]       4  2001   \n",
       "...                                     ...     ...   ...   \n",
       "17067                    [151, 16, 2, 5151]     163  1990   \n",
       "17068                                    []    1160  1990   \n",
       "17070                             [15, 114]    3182  1990   \n",
       "17071                       [15, 25, 1, 13]    3425  2005   \n",
       "17073  [7, 285, 1645, 26, 1182, 24, 223, 7]    3004  1990   \n",
       "\n",
       "                                                    text  \\\n",
       "0      [2, 2329, 1094, 5, 2329, 295, 9741, 1002, 412,...   \n",
       "1      [1, 95, 106, 4422, 3, 144, 292, 32, 1425, 8751...   \n",
       "2      [106, 19, 717, 21, 1465, 329, 240, 162, 421, 2...   \n",
       "4      [10, 648, 76, 139, 541, 206, 679, 179, 107, 44...   \n",
       "5      [175, 532, 352, 153, 324, 1903, 2272, 1356, 37...   \n",
       "...                                                  ...   \n",
       "17067  [1, 395, 2485, 331, 545, 8900, 28, 2562, 93, 8...   \n",
       "17068  [2, 596, 152, 155, 200, 277, 167, 4093, 3064, ...   \n",
       "17070  [114, 20, 73, 125, 631, 2, 795, 1, 99, 1127, 1...   \n",
       "17071  [15, 1, 13, 37, 36, 15, 1, 312, 178, 541, 38, ...   \n",
       "17073  [6309, 6943, 1913, 792, 1621, 1017, 7615, 1780...   \n",
       "\n",
       "                                                  themes  \n",
       "0      [0, 0, 0, 0, 0, 0, 0, 0, 0, 0, 0, 0, 0, 0, 0, ...  \n",
       "1      [0, 0, 0, 0, 0, 0, 0, 0, 0, 0, 0, 0, 0, 0, 0, ...  \n",
       "2      [0, 0, 0, 0, 0, 0, 0, 0, 0, 0, 0, 0, 0, 0, 0, ...  \n",
       "4      [0, 0, 0, 0, 0, 0, 0, 0, 0, 0, 0, 0, 0, 0, 0, ...  \n",
       "5      [0, 0, 0, 0, 0, 0, 0, 0, 0, 0, 0, 0, 0, 0, 0, ...  \n",
       "...                                                  ...  \n",
       "17067  [0, 0, 0, 0, 0, 0, 0, 0, 0, 0, 0, 0, 1, 0, 0, ...  \n",
       "17068  [1, 0, 0, 0, 0, 0, 0, 0, 0, 0, 1, 0, 0, 0, 0, ...  \n",
       "17070  [0, 0, 0, 0, 0, 0, 0, 0, 0, 0, 0, 0, 0, 0, 0, ...  \n",
       "17071  [0, 0, 0, 0, 0, 0, 0, 0, 0, 0, 0, 0, 0, 0, 0, ...  \n",
       "17073  [0, 0, 0, 0, 0, 0, 0, 0, 0, 0, 0, 0, 0, 0, 0, ...  \n",
       "\n",
       "[13593 rows x 5 columns]"
      ]
     },
     "execution_count": 3,
     "metadata": {},
     "output_type": "execute_result"
    }
   ],
   "source": [
    "df"
   ]
  },
  {
   "cell_type": "code",
   "execution_count": 4,
   "metadata": {},
   "outputs": [],
   "source": [
    "# one hot encoding for authors\n",
    "def encode_authors(author_code):\n",
    "    qty = df.author.max()\n",
    "    result = [0] * (qty + 1)\n",
    "    result[author_code] = 1\n",
    "    return result\n",
    "\n",
    "df.author = df.author.apply(encode_authors)"
   ]
  },
  {
   "cell_type": "code",
   "execution_count": 5,
   "metadata": {},
   "outputs": [],
   "source": [
    "max_features = 10000  # maximum number of words in vocabulari 5000\n",
    "max_len = 150  # max length of string"
   ]
  },
  {
   "cell_type": "code",
   "execution_count": 20,
   "metadata": {},
   "outputs": [],
   "source": [
    "df['joined_text'] = df['text'] + df['title']\n",
    "df['X2'] = df['themes'] + df['author'] \n",
    "train_df, test_df = model_selection.train_test_split(df, test_size=0.1, random_state=42)\n",
    "X1_train = keras.preprocessing.sequence.pad_sequences(train_df['joined_text'].to_list(), maxlen=max_len, padding='post')\n",
    "X2_train = np.stack(train_df['X2'])\n",
    "Y_train = np.stack(train_df['year'])\n",
    "X1_test = keras.preprocessing.sequence.pad_sequences(list(test_df['joined_text']), maxlen=max_len, padding='post')\n",
    "X2_test = np.stack(test_df['X2'])\n",
    "Y_test = np.stack(test_df['year'])\n",
    "#X = keras.preprocessing.sequence.pad_sequences(list(joined_text), maxlen=max_len, padding='post')\n",
    "#Y = np.array(df['year'].to_list())"
   ]
  },
  {
   "cell_type": "code",
   "execution_count": 8,
   "metadata": {},
   "outputs": [],
   "source": [
    "#X_train, X_test, Y_train, Y_test = model_selection.train_test_split(X, Y, test_size=0.1, random_state=42)"
   ]
  },
  {
   "cell_type": "markdown",
   "metadata": {},
   "source": [
    "### Model "
   ]
  },
  {
   "cell_type": "code",
   "execution_count": 9,
   "metadata": {},
   "outputs": [
    {
     "name": "stdout",
     "output_type": "stream",
     "text": [
      "Model: \"sequential\"\n",
      "_________________________________________________________________\n",
      "Layer (type)                 Output Shape              Param #   \n",
      "=================================================================\n",
      "embedding (Embedding)        (None, 150, 64)           640000    \n",
      "_________________________________________________________________\n",
      "flatten (Flatten)            (None, 9600)              0         \n",
      "_________________________________________________________________\n",
      "dense (Dense)                (None, 2000)              19202000  \n",
      "_________________________________________________________________\n",
      "dense_1 (Dense)              (None, 500)               1000500   \n",
      "_________________________________________________________________\n",
      "dense_2 (Dense)              (None, 100)               50100     \n",
      "_________________________________________________________________\n",
      "dense_3 (Dense)              (None, 1)                 101       \n",
      "=================================================================\n",
      "Total params: 20,892,701\n",
      "Trainable params: 20,892,701\n",
      "Non-trainable params: 0\n",
      "_________________________________________________________________\n"
     ]
    }
   ],
   "source": [
    "embedding_dim =64\n",
    "model1 = keras.models.Sequential([\n",
    "  keras.layers.Embedding(input_dim=max_features,\n",
    "                           output_dim=embedding_dim,\n",
    "                           input_length=max_len),\n",
    "  keras.layers.Flatten(),\n",
    "  keras.layers.Dense(2000,activation='relu'),\n",
    "  keras.layers.Dense(500,activation='relu'),\n",
    "  keras.layers.Dense(100,activation='relu'),\n",
    "  keras.layers.Dense(1, activation='relu')\n",
    "])\n",
    "\n",
    "model1.compile(optimizer='nadam',\n",
    "              loss='mean_squared_error',\n",
    "              metrics=['MAE'])\n",
    "\n",
    "model1.summary()"
   ]
  },
  {
   "cell_type": "code",
   "execution_count": 30,
   "metadata": {},
   "outputs": [
    {
     "name": "stdout",
     "output_type": "stream",
     "text": [
      "Epoch 1/10\n",
      "383/383 [==============================] - 89s 233ms/step - loss: 8556.6201 - MAE: 74.4645 - val_loss: 15109.0928 - val_MAE: 108.6547\n",
      "Epoch 2/10\n",
      "383/383 [==============================] - 86s 224ms/step - loss: 5662.6069 - MAE: 58.2148 - val_loss: 20861.9570 - val_MAE: 134.3201\n",
      "Epoch 3/10\n",
      "383/383 [==============================] - 87s 228ms/step - loss: 5938.8325 - MAE: 61.7655 - val_loss: 11096.2188 - val_MAE: 84.2841\n",
      "Epoch 4/10\n",
      "383/383 [==============================] - 86s 224ms/step - loss: 6859.3418 - MAE: 66.9046 - val_loss: 4678.7656 - val_MAE: 47.7620\n",
      "Epoch 5/10\n",
      "383/383 [==============================] - 88s 229ms/step - loss: 4258.4297 - MAE: 51.1605 - val_loss: 8924.2217 - val_MAE: 80.1265\n",
      "Epoch 6/10\n",
      "383/383 [==============================] - 86s 223ms/step - loss: 4161.6177 - MAE: 51.2901 - val_loss: 5692.5161 - val_MAE: 57.1186\n",
      "Epoch 7/10\n",
      "383/383 [==============================] - 87s 228ms/step - loss: 3727.5210 - MAE: 47.3247 - val_loss: 7022.2104 - val_MAE: 67.7764\n",
      "Epoch 8/10\n",
      "383/383 [==============================] - 86s 224ms/step - loss: 3716.2034 - MAE: 48.8298 - val_loss: 4426.0498 - val_MAE: 46.3650\n",
      "Epoch 9/10\n",
      "383/383 [==============================] - 86s 223ms/step - loss: 3037.3411 - MAE: 42.7147 - val_loss: 5338.5249 - val_MAE: 52.3655\n",
      "Epoch 10/10\n",
      "383/383 [==============================] - 86s 224ms/step - loss: 2832.1416 - MAE: 42.6423 - val_loss: 5522.7305 - val_MAE: 53.7590\n"
     ]
    },
    {
     "data": {
      "text/plain": [
       "<tensorflow.python.keras.callbacks.History at 0x7f7de84b7160>"
      ]
     },
     "execution_count": 30,
     "metadata": {},
     "output_type": "execute_result"
    }
   ],
   "source": [
    "epochs = 10\n",
    "model1.fit(X1_train, Y_train,\n",
    "          #batch_size=128,\n",
    "          validation_data=(X1_test,Y_test),\n",
    "          epochs=epochs)"
   ]
  },
  {
   "cell_type": "code",
   "execution_count": 12,
   "metadata": {},
   "outputs": [
    {
     "name": "stdout",
     "output_type": "stream",
     "text": [
      "43/43 [==============================] - 1s 15ms/step - loss: 4995.4761 - MAE: 48.5769\n",
      "Test Score: 4995.47607421875\n",
      "Test Accuracy: 48.57685089111328\n"
     ]
    }
   ],
   "source": [
    "score1 = model1.evaluate(np.array(X1_test), np.array(Y_test)) \n",
    "\n",
    "print(\"Test Score:\", score1[0])\n",
    "print(\"Test Accuracy:\", score1[1])"
   ]
  },
  {
   "cell_type": "code",
   "execution_count": null,
   "metadata": {},
   "outputs": [],
   "source": [
    "#X2 = np.array([row.author + row.themes for index, row in df.iterrows()])\n",
    "#Y2 = np.array(df.year)"
   ]
  },
  {
   "cell_type": "code",
   "execution_count": 22,
   "metadata": {},
   "outputs": [],
   "source": [
    "\n",
    "model2 = keras.models.Sequential([\n",
    "  keras.layers.Dense(units=2000, activation='relu', input_shape=[len(X2_train[0])]),\n",
    "  \n",
    "  keras.layers.Dense(2000,activation='relu'),\n",
    "  keras.layers.Dense(500,activation='relu'),\n",
    "  keras.layers.Dense(100,activation='relu'),\n",
    "  keras.layers.Dense(1, activation='relu')\n",
    "])\n",
    "\n",
    "model2.build()"
   ]
  },
  {
   "cell_type": "code",
   "execution_count": 23,
   "metadata": {},
   "outputs": [],
   "source": [
    "model2.compile(optimizer='nadam',\n",
    "              loss='mean_squared_error',\n",
    "              metrics=['MAE'])"
   ]
  },
  {
   "cell_type": "code",
   "execution_count": 24,
   "metadata": {},
   "outputs": [
    {
     "name": "stdout",
     "output_type": "stream",
     "text": [
      "Model: \"sequential_2\"\n",
      "_________________________________________________________________\n",
      "Layer (type)                 Output Shape              Param #   \n",
      "=================================================================\n",
      "dense_9 (Dense)              (None, 2000)              8244000   \n",
      "_________________________________________________________________\n",
      "dense_10 (Dense)             (None, 2000)              4002000   \n",
      "_________________________________________________________________\n",
      "dense_11 (Dense)             (None, 500)               1000500   \n",
      "_________________________________________________________________\n",
      "dense_12 (Dense)             (None, 100)               50100     \n",
      "_________________________________________________________________\n",
      "dense_13 (Dense)             (None, 1)                 101       \n",
      "=================================================================\n",
      "Total params: 13,296,701\n",
      "Trainable params: 13,296,701\n",
      "Non-trainable params: 0\n",
      "_________________________________________________________________\n"
     ]
    }
   ],
   "source": [
    "model2.summary()"
   ]
  },
  {
   "cell_type": "code",
   "execution_count": null,
   "metadata": {},
   "outputs": [],
   "source": [
    "#X2_train, X2_test, Y2_train, Y2_test = model_selection.train_test_split(X2, Y2, test_size=0.1, random_state=42)\n"
   ]
  },
  {
   "cell_type": "code",
   "execution_count": null,
   "metadata": {},
   "outputs": [],
   "source": []
  },
  {
   "cell_type": "code",
   "execution_count": 25,
   "metadata": {},
   "outputs": [
    {
     "name": "stdout",
     "output_type": "stream",
     "text": [
      "Epoch 1/5\n",
      "345/345 [==============================] - 62s 179ms/step - loss: 184259.6406 - MAE: 237.7271 - val_loss: 121784.2578 - val_MAE: 317.5758\n",
      "Epoch 2/5\n",
      "345/345 [==============================] - 65s 189ms/step - loss: 33094.7148 - MAE: 142.8929 - val_loss: 36532.8906 - val_MAE: 165.4467\n",
      "Epoch 3/5\n",
      "345/345 [==============================] - 73s 213ms/step - loss: 22335.3809 - MAE: 116.3359 - val_loss: 78095.1250 - val_MAE: 263.3219\n",
      "Epoch 4/5\n",
      "345/345 [==============================] - 64s 187ms/step - loss: 16585.0723 - MAE: 100.1085 - val_loss: 55233.3867 - val_MAE: 211.2918\n",
      "Epoch 5/5\n",
      "345/345 [==============================] - 65s 189ms/step - loss: 14944.7119 - MAE: 94.5273 - val_loss: 22504.0703 - val_MAE: 123.8234\n"
     ]
    },
    {
     "data": {
      "text/plain": [
       "<tensorflow.python.keras.callbacks.History at 0x7f7e18785dd8>"
      ]
     },
     "execution_count": 25,
     "metadata": {},
     "output_type": "execute_result"
    }
   ],
   "source": [
    "model2.fit(X2_train, Y_train, epochs=5, validation_split=0.1)"
   ]
  },
  {
   "cell_type": "code",
   "execution_count": 18,
   "metadata": {},
   "outputs": [
    {
     "name": "stdout",
     "output_type": "stream",
     "text": [
      "43/43 [==============================] - 1s 15ms/step - loss: 37064.2734 - MAE: 172.6725\n",
      "Test Score: 37064.2734375\n",
      "Test Accuracy: 172.67250061035156\n"
     ]
    }
   ],
   "source": [
    "score2 = model2.evaluate(np.array(X2_test), np.array(Y_test)) \n",
    "\n",
    "print(\"Test Score:\", score2[0])\n",
    "print(\"Test Accuracy:\", score2[1])"
   ]
  },
  {
   "cell_type": "code",
   "execution_count": 26,
   "metadata": {},
   "outputs": [],
   "source": [
    "y_pred1 = model1.predict(X1_test)\n",
    "y_pred2 = model2.predict(X2_test)\n",
    "result = (y_pred1 + y_pred2)/2"
   ]
  },
  {
   "cell_type": "code",
   "execution_count": 29,
   "metadata": {},
   "outputs": [
    {
     "data": {
      "text/plain": [
       "<tf.Tensor: shape=(), dtype=float32, numpy=122.54742>"
      ]
     },
     "execution_count": 29,
     "metadata": {},
     "output_type": "execute_result"
    }
   ],
   "source": [
    "\n",
    "keras.metrics.mean_absolute_error(\n",
    "    y_pred1.flatten(), y_pred2.flatten()\n",
    ")\n",
    "\n"
   ]
  },
  {
   "cell_type": "code",
   "execution_count": null,
   "metadata": {},
   "outputs": [],
   "source": [
    "output_dim = 100\n",
    "\n",
    "inputs = keras.Input(shape=(None,), dtype=\"int64\")\n",
    "\n",
    "# Next, we add a layer to map those vocab indices into a space of dimensionality\n",
    "# 'embedding_dim'.\n",
    "x = layers.Embedding(max_features, output_dim)(inputs)\n",
    "x = layers.Dropout(0.5)(x)\n",
    "\n",
    "# Conv1D + global max pooling\n",
    "x = layers.Conv1D(128, 7, padding=\"valid\", activation=\"relu\", strides=3)(x)\n",
    "x = layers.Conv1D(128, 7, padding=\"valid\", activation=\"relu\", strides=3)(x)\n",
    "x = layers.GlobalMaxPooling1D()(x)\n",
    "\n",
    "# We add a vanilla hidden layer:\n",
    "x = layers.Dense(128, activation=\"relu\")(x)\n",
    "x = layers.Dropout(0.5)(x)\n",
    "\n",
    "predictions = layers.Dense(1, activation='relu', name=\"predictions\")(x)\n",
    "\n",
    "model3 = keras.Model(inputs, predictions)\n",
    "\n",
    "# Compile the model with binary crossentropy loss and an adam optimizer.\n",
    "model3.compile(loss=\"mean_squared_error\", optimizer=\"adam\", metrics=[\"MAE\"])\n"
   ]
  },
  {
   "cell_type": "code",
   "execution_count": null,
   "metadata": {},
   "outputs": [],
   "source": [
    "model3.summary()"
   ]
  },
  {
   "cell_type": "code",
   "execution_count": null,
   "metadata": {},
   "outputs": [],
   "source": [
    "batch_size = 64\n",
    "epochs = 5\n",
    "model3.fit(X1_train, Y_train, epochs=epochs, batch_size=batch_size,validation_split=0.1)"
   ]
  },
  {
   "cell_type": "code",
   "execution_count": null,
   "metadata": {},
   "outputs": [],
   "source": [
    "accr = model3.evaluate(X1_test,Y_test)\n",
    "print('Test set\\n  Loss: {:0.3f}\\n  Accuracy: {:0.3f}'.format(accr[0],accr[1]))"
   ]
  },
  {
   "cell_type": "code",
   "execution_count": null,
   "metadata": {},
   "outputs": [],
   "source": []
  },
  {
   "cell_type": "code",
   "execution_count": null,
   "metadata": {},
   "outputs": [],
   "source": []
  }
 ],
 "metadata": {
  "kernelspec": {
   "display_name": "Python 3",
   "language": "python",
   "name": "python3"
  },
  "language_info": {
   "codemirror_mode": {
    "name": "ipython",
    "version": 3
   },
   "file_extension": ".py",
   "mimetype": "text/x-python",
   "name": "python",
   "nbconvert_exporter": "python",
   "pygments_lexer": "ipython3",
   "version": "3.6.9"
  }
 },
 "nbformat": 4,
 "nbformat_minor": 2
}
