{
 "cells": [
  {
   "cell_type": "code",
   "execution_count": 1,
   "metadata": {},
   "outputs": [],
   "source": [
    "import pandas as pd\n",
    "import spacy\n",
    "from sklearn import model_selection\n",
    "import numpy as np\n",
    "\n",
    "\n",
    "from tensorflow import keras\n",
    "from tensorflow.keras import layers, models"
   ]
  },
  {
   "cell_type": "code",
   "execution_count": 2,
   "metadata": {},
   "outputs": [],
   "source": [
    "df = pd.read_json(open(\"../../data/data.json\", \"r\", encoding=\"utf8\"))"
   ]
  },
  {
   "cell_type": "code",
   "execution_count": 3,
   "metadata": {},
   "outputs": [
    {
     "data": {
      "text/html": [
       "<div>\n",
       "<style scoped>\n",
       "    .dataframe tbody tr th:only-of-type {\n",
       "        vertical-align: middle;\n",
       "    }\n",
       "\n",
       "    .dataframe tbody tr th {\n",
       "        vertical-align: top;\n",
       "    }\n",
       "\n",
       "    .dataframe thead th {\n",
       "        text-align: right;\n",
       "    }\n",
       "</style>\n",
       "<table border=\"1\" class=\"dataframe\">\n",
       "  <thead>\n",
       "    <tr style=\"text-align: right;\">\n",
       "      <th></th>\n",
       "      <th>title</th>\n",
       "      <th>author</th>\n",
       "      <th>year</th>\n",
       "      <th>text</th>\n",
       "      <th>themes</th>\n",
       "    </tr>\n",
       "  </thead>\n",
       "  <tbody>\n",
       "    <tr>\n",
       "      <th>0</th>\n",
       "      <td>[45, 4, 141, 903]</td>\n",
       "      <td>0</td>\n",
       "      <td>2002</td>\n",
       "      <td>[2, 2334, 1097, 5, 2334, 298, 9780, 1002, 412,...</td>\n",
       "      <td>[0, 0, 0, 0, 0, 0, 1, 0, 0, 0, 0, 0, 0, 0, 0, ...</td>\n",
       "    </tr>\n",
       "    <tr>\n",
       "      <th>1</th>\n",
       "      <td>[2828]</td>\n",
       "      <td>1</td>\n",
       "      <td>2002</td>\n",
       "      <td>[1, 95, 106, 4385, 3, 144, 291, 33, 1426, 8803...</td>\n",
       "      <td>[0, 0, 0, 0, 0, 0, 0, 0, 0, 0, 0, 0, 0, 0, 0, ...</td>\n",
       "    </tr>\n",
       "    <tr>\n",
       "      <th>2</th>\n",
       "      <td>[209]</td>\n",
       "      <td>2</td>\n",
       "      <td>2002</td>\n",
       "      <td>[106, 20, 719, 21, 1474, 329, 240, 159, 421, 2...</td>\n",
       "      <td>[0, 0, 0, 0, 0, 0, 0, 0, 0, 0, 0, 0, 0, 0, 0, ...</td>\n",
       "    </tr>\n",
       "    <tr>\n",
       "      <th>3</th>\n",
       "      <td>[1210, 40, 114, 1989, 18, 2321]</td>\n",
       "      <td>3</td>\n",
       "      <td>2002</td>\n",
       "      <td>[329, 303, 17, 70, 8, 1, 8, 1, 43, 1345, 1, 20...</td>\n",
       "      <td>[0, 0, 0, 0, 0, 0, 0, 0, 0, 0, 0, 0, 0, 0, 0, ...</td>\n",
       "    </tr>\n",
       "    <tr>\n",
       "      <th>4</th>\n",
       "      <td>[259, 1210]</td>\n",
       "      <td>4</td>\n",
       "      <td>2002</td>\n",
       "      <td>[9, 649, 76, 140, 544, 206, 679, 179, 107, 44,...</td>\n",
       "      <td>[0, 0, 0, 0, 0, 0, 0, 0, 0, 0, 0, 0, 0, 0, 0, ...</td>\n",
       "    </tr>\n",
       "    <tr>\n",
       "      <th>...</th>\n",
       "      <td>...</td>\n",
       "      <td>...</td>\n",
       "      <td>...</td>\n",
       "      <td>...</td>\n",
       "      <td>...</td>\n",
       "    </tr>\n",
       "    <tr>\n",
       "      <th>17067</th>\n",
       "      <td>[151, 18, 2, 5178]</td>\n",
       "      <td>168</td>\n",
       "      <td>1990</td>\n",
       "      <td>[1, 395, 2499, 331, 545, 8944, 28, 2573, 93, 8...</td>\n",
       "      <td>[0, 0, 0, 0, 0, 0, 0, 1, 0, 0, 1, 0, 0, 0, 0, ...</td>\n",
       "    </tr>\n",
       "    <tr>\n",
       "      <th>17068</th>\n",
       "      <td>[]</td>\n",
       "      <td>1172</td>\n",
       "      <td>1990</td>\n",
       "      <td>[2, 597, 152, 153, 200, 277, 167, 4114, 3080, ...</td>\n",
       "      <td>[0, 0, 0, 0, 0, 0, 0, 0, 1, 0, 0, 0, 1, 0, 0, ...</td>\n",
       "    </tr>\n",
       "    <tr>\n",
       "      <th>17070</th>\n",
       "      <td>[15, 114]</td>\n",
       "      <td>3191</td>\n",
       "      <td>1990</td>\n",
       "      <td>[114, 17, 70, 125, 628, 2, 797, 1, 99, 1133, 1...</td>\n",
       "      <td>[0, 0, 0, 0, 0, 0, 0, 0, 0, 0, 0, 0, 0, 0, 0, ...</td>\n",
       "    </tr>\n",
       "    <tr>\n",
       "      <th>17071</th>\n",
       "      <td>[15, 25, 1, 13]</td>\n",
       "      <td>3434</td>\n",
       "      <td>2005</td>\n",
       "      <td>[15, 1, 13, 37, 36, 15, 1, 311, 174, 544, 38, ...</td>\n",
       "      <td>[0, 0, 0, 0, 0, 0, 0, 0, 0, 0, 0, 0, 0, 0, 0, ...</td>\n",
       "    </tr>\n",
       "    <tr>\n",
       "      <th>17073</th>\n",
       "      <td>[7, 283, 1626, 26, 1173, 24, 224, 7]</td>\n",
       "      <td>3015</td>\n",
       "      <td>1990</td>\n",
       "      <td>[6340, 6987, 1926, 791, 1613, 1018, 7647, 1792...</td>\n",
       "      <td>[0, 0, 0, 0, 0, 0, 0, 0, 0, 0, 0, 0, 0, 0, 0, ...</td>\n",
       "    </tr>\n",
       "  </tbody>\n",
       "</table>\n",
       "<p>13684 rows × 5 columns</p>\n",
       "</div>"
      ],
      "text/plain": [
       "                                      title  author  year  \\\n",
       "0                         [45, 4, 141, 903]       0  2002   \n",
       "1                                    [2828]       1  2002   \n",
       "2                                     [209]       2  2002   \n",
       "3           [1210, 40, 114, 1989, 18, 2321]       3  2002   \n",
       "4                               [259, 1210]       4  2002   \n",
       "...                                     ...     ...   ...   \n",
       "17067                    [151, 18, 2, 5178]     168  1990   \n",
       "17068                                    []    1172  1990   \n",
       "17070                             [15, 114]    3191  1990   \n",
       "17071                       [15, 25, 1, 13]    3434  2005   \n",
       "17073  [7, 283, 1626, 26, 1173, 24, 224, 7]    3015  1990   \n",
       "\n",
       "                                                    text  \\\n",
       "0      [2, 2334, 1097, 5, 2334, 298, 9780, 1002, 412,...   \n",
       "1      [1, 95, 106, 4385, 3, 144, 291, 33, 1426, 8803...   \n",
       "2      [106, 20, 719, 21, 1474, 329, 240, 159, 421, 2...   \n",
       "3      [329, 303, 17, 70, 8, 1, 8, 1, 43, 1345, 1, 20...   \n",
       "4      [9, 649, 76, 140, 544, 206, 679, 179, 107, 44,...   \n",
       "...                                                  ...   \n",
       "17067  [1, 395, 2499, 331, 545, 8944, 28, 2573, 93, 8...   \n",
       "17068  [2, 597, 152, 153, 200, 277, 167, 4114, 3080, ...   \n",
       "17070  [114, 17, 70, 125, 628, 2, 797, 1, 99, 1133, 1...   \n",
       "17071  [15, 1, 13, 37, 36, 15, 1, 311, 174, 544, 38, ...   \n",
       "17073  [6340, 6987, 1926, 791, 1613, 1018, 7647, 1792...   \n",
       "\n",
       "                                                  themes  \n",
       "0      [0, 0, 0, 0, 0, 0, 1, 0, 0, 0, 0, 0, 0, 0, 0, ...  \n",
       "1      [0, 0, 0, 0, 0, 0, 0, 0, 0, 0, 0, 0, 0, 0, 0, ...  \n",
       "2      [0, 0, 0, 0, 0, 0, 0, 0, 0, 0, 0, 0, 0, 0, 0, ...  \n",
       "3      [0, 0, 0, 0, 0, 0, 0, 0, 0, 0, 0, 0, 0, 0, 0, ...  \n",
       "4      [0, 0, 0, 0, 0, 0, 0, 0, 0, 0, 0, 0, 0, 0, 0, ...  \n",
       "...                                                  ...  \n",
       "17067  [0, 0, 0, 0, 0, 0, 0, 1, 0, 0, 1, 0, 0, 0, 0, ...  \n",
       "17068  [0, 0, 0, 0, 0, 0, 0, 0, 1, 0, 0, 0, 1, 0, 0, ...  \n",
       "17070  [0, 0, 0, 0, 0, 0, 0, 0, 0, 0, 0, 0, 0, 0, 0, ...  \n",
       "17071  [0, 0, 0, 0, 0, 0, 0, 0, 0, 0, 0, 0, 0, 0, 0, ...  \n",
       "17073  [0, 0, 0, 0, 0, 0, 0, 0, 0, 0, 0, 0, 0, 0, 0, ...  \n",
       "\n",
       "[13684 rows x 5 columns]"
      ]
     },
     "execution_count": 3,
     "metadata": {},
     "output_type": "execute_result"
    }
   ],
   "source": [
    "df"
   ]
  },
  {
   "cell_type": "code",
   "execution_count": 4,
   "metadata": {},
   "outputs": [],
   "source": [
    "# one hot encoding for authors\n",
    "def encode_authors(author_code):\n",
    "    qty = df.author.max()\n",
    "    result = [0] * (qty + 1)\n",
    "    result[author_code] = 1\n",
    "    return result\n",
    "\n",
    "df.author = df.author.apply(encode_authors)"
   ]
  },
  {
   "cell_type": "code",
   "execution_count": 5,
   "metadata": {},
   "outputs": [],
   "source": [
    "max_features = 10000  # maximum number of words in vocabulari 5000\n",
    "max_len = 150  # max length of string"
   ]
  },
  {
   "cell_type": "code",
   "execution_count": 6,
   "metadata": {},
   "outputs": [],
   "source": [
    "df['joined_text'] = df['text'] + df['title']\n",
    "df['X2'] = df['themes'] + df['author'] \n",
    "train_df, test_df = model_selection.train_test_split(df, test_size=0.1, random_state=42)\n",
    "X1_train = keras.preprocessing.sequence.pad_sequences(train_df['joined_text'].to_list(), maxlen=max_len, padding='post')\n",
    "X2_train = np.stack(train_df['X2'])\n",
    "Y_train = np.stack(train_df['year'])\n",
    "X1_test = keras.preprocessing.sequence.pad_sequences(list(test_df['joined_text']), maxlen=max_len, padding='post')\n",
    "X2_test = np.stack(test_df['X2'])\n",
    "Y_test = np.stack(test_df['year'])\n",
    "#X = keras.preprocessing.sequence.pad_sequences(list(joined_text), maxlen=max_len, padding='post')\n",
    "#Y = np.array(df['year'].to_list())"
   ]
  },
  {
   "cell_type": "code",
   "execution_count": 7,
   "metadata": {},
   "outputs": [],
   "source": [
    "#X_train, X_test, Y_train, Y_test = model_selection.train_test_split(X, Y, test_size=0.1, random_state=42)"
   ]
  },
  {
   "cell_type": "markdown",
   "metadata": {},
   "source": [
    "### Model "
   ]
  },
  {
   "cell_type": "code",
   "execution_count": 8,
   "metadata": {},
   "outputs": [
    {
     "name": "stdout",
     "output_type": "stream",
     "text": [
      "Model: \"sequential\"\n",
      "_________________________________________________________________\n",
      "Layer (type)                 Output Shape              Param #   \n",
      "=================================================================\n",
      "embedding (Embedding)        (None, 150, 64)           640000    \n",
      "_________________________________________________________________\n",
      "flatten (Flatten)            (None, 9600)              0         \n",
      "_________________________________________________________________\n",
      "dense (Dense)                (None, 2000)              19202000  \n",
      "_________________________________________________________________\n",
      "dense_1 (Dense)              (None, 500)               1000500   \n",
      "_________________________________________________________________\n",
      "dense_2 (Dense)              (None, 100)               50100     \n",
      "_________________________________________________________________\n",
      "dense_3 (Dense)              (None, 1)                 101       \n",
      "=================================================================\n",
      "Total params: 20,892,701\n",
      "Trainable params: 20,892,701\n",
      "Non-trainable params: 0\n",
      "_________________________________________________________________\n"
     ]
    }
   ],
   "source": [
    "embedding_dim =64\n",
    "model1 = keras.models.Sequential([\n",
    "  keras.layers.Embedding(input_dim=max_features,\n",
    "                           output_dim=embedding_dim,\n",
    "                           input_length=max_len),\n",
    "  keras.layers.Flatten(),\n",
    "  keras.layers.Dense(2000,activation='relu'),\n",
    "  keras.layers.Dense(500,activation='relu'),\n",
    "  keras.layers.Dense(100,activation='relu'),\n",
    "  keras.layers.Dense(1, activation='relu')\n",
    "])\n",
    "\n",
    "model1.compile(optimizer='nadam',\n",
    "              loss='mean_squared_error',\n",
    "              metrics=['MAE'])\n",
    "\n",
    "model1.summary()"
   ]
  },
  {
   "cell_type": "code",
   "execution_count": 10,
   "metadata": {},
   "outputs": [
    {
     "name": "stdout",
     "output_type": "stream",
     "text": [
      "Epoch 1/5\n",
      "385/385 [==============================] - 85s 221ms/step - loss: 14420.6348 - MAE: 94.6558 - val_loss: 39660.5938 - val_MAE: 184.6050\n",
      "Epoch 2/5\n",
      "385/385 [==============================] - 84s 219ms/step - loss: 11623.7041 - MAE: 85.1576 - val_loss: 31679.7227 - val_MAE: 167.6673\n",
      "Epoch 3/5\n",
      "385/385 [==============================] - 83s 216ms/step - loss: 9095.6572 - MAE: 75.5035 - val_loss: 4228.8892 - val_MAE: 45.4523\n",
      "Epoch 4/5\n",
      "385/385 [==============================] - 85s 220ms/step - loss: 9051.0430 - MAE: 77.4146 - val_loss: 8560.8301 - val_MAE: 76.9370\n",
      "Epoch 5/5\n",
      "385/385 [==============================] - 84s 218ms/step - loss: 7051.2827 - MAE: 66.5734 - val_loss: 4184.0913 - val_MAE: 44.9800\n"
     ]
    },
    {
     "data": {
      "text/plain": [
       "<tensorflow.python.keras.callbacks.History at 0x7f5d1830fc50>"
      ]
     },
     "execution_count": 10,
     "metadata": {},
     "output_type": "execute_result"
    }
   ],
   "source": [
    "epochs = 5\n",
    "model1.fit(X1_train, Y_train,\n",
    "          #batch_size=128,\n",
    "          validation_data=(X1_test,Y_test),\n",
    "          epochs=epochs)"
   ]
  },
  {
   "cell_type": "code",
   "execution_count": 11,
   "metadata": {},
   "outputs": [
    {
     "name": "stdout",
     "output_type": "stream",
     "text": [
      "43/43 [==============================] - 1s 15ms/step - loss: 4184.0913 - MAE: 44.9800\n",
      "Test Score: 4184.09130859375\n",
      "Test Accuracy: 44.97998809814453\n"
     ]
    }
   ],
   "source": [
    "score1 = model1.evaluate(np.array(X1_test), np.array(Y_test)) \n",
    "\n",
    "print(\"Test Score:\", score1[0])\n",
    "print(\"Test Accuracy:\", score1[1])"
   ]
  },
  {
   "cell_type": "code",
   "execution_count": null,
   "metadata": {},
   "outputs": [],
   "source": [
    "#X2 = np.array([row.author + row.themes for index, row in df.iterrows()])\n",
    "#Y2 = np.array(df.year)"
   ]
  },
  {
   "cell_type": "code",
   "execution_count": 12,
   "metadata": {},
   "outputs": [],
   "source": [
    "\n",
    "model2 = keras.models.Sequential([\n",
    "  keras.layers.Dense(units=2000, activation='relu', input_shape=[len(X2_train[0])]),\n",
    "  \n",
    "  keras.layers.Dense(2000,activation='relu'),\n",
    "  keras.layers.Dense(500,activation='relu'),\n",
    "  keras.layers.Dense(100,activation='relu'),\n",
    "  keras.layers.Dense(1, activation='relu')\n",
    "])\n",
    "\n",
    "model2.build()"
   ]
  },
  {
   "cell_type": "code",
   "execution_count": 13,
   "metadata": {},
   "outputs": [],
   "source": [
    "model2.compile(optimizer='nadam',\n",
    "              loss='mean_squared_error',\n",
    "              metrics=['MAE'])"
   ]
  },
  {
   "cell_type": "code",
   "execution_count": 14,
   "metadata": {},
   "outputs": [
    {
     "name": "stdout",
     "output_type": "stream",
     "text": [
      "Model: \"sequential_1\"\n",
      "_________________________________________________________________\n",
      "Layer (type)                 Output Shape              Param #   \n",
      "=================================================================\n",
      "dense_4 (Dense)              (None, 2000)              8234000   \n",
      "_________________________________________________________________\n",
      "dense_5 (Dense)              (None, 2000)              4002000   \n",
      "_________________________________________________________________\n",
      "dense_6 (Dense)              (None, 500)               1000500   \n",
      "_________________________________________________________________\n",
      "dense_7 (Dense)              (None, 100)               50100     \n",
      "_________________________________________________________________\n",
      "dense_8 (Dense)              (None, 1)                 101       \n",
      "=================================================================\n",
      "Total params: 13,286,701\n",
      "Trainable params: 13,286,701\n",
      "Non-trainable params: 0\n",
      "_________________________________________________________________\n"
     ]
    }
   ],
   "source": [
    "model2.summary()"
   ]
  },
  {
   "cell_type": "code",
   "execution_count": 15,
   "metadata": {},
   "outputs": [],
   "source": [
    "#X2_train, X2_test, Y2_train, Y2_test = model_selection.train_test_split(X2, Y2, test_size=0.1, random_state=42)\n"
   ]
  },
  {
   "cell_type": "code",
   "execution_count": null,
   "metadata": {},
   "outputs": [],
   "source": []
  },
  {
   "cell_type": "code",
   "execution_count": 16,
   "metadata": {},
   "outputs": [
    {
     "name": "stdout",
     "output_type": "stream",
     "text": [
      "Epoch 1/5\n",
      "347/347 [==============================] - 41s 119ms/step - loss: 188536.6250 - MAE: 235.9512 - val_loss: 29597.2949 - val_MAE: 130.8318\n",
      "Epoch 2/5\n",
      "347/347 [==============================] - 41s 119ms/step - loss: 31507.2129 - MAE: 138.4695 - val_loss: 16479.7461 - val_MAE: 102.7494\n",
      "Epoch 3/5\n",
      "347/347 [==============================] - 41s 119ms/step - loss: 20937.9746 - MAE: 112.0772 - val_loss: 14742.3340 - val_MAE: 99.0083\n",
      "Epoch 4/5\n",
      "347/347 [==============================] - 42s 120ms/step - loss: 15904.2559 - MAE: 98.6465 - val_loss: 8413.0625 - val_MAE: 72.2343\n",
      "Epoch 5/5\n",
      "347/347 [==============================] - 41s 118ms/step - loss: 12306.5586 - MAE: 84.9272 - val_loss: 6978.4385 - val_MAE: 64.3089\n"
     ]
    },
    {
     "data": {
      "text/plain": [
       "<tensorflow.python.keras.callbacks.History at 0x7f5d180c2e10>"
      ]
     },
     "execution_count": 16,
     "metadata": {},
     "output_type": "execute_result"
    }
   ],
   "source": [
    "model2.fit(X2_train, Y_train, epochs=5, validation_split=0.1)"
   ]
  },
  {
   "cell_type": "code",
   "execution_count": 17,
   "metadata": {},
   "outputs": [
    {
     "name": "stdout",
     "output_type": "stream",
     "text": [
      "43/43 [==============================] - 0s 11ms/step - loss: 7557.6396 - MAE: 67.3377\n",
      "Test Score: 7557.6396484375\n",
      "Test Accuracy: 67.3377456665039\n"
     ]
    }
   ],
   "source": [
    "score2 = model2.evaluate(np.array(X2_test), np.array(Y_test)) \n",
    "\n",
    "print(\"Test Score:\", score2[0])\n",
    "print(\"Test Accuracy:\", score2[1])"
   ]
  },
  {
   "cell_type": "code",
   "execution_count": null,
   "metadata": {},
   "outputs": [],
   "source": [
    "y_pred1 = model1.predict(X1_test)\n",
    "y_pred2 = model2.predict(X2_test)\n",
    "result = (y_pred1 + y_pred2)/2"
   ]
  },
  {
   "cell_type": "code",
   "execution_count": null,
   "metadata": {},
   "outputs": [],
   "source": [
    "\n",
    "keras.metrics.mean_absolute_error(\n",
    "    y_pred1.flatten(), y_pred2.flatten()\n",
    ")\n",
    "\n"
   ]
  },
  {
   "cell_type": "code",
   "execution_count": null,
   "metadata": {},
   "outputs": [],
   "source": [
    "output_dim = 100\n",
    "\n",
    "inputs = keras.Input(shape=(None,), dtype=\"int64\")\n",
    "\n",
    "# Next, we add a layer to map those vocab indices into a space of dimensionality\n",
    "# 'embedding_dim'.\n",
    "x = layers.Embedding(max_features, output_dim)(inputs)\n",
    "x = layers.Dropout(0.5)(x)\n",
    "\n",
    "# Conv1D + global max pooling\n",
    "x = layers.Conv1D(128, 7, padding=\"valid\", activation=\"relu\", strides=3)(x)\n",
    "x = layers.Conv1D(128, 7, padding=\"valid\", activation=\"relu\", strides=3)(x)\n",
    "x = layers.GlobalMaxPooling1D()(x)\n",
    "\n",
    "# We add a vanilla hidden layer:\n",
    "x = layers.Dense(128, activation=\"relu\")(x)\n",
    "x = layers.Dropout(0.5)(x)\n",
    "\n",
    "predictions = layers.Dense(1, activation='relu', name=\"predictions\")(x)\n",
    "\n",
    "model3 = keras.Model(inputs, predictions)\n",
    "\n",
    "# Compile the model with binary crossentropy loss and an adam optimizer.\n",
    "model3.compile(loss=\"mean_squared_error\", optimizer=\"adam\", metrics=[\"MAE\"])\n"
   ]
  },
  {
   "cell_type": "code",
   "execution_count": null,
   "metadata": {},
   "outputs": [],
   "source": [
    "model3.summary()"
   ]
  },
  {
   "cell_type": "code",
   "execution_count": null,
   "metadata": {},
   "outputs": [],
   "source": [
    "batch_size = 64\n",
    "epochs = 5\n",
    "model3.fit(X1_train, Y_train, epochs=epochs, batch_size=batch_size,validation_split=0.1)"
   ]
  },
  {
   "cell_type": "code",
   "execution_count": null,
   "metadata": {},
   "outputs": [],
   "source": [
    "accr = model3.evaluate(X1_test,Y_test)\n",
    "print('Test set\\n  Loss: {:0.3f}\\n  Accuracy: {:0.3f}'.format(accr[0],accr[1]))"
   ]
  },
  {
   "cell_type": "code",
   "execution_count": null,
   "metadata": {},
   "outputs": [],
   "source": []
  },
  {
   "cell_type": "code",
   "execution_count": null,
   "metadata": {},
   "outputs": [],
   "source": []
  }
 ],
 "metadata": {
  "kernelspec": {
   "display_name": "Python 3",
   "language": "python",
   "name": "python3"
  },
  "language_info": {
   "codemirror_mode": {
    "name": "ipython",
    "version": 3
   },
   "file_extension": ".py",
   "mimetype": "text/x-python",
   "name": "python",
   "nbconvert_exporter": "python",
   "pygments_lexer": "ipython3",
   "version": "3.6.9"
  }
 },
 "nbformat": 4,
 "nbformat_minor": 2
}
