{
 "cells": [
  {
   "cell_type": "code",
   "execution_count": 1,
   "metadata": {},
   "outputs": [],
   "source": [
    "import pandas as pd\n",
    "import spacy\n",
    "from sklearn import model_selection\n",
    "import numpy as np\n",
    "\n",
    "\n",
    "from tensorflow import keras\n",
    "from tensorflow.keras import layers, models"
   ]
  },
  {
   "cell_type": "code",
   "execution_count": 2,
   "metadata": {},
   "outputs": [],
   "source": [
    "df = pd.read_json(open(\"../../data/data.json\", \"r\", encoding=\"utf8\"))"
   ]
  },
  {
   "cell_type": "code",
   "execution_count": 3,
   "metadata": {},
   "outputs": [
    {
     "data": {
      "text/html": [
       "<div>\n",
       "<style scoped>\n",
       "    .dataframe tbody tr th:only-of-type {\n",
       "        vertical-align: middle;\n",
       "    }\n",
       "\n",
       "    .dataframe tbody tr th {\n",
       "        vertical-align: top;\n",
       "    }\n",
       "\n",
       "    .dataframe thead th {\n",
       "        text-align: right;\n",
       "    }\n",
       "</style>\n",
       "<table border=\"1\" class=\"dataframe\">\n",
       "  <thead>\n",
       "    <tr style=\"text-align: right;\">\n",
       "      <th></th>\n",
       "      <th>title</th>\n",
       "      <th>url</th>\n",
       "      <th>author</th>\n",
       "      <th>year</th>\n",
       "      <th>text</th>\n",
       "      <th>themes</th>\n",
       "    </tr>\n",
       "  </thead>\n",
       "  <tbody>\n",
       "    <tr>\n",
       "      <th>0</th>\n",
       "      <td>[28, 508, 152, 720]</td>\n",
       "      <td>https://poets.org/poem/body-and-soul-ii</td>\n",
       "      <td>602</td>\n",
       "      <td>2002</td>\n",
       "      <td>[2221, 1012, 2, 2221, 273, 902, 128, 472, 57, ...</td>\n",
       "      <td>[0.0, 0.0, 0.0, 0.0, 0.0, 0.0, 0.0, 0.0, 0.0, ...</td>\n",
       "    </tr>\n",
       "    <tr>\n",
       "      <th>1</th>\n",
       "      <td>[2668]</td>\n",
       "      <td>https://poets.org/poem/novel</td>\n",
       "      <td>311</td>\n",
       "      <td>2002</td>\n",
       "      <td>[286, 3904, 1, 2778, 249, 19, 1268, 643, 410, ...</td>\n",
       "      <td>[0.0, 0.0, 0.0, 0.0, 0.0, 0.0, 0.0, 0.0, 0.0, ...</td>\n",
       "    </tr>\n",
       "    <tr>\n",
       "      <th>2</th>\n",
       "      <td>[178]</td>\n",
       "      <td>https://poets.org/poem/flying</td>\n",
       "      <td>3478</td>\n",
       "      <td>2002</td>\n",
       "      <td>[12, 602, 11, 1574, 197, 113, 402, 13, 2428, 2...</td>\n",
       "      <td>[0.0, 0.0, 0.0, 0.0, 0.0, 0.0, 0.0, 0.0, 0.0, ...</td>\n",
       "    </tr>\n",
       "    <tr>\n",
       "      <th>3</th>\n",
       "      <td>[1113, 2862, 88, 289, 1171, 2335]</td>\n",
       "      <td>https://poets.org/poem/photograph-people-danci...</td>\n",
       "      <td>2361</td>\n",
       "      <td>2002</td>\n",
       "      <td>[267, 16, 35, 5, 5, 27, 1229, 1823, 3196, 48, ...</td>\n",
       "      <td>[0.0, 0.0, 0.0, 0.0, 0.0, 0.0, 0.0, 0.0, 0.0, ...</td>\n",
       "    </tr>\n",
       "    <tr>\n",
       "      <th>4</th>\n",
       "      <td>[246, 1113]</td>\n",
       "      <td>https://poets.org/poem/war-photograph</td>\n",
       "      <td>2125</td>\n",
       "      <td>2002</td>\n",
       "      <td>[596, 50, 124, 467, 163, 612, 133, 77, 29, 44,...</td>\n",
       "      <td>[0.0, 0.0, 0.0, 0.0, 0.0, 0.0, 0.0, 0.0, 0.0, ...</td>\n",
       "    </tr>\n",
       "    <tr>\n",
       "      <th>...</th>\n",
       "      <td>...</td>\n",
       "      <td>...</td>\n",
       "      <td>...</td>\n",
       "      <td>...</td>\n",
       "      <td>...</td>\n",
       "      <td>...</td>\n",
       "    </tr>\n",
       "    <tr>\n",
       "      <th>17069</th>\n",
       "      <td>[66, 148, 466, 506, 1171, 512, 1513]</td>\n",
       "      <td>https://www.poetryfoundation.org/poetrymagazin...</td>\n",
       "      <td>1826</td>\n",
       "      <td>1990</td>\n",
       "      <td>[148, 35, 466, 4186, 26, 43, 3285, 278, 241, 5...</td>\n",
       "      <td>[0.0, 0.0, 0.0, 0.0, 0.0, 0.0, 0.0, 0.0, 0.0, ...</td>\n",
       "    </tr>\n",
       "    <tr>\n",
       "      <th>17070</th>\n",
       "      <td>[66, 88]</td>\n",
       "      <td>https://www.poetryfoundation.org/poetrymagazin...</td>\n",
       "      <td>2883</td>\n",
       "      <td>1990</td>\n",
       "      <td>[88, 16, 35, 90, 506, 733, 68, 959, 397, 253, ...</td>\n",
       "      <td>[0.0, 0.0, 0.0, 0.0, 0.0, 0.0, 0.0, 0.0, 0.0, ...</td>\n",
       "    </tr>\n",
       "    <tr>\n",
       "      <th>17071</th>\n",
       "      <td>[66, 180, 8, 9]</td>\n",
       "      <td>https://www.poetryfoundation.org/poetrymagazin...</td>\n",
       "      <td>5</td>\n",
       "      <td>2005</td>\n",
       "      <td>[9, 24, 22, 299, 140, 467, 25, 299, 995, 81, 7...</td>\n",
       "      <td>[0.0, 0.0, 0.0, 0.0, 0.0, 0.0, 0.0, 0.0, 0.0, ...</td>\n",
       "    </tr>\n",
       "    <tr>\n",
       "      <th>17072</th>\n",
       "      <td>[3966, 549]</td>\n",
       "      <td>https://www.poetryfoundation.org/poetrymagazin...</td>\n",
       "      <td>2043</td>\n",
       "      <td>1990</td>\n",
       "      <td>[465, 569, 218, 465, 381, 190, 54, 549]</td>\n",
       "      <td>[0.0, 0.0, 0.0, 0.0, 0.0, 0.0, 0.0, 0.0, 0.0, ...</td>\n",
       "    </tr>\n",
       "    <tr>\n",
       "      <th>17073</th>\n",
       "      <td>[4, 3966, 1337, 119, 1172, 196, 4]</td>\n",
       "      <td>https://www.poetryfoundation.org/poetrymagazin...</td>\n",
       "      <td>3671</td>\n",
       "      <td>1990</td>\n",
       "      <td>[1671, 707, 4480, 878, 1759, 1362, 4335, 124, ...</td>\n",
       "      <td>[0.0, 0.0, 0.0, 0.0, 0.0, 0.0, 0.0, 0.0, 0.0, ...</td>\n",
       "    </tr>\n",
       "  </tbody>\n",
       "</table>\n",
       "<p>17074 rows × 6 columns</p>\n",
       "</div>"
      ],
      "text/plain": [
       "                                      title  \\\n",
       "0                       [28, 508, 152, 720]   \n",
       "1                                    [2668]   \n",
       "2                                     [178]   \n",
       "3         [1113, 2862, 88, 289, 1171, 2335]   \n",
       "4                               [246, 1113]   \n",
       "...                                     ...   \n",
       "17069  [66, 148, 466, 506, 1171, 512, 1513]   \n",
       "17070                              [66, 88]   \n",
       "17071                       [66, 180, 8, 9]   \n",
       "17072                           [3966, 549]   \n",
       "17073    [4, 3966, 1337, 119, 1172, 196, 4]   \n",
       "\n",
       "                                                     url  author  year  \\\n",
       "0                https://poets.org/poem/body-and-soul-ii     602  2002   \n",
       "1                           https://poets.org/poem/novel     311  2002   \n",
       "2                          https://poets.org/poem/flying    3478  2002   \n",
       "3      https://poets.org/poem/photograph-people-danci...    2361  2002   \n",
       "4                  https://poets.org/poem/war-photograph    2125  2002   \n",
       "...                                                  ...     ...   ...   \n",
       "17069  https://www.poetryfoundation.org/poetrymagazin...    1826  1990   \n",
       "17070  https://www.poetryfoundation.org/poetrymagazin...    2883  1990   \n",
       "17071  https://www.poetryfoundation.org/poetrymagazin...       5  2005   \n",
       "17072  https://www.poetryfoundation.org/poetrymagazin...    2043  1990   \n",
       "17073  https://www.poetryfoundation.org/poetrymagazin...    3671  1990   \n",
       "\n",
       "                                                    text  \\\n",
       "0      [2221, 1012, 2, 2221, 273, 902, 128, 472, 57, ...   \n",
       "1      [286, 3904, 1, 2778, 249, 19, 1268, 643, 410, ...   \n",
       "2      [12, 602, 11, 1574, 197, 113, 402, 13, 2428, 2...   \n",
       "3      [267, 16, 35, 5, 5, 27, 1229, 1823, 3196, 48, ...   \n",
       "4      [596, 50, 124, 467, 163, 612, 133, 77, 29, 44,...   \n",
       "...                                                  ...   \n",
       "17069  [148, 35, 466, 4186, 26, 43, 3285, 278, 241, 5...   \n",
       "17070  [88, 16, 35, 90, 506, 733, 68, 959, 397, 253, ...   \n",
       "17071  [9, 24, 22, 299, 140, 467, 25, 299, 995, 81, 7...   \n",
       "17072            [465, 569, 218, 465, 381, 190, 54, 549]   \n",
       "17073  [1671, 707, 4480, 878, 1759, 1362, 4335, 124, ...   \n",
       "\n",
       "                                                  themes  \n",
       "0      [0.0, 0.0, 0.0, 0.0, 0.0, 0.0, 0.0, 0.0, 0.0, ...  \n",
       "1      [0.0, 0.0, 0.0, 0.0, 0.0, 0.0, 0.0, 0.0, 0.0, ...  \n",
       "2      [0.0, 0.0, 0.0, 0.0, 0.0, 0.0, 0.0, 0.0, 0.0, ...  \n",
       "3      [0.0, 0.0, 0.0, 0.0, 0.0, 0.0, 0.0, 0.0, 0.0, ...  \n",
       "4      [0.0, 0.0, 0.0, 0.0, 0.0, 0.0, 0.0, 0.0, 0.0, ...  \n",
       "...                                                  ...  \n",
       "17069  [0.0, 0.0, 0.0, 0.0, 0.0, 0.0, 0.0, 0.0, 0.0, ...  \n",
       "17070  [0.0, 0.0, 0.0, 0.0, 0.0, 0.0, 0.0, 0.0, 0.0, ...  \n",
       "17071  [0.0, 0.0, 0.0, 0.0, 0.0, 0.0, 0.0, 0.0, 0.0, ...  \n",
       "17072  [0.0, 0.0, 0.0, 0.0, 0.0, 0.0, 0.0, 0.0, 0.0, ...  \n",
       "17073  [0.0, 0.0, 0.0, 0.0, 0.0, 0.0, 0.0, 0.0, 0.0, ...  \n",
       "\n",
       "[17074 rows x 6 columns]"
      ]
     },
     "execution_count": 3,
     "metadata": {},
     "output_type": "execute_result"
    }
   ],
   "source": [
    "df"
   ]
  },
  {
   "cell_type": "code",
   "execution_count": 4,
   "metadata": {},
   "outputs": [],
   "source": [
    "# one hot encoding for authors\n",
    "def encode_authors(author_code):\n",
    "    qty = df.author.max()\n",
    "    result = [0] * (qty + 1)\n",
    "    result[author_code] = 1\n",
    "    return result\n",
    "\n",
    "df.author = df.author.apply(encode_authors)"
   ]
  },
  {
   "cell_type": "code",
   "execution_count": 5,
   "metadata": {},
   "outputs": [],
   "source": [
    "max_features = 10000  # maximum number of words in vocabulari 5000\n",
    "max_len = 150  # max length of string"
   ]
  },
  {
   "cell_type": "code",
   "execution_count": 6,
   "metadata": {},
   "outputs": [],
   "source": [
    "df['joined_text'] = df['text'] + df['title']\n",
    "df['X2'] = df['themes'] + df['author'] \n",
    "train_df, test_df = model_selection.train_test_split(df, test_size=0.1, random_state=42)\n",
    "X1_train = keras.preprocessing.sequence.pad_sequences(train_df['joined_text'].to_list(), maxlen=max_len, padding='post')\n",
    "X2_train = np.stack(train_df['X2'])\n",
    "Y_train = np.stack(train_df['year'])\n",
    "X1_test = keras.preprocessing.sequence.pad_sequences(list(test_df['joined_text']), maxlen=max_len, padding='post')\n",
    "X2_test = np.stack(test_df['X2'])\n",
    "Y_test = np.stack(test_df['year'])"
   ]
  },
  {
   "cell_type": "markdown",
   "metadata": {},
   "source": [
    "### Model "
   ]
  },
  {
   "cell_type": "code",
   "execution_count": 7,
   "metadata": {},
   "outputs": [
    {
     "name": "stdout",
     "output_type": "stream",
     "text": [
      "Model: \"sequential\"\n",
      "_________________________________________________________________\n",
      "Layer (type)                 Output Shape              Param #   \n",
      "=================================================================\n",
      "embedding (Embedding)        (None, 150, 64)           640000    \n",
      "_________________________________________________________________\n",
      "flatten (Flatten)            (None, 9600)              0         \n",
      "_________________________________________________________________\n",
      "dense (Dense)                (None, 2000)              19202000  \n",
      "_________________________________________________________________\n",
      "dense_1 (Dense)              (None, 500)               1000500   \n",
      "_________________________________________________________________\n",
      "dense_2 (Dense)              (None, 100)               50100     \n",
      "_________________________________________________________________\n",
      "dense_3 (Dense)              (None, 1)                 101       \n",
      "=================================================================\n",
      "Total params: 20,892,701\n",
      "Trainable params: 20,892,701\n",
      "Non-trainable params: 0\n",
      "_________________________________________________________________\n"
     ]
    }
   ],
   "source": [
    "embedding_dim =64\n",
    "model1 = keras.models.Sequential([\n",
    "  keras.layers.Embedding(input_dim=max_features,\n",
    "                           output_dim=embedding_dim,\n",
    "                           input_length=max_len),\n",
    "  keras.layers.Flatten(),\n",
    "  keras.layers.Dense(2000,activation='relu'),\n",
    "  keras.layers.Dense(500,activation='relu'),\n",
    "  keras.layers.Dense(100,activation='relu'),\n",
    "  keras.layers.Dense(1, activation='relu')\n",
    "])\n",
    "\n",
    "model1.compile(optimizer='nadam',\n",
    "              loss='mean_squared_error',\n",
    "              metrics=['MAE'])\n",
    "\n",
    "model1.summary()"
   ]
  },
  {
   "cell_type": "code",
   "execution_count": 19,
   "metadata": {},
   "outputs": [
    {
     "name": "stdout",
     "output_type": "stream",
     "text": [
      "Epoch 1/5\n",
      "481/481 [==============================] - 183s 380ms/step - loss: 5587.1250 - MAE: 58.9159 - val_loss: 9107.3096 - val_MAE: 78.8249\n",
      "Epoch 2/5\n",
      "481/481 [==============================] - 152429s 317s/step - loss: 5558.7695 - MAE: 59.5074 - val_loss: 5359.3882 - val_MAE: 58.5278\n",
      "Epoch 3/5\n",
      "481/481 [==============================] - 127s 265ms/step - loss: 4399.4004 - MAE: 51.8333 - val_loss: 3741.0010 - val_MAE: 42.2702\n",
      "Epoch 4/5\n",
      "481/481 [==============================] - 123s 256ms/step - loss: 4024.3701 - MAE: 49.1713 - val_loss: 6497.5557 - val_MAE: 66.7828\n",
      "Epoch 5/5\n",
      "481/481 [==============================] - 112s 233ms/step - loss: 3671.1118 - MAE: 47.2920 - val_loss: 3638.6965 - val_MAE: 39.9026\n"
     ]
    },
    {
     "data": {
      "text/plain": [
       "<tensorflow.python.keras.callbacks.History at 0x7ff03472a9b0>"
      ]
     },
     "execution_count": 19,
     "metadata": {},
     "output_type": "execute_result"
    }
   ],
   "source": [
    "epochs = 5\n",
    "model1.fit(X1_train, Y_train,\n",
    "          #batch_size=128,\n",
    "          validation_data=(X1_test,Y_test),\n",
    "          epochs=epochs)"
   ]
  },
  {
   "cell_type": "code",
   "execution_count": 20,
   "metadata": {},
   "outputs": [
    {
     "name": "stdout",
     "output_type": "stream",
     "text": [
      "54/54 [==============================] - 1s 15ms/step - loss: 3638.6965 - MAE: 39.9026\n",
      "Test Score: 3638.696533203125\n",
      "Test Accuracy: 39.90259552001953\n"
     ]
    }
   ],
   "source": [
    "score1 = model1.evaluate(np.array(X1_test), np.array(Y_test)) \n",
    "\n",
    "print(\"Test Score:\", score1[0])\n",
    "print(\"Test Accuracy:\", score1[1])"
   ]
  },
  {
   "cell_type": "code",
   "execution_count": 23,
   "metadata": {},
   "outputs": [],
   "source": [
    "model1.save('../year_prediction_model.h5')"
   ]
  },
  {
   "cell_type": "code",
   "execution_count": 13,
   "metadata": {},
   "outputs": [],
   "source": [
    "model2 = keras.models.Sequential([\n",
    "  keras.layers.Embedding(input_dim=2,\n",
    "                           output_dim=8,\n",
    "                           input_length=len(X2_train[0])),\n",
    "  keras.layers.Flatten(),\n",
    "  keras.layers.Dense(2000,activation='relu'),\n",
    "  keras.layers.Dense(500,activation='relu'),\n",
    "  keras.layers.Dense(100,activation='relu'),\n",
    "  keras.layers.Dense(1, activation='relu')\n",
    "])\n",
    "\n",
    "model2.build()"
   ]
  },
  {
   "cell_type": "code",
   "execution_count": 14,
   "metadata": {},
   "outputs": [],
   "source": [
    "model2.compile(optimizer='nadam',\n",
    "              loss='mean_squared_error',\n",
    "              metrics=['MAE'])"
   ]
  },
  {
   "cell_type": "code",
   "execution_count": 15,
   "metadata": {},
   "outputs": [
    {
     "name": "stdout",
     "output_type": "stream",
     "text": [
      "Model: \"sequential_1\"\n",
      "_________________________________________________________________\n",
      "Layer (type)                 Output Shape              Param #   \n",
      "=================================================================\n",
      "embedding_1 (Embedding)      (None, 4285, 8)           16        \n",
      "_________________________________________________________________\n",
      "flatten_1 (Flatten)          (None, 34280)             0         \n",
      "_________________________________________________________________\n",
      "dense_4 (Dense)              (None, 2000)              68562000  \n",
      "_________________________________________________________________\n",
      "dense_5 (Dense)              (None, 500)               1000500   \n",
      "_________________________________________________________________\n",
      "dense_6 (Dense)              (None, 100)               50100     \n",
      "_________________________________________________________________\n",
      "dense_7 (Dense)              (None, 1)                 101       \n",
      "=================================================================\n",
      "Total params: 69,612,717\n",
      "Trainable params: 69,612,717\n",
      "Non-trainable params: 0\n",
      "_________________________________________________________________\n"
     ]
    }
   ],
   "source": [
    "model2.summary()"
   ]
  },
  {
   "cell_type": "code",
   "execution_count": 24,
   "metadata": {},
   "outputs": [
    {
     "name": "stdout",
     "output_type": "stream",
     "text": [
      "Epoch 1/5\n",
      "433/433 [==============================] - 340s 786ms/step - loss: 4999.1733 - MAE: 50.6444 - val_loss: 1914.0582 - val_MAE: 21.3877\n",
      "Epoch 2/5\n",
      "433/433 [==============================] - 338s 781ms/step - loss: 6339.7979 - MAE: 54.8037 - val_loss: 8364.1846 - val_MAE: 81.5158\n",
      "Epoch 3/5\n",
      "433/433 [==============================] - 324s 747ms/step - loss: 4861.6855 - MAE: 50.0115 - val_loss: 2142.9221 - val_MAE: 33.4819\n",
      "Epoch 4/5\n",
      "433/433 [==============================] - 327s 755ms/step - loss: 4439.8364 - MAE: 44.9857 - val_loss: 2699.6128 - val_MAE: 42.2026\n",
      "Epoch 5/5\n",
      "433/433 [==============================] - 320s 740ms/step - loss: 4168.4341 - MAE: 43.3845 - val_loss: 1990.4617 - val_MAE: 30.7181\n"
     ]
    },
    {
     "data": {
      "text/plain": [
       "<tensorflow.python.keras.callbacks.History at 0x7ff034674ac8>"
      ]
     },
     "execution_count": 24,
     "metadata": {},
     "output_type": "execute_result"
    }
   ],
   "source": [
    "model2.fit(X2_train, Y_train, epochs=5, validation_split=0.1)"
   ]
  },
  {
   "cell_type": "code",
   "execution_count": 25,
   "metadata": {},
   "outputs": [
    {
     "name": "stdout",
     "output_type": "stream",
     "text": [
      "54/54 [==============================] - 3s 49ms/step - loss: 2001.4846 - MAE: 31.3733\n",
      "Test Score: 2001.484619140625\n",
      "Test Accuracy: 31.37334442138672\n"
     ]
    }
   ],
   "source": [
    "score2 = model2.evaluate(np.array(X2_test), np.array(Y_test)) \n",
    "\n",
    "print(\"Test Score:\", score2[0])\n",
    "print(\"Test Accuracy:\", score2[1])"
   ]
  },
  {
   "cell_type": "code",
   "execution_count": null,
   "metadata": {},
   "outputs": [],
   "source": [
    "y_pred1 = model1.predict(X1_test)\n",
    "y_pred2 = model2.predict(X2_test)\n",
    "result = (y_pred1 + y_pred2)/2"
   ]
  },
  {
   "cell_type": "code",
   "execution_count": null,
   "metadata": {},
   "outputs": [],
   "source": [
    "keras.metrics.mean_absolute_error(\n",
    "    y_pred1.flatten(), y_pred2.flatten()\n",
    ")"
   ]
  },
  {
   "cell_type": "markdown",
   "metadata": {},
   "source": [
    "### Multi-input model"
   ]
  },
  {
   "cell_type": "code",
   "execution_count": null,
   "metadata": {},
   "outputs": [],
   "source": [
    "text_input = keras.Input(shape=(max_len,))\n",
    "categorical_input = keras.Input(shape=(len(X2_train[0]),))\n",
    "\n",
    "text_embedding = layers.Embedding(max_features, 64)(text_input)\n",
    "categorical_embedding = layers.Embedding(2, 8)(categorical_input)\n",
    "\n",
    "flat_text = layers.Flatten()(text_embedding)\n",
    "flat_categories = layers.Flatten()(categorical_embedding)\n",
    "\n",
    "concatenated = keras.layers.Concatenate()([flat_text, flat_categories])\n",
    "\n",
    "dense1 = keras.layers.Dense(2000, activation='relu', )(concatenated)\n",
    "dense2 = keras.layers.Dense(500, activation='relu', )(dense1)\n",
    "dense3 = keras.layers.Dense(100, activation='relu', )(dense2)\n",
    "out = keras.layers.Dense(1, activation='relu', )(dense3)\n",
    "\n",
    "\n",
    "united_model = keras.Model(inputs=[text_input, categorical_input], outputs=out)\n"
   ]
  },
  {
   "cell_type": "code",
   "execution_count": null,
   "metadata": {},
   "outputs": [],
   "source": [
    "united_model.compile(optimizer='nadam',\n",
    "              loss='mean_squared_error',\n",
    "              metrics=['MAE'])\n",
    "united_model.summary()"
   ]
  },
  {
   "cell_type": "code",
   "execution_count": null,
   "metadata": {},
   "outputs": [],
   "source": [
    "united_model.fit([X1_train, X2_train], Y_train, epochs=5, validation_split=0.1)"
   ]
  },
  {
   "cell_type": "code",
   "execution_count": null,
   "metadata": {},
   "outputs": [],
   "source": [
    "score3 = united_model.evaluate([np.array(X1_test), np.array(X2_test)], np.array(Y_test)) \n",
    "\n",
    "print(\"Test Score:\", score3[0])\n",
    "print(\"Test Accuracy:\", score3[1])"
   ]
  },
  {
   "cell_type": "code",
   "execution_count": null,
   "metadata": {},
   "outputs": [],
   "source": [
    "output_dim = 100\n",
    "\n",
    "inputs = keras.Input(shape=(None,), dtype=\"int64\")\n",
    "\n",
    "# Next, we add a layer to map those vocab indices into a space of dimensionality\n",
    "# 'embedding_dim'.\n",
    "x = layers.Embedding(max_features, output_dim)(inputs)\n",
    "x = layers.Dropout(0.5)(x)\n",
    "\n",
    "# Conv1D + global max pooling\n",
    "x = layers.Conv1D(128, 7, padding=\"valid\", activation=\"relu\", strides=3)(x)\n",
    "x = layers.Conv1D(128, 7, padding=\"valid\", activation=\"relu\", strides=3)(x)\n",
    "x = layers.GlobalMaxPooling1D()(x)\n",
    "\n",
    "# We add a vanilla hidden layer:\n",
    "x = layers.Dense(128, activation=\"relu\")(x)\n",
    "x = layers.Dropout(0.5)(x)\n",
    "\n",
    "predictions = layers.Dense(1, activation='relu', name=\"predictions\")(x)\n",
    "\n",
    "model3 = keras.Model(inputs, predictions)\n",
    "\n",
    "# Compile the model with binary crossentropy loss and an adam optimizer.\n",
    "model3.compile(loss=\"mean_squared_error\", optimizer=\"adam\", metrics=[\"MAE\"])\n"
   ]
  },
  {
   "cell_type": "code",
   "execution_count": null,
   "metadata": {},
   "outputs": [],
   "source": [
    "model3.summary()"
   ]
  },
  {
   "cell_type": "code",
   "execution_count": null,
   "metadata": {},
   "outputs": [],
   "source": [
    "batch_size = 64\n",
    "epochs = 5\n",
    "model3.fit(X1_train, Y_train, epochs=epochs, batch_size=batch_size,validation_split=0.1)"
   ]
  },
  {
   "cell_type": "code",
   "execution_count": null,
   "metadata": {},
   "outputs": [],
   "source": [
    "accr = model3.evaluate(X1_test,Y_test)\n",
    "print('Test set\\n  Loss: {:0.3f}\\n  Accuracy: {:0.3f}'.format(accr[0],accr[1]))"
   ]
  },
  {
   "cell_type": "code",
   "execution_count": null,
   "metadata": {},
   "outputs": [],
   "source": []
  },
  {
   "cell_type": "code",
   "execution_count": null,
   "metadata": {},
   "outputs": [],
   "source": []
  }
 ],
 "metadata": {
  "kernelspec": {
   "display_name": "Python 3",
   "language": "python",
   "name": "python3"
  },
  "language_info": {
   "codemirror_mode": {
    "name": "ipython",
    "version": 3
   },
   "file_extension": ".py",
   "mimetype": "text/x-python",
   "name": "python",
   "nbconvert_exporter": "python",
   "pygments_lexer": "ipython3",
   "version": "3.6.9"
  }
 },
 "nbformat": 4,
 "nbformat_minor": 2
}
