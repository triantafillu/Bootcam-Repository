{
 "cells": [
  {
   "cell_type": "code",
   "execution_count": 1,
   "metadata": {},
   "outputs": [],
   "source": [
    "import pandas as pd\n",
    "import spacy\n",
    "from sklearn import model_selection\n",
    "import numpy as np\n",
    "\n",
    "\n",
    "from tensorflow import keras\n",
    "from tensorflow.keras import layers, models"
   ]
  },
  {
   "cell_type": "code",
   "execution_count": 2,
   "metadata": {},
   "outputs": [],
   "source": [
    "df = pd.read_json(open(\"../../data/data.json\", \"r\", encoding=\"utf8\"))\n"
   ]
  },
  {
   "cell_type": "code",
   "execution_count": 3,
   "metadata": {},
   "outputs": [],
   "source": [
    "max_features = 10000  # maximum number of words in vocabulari 5000\n",
    "max_len = 150  # max length of string"
   ]
  },
  {
   "cell_type": "code",
   "execution_count": 4,
   "metadata": {},
   "outputs": [],
   "source": [
    "joined_text = df['title'] + df['text']\n",
    "X = keras.preprocessing.sequence.pad_sequences(list(joined_text), maxlen=max_len, padding='post')\n",
    "Y = np.array(df['themes'].to_list())"
   ]
  },
  {
   "cell_type": "code",
   "execution_count": 5,
   "metadata": {},
   "outputs": [],
   "source": [
    "X_train, X_test, Y_train, Y_test = model_selection.train_test_split(X, Y, test_size=0.1, random_state=42)"
   ]
  },
  {
   "cell_type": "markdown",
   "metadata": {},
   "source": [
    "### Model 1 simple Dense Layers"
   ]
  },
  {
   "cell_type": "code",
   "execution_count": 6,
   "metadata": {},
   "outputs": [
    {
     "name": "stdout",
     "output_type": "stream",
     "text": [
      "Model: \"sequential\"\n",
      "_________________________________________________________________\n",
      "Layer (type)                 Output Shape              Param #   \n",
      "=================================================================\n",
      "embedding (Embedding)        (None, 150, 64)           640000    \n",
      "_________________________________________________________________\n",
      "flatten (Flatten)            (None, 9600)              0         \n",
      "_________________________________________________________________\n",
      "dense (Dense)                (None, 2000)              19202000  \n",
      "_________________________________________________________________\n",
      "dropout (Dropout)            (None, 2000)              0         \n",
      "_________________________________________________________________\n",
      "dense_1 (Dense)              (None, 500)               1000500   \n",
      "_________________________________________________________________\n",
      "dropout_1 (Dropout)          (None, 500)               0         \n",
      "_________________________________________________________________\n",
      "dense_2 (Dense)              (None, 100)               50100     \n",
      "_________________________________________________________________\n",
      "dense_3 (Dense)              (None, 93)                9393      \n",
      "=================================================================\n",
      "Total params: 20,901,993\n",
      "Trainable params: 20,901,993\n",
      "Non-trainable params: 0\n",
      "_________________________________________________________________\n"
     ]
    }
   ],
   "source": [
    "embedding_dim = 64\n",
    "\n",
    "model1 = keras.models.Sequential([\n",
    "  keras.layers.Embedding(input_dim=max_features,\n",
    "                           output_dim=embedding_dim,\n",
    "                           input_length=max_len),\n",
    "  keras.layers.Flatten(),\n",
    "  keras.layers.Dense(2000, activation='relu'),\n",
    "  keras.layers.Dropout(0.3),\n",
    "  keras.layers.Dense(500, activation='relu'),\n",
    "  keras.layers.Dropout(0.3),\n",
    "  keras.layers.Dense(100, activation='relu'),\n",
    "  keras.layers.Dense(len(Y[0]), activation='sigmoid')\n",
    "])\n",
    "\n",
    "model1.compile(optimizer='nadam',\n",
    "              loss='categorical_crossentropy',\n",
    "              metrics=['categorical_accuracy'])\n",
    "\n",
    "model1.summary()"
   ]
  },
  {
   "cell_type": "code",
   "execution_count": 12,
   "metadata": {
    "scrolled": true
   },
   "outputs": [
    {
     "name": "stdout",
     "output_type": "stream",
     "text": [
      "Epoch 1/5\n",
      "384/384 [==============================] - 84s 218ms/step - loss: 8.1100 - categorical_accuracy: 0.1770 - val_loss: 23.2832 - val_categorical_accuracy: 0.1832\n",
      "Epoch 2/5\n",
      "384/384 [==============================] - 87s 227ms/step - loss: 7.8486 - categorical_accuracy: 0.1768 - val_loss: 23.7998 - val_categorical_accuracy: 0.1832\n",
      "Epoch 3/5\n",
      "384/384 [==============================] - 90s 235ms/step - loss: 7.6444 - categorical_accuracy: 0.1794 - val_loss: 24.9804 - val_categorical_accuracy: 0.1832\n",
      "Epoch 4/5\n",
      "384/384 [==============================] - 92s 239ms/step - loss: 7.5349 - categorical_accuracy: 0.1797 - val_loss: 26.4753 - val_categorical_accuracy: 0.1832\n",
      "Epoch 5/5\n",
      "384/384 [==============================] - 89s 233ms/step - loss: 7.4472 - categorical_accuracy: 0.1831 - val_loss: 26.5339 - val_categorical_accuracy: 0.1832\n"
     ]
    },
    {
     "data": {
      "text/plain": [
       "<tensorflow.python.keras.callbacks.History at 0x7f9b2011fef0>"
      ]
     },
     "execution_count": 12,
     "metadata": {},
     "output_type": "execute_result"
    }
   ],
   "source": [
    "epochs = 5\n",
    "checkpoint = keras.callbacks.ModelCheckpoint('val_classification_model.h5', \n",
    "    monitor='val_categorical_accuracy',\n",
    "    mode='max',\n",
    "    save_best_only=True)\n",
    "\n",
    "model1.fit(np.array(X_train), np.array(Y_train),\n",
    "          #batch_size=128,\n",
    "          validation_data=(np.array(X_test),np.array(Y_test)),\n",
    "          epochs=epochs,\n",
    "          callbacks=[checkpoint])"
   ]
  },
  {
   "cell_type": "code",
   "execution_count": 10,
   "metadata": {},
   "outputs": [
    {
     "name": "stdout",
     "output_type": "stream",
     "text": [
      "43/43 [==============================] - 1s 14ms/step - loss: 21.4251 - categorical_accuracy: 0.1832\n",
      "Test Score: 21.42511749267578\n",
      "Test Accuracy: 0.18315018713474274\n"
     ]
    }
   ],
   "source": [
    "score = model1.evaluate(np.array(X_test), np.array(Y_test)) \n",
    "\n",
    "print(\"Test Score:\", score[0])\n",
    "print(\"Test Accuracy:\", score[1])"
   ]
  },
  {
   "cell_type": "code",
   "execution_count": 11,
   "metadata": {},
   "outputs": [],
   "source": [
    "model1.save('classification_model.h5')"
   ]
  },
  {
   "cell_type": "markdown",
   "metadata": {},
   "source": [
    "### Model 2 LSTM"
   ]
  },
  {
   "cell_type": "code",
   "execution_count": 10,
   "metadata": {},
   "outputs": [],
   "source": [
    "embedding_dim =100 \n",
    "\n",
    "model2 = keras.Sequential([\n",
    "    layers.Embedding(max_features, embedding_dim, input_length=max_len),\n",
    "    layers.SpatialDropout1D(0.2),\n",
    "    layers.LSTM(100, dropout=0.2, recurrent_dropout=0.2),\n",
    "    layers.Dense(len(Y[0]), activation='sigmoid')\n",
    "])"
   ]
  },
  {
   "cell_type": "code",
   "execution_count": 11,
   "metadata": {},
   "outputs": [],
   "source": [
    "model2.compile(loss='categorical_crossentropy', optimizer='adam', metrics=['categorical_accuracy'])"
   ]
  },
  {
   "cell_type": "code",
   "execution_count": 12,
   "metadata": {},
   "outputs": [
    {
     "name": "stdout",
     "output_type": "stream",
     "text": [
      "Model: \"sequential_1\"\n",
      "_________________________________________________________________\n",
      "Layer (type)                 Output Shape              Param #   \n",
      "=================================================================\n",
      "embedding_1 (Embedding)      (None, 150, 100)          1000000   \n",
      "_________________________________________________________________\n",
      "spatial_dropout1d (SpatialDr (None, 150, 100)          0         \n",
      "_________________________________________________________________\n",
      "lstm (LSTM)                  (None, 100)               80400     \n",
      "_________________________________________________________________\n",
      "dense_4 (Dense)              (None, 99)                9999      \n",
      "=================================================================\n",
      "Total params: 1,090,399\n",
      "Trainable params: 1,090,399\n",
      "Non-trainable params: 0\n",
      "_________________________________________________________________\n"
     ]
    }
   ],
   "source": [
    "model2.summary()"
   ]
  },
  {
   "cell_type": "code",
   "execution_count": 13,
   "metadata": {},
   "outputs": [
    {
     "name": "stdout",
     "output_type": "stream",
     "text": [
      "Epoch 1/5\n",
      "87/87 [==============================] - 17s 195ms/step - loss: 19.0051 - categorical_accuracy: 0.0032 - val_loss: 18.8436 - val_categorical_accuracy: 0.0032\n",
      "Epoch 2/5\n",
      "87/87 [==============================] - 17s 193ms/step - loss: 18.4259 - categorical_accuracy: 0.0017 - val_loss: 18.8219 - val_categorical_accuracy: 0.0032\n",
      "Epoch 3/5\n",
      "87/87 [==============================] - 17s 192ms/step - loss: 18.4121 - categorical_accuracy: 0.0017 - val_loss: 18.8022 - val_categorical_accuracy: 0.0032\n",
      "Epoch 4/5\n",
      "87/87 [==============================] - 17s 191ms/step - loss: 18.3958 - categorical_accuracy: 0.0017 - val_loss: 18.7963 - val_categorical_accuracy: 0.0032\n",
      "Epoch 5/5\n",
      "87/87 [==============================] - 17s 190ms/step - loss: 18.3771 - categorical_accuracy: 0.0017 - val_loss: 18.8038 - val_categorical_accuracy: 0.0032\n"
     ]
    }
   ],
   "source": [
    "max_features = 10000  # maximum number of words in vocabulari 5000\n",
    "max_len = 150  # max length of string\n",
    "batch_size = 128\n",
    "epochs = 5\n",
    "\n",
    "early_stopping_callback = keras.callbacks.EarlyStopping(monitor='val_loss', patience=3, min_delta=0.0001)\n",
    "history = model2.fit(X_train, Y_train, epochs=epochs, batch_size=batch_size,validation_split=0.1,callbacks=[early_stopping_callback])"
   ]
  },
  {
   "cell_type": "code",
   "execution_count": 14,
   "metadata": {},
   "outputs": [
    {
     "name": "stdout",
     "output_type": "stream",
     "text": [
      "43/43 [==============================] - 1s 15ms/step - loss: 18.5577 - categorical_accuracy: 0.0022\n",
      "Test set\n",
      "  Loss: 18.558\n",
      "  Accuracy: 0.002\n"
     ]
    }
   ],
   "source": [
    "accr = model2.evaluate(X_test,Y_test)\n",
    "print('Test set\\n  Loss: {:0.3f}\\n  Accuracy: {:0.3f}'.format(accr[0],accr[1]))"
   ]
  },
  {
   "cell_type": "code",
   "execution_count": 15,
   "metadata": {},
   "outputs": [],
   "source": [
    "output_dim = 100\n",
    "\n",
    "inputs = keras.Input(shape=(None,), dtype=\"int64\")\n",
    "\n",
    "# Next, we add a layer to map those vocab indices into a space of dimensionality\n",
    "# 'embedding_dim'.\n",
    "x = layers.Embedding(max_features, output_dim)(inputs)\n",
    "x = layers.Dropout(0.5)(x)\n",
    "\n",
    "# Conv1D + global max pooling\n",
    "x = layers.Conv1D(128, 7, padding=\"valid\", activation=\"relu\", strides=3)(x)\n",
    "x = layers.Conv1D(128, 7, padding=\"valid\", activation=\"relu\", strides=3)(x)\n",
    "x = layers.GlobalMaxPooling1D()(x)\n",
    "\n",
    "# We add a vanilla hidden layer:\n",
    "x = layers.Dense(128, activation=\"relu\")(x)\n",
    "x = layers.Dropout(0.5)(x)\n",
    "\n",
    "predictions = layers.Dense(len(Y[0]), activation='softmax', name=\"predictions\")(x)\n",
    "\n",
    "model3 = keras.Model(inputs, predictions)\n",
    "\n",
    "# Compile the model with binary crossentropy loss and an adam optimizer.\n",
    "model3.compile(loss=\"categorical_crossentropy\", optimizer=\"adam\", metrics=[\"accuracy\"])"
   ]
  },
  {
   "cell_type": "code",
   "execution_count": 16,
   "metadata": {},
   "outputs": [
    {
     "name": "stdout",
     "output_type": "stream",
     "text": [
      "Model: \"model\"\n",
      "_________________________________________________________________\n",
      "Layer (type)                 Output Shape              Param #   \n",
      "=================================================================\n",
      "input_1 (InputLayer)         [(None, None)]            0         \n",
      "_________________________________________________________________\n",
      "embedding_2 (Embedding)      (None, None, 100)         1000000   \n",
      "_________________________________________________________________\n",
      "dropout_2 (Dropout)          (None, None, 100)         0         \n",
      "_________________________________________________________________\n",
      "conv1d (Conv1D)              (None, None, 128)         89728     \n",
      "_________________________________________________________________\n",
      "conv1d_1 (Conv1D)            (None, None, 128)         114816    \n",
      "_________________________________________________________________\n",
      "global_max_pooling1d (Global (None, 128)               0         \n",
      "_________________________________________________________________\n",
      "dense_5 (Dense)              (None, 128)               16512     \n",
      "_________________________________________________________________\n",
      "dropout_3 (Dropout)          (None, 128)               0         \n",
      "_________________________________________________________________\n",
      "predictions (Dense)          (None, 99)                12771     \n",
      "=================================================================\n",
      "Total params: 1,233,827\n",
      "Trainable params: 1,233,827\n",
      "Non-trainable params: 0\n",
      "_________________________________________________________________\n"
     ]
    }
   ],
   "source": [
    "model3.summary()"
   ]
  },
  {
   "cell_type": "code",
   "execution_count": 17,
   "metadata": {},
   "outputs": [
    {
     "name": "stdout",
     "output_type": "stream",
     "text": [
      "Epoch 1/5\n",
      "174/174 [==============================] - 5s 31ms/step - loss: 601521.3750 - accuracy: 0.0203 - val_loss: 3190682.5000 - val_accuracy: 0.0032\n",
      "Epoch 2/5\n",
      "174/174 [==============================] - 5s 29ms/step - loss: 55591072.0000 - accuracy: 0.0226 - val_loss: 164269184.0000 - val_accuracy: 0.0032\n",
      "Epoch 3/5\n",
      "174/174 [==============================] - 5s 29ms/step - loss: 633631616.0000 - accuracy: 0.0211 - val_loss: 1337953024.0000 - val_accuracy: 0.0032\n",
      "Epoch 4/5\n",
      "174/174 [==============================] - 5s 29ms/step - loss: 3085816064.0000 - accuracy: 0.0232 - val_loss: 5515577856.0000 - val_accuracy: 0.0170\n",
      "Epoch 5/5\n",
      "174/174 [==============================] - 5s 29ms/step - loss: 9826993152.0000 - accuracy: 0.0227 - val_loss: 15176954880.0000 - val_accuracy: 0.0032\n"
     ]
    },
    {
     "data": {
      "text/plain": [
       "<tensorflow.python.keras.callbacks.History at 0x7f22b40917f0>"
      ]
     },
     "execution_count": 17,
     "metadata": {},
     "output_type": "execute_result"
    }
   ],
   "source": [
    "batch_size = 64\n",
    "epochs = 5\n",
    "model3.fit(X_train, Y_train, epochs=epochs, batch_size=batch_size,validation_split=0.1)"
   ]
  },
  {
   "cell_type": "code",
   "execution_count": 18,
   "metadata": {},
   "outputs": [
    {
     "name": "stdout",
     "output_type": "stream",
     "text": [
      "43/43 [==============================] - 0s 4ms/step - loss: 15214229504.0000 - accuracy: 0.0022\n",
      "Test set\n",
      "  Loss: 15214229504.000\n",
      "  Accuracy: 0.002\n"
     ]
    }
   ],
   "source": [
    "accr = model3.evaluate(X_test,Y_test)\n",
    "print('Test set\\n  Loss: {:0.3f}\\n  Accuracy: {:0.3f}'.format(accr[0],accr[1]))"
   ]
  },
  {
   "cell_type": "code",
   "execution_count": 5,
   "metadata": {},
   "outputs": [],
   "source": [
    "# one hot encoding for authors\n",
    "def encode_authors(author_code):\n",
    "    qty = df.author.max()\n",
    "    result = [0] * (qty + 1)\n",
    "    result[author_code] = 1\n",
    "    return result\n",
    "\n",
    "df.author = df.author.apply(encode_authors)"
   ]
  },
  {
   "cell_type": "code",
   "execution_count": 6,
   "metadata": {},
   "outputs": [],
   "source": [
    "# one hot encoding for years\n",
    "year_codes ={}\n",
    "year_count = df.year.nunique()\n",
    "def encode_year(year):\n",
    "    result = [0] * year_count\n",
    "    if year in year_codes.keys():\n",
    "        result[year_codes[year]] = 1\n",
    "    else:\n",
    "        result[len(year_codes)] = 1\n",
    "        year_codes[year] = len(year_codes)\n",
    "    return result\n",
    "\n",
    "df['years_encoded'] = df.year.apply(encode_year)"
   ]
  },
  {
   "cell_type": "code",
   "execution_count": 8,
   "metadata": {},
   "outputs": [],
   "source": [
    "df['joined_text'] = df['text'] + df['title']\n",
    "df['X2'] = df['author'] + df['years_encoded']\n",
    "train_df, test_df = model_selection.train_test_split(df, test_size=0.1, random_state=42)\n",
    "X1_train = keras.preprocessing.sequence.pad_sequences(train_df['joined_text'].to_list(), maxlen=max_len, padding='post')\n",
    "X2_train = np.stack(train_df['X2'])\n",
    "Y2_train = np.stack(train_df['themes'])\n",
    "X1_test = keras.preprocessing.sequence.pad_sequences(list(test_df['joined_text']), maxlen=max_len, padding='post')\n",
    "X2_test = np.stack(test_df['X2'])\n",
    "Y2_test = np.stack(test_df['themes'])"
   ]
  },
  {
   "cell_type": "code",
   "execution_count": 11,
   "metadata": {},
   "outputs": [],
   "source": [
    "text_input = keras.Input(shape=(max_len,))\n",
    "categorical_input = keras.Input(shape=(len(X2_train[0]),))\n",
    "\n",
    "text_embedding = layers.Embedding(max_features, 64)(text_input)\n",
    "categorical_embedding = layers.Embedding(2, 8)(categorical_input)\n",
    "\n",
    "flat_text = layers.Flatten()(text_embedding)\n",
    "flat_categories = layers.Flatten()(categorical_embedding)\n",
    "\n",
    "concatenated = keras.layers.Concatenate()([flat_text, flat_categories])\n",
    "\n",
    "dense1 = keras.layers.Dense(2000, activation='relu', )(concatenated)\n",
    "dense2 = keras.layers.Dense(500, activation='relu', )(dense1)\n",
    "dense3 = keras.layers.Dense(100, activation='relu', )(dense2)\n",
    "out = keras.layers.Dense(len(Y2_train[0]), activation='sigmoid')(dense3)\n",
    "\n",
    "\n",
    "united_model = keras.Model(inputs=[text_input, categorical_input], outputs=out)\n"
   ]
  },
  {
   "cell_type": "code",
   "execution_count": 12,
   "metadata": {},
   "outputs": [
    {
     "name": "stdout",
     "output_type": "stream",
     "text": [
      "Model: \"model\"\n",
      "__________________________________________________________________________________________________\n",
      "Layer (type)                    Output Shape         Param #     Connected to                     \n",
      "==================================================================================================\n",
      "input_1 (InputLayer)            [(None, 150)]        0                                            \n",
      "__________________________________________________________________________________________________\n",
      "input_2 (InputLayer)            [(None, 4299)]       0                                            \n",
      "__________________________________________________________________________________________________\n",
      "embedding (Embedding)           (None, 150, 64)      640000      input_1[0][0]                    \n",
      "__________________________________________________________________________________________________\n",
      "embedding_1 (Embedding)         (None, 4299, 8)      16          input_2[0][0]                    \n",
      "__________________________________________________________________________________________________\n",
      "flatten (Flatten)               (None, 9600)         0           embedding[0][0]                  \n",
      "__________________________________________________________________________________________________\n",
      "flatten_1 (Flatten)             (None, 34392)        0           embedding_1[0][0]                \n",
      "__________________________________________________________________________________________________\n",
      "concatenate (Concatenate)       (None, 43992)        0           flatten[0][0]                    \n",
      "                                                                 flatten_1[0][0]                  \n",
      "__________________________________________________________________________________________________\n",
      "dense (Dense)                   (None, 2000)         87986000    concatenate[0][0]                \n",
      "__________________________________________________________________________________________________\n",
      "dense_1 (Dense)                 (None, 500)          1000500     dense[0][0]                      \n",
      "__________________________________________________________________________________________________\n",
      "dense_2 (Dense)                 (None, 100)          50100       dense_1[0][0]                    \n",
      "__________________________________________________________________________________________________\n",
      "dense_3 (Dense)                 (None, 99)           9999        dense_2[0][0]                    \n",
      "==================================================================================================\n",
      "Total params: 89,686,615\n",
      "Trainable params: 89,686,615\n",
      "Non-trainable params: 0\n",
      "__________________________________________________________________________________________________\n"
     ]
    }
   ],
   "source": [
    "united_model.compile(optimizer='nadam',\n",
    "              loss='categorical_crossentropy',\n",
    "              metrics=['categorical_accuracy'])\n",
    "united_model.summary()"
   ]
  },
  {
   "cell_type": "code",
   "execution_count": 14,
   "metadata": {
    "scrolled": false
   },
   "outputs": [
    {
     "name": "stdout",
     "output_type": "stream",
     "text": [
      "Epoch 1/3\n",
      "347/347 [==============================] - 317s 913ms/step - loss: 15.5480 - categorical_accuracy: 0.0938 - val_loss: 18.4029 - val_categorical_accuracy: 0.0812\n",
      "Epoch 2/3\n",
      "347/347 [==============================] - 316s 909ms/step - loss: 12.9274 - categorical_accuracy: 0.2240 - val_loss: 19.8288 - val_categorical_accuracy: 0.0779\n",
      "Epoch 3/3\n",
      "347/347 [==============================] - 315s 908ms/step - loss: 11.1095 - categorical_accuracy: 0.3113 - val_loss: 21.3777 - val_categorical_accuracy: 0.0828\n"
     ]
    },
    {
     "data": {
      "text/plain": [
       "<tensorflow.python.keras.callbacks.History at 0x7f2fd0277278>"
      ]
     },
     "execution_count": 14,
     "metadata": {},
     "output_type": "execute_result"
    }
   ],
   "source": [
    "united_model.fit([X1_train, X2_train], Y2_train, epochs=3, validation_split=0.1)"
   ]
  },
  {
   "cell_type": "code",
   "execution_count": 15,
   "metadata": {
    "scrolled": true
   },
   "outputs": [
    {
     "name": "stdout",
     "output_type": "stream",
     "text": [
      "43/43 [==============================] - 3s 61ms/step - loss: 21.2575 - categorical_accuracy: 0.0840\n",
      "Test Score: 21.25745391845703\n",
      "Test Accuracy: 0.08400291949510574\n"
     ]
    }
   ],
   "source": [
    "score3 = united_model.evaluate([np.array(X1_test), np.array(X2_test)], np.array(Y2_test)) \n",
    "\n",
    "print(\"Test Score:\", score3[0])\n",
    "print(\"Test Accuracy:\", score3[1])"
   ]
  },
  {
   "cell_type": "code",
   "execution_count": 23,
   "metadata": {},
   "outputs": [
    {
     "data": {
      "text/html": [
       "<div>\n",
       "<style scoped>\n",
       "    .dataframe tbody tr th:only-of-type {\n",
       "        vertical-align: middle;\n",
       "    }\n",
       "\n",
       "    .dataframe tbody tr th {\n",
       "        vertical-align: top;\n",
       "    }\n",
       "\n",
       "    .dataframe thead th {\n",
       "        text-align: right;\n",
       "    }\n",
       "</style>\n",
       "<table border=\"1\" class=\"dataframe\">\n",
       "  <thead>\n",
       "    <tr style=\"text-align: right;\">\n",
       "      <th></th>\n",
       "      <th>title</th>\n",
       "      <th>author</th>\n",
       "      <th>year</th>\n",
       "      <th>text</th>\n",
       "      <th>themes</th>\n",
       "      <th>joined_text</th>\n",
       "      <th>X2</th>\n",
       "      <th>years_encoded</th>\n",
       "    </tr>\n",
       "  </thead>\n",
       "  <tbody>\n",
       "    <tr>\n",
       "      <th>0</th>\n",
       "      <td>[45, 4, 141, 903]</td>\n",
       "      <td>[1, 0, 0, 0, 0, 0, 0, 0, 0, 0, 0, 0, 0, 0, 0, ...</td>\n",
       "      <td>2002</td>\n",
       "      <td>[2, 2334, 1097, 5, 2334, 298, 9780, 1002, 412,...</td>\n",
       "      <td>[0, 0, 0, 0, 0, 0, 1, 0, 0, 0, 0, 0, 0, 0, 0, ...</td>\n",
       "      <td>[2, 2334, 1097, 5, 2334, 298, 9780, 1002, 412,...</td>\n",
       "      <td>[1, 0, 0, 0, 0, 0, 0, 0, 0, 0, 0, 0, 0, 0, 0, ...</td>\n",
       "      <td>[1, 0, 0, 0, 0, 0, 0, 0, 0, 0, 0, 0, 0, 0, 0, ...</td>\n",
       "    </tr>\n",
       "    <tr>\n",
       "      <th>1</th>\n",
       "      <td>[2828]</td>\n",
       "      <td>[0, 1, 0, 0, 0, 0, 0, 0, 0, 0, 0, 0, 0, 0, 0, ...</td>\n",
       "      <td>2002</td>\n",
       "      <td>[1, 95, 106, 4385, 3, 144, 291, 33, 1426, 8803...</td>\n",
       "      <td>[0, 0, 0, 0, 0, 0, 0, 0, 0, 0, 0, 0, 0, 0, 0, ...</td>\n",
       "      <td>[1, 95, 106, 4385, 3, 144, 291, 33, 1426, 8803...</td>\n",
       "      <td>[0, 1, 0, 0, 0, 0, 0, 0, 0, 0, 0, 0, 0, 0, 0, ...</td>\n",
       "      <td>[1, 0, 0, 0, 0, 0, 0, 0, 0, 0, 0, 0, 0, 0, 0, ...</td>\n",
       "    </tr>\n",
       "    <tr>\n",
       "      <th>2</th>\n",
       "      <td>[209]</td>\n",
       "      <td>[0, 0, 1, 0, 0, 0, 0, 0, 0, 0, 0, 0, 0, 0, 0, ...</td>\n",
       "      <td>2002</td>\n",
       "      <td>[106, 20, 719, 21, 1474, 329, 240, 159, 421, 2...</td>\n",
       "      <td>[0, 0, 0, 0, 0, 0, 0, 0, 0, 0, 0, 0, 0, 0, 0, ...</td>\n",
       "      <td>[106, 20, 719, 21, 1474, 329, 240, 159, 421, 2...</td>\n",
       "      <td>[0, 0, 1, 0, 0, 0, 0, 0, 0, 0, 0, 0, 0, 0, 0, ...</td>\n",
       "      <td>[1, 0, 0, 0, 0, 0, 0, 0, 0, 0, 0, 0, 0, 0, 0, ...</td>\n",
       "    </tr>\n",
       "    <tr>\n",
       "      <th>3</th>\n",
       "      <td>[1210, 40, 114, 1989, 18, 2321]</td>\n",
       "      <td>[0, 0, 0, 1, 0, 0, 0, 0, 0, 0, 0, 0, 0, 0, 0, ...</td>\n",
       "      <td>2002</td>\n",
       "      <td>[329, 303, 17, 70, 8, 1, 8, 1, 43, 1345, 1, 20...</td>\n",
       "      <td>[0, 0, 0, 0, 0, 0, 0, 0, 0, 0, 0, 0, 0, 0, 0, ...</td>\n",
       "      <td>[329, 303, 17, 70, 8, 1, 8, 1, 43, 1345, 1, 20...</td>\n",
       "      <td>[0, 0, 0, 1, 0, 0, 0, 0, 0, 0, 0, 0, 0, 0, 0, ...</td>\n",
       "      <td>[1, 0, 0, 0, 0, 0, 0, 0, 0, 0, 0, 0, 0, 0, 0, ...</td>\n",
       "    </tr>\n",
       "    <tr>\n",
       "      <th>4</th>\n",
       "      <td>[259, 1210]</td>\n",
       "      <td>[0, 0, 0, 0, 1, 0, 0, 0, 0, 0, 0, 0, 0, 0, 0, ...</td>\n",
       "      <td>2002</td>\n",
       "      <td>[9, 649, 76, 140, 544, 206, 679, 179, 107, 44,...</td>\n",
       "      <td>[0, 0, 0, 0, 0, 0, 0, 0, 0, 0, 0, 0, 0, 0, 0, ...</td>\n",
       "      <td>[9, 649, 76, 140, 544, 206, 679, 179, 107, 44,...</td>\n",
       "      <td>[0, 0, 0, 0, 1, 0, 0, 0, 0, 0, 0, 0, 0, 0, 0, ...</td>\n",
       "      <td>[1, 0, 0, 0, 0, 0, 0, 0, 0, 0, 0, 0, 0, 0, 0, ...</td>\n",
       "    </tr>\n",
       "    <tr>\n",
       "      <th>...</th>\n",
       "      <td>...</td>\n",
       "      <td>...</td>\n",
       "      <td>...</td>\n",
       "      <td>...</td>\n",
       "      <td>...</td>\n",
       "      <td>...</td>\n",
       "      <td>...</td>\n",
       "      <td>...</td>\n",
       "    </tr>\n",
       "    <tr>\n",
       "      <th>17067</th>\n",
       "      <td>[151, 18, 2, 5178]</td>\n",
       "      <td>[0, 0, 0, 0, 0, 0, 0, 0, 0, 0, 0, 0, 0, 0, 0, ...</td>\n",
       "      <td>1990</td>\n",
       "      <td>[1, 395, 2499, 331, 545, 8944, 28, 2573, 93, 8...</td>\n",
       "      <td>[0, 0, 0, 0, 0, 0, 0, 1, 0, 0, 1, 0, 0, 0, 0, ...</td>\n",
       "      <td>[1, 395, 2499, 331, 545, 8944, 28, 2573, 93, 8...</td>\n",
       "      <td>[0, 0, 0, 0, 0, 0, 0, 0, 0, 0, 0, 0, 0, 0, 0, ...</td>\n",
       "      <td>[0, 0, 0, 0, 0, 0, 0, 0, 0, 0, 0, 0, 0, 0, 0, ...</td>\n",
       "    </tr>\n",
       "    <tr>\n",
       "      <th>17068</th>\n",
       "      <td>[]</td>\n",
       "      <td>[0, 0, 0, 0, 0, 0, 0, 0, 0, 0, 0, 0, 0, 0, 0, ...</td>\n",
       "      <td>1990</td>\n",
       "      <td>[2, 597, 152, 153, 200, 277, 167, 4114, 3080, ...</td>\n",
       "      <td>[0, 0, 0, 0, 0, 0, 0, 0, 1, 0, 0, 0, 1, 0, 0, ...</td>\n",
       "      <td>[2, 597, 152, 153, 200, 277, 167, 4114, 3080, ...</td>\n",
       "      <td>[0, 0, 0, 0, 0, 0, 0, 0, 0, 0, 0, 0, 0, 0, 0, ...</td>\n",
       "      <td>[0, 0, 0, 0, 0, 0, 0, 0, 0, 0, 0, 0, 0, 0, 0, ...</td>\n",
       "    </tr>\n",
       "    <tr>\n",
       "      <th>17070</th>\n",
       "      <td>[15, 114]</td>\n",
       "      <td>[0, 0, 0, 0, 0, 0, 0, 0, 0, 0, 0, 0, 0, 0, 0, ...</td>\n",
       "      <td>1990</td>\n",
       "      <td>[114, 17, 70, 125, 628, 2, 797, 1, 99, 1133, 1...</td>\n",
       "      <td>[0, 0, 0, 0, 0, 0, 0, 0, 0, 0, 0, 0, 0, 0, 0, ...</td>\n",
       "      <td>[114, 17, 70, 125, 628, 2, 797, 1, 99, 1133, 1...</td>\n",
       "      <td>[0, 0, 0, 0, 0, 0, 0, 0, 0, 0, 0, 0, 0, 0, 0, ...</td>\n",
       "      <td>[0, 0, 0, 0, 0, 0, 0, 0, 0, 0, 0, 0, 0, 0, 0, ...</td>\n",
       "    </tr>\n",
       "    <tr>\n",
       "      <th>17071</th>\n",
       "      <td>[15, 25, 1, 13]</td>\n",
       "      <td>[0, 0, 0, 0, 0, 0, 0, 0, 0, 0, 0, 0, 0, 0, 0, ...</td>\n",
       "      <td>2005</td>\n",
       "      <td>[15, 1, 13, 37, 36, 15, 1, 311, 174, 544, 38, ...</td>\n",
       "      <td>[0, 0, 0, 0, 0, 0, 0, 0, 0, 0, 0, 0, 0, 0, 0, ...</td>\n",
       "      <td>[15, 1, 13, 37, 36, 15, 1, 311, 174, 544, 38, ...</td>\n",
       "      <td>[0, 0, 0, 0, 0, 0, 0, 0, 0, 0, 0, 0, 0, 0, 0, ...</td>\n",
       "      <td>[0, 0, 0, 0, 0, 0, 0, 0, 0, 0, 0, 0, 0, 0, 0, ...</td>\n",
       "    </tr>\n",
       "    <tr>\n",
       "      <th>17073</th>\n",
       "      <td>[7, 283, 1626, 26, 1173, 24, 224, 7]</td>\n",
       "      <td>[0, 0, 0, 0, 0, 0, 0, 0, 0, 0, 0, 0, 0, 0, 0, ...</td>\n",
       "      <td>1990</td>\n",
       "      <td>[6340, 6987, 1926, 791, 1613, 1018, 7647, 1792...</td>\n",
       "      <td>[0, 0, 0, 0, 0, 0, 0, 0, 0, 0, 0, 0, 0, 0, 0, ...</td>\n",
       "      <td>[6340, 6987, 1926, 791, 1613, 1018, 7647, 1792...</td>\n",
       "      <td>[0, 0, 0, 0, 0, 0, 0, 0, 0, 0, 0, 0, 0, 0, 0, ...</td>\n",
       "      <td>[0, 0, 0, 0, 0, 0, 0, 0, 0, 0, 0, 0, 0, 0, 0, ...</td>\n",
       "    </tr>\n",
       "  </tbody>\n",
       "</table>\n",
       "<p>13684 rows × 8 columns</p>\n",
       "</div>"
      ],
      "text/plain": [
       "                                      title  \\\n",
       "0                         [45, 4, 141, 903]   \n",
       "1                                    [2828]   \n",
       "2                                     [209]   \n",
       "3           [1210, 40, 114, 1989, 18, 2321]   \n",
       "4                               [259, 1210]   \n",
       "...                                     ...   \n",
       "17067                    [151, 18, 2, 5178]   \n",
       "17068                                    []   \n",
       "17070                             [15, 114]   \n",
       "17071                       [15, 25, 1, 13]   \n",
       "17073  [7, 283, 1626, 26, 1173, 24, 224, 7]   \n",
       "\n",
       "                                                  author  year  \\\n",
       "0      [1, 0, 0, 0, 0, 0, 0, 0, 0, 0, 0, 0, 0, 0, 0, ...  2002   \n",
       "1      [0, 1, 0, 0, 0, 0, 0, 0, 0, 0, 0, 0, 0, 0, 0, ...  2002   \n",
       "2      [0, 0, 1, 0, 0, 0, 0, 0, 0, 0, 0, 0, 0, 0, 0, ...  2002   \n",
       "3      [0, 0, 0, 1, 0, 0, 0, 0, 0, 0, 0, 0, 0, 0, 0, ...  2002   \n",
       "4      [0, 0, 0, 0, 1, 0, 0, 0, 0, 0, 0, 0, 0, 0, 0, ...  2002   \n",
       "...                                                  ...   ...   \n",
       "17067  [0, 0, 0, 0, 0, 0, 0, 0, 0, 0, 0, 0, 0, 0, 0, ...  1990   \n",
       "17068  [0, 0, 0, 0, 0, 0, 0, 0, 0, 0, 0, 0, 0, 0, 0, ...  1990   \n",
       "17070  [0, 0, 0, 0, 0, 0, 0, 0, 0, 0, 0, 0, 0, 0, 0, ...  1990   \n",
       "17071  [0, 0, 0, 0, 0, 0, 0, 0, 0, 0, 0, 0, 0, 0, 0, ...  2005   \n",
       "17073  [0, 0, 0, 0, 0, 0, 0, 0, 0, 0, 0, 0, 0, 0, 0, ...  1990   \n",
       "\n",
       "                                                    text  \\\n",
       "0      [2, 2334, 1097, 5, 2334, 298, 9780, 1002, 412,...   \n",
       "1      [1, 95, 106, 4385, 3, 144, 291, 33, 1426, 8803...   \n",
       "2      [106, 20, 719, 21, 1474, 329, 240, 159, 421, 2...   \n",
       "3      [329, 303, 17, 70, 8, 1, 8, 1, 43, 1345, 1, 20...   \n",
       "4      [9, 649, 76, 140, 544, 206, 679, 179, 107, 44,...   \n",
       "...                                                  ...   \n",
       "17067  [1, 395, 2499, 331, 545, 8944, 28, 2573, 93, 8...   \n",
       "17068  [2, 597, 152, 153, 200, 277, 167, 4114, 3080, ...   \n",
       "17070  [114, 17, 70, 125, 628, 2, 797, 1, 99, 1133, 1...   \n",
       "17071  [15, 1, 13, 37, 36, 15, 1, 311, 174, 544, 38, ...   \n",
       "17073  [6340, 6987, 1926, 791, 1613, 1018, 7647, 1792...   \n",
       "\n",
       "                                                  themes  \\\n",
       "0      [0, 0, 0, 0, 0, 0, 1, 0, 0, 0, 0, 0, 0, 0, 0, ...   \n",
       "1      [0, 0, 0, 0, 0, 0, 0, 0, 0, 0, 0, 0, 0, 0, 0, ...   \n",
       "2      [0, 0, 0, 0, 0, 0, 0, 0, 0, 0, 0, 0, 0, 0, 0, ...   \n",
       "3      [0, 0, 0, 0, 0, 0, 0, 0, 0, 0, 0, 0, 0, 0, 0, ...   \n",
       "4      [0, 0, 0, 0, 0, 0, 0, 0, 0, 0, 0, 0, 0, 0, 0, ...   \n",
       "...                                                  ...   \n",
       "17067  [0, 0, 0, 0, 0, 0, 0, 1, 0, 0, 1, 0, 0, 0, 0, ...   \n",
       "17068  [0, 0, 0, 0, 0, 0, 0, 0, 1, 0, 0, 0, 1, 0, 0, ...   \n",
       "17070  [0, 0, 0, 0, 0, 0, 0, 0, 0, 0, 0, 0, 0, 0, 0, ...   \n",
       "17071  [0, 0, 0, 0, 0, 0, 0, 0, 0, 0, 0, 0, 0, 0, 0, ...   \n",
       "17073  [0, 0, 0, 0, 0, 0, 0, 0, 0, 0, 0, 0, 0, 0, 0, ...   \n",
       "\n",
       "                                             joined_text  \\\n",
       "0      [2, 2334, 1097, 5, 2334, 298, 9780, 1002, 412,...   \n",
       "1      [1, 95, 106, 4385, 3, 144, 291, 33, 1426, 8803...   \n",
       "2      [106, 20, 719, 21, 1474, 329, 240, 159, 421, 2...   \n",
       "3      [329, 303, 17, 70, 8, 1, 8, 1, 43, 1345, 1, 20...   \n",
       "4      [9, 649, 76, 140, 544, 206, 679, 179, 107, 44,...   \n",
       "...                                                  ...   \n",
       "17067  [1, 395, 2499, 331, 545, 8944, 28, 2573, 93, 8...   \n",
       "17068  [2, 597, 152, 153, 200, 277, 167, 4114, 3080, ...   \n",
       "17070  [114, 17, 70, 125, 628, 2, 797, 1, 99, 1133, 1...   \n",
       "17071  [15, 1, 13, 37, 36, 15, 1, 311, 174, 544, 38, ...   \n",
       "17073  [6340, 6987, 1926, 791, 1613, 1018, 7647, 1792...   \n",
       "\n",
       "                                                      X2  \\\n",
       "0      [1, 0, 0, 0, 0, 0, 0, 0, 0, 0, 0, 0, 0, 0, 0, ...   \n",
       "1      [0, 1, 0, 0, 0, 0, 0, 0, 0, 0, 0, 0, 0, 0, 0, ...   \n",
       "2      [0, 0, 1, 0, 0, 0, 0, 0, 0, 0, 0, 0, 0, 0, 0, ...   \n",
       "3      [0, 0, 0, 1, 0, 0, 0, 0, 0, 0, 0, 0, 0, 0, 0, ...   \n",
       "4      [0, 0, 0, 0, 1, 0, 0, 0, 0, 0, 0, 0, 0, 0, 0, ...   \n",
       "...                                                  ...   \n",
       "17067  [0, 0, 0, 0, 0, 0, 0, 0, 0, 0, 0, 0, 0, 0, 0, ...   \n",
       "17068  [0, 0, 0, 0, 0, 0, 0, 0, 0, 0, 0, 0, 0, 0, 0, ...   \n",
       "17070  [0, 0, 0, 0, 0, 0, 0, 0, 0, 0, 0, 0, 0, 0, 0, ...   \n",
       "17071  [0, 0, 0, 0, 0, 0, 0, 0, 0, 0, 0, 0, 0, 0, 0, ...   \n",
       "17073  [0, 0, 0, 0, 0, 0, 0, 0, 0, 0, 0, 0, 0, 0, 0, ...   \n",
       "\n",
       "                                           years_encoded  \n",
       "0      [1, 0, 0, 0, 0, 0, 0, 0, 0, 0, 0, 0, 0, 0, 0, ...  \n",
       "1      [1, 0, 0, 0, 0, 0, 0, 0, 0, 0, 0, 0, 0, 0, 0, ...  \n",
       "2      [1, 0, 0, 0, 0, 0, 0, 0, 0, 0, 0, 0, 0, 0, 0, ...  \n",
       "3      [1, 0, 0, 0, 0, 0, 0, 0, 0, 0, 0, 0, 0, 0, 0, ...  \n",
       "4      [1, 0, 0, 0, 0, 0, 0, 0, 0, 0, 0, 0, 0, 0, 0, ...  \n",
       "...                                                  ...  \n",
       "17067  [0, 0, 0, 0, 0, 0, 0, 0, 0, 0, 0, 0, 0, 0, 0, ...  \n",
       "17068  [0, 0, 0, 0, 0, 0, 0, 0, 0, 0, 0, 0, 0, 0, 0, ...  \n",
       "17070  [0, 0, 0, 0, 0, 0, 0, 0, 0, 0, 0, 0, 0, 0, 0, ...  \n",
       "17071  [0, 0, 0, 0, 0, 0, 0, 0, 0, 0, 0, 0, 0, 0, 0, ...  \n",
       "17073  [0, 0, 0, 0, 0, 0, 0, 0, 0, 0, 0, 0, 0, 0, 0, ...  \n",
       "\n",
       "[13684 rows x 8 columns]"
      ]
     },
     "execution_count": 23,
     "metadata": {},
     "output_type": "execute_result"
    }
   ],
   "source": [
    "df"
   ]
  },
  {
   "cell_type": "code",
   "execution_count": null,
   "metadata": {},
   "outputs": [],
   "source": []
  }
 ],
 "metadata": {
  "kernelspec": {
   "display_name": "Python 3",
   "language": "python",
   "name": "python3"
  },
  "language_info": {
   "codemirror_mode": {
    "name": "ipython",
    "version": 3
   },
   "file_extension": ".py",
   "mimetype": "text/x-python",
   "name": "python",
   "nbconvert_exporter": "python",
   "pygments_lexer": "ipython3",
   "version": "3.6.9"
  }
 },
 "nbformat": 4,
 "nbformat_minor": 2
}
