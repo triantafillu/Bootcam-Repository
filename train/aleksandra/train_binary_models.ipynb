{
  "nbformat": 4,
  "nbformat_minor": 0,
  "metadata": {
    "colab": {
      "name": "train_binary_models.ipynb",
      "provenance": []
    },
    "kernelspec": {
      "name": "python3",
      "display_name": "Python 3"
    },
    "language_info": {
      "name": "python"
    }
  },
  "cells": [
    {
      "cell_type": "code",
      "metadata": {
        "id": "eQBhZnQXBsq9"
      },
      "source": [
        ""
      ],
      "execution_count": null,
      "outputs": []
    },
    {
      "cell_type": "code",
      "metadata": {
        "colab": {
          "base_uri": "https://localhost:8080/"
        },
        "id": "V2d4Fc5R5Lgb",
        "outputId": "faaae1d3-c5b8-4cbb-98e5-ec12e1dfa8b1"
      },
      "source": [
        "import pandas as pd\n",
        "import spacy\n",
        "import ast\n",
        "from sklearn.preprocessing import MultiLabelBinarizer\n",
        "from sklearn.model_selection import train_test_split\n",
        "from spacy.lang.en.stop_words import STOP_WORDS\n",
        "from nltk.tokenize import RegexpTokenizer\n",
        "from nltk.corpus import stopwords\n",
        "from tensorflow.keras.preprocessing.text import Tokenizer\n",
        "from tensorflow.keras.preprocessing.sequence import pad_sequences\n",
        "from sklearn.preprocessing import LabelEncoder\n",
        "import nltk\n",
        "nltk.download('wordnet')\n",
        "from nltk.stem import WordNetLemmatizer\n",
        "nltk.download('stopwords')\n",
        "from google.colab import files\n",
        "from sklearn import model_selection\n",
        "from tensorflow import keras\n",
        "from tensorflow.keras import layers, models\n",
        "import numpy as np\n",
        "from tensorflow.keras.models import Sequential\n",
        "from tensorflow.keras.layers import Dense\n",
        "from keras.layers import Flatten\n",
        "from keras.layers.embeddings import Embedding\n",
        "from tensorflow.keras.layers import BatchNormalization,SpatialDropout1D\n",
        "from tensorflow.keras.metrics import FalsePositives, TruePositives, TrueNegatives, FalseNegatives"
      ],
      "execution_count": null,
      "outputs": [
        {
          "output_type": "stream",
          "text": [
            "[nltk_data] Downloading package wordnet to /root/nltk_data...\n",
            "[nltk_data]   Unzipping corpora/wordnet.zip.\n",
            "[nltk_data] Downloading package stopwords to /root/nltk_data...\n",
            "[nltk_data]   Unzipping corpora/stopwords.zip.\n"
          ],
          "name": "stdout"
        }
      ]
    },
    {
      "cell_type": "code",
      "metadata": {
        "colab": {
          "base_uri": "https://localhost:8080/",
          "height": 195
        },
        "id": "i6tRaJsHVWZ9",
        "outputId": "6acc79e4-d4e7-4f1b-a998-7afa3cf50265"
      },
      "source": [
        "df = pd.read_json('https://raw.githubusercontent.com/triantafillu/Bootcamp-Repository-Language-2/main/data/ne_data.json')\n",
        "df.head()"
      ],
      "execution_count": null,
      "outputs": [
        {
          "output_type": "execute_result",
          "data": {
            "text/html": [
              "<div>\n",
              "<style scoped>\n",
              "    .dataframe tbody tr th:only-of-type {\n",
              "        vertical-align: middle;\n",
              "    }\n",
              "\n",
              "    .dataframe tbody tr th {\n",
              "        vertical-align: top;\n",
              "    }\n",
              "\n",
              "    .dataframe thead th {\n",
              "        text-align: right;\n",
              "    }\n",
              "</style>\n",
              "<table border=\"1\" class=\"dataframe\">\n",
              "  <thead>\n",
              "    <tr style=\"text-align: right;\">\n",
              "      <th></th>\n",
              "      <th>title</th>\n",
              "      <th>author</th>\n",
              "      <th>year</th>\n",
              "      <th>text</th>\n",
              "      <th>themes</th>\n",
              "    </tr>\n",
              "  </thead>\n",
              "  <tbody>\n",
              "    <tr>\n",
              "      <th>0</th>\n",
              "      <td>Body and Soul II</td>\n",
              "      <td>Charles Wright</td>\n",
              "      <td>2002</td>\n",
              "      <td>(for Coleman Hawkins)\\nThe structure of landsc...</td>\n",
              "      <td>[audio &amp; music]</td>\n",
              "    </tr>\n",
              "    <tr>\n",
              "      <th>1</th>\n",
              "      <td>Novel</td>\n",
              "      <td>Arthur Rimbaud</td>\n",
              "      <td>2002</td>\n",
              "      <td>I.\\n\\nNo one's serious at seventeen.\\n—On beau...</td>\n",
              "      <td>[lgbtq]</td>\n",
              "    </tr>\n",
              "    <tr>\n",
              "      <th>2</th>\n",
              "      <td>Flying</td>\n",
              "      <td>Sarah Arvio</td>\n",
              "      <td>2002</td>\n",
              "      <td>One said to me tonight or was it day \\nor was ...</td>\n",
              "      <td>[dreams]</td>\n",
              "    </tr>\n",
              "    <tr>\n",
              "      <th>3</th>\n",
              "      <td>Photograph of People Dancing in France</td>\n",
              "      <td>Leslie Adrienne Miller</td>\n",
              "      <td>2002</td>\n",
              "      <td>It's true that you don't know them--nor do I \\...</td>\n",
              "      <td>[arts &amp; sciences]</td>\n",
              "    </tr>\n",
              "    <tr>\n",
              "      <th>4</th>\n",
              "      <td>War Photograph</td>\n",
              "      <td>Kate Daniels</td>\n",
              "      <td>2002</td>\n",
              "      <td>A naked child is running\\nalong the path towar...</td>\n",
              "      <td>[violence, arts &amp; sciences, war]</td>\n",
              "    </tr>\n",
              "  </tbody>\n",
              "</table>\n",
              "</div>"
            ],
            "text/plain": [
              "                                    title  ...                            themes\n",
              "0                        Body and Soul II  ...                   [audio & music]\n",
              "1                                   Novel  ...                           [lgbtq]\n",
              "2                                  Flying  ...                          [dreams]\n",
              "3  Photograph of People Dancing in France  ...                 [arts & sciences]\n",
              "4                          War Photograph  ...  [violence, arts & sciences, war]\n",
              "\n",
              "[5 rows x 5 columns]"
            ]
          },
          "metadata": {
            "tags": []
          },
          "execution_count": 3
        }
      ]
    },
    {
      "cell_type": "code",
      "metadata": {
        "id": "bboSsn6wKiID"
      },
      "source": [
        "df = df.dropna()"
      ],
      "execution_count": null,
      "outputs": []
    },
    {
      "cell_type": "code",
      "metadata": {
        "colab": {
          "base_uri": "https://localhost:8080/",
          "height": 195
        },
        "id": "ocRIWkvfhdHM",
        "outputId": "1418e211-ae5f-4e93-be4d-4b2bb94d7d0b"
      },
      "source": [
        "# Combine text and title\n",
        "df['full_text'] = df.apply(lambda row: row.title + \" \" + row.text, axis = 1)\n",
        "df.head()"
      ],
      "execution_count": null,
      "outputs": [
        {
          "output_type": "execute_result",
          "data": {
            "text/html": [
              "<div>\n",
              "<style scoped>\n",
              "    .dataframe tbody tr th:only-of-type {\n",
              "        vertical-align: middle;\n",
              "    }\n",
              "\n",
              "    .dataframe tbody tr th {\n",
              "        vertical-align: top;\n",
              "    }\n",
              "\n",
              "    .dataframe thead th {\n",
              "        text-align: right;\n",
              "    }\n",
              "</style>\n",
              "<table border=\"1\" class=\"dataframe\">\n",
              "  <thead>\n",
              "    <tr style=\"text-align: right;\">\n",
              "      <th></th>\n",
              "      <th>title</th>\n",
              "      <th>author</th>\n",
              "      <th>year</th>\n",
              "      <th>text</th>\n",
              "      <th>themes</th>\n",
              "      <th>full_text</th>\n",
              "    </tr>\n",
              "  </thead>\n",
              "  <tbody>\n",
              "    <tr>\n",
              "      <th>0</th>\n",
              "      <td>Body and Soul II</td>\n",
              "      <td>Charles Wright</td>\n",
              "      <td>2002</td>\n",
              "      <td>(for Coleman Hawkins)\\nThe structure of landsc...</td>\n",
              "      <td>[audio &amp; music]</td>\n",
              "      <td>Body and Soul II (for Coleman Hawkins)\\nThe st...</td>\n",
              "    </tr>\n",
              "    <tr>\n",
              "      <th>1</th>\n",
              "      <td>Novel</td>\n",
              "      <td>Arthur Rimbaud</td>\n",
              "      <td>2002</td>\n",
              "      <td>I.\\n\\nNo one's serious at seventeen.\\n—On beau...</td>\n",
              "      <td>[lgbtq]</td>\n",
              "      <td>Novel I.\\n\\nNo one's serious at seventeen.\\n—O...</td>\n",
              "    </tr>\n",
              "    <tr>\n",
              "      <th>2</th>\n",
              "      <td>Flying</td>\n",
              "      <td>Sarah Arvio</td>\n",
              "      <td>2002</td>\n",
              "      <td>One said to me tonight or was it day \\nor was ...</td>\n",
              "      <td>[dreams]</td>\n",
              "      <td>Flying One said to me tonight or was it day \\n...</td>\n",
              "    </tr>\n",
              "    <tr>\n",
              "      <th>3</th>\n",
              "      <td>Photograph of People Dancing in France</td>\n",
              "      <td>Leslie Adrienne Miller</td>\n",
              "      <td>2002</td>\n",
              "      <td>It's true that you don't know them--nor do I \\...</td>\n",
              "      <td>[arts &amp; sciences]</td>\n",
              "      <td>Photograph of People Dancing in France It's tr...</td>\n",
              "    </tr>\n",
              "    <tr>\n",
              "      <th>4</th>\n",
              "      <td>War Photograph</td>\n",
              "      <td>Kate Daniels</td>\n",
              "      <td>2002</td>\n",
              "      <td>A naked child is running\\nalong the path towar...</td>\n",
              "      <td>[violence, arts &amp; sciences, war]</td>\n",
              "      <td>War Photograph A naked child is running\\nalong...</td>\n",
              "    </tr>\n",
              "  </tbody>\n",
              "</table>\n",
              "</div>"
            ],
            "text/plain": [
              "                                    title  ...                                          full_text\n",
              "0                        Body and Soul II  ...  Body and Soul II (for Coleman Hawkins)\\nThe st...\n",
              "1                                   Novel  ...  Novel I.\\n\\nNo one's serious at seventeen.\\n—O...\n",
              "2                                  Flying  ...  Flying One said to me tonight or was it day \\n...\n",
              "3  Photograph of People Dancing in France  ...  Photograph of People Dancing in France It's tr...\n",
              "4                          War Photograph  ...  War Photograph A naked child is running\\nalong...\n",
              "\n",
              "[5 rows x 6 columns]"
            ]
          },
          "metadata": {
            "tags": []
          },
          "execution_count": 6
        }
      ]
    },
    {
      "cell_type": "code",
      "metadata": {
        "colab": {
          "base_uri": "https://localhost:8080/",
          "height": 195
        },
        "id": "hzSIPd9zJQOi",
        "outputId": "6cc5d5ae-bca2-4b4e-db50-950e52d2cb6c"
      },
      "source": [
        "# Encode author column\n",
        "labelencoder = LabelEncoder()\n",
        "df['author'] = labelencoder.fit_transform(df['author'])\n",
        "df.head()"
      ],
      "execution_count": null,
      "outputs": [
        {
          "output_type": "execute_result",
          "data": {
            "text/html": [
              "<div>\n",
              "<style scoped>\n",
              "    .dataframe tbody tr th:only-of-type {\n",
              "        vertical-align: middle;\n",
              "    }\n",
              "\n",
              "    .dataframe tbody tr th {\n",
              "        vertical-align: top;\n",
              "    }\n",
              "\n",
              "    .dataframe thead th {\n",
              "        text-align: right;\n",
              "    }\n",
              "</style>\n",
              "<table border=\"1\" class=\"dataframe\">\n",
              "  <thead>\n",
              "    <tr style=\"text-align: right;\">\n",
              "      <th></th>\n",
              "      <th>title</th>\n",
              "      <th>author</th>\n",
              "      <th>year</th>\n",
              "      <th>text</th>\n",
              "      <th>themes</th>\n",
              "      <th>full_text</th>\n",
              "    </tr>\n",
              "  </thead>\n",
              "  <tbody>\n",
              "    <tr>\n",
              "      <th>0</th>\n",
              "      <td>Body and Soul II</td>\n",
              "      <td>593</td>\n",
              "      <td>2002</td>\n",
              "      <td>(for Coleman Hawkins)\\nThe structure of landsc...</td>\n",
              "      <td>[audio &amp; music]</td>\n",
              "      <td>Body and Soul II (for Coleman Hawkins)\\nThe st...</td>\n",
              "    </tr>\n",
              "    <tr>\n",
              "      <th>1</th>\n",
              "      <td>Novel</td>\n",
              "      <td>305</td>\n",
              "      <td>2002</td>\n",
              "      <td>I.\\n\\nNo one's serious at seventeen.\\n—On beau...</td>\n",
              "      <td>[lgbtq]</td>\n",
              "      <td>Novel I.\\n\\nNo one's serious at seventeen.\\n—O...</td>\n",
              "    </tr>\n",
              "    <tr>\n",
              "      <th>2</th>\n",
              "      <td>Flying</td>\n",
              "      <td>3416</td>\n",
              "      <td>2002</td>\n",
              "      <td>One said to me tonight or was it day \\nor was ...</td>\n",
              "      <td>[dreams]</td>\n",
              "      <td>Flying One said to me tonight or was it day \\n...</td>\n",
              "    </tr>\n",
              "    <tr>\n",
              "      <th>3</th>\n",
              "      <td>Photograph of People Dancing in France</td>\n",
              "      <td>2315</td>\n",
              "      <td>2002</td>\n",
              "      <td>It's true that you don't know them--nor do I \\...</td>\n",
              "      <td>[arts &amp; sciences]</td>\n",
              "      <td>Photograph of People Dancing in France It's tr...</td>\n",
              "    </tr>\n",
              "    <tr>\n",
              "      <th>4</th>\n",
              "      <td>War Photograph</td>\n",
              "      <td>2082</td>\n",
              "      <td>2002</td>\n",
              "      <td>A naked child is running\\nalong the path towar...</td>\n",
              "      <td>[violence, arts &amp; sciences, war]</td>\n",
              "      <td>War Photograph A naked child is running\\nalong...</td>\n",
              "    </tr>\n",
              "  </tbody>\n",
              "</table>\n",
              "</div>"
            ],
            "text/plain": [
              "                                    title  ...                                          full_text\n",
              "0                        Body and Soul II  ...  Body and Soul II (for Coleman Hawkins)\\nThe st...\n",
              "1                                   Novel  ...  Novel I.\\n\\nNo one's serious at seventeen.\\n—O...\n",
              "2                                  Flying  ...  Flying One said to me tonight or was it day \\n...\n",
              "3  Photograph of People Dancing in France  ...  Photograph of People Dancing in France It's tr...\n",
              "4                          War Photograph  ...  War Photograph A naked child is running\\nalong...\n",
              "\n",
              "[5 rows x 6 columns]"
            ]
          },
          "metadata": {
            "tags": []
          },
          "execution_count": 8
        }
      ]
    },
    {
      "cell_type": "code",
      "metadata": {
        "id": "dE4uLZN-ZFMr"
      },
      "source": [
        "# Decontract words \n",
        "def full_form(word):\n",
        "    if word == \"nt\": word = 'not'\n",
        "    if word == \"re\": word = 'be'\n",
        "    if word == \"d\": word = 'would'\n",
        "    if word == \"m\": word = 'am'\n",
        "    if word == \"s\": word = 'be'\n",
        "    if word == \"ve\": word = 'have'\n",
        "    return word\n",
        "\n",
        "# Preprocess text\n",
        "def preprocessing(text):\n",
        "  tokenizer = RegexpTokenizer(r'\\w+')\n",
        "  text = tokenizer.tokenize(text)\n",
        "  stop_words = set(stopwords.words('english'))\n",
        "  cleaned_text = []\n",
        "  for word in text:\n",
        "    if word not in stop_words:\n",
        "      cleaned_text.append(word)\n",
        "  wnl = WordNetLemmatizer()\n",
        "  text = [wnl.lemmatize(token) for token in cleaned_text]\n",
        "  text = [full_form(w).lower() for w in text]\n",
        "\n",
        "  return text\n",
        "  "
      ],
      "execution_count": null,
      "outputs": []
    },
    {
      "cell_type": "code",
      "metadata": {
        "colab": {
          "base_uri": "https://localhost:8080/"
        },
        "id": "z_lNwsBlNTx2",
        "outputId": "204e0e13-d553-4041-ac4e-d45839103cf1"
      },
      "source": [
        "# Apply preprocessing\n",
        "df['full_text'] = df['full_text'].apply(preprocessing)\n",
        "df['full_text']"
      ],
      "execution_count": null,
      "outputs": [
        {
          "output_type": "execute_result",
          "data": {
            "text/plain": [
              "0        [body, soul, ii, coleman, hawkins, the, struct...\n",
              "1        [novel, i, no, one, serious, seventeen, on, be...\n",
              "2        [flying, one, said, tonight, day, passage, two...\n",
              "3        [photograph, people, dancing, france, it, true...\n",
              "4        [war, photograph, a, naked, child, running, al...\n",
              "                               ...                        \n",
              "17069    [you, can, buy, shoes, painting, you, even, bu...\n",
              "17070    [you, people, people, ask, shoe, the, valley, ...\n",
              "17071    [you, that, i, loved, you, i, loved, life, lon...\n",
              "17072    [your, clothes, of, course, empty, shell, with...\n",
              "17073    [your, luck, is, about, to, change, ominous, i...\n",
              "Name: full_text, Length: 16583, dtype: object"
            ]
          },
          "metadata": {
            "tags": []
          },
          "execution_count": 10
        }
      ]
    },
    {
      "cell_type": "code",
      "metadata": {
        "id": "3Q_62x1WSQ0H"
      },
      "source": [
        "# Delete text which are too short\n",
        "texts_len = df['full_text'].apply(len)\n",
        "df.drop(df[texts_len<50].index, inplace=True)"
      ],
      "execution_count": null,
      "outputs": []
    },
    {
      "cell_type": "code",
      "metadata": {
        "colab": {
          "base_uri": "https://localhost:8080/"
        },
        "id": "yFmsc9K1Q9L-",
        "outputId": "3ac31ef3-4400-4850-b039-800d7d02b600"
      },
      "source": [
        "tokenizer = Tokenizer(num_words=3000)\n",
        "tokenizer.fit_on_texts(df['full_text'])\n",
        "\n",
        "# Encode training data sentences into sequences\n",
        "df['full_text'] = tokenizer.texts_to_sequences(df['full_text'])\n",
        "\n",
        "df['full_text']"
      ],
      "execution_count": null,
      "outputs": [
        {
          "output_type": "execute_result",
          "data": {
            "text/plain": [
              "0        [43, 145, 875, 2, 2648, 1155, 4, 2648, 303, 11...\n",
              "1        [1, 101, 5, 1350, 147, 310, 21, 1545, 3, 719, ...\n",
              "2        [980, 5, 42, 964, 8, 1595, 70, 15, 256, 225, 1...\n",
              "3        [1472, 117, 1083, 2539, 15, 313, 13, 1, 13, 1,...\n",
              "4        [266, 1472, 6, 705, 68, 699, 236, 587, 298, 7,...\n",
              "                               ...                        \n",
              "17068    [2, 646, 126, 1380, 195, 296, 314, 20, 424, 24...\n",
              "17069    [28, 606, 1016, 996, 28, 55, 1016, 28, 19, 36,...\n",
              "17070    [28, 117, 117, 340, 684, 2, 844, 1, 625, 1072,...\n",
              "17071    [28, 32, 1, 376, 28, 1, 376, 23, 41, 5, 28, 1,...\n",
              "17073    [302, 1734, 203, 1217, 16, 375, 1991, 847, 116...\n",
              "Name: full_text, Length: 14176, dtype: object"
            ]
          },
          "metadata": {
            "tags": []
          },
          "execution_count": 12
        }
      ]
    },
    {
      "cell_type": "code",
      "metadata": {
        "colab": {
          "base_uri": "https://localhost:8080/"
        },
        "id": "RYqd1nsMUlde",
        "outputId": "60e18dca-55e0-400a-98cb-51485adfd9bc"
      },
      "source": [
        "# Get max training sequence length\n",
        "maxlen = 150 #max([len(x) for x in df['full_text']])\n",
        "\n",
        "# Pad the training sequences\n",
        "padded = pad_sequences(df['full_text'], padding='post', truncating='post', maxlen=maxlen)\n",
        "\n",
        "padded"
      ],
      "execution_count": null,
      "outputs": [
        {
          "output_type": "execute_result",
          "data": {
            "text/plain": [
              "array([[  43,  145,  875, ...,   44, 1356, 1577],\n",
              "       [   1,  101,    5, ...,    0,    0,    0],\n",
              "       [ 980,    5,   42, ...,    0,    0,    0],\n",
              "       ...,\n",
              "       [  28,  117,  117, ...,  169, 1221,  498],\n",
              "       [  28,   32,    1, ...,    0,    0,    0],\n",
              "       [ 302, 1734,  203, ...,    0,    0,    0]], dtype=int32)"
            ]
          },
          "metadata": {
            "tags": []
          },
          "execution_count": 13
        }
      ]
    },
    {
      "cell_type": "code",
      "metadata": {
        "colab": {
          "base_uri": "https://localhost:8080/"
        },
        "id": "L5Ba-k2OVBrS",
        "outputId": "3d3e6815-6378-402c-a024-96edca5503fa"
      },
      "source": [
        "df['full_text'] = [x for x in padded]\n",
        "\n",
        "df['full_text']"
      ],
      "execution_count": null,
      "outputs": [
        {
          "output_type": "execute_result",
          "data": {
            "text/plain": [
              "0        [43, 145, 875, 2, 2648, 1155, 4, 2648, 303, 11...\n",
              "1        [1, 101, 5, 1350, 147, 310, 21, 1545, 3, 719, ...\n",
              "2        [980, 5, 42, 964, 8, 1595, 70, 15, 256, 225, 1...\n",
              "3        [1472, 117, 1083, 2539, 15, 313, 13, 1, 13, 1,...\n",
              "4        [266, 1472, 6, 705, 68, 699, 236, 587, 298, 7,...\n",
              "                               ...                        \n",
              "17068    [2, 646, 126, 1380, 195, 296, 314, 20, 424, 24...\n",
              "17069    [28, 606, 1016, 996, 28, 55, 1016, 28, 19, 36,...\n",
              "17070    [28, 117, 117, 340, 684, 2, 844, 1, 625, 1072,...\n",
              "17071    [28, 32, 1, 376, 28, 1, 376, 23, 41, 5, 28, 1,...\n",
              "17073    [302, 1734, 203, 1217, 16, 375, 1991, 847, 116...\n",
              "Name: full_text, Length: 14176, dtype: object"
            ]
          },
          "metadata": {
            "tags": []
          },
          "execution_count": 14
        }
      ]
    },
    {
      "cell_type": "code",
      "metadata": {
        "id": "qW3KUi1FfSr9"
      },
      "source": [
        "themes = ['nature', 'family', 'love', 'body', 'animals']"
      ],
      "execution_count": null,
      "outputs": []
    },
    {
      "cell_type": "code",
      "metadata": {
        "id": "54SQI4y2Jhws"
      },
      "source": [
        "# Label the topic column\n",
        "def label_themes(theme, row):\n",
        "   if theme in row['themes']:\n",
        "      return 1\n",
        "   else: \n",
        "     return 0"
      ],
      "execution_count": null,
      "outputs": []
    },
    {
      "cell_type": "code",
      "metadata": {
        "id": "YwIS8HH2tPZD"
      },
      "source": [
        "def model(X,Y,label):\n",
        "  X_train, X_test, Y_train, Y_test = model_selection.train_test_split(X, Y, test_size=0.1, random_state=37)\n",
        "  embedding_dim = 8\n",
        "  max_features = 5001 \n",
        "  max_len = 150  \n",
        "\n",
        "  model1 = keras.models.Sequential([\n",
        "    keras.layers.Embedding(input_dim=max_features,\n",
        "                          output_dim=embedding_dim,\n",
        "                          input_length=max_len),\n",
        "    keras.layers.SpatialDropout1D(0.5),\n",
        "    keras.layers.Flatten(),\n",
        "    keras.layers.Dense(4, activation='relu'),\n",
        "    keras.layers.Dropout(0.5),\n",
        "    keras.layers.Dense(1, activation='sigmoid')\n",
        "  ])\n",
        "\n",
        "  model1.compile(optimizer='adam',\n",
        "                loss='binary_crossentropy',\n",
        "                metrics=['accuracy', 'AUC'])\n",
        "\n",
        "  epochs = 10\n",
        "  model1.fit(np.array(X_train), np.array(Y_train),\n",
        "            batch_size=128,\n",
        "            validation_data=(np.array(X_test),np.array(Y_test)),\n",
        "            epochs=epochs)\n",
        "\n",
        "  filename = 'model_' + label+'.h5'\n",
        "\n",
        "  model1.save('/drive/My Drive/Colab Notebooks/baby models/'+filename)\n"
      ],
      "execution_count": null,
      "outputs": []
    },
    {
      "cell_type": "code",
      "metadata": {
        "colab": {
          "base_uri": "https://localhost:8080/"
        },
        "id": "aJVTqIyZXr92",
        "outputId": "a4b7162a-edaa-4cb2-dfa1-17aaf9ea4196"
      },
      "source": [
        "from google.colab import drive\n",
        "drive.mount('/drive')"
      ],
      "execution_count": null,
      "outputs": [
        {
          "output_type": "stream",
          "text": [
            "Drive already mounted at /drive; to attempt to forcibly remount, call drive.mount(\"/drive\", force_remount=True).\n"
          ],
          "name": "stdout"
        }
      ]
    },
    {
      "cell_type": "code",
      "metadata": {
        "colab": {
          "base_uri": "https://localhost:8080/"
        },
        "id": "AjedVge7V6kU",
        "outputId": "446322cb-a677-41de-ef08-9a5e7fad3e28"
      },
      "source": [
        "# Train a model for every theme\n",
        "for theme in themes:\n",
        "  tmp_df = df.copy()\n",
        "  tmp_df['label'] = tmp_df.apply(lambda row: label_themes(theme, row), axis=1)\n",
        "  X = np.array(tmp_df['full_text'].to_list())\n",
        "  Y = np.array(tmp_df['label'].to_list())\n",
        "  model(X,Y,theme)\n",
        "  "
      ],
      "execution_count": null,
      "outputs": [
        {
          "output_type": "stream",
          "text": [
            "Epoch 1/10\n",
            "100/100 [==============================] - 2s 11ms/step - loss: 0.5899 - accuracy: 0.7870 - auc: 0.5028 - val_loss: 0.5090 - val_accuracy: 0.7990 - val_auc: 0.5884\n",
            "Epoch 2/10\n",
            "100/100 [==============================] - 1s 5ms/step - loss: 0.5388 - accuracy: 0.7952 - auc: 0.5431 - val_loss: 0.4856 - val_accuracy: 0.7990 - val_auc: 0.7365\n",
            "Epoch 3/10\n",
            "100/100 [==============================] - 1s 6ms/step - loss: 0.5022 - accuracy: 0.7953 - auc: 0.6365 - val_loss: 0.4496 - val_accuracy: 0.7990 - val_auc: 0.7707\n",
            "Epoch 4/10\n",
            "100/100 [==============================] - 1s 5ms/step - loss: 0.4687 - accuracy: 0.7963 - auc: 0.7089 - val_loss: 0.4330 - val_accuracy: 0.7990 - val_auc: 0.7845\n",
            "Epoch 5/10\n",
            "100/100 [==============================] - 1s 5ms/step - loss: 0.4456 - accuracy: 0.8033 - auc: 0.7535 - val_loss: 0.4154 - val_accuracy: 0.8054 - val_auc: 0.7942\n",
            "Epoch 6/10\n",
            "100/100 [==============================] - 1s 5ms/step - loss: 0.4224 - accuracy: 0.8130 - auc: 0.7862 - val_loss: 0.4124 - val_accuracy: 0.8152 - val_auc: 0.7962\n",
            "Epoch 7/10\n",
            "100/100 [==============================] - 1s 5ms/step - loss: 0.4065 - accuracy: 0.8182 - auc: 0.8050 - val_loss: 0.4081 - val_accuracy: 0.8152 - val_auc: 0.7975\n",
            "Epoch 8/10\n",
            "100/100 [==============================] - 1s 5ms/step - loss: 0.3882 - accuracy: 0.8240 - auc: 0.8278 - val_loss: 0.4106 - val_accuracy: 0.8124 - val_auc: 0.7937\n",
            "Epoch 9/10\n",
            "100/100 [==============================] - 1s 5ms/step - loss: 0.3732 - accuracy: 0.8302 - auc: 0.8424 - val_loss: 0.4153 - val_accuracy: 0.8145 - val_auc: 0.7853\n",
            "Epoch 10/10\n",
            "100/100 [==============================] - 0s 5ms/step - loss: 0.3577 - accuracy: 0.8361 - auc: 0.8550 - val_loss: 0.4228 - val_accuracy: 0.8159 - val_auc: 0.7828\n",
            "Epoch 1/10\n",
            "100/100 [==============================] - 2s 8ms/step - loss: 0.5541 - accuracy: 0.8296 - auc: 0.5329 - val_loss: 0.4661 - val_accuracy: 0.8244 - val_auc: 0.5929\n",
            "Epoch 2/10\n",
            "100/100 [==============================] - 1s 5ms/step - loss: 0.4916 - accuracy: 0.8376 - auc: 0.5505 - val_loss: 0.4526 - val_accuracy: 0.8244 - val_auc: 0.6898\n",
            "Epoch 3/10\n",
            "100/100 [==============================] - 0s 5ms/step - loss: 0.4703 - accuracy: 0.8375 - auc: 0.5874 - val_loss: 0.4287 - val_accuracy: 0.8251 - val_auc: 0.7749\n",
            "Epoch 4/10\n",
            "100/100 [==============================] - 1s 5ms/step - loss: 0.4366 - accuracy: 0.8388 - auc: 0.6660 - val_loss: 0.3994 - val_accuracy: 0.8279 - val_auc: 0.7938\n",
            "Epoch 5/10\n",
            "100/100 [==============================] - 0s 5ms/step - loss: 0.4086 - accuracy: 0.8453 - auc: 0.7297 - val_loss: 0.3831 - val_accuracy: 0.8385 - val_auc: 0.7999\n",
            "Epoch 6/10\n",
            "100/100 [==============================] - 1s 5ms/step - loss: 0.3867 - accuracy: 0.8530 - auc: 0.7686 - val_loss: 0.3785 - val_accuracy: 0.8392 - val_auc: 0.7995\n",
            "Epoch 7/10\n",
            "100/100 [==============================] - 1s 5ms/step - loss: 0.3646 - accuracy: 0.8592 - auc: 0.8002 - val_loss: 0.3770 - val_accuracy: 0.8413 - val_auc: 0.7963\n",
            "Epoch 8/10\n",
            "100/100 [==============================] - 1s 5ms/step - loss: 0.3456 - accuracy: 0.8619 - auc: 0.8233 - val_loss: 0.3792 - val_accuracy: 0.8385 - val_auc: 0.7906\n",
            "Epoch 9/10\n",
            "100/100 [==============================] - 0s 5ms/step - loss: 0.3352 - accuracy: 0.8640 - auc: 0.8393 - val_loss: 0.3825 - val_accuracy: 0.8392 - val_auc: 0.7849\n",
            "Epoch 10/10\n",
            "100/100 [==============================] - 0s 5ms/step - loss: 0.3152 - accuracy: 0.8711 - auc: 0.8599 - val_loss: 0.3970 - val_accuracy: 0.8392 - val_auc: 0.7786\n",
            "Epoch 1/10\n",
            "100/100 [==============================] - 2s 7ms/step - loss: 0.5526 - accuracy: 0.8546 - auc: 0.5095 - val_loss: 0.4172 - val_accuracy: 0.8752 - val_auc: 0.5149\n",
            "Epoch 2/10\n",
            "100/100 [==============================] - 1s 5ms/step - loss: 0.4750 - accuracy: 0.8726 - auc: 0.5182 - val_loss: 0.3888 - val_accuracy: 0.8752 - val_auc: 0.7144\n",
            "Epoch 3/10\n",
            "100/100 [==============================] - 1s 5ms/step - loss: 0.4503 - accuracy: 0.8726 - auc: 0.5541 - val_loss: 0.3749 - val_accuracy: 0.8752 - val_auc: 0.7529\n",
            "Epoch 4/10\n",
            "100/100 [==============================] - 1s 5ms/step - loss: 0.4301 - accuracy: 0.8726 - auc: 0.5908 - val_loss: 0.3529 - val_accuracy: 0.8752 - val_auc: 0.7809\n",
            "Epoch 5/10\n",
            "100/100 [==============================] - 1s 5ms/step - loss: 0.4056 - accuracy: 0.8740 - auc: 0.6441 - val_loss: 0.3368 - val_accuracy: 0.8759 - val_auc: 0.7988\n",
            "Epoch 6/10\n",
            "100/100 [==============================] - 1s 6ms/step - loss: 0.3859 - accuracy: 0.8769 - auc: 0.6923 - val_loss: 0.3246 - val_accuracy: 0.8773 - val_auc: 0.8055\n",
            "Epoch 7/10\n",
            "100/100 [==============================] - 1s 5ms/step - loss: 0.3635 - accuracy: 0.8798 - auc: 0.7359 - val_loss: 0.3100 - val_accuracy: 0.8780 - val_auc: 0.8170\n",
            "Epoch 8/10\n",
            "100/100 [==============================] - 1s 5ms/step - loss: 0.3448 - accuracy: 0.8837 - auc: 0.7723 - val_loss: 0.3055 - val_accuracy: 0.8808 - val_auc: 0.8145\n",
            "Epoch 9/10\n",
            "100/100 [==============================] - 1s 5ms/step - loss: 0.3275 - accuracy: 0.8907 - auc: 0.7996 - val_loss: 0.3012 - val_accuracy: 0.8829 - val_auc: 0.8164\n",
            "Epoch 10/10\n",
            "100/100 [==============================] - 1s 6ms/step - loss: 0.3073 - accuracy: 0.8979 - auc: 0.8281 - val_loss: 0.2995 - val_accuracy: 0.8850 - val_auc: 0.8141\n",
            "Epoch 1/10\n",
            "100/100 [==============================] - 2s 8ms/step - loss: 0.5561 - accuracy: 0.8652 - auc: 0.5237 - val_loss: 0.4066 - val_accuracy: 0.8956 - val_auc: 0.5204\n",
            "Epoch 2/10\n",
            "100/100 [==============================] - 1s 6ms/step - loss: 0.4926 - accuracy: 0.8942 - auc: 0.5169 - val_loss: 0.3892 - val_accuracy: 0.8956 - val_auc: 0.5984\n",
            "Epoch 3/10\n",
            "100/100 [==============================] - 1s 5ms/step - loss: 0.4770 - accuracy: 0.8942 - auc: 0.5228 - val_loss: 0.3775 - val_accuracy: 0.8956 - val_auc: 0.6724\n",
            "Epoch 4/10\n",
            "100/100 [==============================] - 0s 5ms/step - loss: 0.4581 - accuracy: 0.8942 - auc: 0.5395 - val_loss: 0.3712 - val_accuracy: 0.8956 - val_auc: 0.7199\n",
            "Epoch 5/10\n",
            "100/100 [==============================] - 1s 6ms/step - loss: 0.4323 - accuracy: 0.8943 - auc: 0.5737 - val_loss: 0.3535 - val_accuracy: 0.8956 - val_auc: 0.7454\n",
            "Epoch 6/10\n",
            "100/100 [==============================] - 1s 5ms/step - loss: 0.4098 - accuracy: 0.8945 - auc: 0.6117 - val_loss: 0.3350 - val_accuracy: 0.8956 - val_auc: 0.7513\n",
            "Epoch 7/10\n",
            "100/100 [==============================] - 1s 5ms/step - loss: 0.3961 - accuracy: 0.8957 - auc: 0.6404 - val_loss: 0.3370 - val_accuracy: 0.8963 - val_auc: 0.7475\n",
            "Epoch 8/10\n",
            "100/100 [==============================] - 1s 5ms/step - loss: 0.3761 - accuracy: 0.8994 - auc: 0.7055 - val_loss: 0.3235 - val_accuracy: 0.8956 - val_auc: 0.7481\n",
            "Epoch 9/10\n",
            "100/100 [==============================] - 1s 5ms/step - loss: 0.3525 - accuracy: 0.9087 - auc: 0.7509 - val_loss: 0.3188 - val_accuracy: 0.8935 - val_auc: 0.7432\n",
            "Epoch 10/10\n",
            "100/100 [==============================] - 1s 5ms/step - loss: 0.3298 - accuracy: 0.9136 - auc: 0.7931 - val_loss: 0.3147 - val_accuracy: 0.8907 - val_auc: 0.7316\n",
            "Epoch 1/10\n",
            "100/100 [==============================] - 2s 8ms/step - loss: 0.5541 - accuracy: 0.8895 - auc: 0.4930 - val_loss: 0.3737 - val_accuracy: 0.9175 - val_auc: 0.5633\n",
            "Epoch 2/10\n",
            "100/100 [==============================] - 1s 5ms/step - loss: 0.4780 - accuracy: 0.9128 - auc: 0.5089 - val_loss: 0.3488 - val_accuracy: 0.9175 - val_auc: 0.6395\n",
            "Epoch 3/10\n",
            "100/100 [==============================] - 1s 5ms/step - loss: 0.4539 - accuracy: 0.9128 - auc: 0.5254 - val_loss: 0.3403 - val_accuracy: 0.9175 - val_auc: 0.6974\n",
            "Epoch 4/10\n",
            "100/100 [==============================] - 0s 5ms/step - loss: 0.4402 - accuracy: 0.9128 - auc: 0.5261 - val_loss: 0.3340 - val_accuracy: 0.9175 - val_auc: 0.7162\n",
            "Epoch 5/10\n",
            "100/100 [==============================] - 1s 5ms/step - loss: 0.4121 - accuracy: 0.9128 - auc: 0.5648 - val_loss: 0.3222 - val_accuracy: 0.9175 - val_auc: 0.7564\n",
            "Epoch 6/10\n",
            "100/100 [==============================] - 1s 6ms/step - loss: 0.3896 - accuracy: 0.9128 - auc: 0.5919 - val_loss: 0.2948 - val_accuracy: 0.9175 - val_auc: 0.7781\n",
            "Epoch 7/10\n",
            "100/100 [==============================] - 1s 6ms/step - loss: 0.3659 - accuracy: 0.9129 - auc: 0.6441 - val_loss: 0.2851 - val_accuracy: 0.9175 - val_auc: 0.7846\n",
            "Epoch 8/10\n",
            "100/100 [==============================] - 1s 5ms/step - loss: 0.3449 - accuracy: 0.9163 - auc: 0.7239 - val_loss: 0.2699 - val_accuracy: 0.9175 - val_auc: 0.7954\n",
            "Epoch 9/10\n",
            "100/100 [==============================] - 1s 5ms/step - loss: 0.3247 - accuracy: 0.9273 - auc: 0.7764 - val_loss: 0.2624 - val_accuracy: 0.9168 - val_auc: 0.7967\n",
            "Epoch 10/10\n",
            "100/100 [==============================] - 1s 6ms/step - loss: 0.3028 - accuracy: 0.9349 - auc: 0.8201 - val_loss: 0.2539 - val_accuracy: 0.9175 - val_auc: 0.7900\n"
          ],
          "name": "stdout"
        }
      ]
    }
  ]
}