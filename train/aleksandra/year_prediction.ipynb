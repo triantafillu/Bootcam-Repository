{
  "nbformat": 4,
  "nbformat_minor": 0,
  "metadata": {
    "colab": {
      "name": "year_prediction.ipynb",
      "provenance": [],
      "collapsed_sections": []
    },
    "kernelspec": {
      "name": "python3",
      "display_name": "Python 3"
    },
    "language_info": {
      "name": "python"
    }
  },
  "cells": [
    {
      "cell_type": "code",
      "metadata": {
        "id": "V2d4Fc5R5Lgb",
        "colab": {
          "base_uri": "https://localhost:8080/"
        },
        "outputId": "f74851a6-8bc0-40cf-fb6b-12a1fa46c11d"
      },
      "source": [
        "import pandas as pd\n",
        "import spacy\n",
        "import ast\n",
        "from sklearn.preprocessing import MultiLabelBinarizer\n",
        "from sklearn.feature_extraction.text import TfidfVectorizer\n",
        "from sklearn.model_selection import train_test_split\n",
        "from sklearn.linear_model import SGDClassifier\n",
        "from sklearn.linear_model import LogisticRegression\n",
        "from sklearn.svm import LinearSVC\n",
        "from sklearn.multiclass import OneVsRestClassifier\n",
        "from spacy.lang.en.stop_words import STOP_WORDS\n",
        "from nltk.tokenize import RegexpTokenizer\n",
        "from nltk.corpus import stopwords\n",
        "from tensorflow.keras.preprocessing.text import Tokenizer\n",
        "from tensorflow.keras.preprocessing.sequence import pad_sequences\n",
        "from sklearn.preprocessing import LabelEncoder\n",
        "import nltk\n",
        "nltk.download('wordnet')\n",
        "from nltk.stem import WordNetLemmatizer\n",
        "nltk.download('stopwords')\n",
        "from google.colab import files\n",
        "from sklearn import model_selection\n",
        "from tensorflow import keras\n",
        "from tensorflow.keras import layers, models\n",
        "import numpy as np\n",
        "from tensorflow.keras.models import Sequential\n",
        "from tensorflow.keras.layers import Dense\n",
        "from keras.layers import Flatten\n",
        "from keras.layers.embeddings import Embedding\n",
        "from tensorflow.keras.layers import BatchNormalization"
      ],
      "execution_count": 1,
      "outputs": [
        {
          "output_type": "stream",
          "text": [
            "[nltk_data] Downloading package wordnet to /root/nltk_data...\n",
            "[nltk_data]   Unzipping corpora/wordnet.zip.\n",
            "[nltk_data] Downloading package stopwords to /root/nltk_data...\n",
            "[nltk_data]   Unzipping corpora/stopwords.zip.\n"
          ],
          "name": "stdout"
        }
      ]
    },
    {
      "cell_type": "code",
      "metadata": {
        "colab": {
          "base_uri": "https://localhost:8080/",
          "height": 195
        },
        "id": "i6tRaJsHVWZ9",
        "outputId": "cd224fcf-0980-40b1-a90b-851f9728b54e"
      },
      "source": [
        "df = pd.read_json('https://raw.githubusercontent.com/triantafillu/Bootcamp-Repository-Language-2/main/data/ne_data.json')\n",
        "df.head()"
      ],
      "execution_count": 2,
      "outputs": [
        {
          "output_type": "execute_result",
          "data": {
            "text/html": [
              "<div>\n",
              "<style scoped>\n",
              "    .dataframe tbody tr th:only-of-type {\n",
              "        vertical-align: middle;\n",
              "    }\n",
              "\n",
              "    .dataframe tbody tr th {\n",
              "        vertical-align: top;\n",
              "    }\n",
              "\n",
              "    .dataframe thead th {\n",
              "        text-align: right;\n",
              "    }\n",
              "</style>\n",
              "<table border=\"1\" class=\"dataframe\">\n",
              "  <thead>\n",
              "    <tr style=\"text-align: right;\">\n",
              "      <th></th>\n",
              "      <th>title</th>\n",
              "      <th>author</th>\n",
              "      <th>year</th>\n",
              "      <th>text</th>\n",
              "      <th>themes</th>\n",
              "    </tr>\n",
              "  </thead>\n",
              "  <tbody>\n",
              "    <tr>\n",
              "      <th>0</th>\n",
              "      <td>Body and Soul II</td>\n",
              "      <td>Charles Wright</td>\n",
              "      <td>2002</td>\n",
              "      <td>(for Coleman Hawkins)\\nThe structure of landsc...</td>\n",
              "      <td>[audio &amp; music]</td>\n",
              "    </tr>\n",
              "    <tr>\n",
              "      <th>1</th>\n",
              "      <td>Novel</td>\n",
              "      <td>Arthur Rimbaud</td>\n",
              "      <td>2002</td>\n",
              "      <td>I.\\n\\nNo one's serious at seventeen.\\n—On beau...</td>\n",
              "      <td>[lgbtq]</td>\n",
              "    </tr>\n",
              "    <tr>\n",
              "      <th>2</th>\n",
              "      <td>Flying</td>\n",
              "      <td>Sarah Arvio</td>\n",
              "      <td>2002</td>\n",
              "      <td>One said to me tonight or was it day \\nor was ...</td>\n",
              "      <td>[dreams]</td>\n",
              "    </tr>\n",
              "    <tr>\n",
              "      <th>3</th>\n",
              "      <td>Photograph of People Dancing in France</td>\n",
              "      <td>Leslie Adrienne Miller</td>\n",
              "      <td>2002</td>\n",
              "      <td>It's true that you don't know them--nor do I \\...</td>\n",
              "      <td>[arts &amp; sciences]</td>\n",
              "    </tr>\n",
              "    <tr>\n",
              "      <th>4</th>\n",
              "      <td>War Photograph</td>\n",
              "      <td>Kate Daniels</td>\n",
              "      <td>2002</td>\n",
              "      <td>A naked child is running\\nalong the path towar...</td>\n",
              "      <td>[violence, arts &amp; sciences, war]</td>\n",
              "    </tr>\n",
              "  </tbody>\n",
              "</table>\n",
              "</div>"
            ],
            "text/plain": [
              "                                    title  ...                            themes\n",
              "0                        Body and Soul II  ...                   [audio & music]\n",
              "1                                   Novel  ...                           [lgbtq]\n",
              "2                                  Flying  ...                          [dreams]\n",
              "3  Photograph of People Dancing in France  ...                 [arts & sciences]\n",
              "4                          War Photograph  ...  [violence, arts & sciences, war]\n",
              "\n",
              "[5 rows x 5 columns]"
            ]
          },
          "metadata": {
            "tags": []
          },
          "execution_count": 2
        }
      ]
    },
    {
      "cell_type": "markdown",
      "metadata": {
        "id": "TyxjZRT1YouS"
      },
      "source": [
        "# Preprocessing"
      ]
    },
    {
      "cell_type": "code",
      "metadata": {
        "colab": {
          "base_uri": "https://localhost:8080/"
        },
        "id": "YvQQ9vIeJ6BK",
        "outputId": "7be79368-af6e-42b6-bd99-c2d4f4af1be4"
      },
      "source": [
        "df.shape"
      ],
      "execution_count": 3,
      "outputs": [
        {
          "output_type": "execute_result",
          "data": {
            "text/plain": [
              "(16583, 5)"
            ]
          },
          "metadata": {
            "tags": []
          },
          "execution_count": 3
        }
      ]
    },
    {
      "cell_type": "code",
      "metadata": {
        "id": "bboSsn6wKiID"
      },
      "source": [
        "df = df.dropna()"
      ],
      "execution_count": 4,
      "outputs": []
    },
    {
      "cell_type": "code",
      "metadata": {
        "id": "X-mE-vFfWQNN"
      },
      "source": [
        "themes_encoder = MultiLabelBinarizer()\n",
        "y = themes_encoder.fit_transform(df['themes'])\n",
        "df['themes_encoded'] = [x for x in y]"
      ],
      "execution_count": 5,
      "outputs": []
    },
    {
      "cell_type": "code",
      "metadata": {
        "colab": {
          "base_uri": "https://localhost:8080/"
        },
        "id": "PmYjGV8oXN2a",
        "outputId": "f721fa56-bd8d-4f0c-af3b-b44b38cff815"
      },
      "source": [
        "df['themes_encoded'][0]"
      ],
      "execution_count": 6,
      "outputs": [
        {
          "output_type": "execute_result",
          "data": {
            "text/plain": [
              "array([0, 0, 0, 0, 0, 0, 0, 0, 1, 0, 0, 0, 0, 0, 0, 0, 0, 0, 0, 0, 0, 0,\n",
              "       0, 0, 0, 0, 0, 0, 0, 0, 0, 0, 0, 0, 0, 0, 0, 0, 0, 0, 0, 0, 0, 0,\n",
              "       0, 0, 0, 0, 0, 0, 0, 0, 0, 0, 0, 0, 0, 0, 0, 0, 0, 0, 0, 0, 0, 0,\n",
              "       0, 0, 0, 0, 0, 0, 0, 0, 0, 0, 0, 0, 0, 0, 0, 0, 0, 0, 0, 0, 0, 0,\n",
              "       0, 0, 0, 0, 0])"
            ]
          },
          "metadata": {
            "tags": []
          },
          "execution_count": 6
        }
      ]
    },
    {
      "cell_type": "code",
      "metadata": {
        "colab": {
          "base_uri": "https://localhost:8080/",
          "height": 279
        },
        "id": "XaK5yM3AcPag",
        "outputId": "8d6e42f2-8b66-4f4c-a3ec-cd42671016fd"
      },
      "source": [
        "df['full_text'] = df.apply(lambda row: row.title + \" \" + row.text, axis = 1)\n",
        "df.head()"
      ],
      "execution_count": 7,
      "outputs": [
        {
          "output_type": "execute_result",
          "data": {
            "text/html": [
              "<div>\n",
              "<style scoped>\n",
              "    .dataframe tbody tr th:only-of-type {\n",
              "        vertical-align: middle;\n",
              "    }\n",
              "\n",
              "    .dataframe tbody tr th {\n",
              "        vertical-align: top;\n",
              "    }\n",
              "\n",
              "    .dataframe thead th {\n",
              "        text-align: right;\n",
              "    }\n",
              "</style>\n",
              "<table border=\"1\" class=\"dataframe\">\n",
              "  <thead>\n",
              "    <tr style=\"text-align: right;\">\n",
              "      <th></th>\n",
              "      <th>title</th>\n",
              "      <th>author</th>\n",
              "      <th>year</th>\n",
              "      <th>text</th>\n",
              "      <th>themes</th>\n",
              "      <th>themes_encoded</th>\n",
              "      <th>full_text</th>\n",
              "    </tr>\n",
              "  </thead>\n",
              "  <tbody>\n",
              "    <tr>\n",
              "      <th>0</th>\n",
              "      <td>Body and Soul II</td>\n",
              "      <td>Charles Wright</td>\n",
              "      <td>2002</td>\n",
              "      <td>(for Coleman Hawkins)\\nThe structure of landsc...</td>\n",
              "      <td>[audio &amp; music]</td>\n",
              "      <td>[0, 0, 0, 0, 0, 0, 0, 0, 1, 0, 0, 0, 0, 0, 0, ...</td>\n",
              "      <td>Body and Soul II (for Coleman Hawkins)\\nThe st...</td>\n",
              "    </tr>\n",
              "    <tr>\n",
              "      <th>1</th>\n",
              "      <td>Novel</td>\n",
              "      <td>Arthur Rimbaud</td>\n",
              "      <td>2002</td>\n",
              "      <td>I.\\n\\nNo one's serious at seventeen.\\n—On beau...</td>\n",
              "      <td>[lgbtq]</td>\n",
              "      <td>[0, 0, 0, 0, 0, 0, 0, 0, 0, 0, 0, 0, 0, 0, 0, ...</td>\n",
              "      <td>Novel I.\\n\\nNo one's serious at seventeen.\\n—O...</td>\n",
              "    </tr>\n",
              "    <tr>\n",
              "      <th>2</th>\n",
              "      <td>Flying</td>\n",
              "      <td>Sarah Arvio</td>\n",
              "      <td>2002</td>\n",
              "      <td>One said to me tonight or was it day \\nor was ...</td>\n",
              "      <td>[dreams]</td>\n",
              "      <td>[0, 0, 0, 0, 0, 0, 0, 0, 0, 0, 0, 0, 0, 0, 0, ...</td>\n",
              "      <td>Flying One said to me tonight or was it day \\n...</td>\n",
              "    </tr>\n",
              "    <tr>\n",
              "      <th>3</th>\n",
              "      <td>Photograph of People Dancing in France</td>\n",
              "      <td>Leslie Adrienne Miller</td>\n",
              "      <td>2002</td>\n",
              "      <td>It's true that you don't know them--nor do I \\...</td>\n",
              "      <td>[arts &amp; sciences]</td>\n",
              "      <td>[0, 0, 0, 0, 0, 0, 1, 0, 0, 0, 0, 0, 0, 0, 0, ...</td>\n",
              "      <td>Photograph of People Dancing in France It's tr...</td>\n",
              "    </tr>\n",
              "    <tr>\n",
              "      <th>4</th>\n",
              "      <td>War Photograph</td>\n",
              "      <td>Kate Daniels</td>\n",
              "      <td>2002</td>\n",
              "      <td>A naked child is running\\nalong the path towar...</td>\n",
              "      <td>[violence, arts &amp; sciences, war]</td>\n",
              "      <td>[0, 0, 0, 0, 0, 0, 1, 0, 0, 0, 0, 0, 0, 0, 0, ...</td>\n",
              "      <td>War Photograph A naked child is running\\nalong...</td>\n",
              "    </tr>\n",
              "  </tbody>\n",
              "</table>\n",
              "</div>"
            ],
            "text/plain": [
              "                                    title  ...                                          full_text\n",
              "0                        Body and Soul II  ...  Body and Soul II (for Coleman Hawkins)\\nThe st...\n",
              "1                                   Novel  ...  Novel I.\\n\\nNo one's serious at seventeen.\\n—O...\n",
              "2                                  Flying  ...  Flying One said to me tonight or was it day \\n...\n",
              "3  Photograph of People Dancing in France  ...  Photograph of People Dancing in France It's tr...\n",
              "4                          War Photograph  ...  War Photograph A naked child is running\\nalong...\n",
              "\n",
              "[5 rows x 7 columns]"
            ]
          },
          "metadata": {
            "tags": []
          },
          "execution_count": 7
        }
      ]
    },
    {
      "cell_type": "code",
      "metadata": {
        "id": "3F0YacxcYca3",
        "colab": {
          "base_uri": "https://localhost:8080/",
          "height": 195
        },
        "outputId": "b35b9831-1edf-40e7-c5b9-c07084f1133a"
      },
      "source": [
        "df.drop(['title', 'text', 'themes'], axis=1, inplace=True)\n",
        "df.head()"
      ],
      "execution_count": 8,
      "outputs": [
        {
          "output_type": "execute_result",
          "data": {
            "text/html": [
              "<div>\n",
              "<style scoped>\n",
              "    .dataframe tbody tr th:only-of-type {\n",
              "        vertical-align: middle;\n",
              "    }\n",
              "\n",
              "    .dataframe tbody tr th {\n",
              "        vertical-align: top;\n",
              "    }\n",
              "\n",
              "    .dataframe thead th {\n",
              "        text-align: right;\n",
              "    }\n",
              "</style>\n",
              "<table border=\"1\" class=\"dataframe\">\n",
              "  <thead>\n",
              "    <tr style=\"text-align: right;\">\n",
              "      <th></th>\n",
              "      <th>author</th>\n",
              "      <th>year</th>\n",
              "      <th>themes_encoded</th>\n",
              "      <th>full_text</th>\n",
              "    </tr>\n",
              "  </thead>\n",
              "  <tbody>\n",
              "    <tr>\n",
              "      <th>0</th>\n",
              "      <td>Charles Wright</td>\n",
              "      <td>2002</td>\n",
              "      <td>[0, 0, 0, 0, 0, 0, 0, 0, 1, 0, 0, 0, 0, 0, 0, ...</td>\n",
              "      <td>Body and Soul II (for Coleman Hawkins)\\nThe st...</td>\n",
              "    </tr>\n",
              "    <tr>\n",
              "      <th>1</th>\n",
              "      <td>Arthur Rimbaud</td>\n",
              "      <td>2002</td>\n",
              "      <td>[0, 0, 0, 0, 0, 0, 0, 0, 0, 0, 0, 0, 0, 0, 0, ...</td>\n",
              "      <td>Novel I.\\n\\nNo one's serious at seventeen.\\n—O...</td>\n",
              "    </tr>\n",
              "    <tr>\n",
              "      <th>2</th>\n",
              "      <td>Sarah Arvio</td>\n",
              "      <td>2002</td>\n",
              "      <td>[0, 0, 0, 0, 0, 0, 0, 0, 0, 0, 0, 0, 0, 0, 0, ...</td>\n",
              "      <td>Flying One said to me tonight or was it day \\n...</td>\n",
              "    </tr>\n",
              "    <tr>\n",
              "      <th>3</th>\n",
              "      <td>Leslie Adrienne Miller</td>\n",
              "      <td>2002</td>\n",
              "      <td>[0, 0, 0, 0, 0, 0, 1, 0, 0, 0, 0, 0, 0, 0, 0, ...</td>\n",
              "      <td>Photograph of People Dancing in France It's tr...</td>\n",
              "    </tr>\n",
              "    <tr>\n",
              "      <th>4</th>\n",
              "      <td>Kate Daniels</td>\n",
              "      <td>2002</td>\n",
              "      <td>[0, 0, 0, 0, 0, 0, 1, 0, 0, 0, 0, 0, 0, 0, 0, ...</td>\n",
              "      <td>War Photograph A naked child is running\\nalong...</td>\n",
              "    </tr>\n",
              "  </tbody>\n",
              "</table>\n",
              "</div>"
            ],
            "text/plain": [
              "                   author  ...                                          full_text\n",
              "0          Charles Wright  ...  Body and Soul II (for Coleman Hawkins)\\nThe st...\n",
              "1          Arthur Rimbaud  ...  Novel I.\\n\\nNo one's serious at seventeen.\\n—O...\n",
              "2             Sarah Arvio  ...  Flying One said to me tonight or was it day \\n...\n",
              "3  Leslie Adrienne Miller  ...  Photograph of People Dancing in France It's tr...\n",
              "4            Kate Daniels  ...  War Photograph A naked child is running\\nalong...\n",
              "\n",
              "[5 rows x 4 columns]"
            ]
          },
          "metadata": {
            "tags": []
          },
          "execution_count": 8
        }
      ]
    },
    {
      "cell_type": "code",
      "metadata": {
        "colab": {
          "base_uri": "https://localhost:8080/",
          "height": 195
        },
        "id": "hzSIPd9zJQOi",
        "outputId": "f37420b3-9241-4565-f7d1-2b4ff56fe9f4"
      },
      "source": [
        "labelencoder = LabelEncoder()\n",
        "df['author'] = labelencoder.fit_transform(df['author'])\n",
        "df.head()"
      ],
      "execution_count": 9,
      "outputs": [
        {
          "output_type": "execute_result",
          "data": {
            "text/html": [
              "<div>\n",
              "<style scoped>\n",
              "    .dataframe tbody tr th:only-of-type {\n",
              "        vertical-align: middle;\n",
              "    }\n",
              "\n",
              "    .dataframe tbody tr th {\n",
              "        vertical-align: top;\n",
              "    }\n",
              "\n",
              "    .dataframe thead th {\n",
              "        text-align: right;\n",
              "    }\n",
              "</style>\n",
              "<table border=\"1\" class=\"dataframe\">\n",
              "  <thead>\n",
              "    <tr style=\"text-align: right;\">\n",
              "      <th></th>\n",
              "      <th>author</th>\n",
              "      <th>year</th>\n",
              "      <th>themes_encoded</th>\n",
              "      <th>full_text</th>\n",
              "    </tr>\n",
              "  </thead>\n",
              "  <tbody>\n",
              "    <tr>\n",
              "      <th>0</th>\n",
              "      <td>593</td>\n",
              "      <td>2002</td>\n",
              "      <td>[0, 0, 0, 0, 0, 0, 0, 0, 1, 0, 0, 0, 0, 0, 0, ...</td>\n",
              "      <td>Body and Soul II (for Coleman Hawkins)\\nThe st...</td>\n",
              "    </tr>\n",
              "    <tr>\n",
              "      <th>1</th>\n",
              "      <td>305</td>\n",
              "      <td>2002</td>\n",
              "      <td>[0, 0, 0, 0, 0, 0, 0, 0, 0, 0, 0, 0, 0, 0, 0, ...</td>\n",
              "      <td>Novel I.\\n\\nNo one's serious at seventeen.\\n—O...</td>\n",
              "    </tr>\n",
              "    <tr>\n",
              "      <th>2</th>\n",
              "      <td>3416</td>\n",
              "      <td>2002</td>\n",
              "      <td>[0, 0, 0, 0, 0, 0, 0, 0, 0, 0, 0, 0, 0, 0, 0, ...</td>\n",
              "      <td>Flying One said to me tonight or was it day \\n...</td>\n",
              "    </tr>\n",
              "    <tr>\n",
              "      <th>3</th>\n",
              "      <td>2315</td>\n",
              "      <td>2002</td>\n",
              "      <td>[0, 0, 0, 0, 0, 0, 1, 0, 0, 0, 0, 0, 0, 0, 0, ...</td>\n",
              "      <td>Photograph of People Dancing in France It's tr...</td>\n",
              "    </tr>\n",
              "    <tr>\n",
              "      <th>4</th>\n",
              "      <td>2082</td>\n",
              "      <td>2002</td>\n",
              "      <td>[0, 0, 0, 0, 0, 0, 1, 0, 0, 0, 0, 0, 0, 0, 0, ...</td>\n",
              "      <td>War Photograph A naked child is running\\nalong...</td>\n",
              "    </tr>\n",
              "  </tbody>\n",
              "</table>\n",
              "</div>"
            ],
            "text/plain": [
              "   author  ...                                          full_text\n",
              "0     593  ...  Body and Soul II (for Coleman Hawkins)\\nThe st...\n",
              "1     305  ...  Novel I.\\n\\nNo one's serious at seventeen.\\n—O...\n",
              "2    3416  ...  Flying One said to me tonight or was it day \\n...\n",
              "3    2315  ...  Photograph of People Dancing in France It's tr...\n",
              "4    2082  ...  War Photograph A naked child is running\\nalong...\n",
              "\n",
              "[5 rows x 4 columns]"
            ]
          },
          "metadata": {
            "tags": []
          },
          "execution_count": 9
        }
      ]
    },
    {
      "cell_type": "code",
      "metadata": {
        "id": "dE4uLZN-ZFMr"
      },
      "source": [
        "# Decontraction\n",
        "def full_form(word):\n",
        "    if word == \"nt\": word = 'not'\n",
        "    if word == \"re\": word = 'be'\n",
        "    if word == \"d\": word = 'would'\n",
        "    if word == \"m\": word = 'am'\n",
        "    if word == \"s\": word = 'be'\n",
        "    if word == \"ve\": word = 'have'\n",
        "    return word\n",
        "\n",
        "def preprocessing(text):\n",
        "  tokenizer = RegexpTokenizer(r'\\w+')\n",
        "  text = tokenizer.tokenize(text)\n",
        "  stop_words = set(stopwords.words('english'))\n",
        "  cleaned_text = []\n",
        "  for word in text:\n",
        "    if word not in stop_words:\n",
        "      cleaned_text.append(word)\n",
        "  wnl = WordNetLemmatizer()\n",
        "  text = [wnl.lemmatize(token) for token in cleaned_text]\n",
        "  text = [full_form(w).lower() for w in text]\n",
        "\n",
        "  return text\n",
        "  "
      ],
      "execution_count": 10,
      "outputs": []
    },
    {
      "cell_type": "code",
      "metadata": {
        "colab": {
          "base_uri": "https://localhost:8080/"
        },
        "id": "z_lNwsBlNTx2",
        "outputId": "4c3f5939-a19d-4bad-cb67-1f55acee92ba"
      },
      "source": [
        "df['full_text'] = df['full_text'].apply(preprocessing)\n",
        "df['full_text']"
      ],
      "execution_count": 11,
      "outputs": [
        {
          "output_type": "execute_result",
          "data": {
            "text/plain": [
              "0        [body, soul, ii, coleman, hawkins, the, struct...\n",
              "1        [novel, i, no, one, serious, seventeen, on, be...\n",
              "2        [flying, one, said, tonight, day, passage, two...\n",
              "3        [photograph, people, dancing, france, it, true...\n",
              "4        [war, photograph, a, naked, child, running, al...\n",
              "                               ...                        \n",
              "17069    [you, can, buy, shoes, painting, you, even, bu...\n",
              "17070    [you, people, people, ask, shoe, the, valley, ...\n",
              "17071    [you, that, i, loved, you, i, loved, life, lon...\n",
              "17072    [your, clothes, of, course, empty, shell, with...\n",
              "17073    [your, luck, is, about, to, change, ominous, i...\n",
              "Name: full_text, Length: 16583, dtype: object"
            ]
          },
          "metadata": {
            "tags": []
          },
          "execution_count": 11
        }
      ]
    },
    {
      "cell_type": "code",
      "metadata": {
        "id": "3Q_62x1WSQ0H",
        "colab": {
          "base_uri": "https://localhost:8080/"
        },
        "outputId": "eb35ea10-5adb-4214-c940-5d0f32df9779"
      },
      "source": [
        "texts_len = df['full_text'].apply(len)\n",
        "df.drop(df[texts_len<50].index, inplace=True)\n",
        "df.drop(df[texts_len>150].index, inplace=True)"
      ],
      "execution_count": 12,
      "outputs": [
        {
          "output_type": "stream",
          "text": [
            "/usr/local/lib/python3.7/dist-packages/ipykernel_launcher.py:3: UserWarning: Boolean Series key will be reindexed to match DataFrame index.\n",
            "  This is separate from the ipykernel package so we can avoid doing imports until\n"
          ],
          "name": "stderr"
        }
      ]
    },
    {
      "cell_type": "code",
      "metadata": {
        "colab": {
          "base_uri": "https://localhost:8080/"
        },
        "id": "yFmsc9K1Q9L-",
        "outputId": "530dc445-b646-42ba-932f-2cde4745c0ec"
      },
      "source": [
        "tokenizer = Tokenizer(num_words=3000)\n",
        "\n",
        "tokenizer.fit_on_texts(df['full_text'])\n",
        "\n",
        "# Encode training data sentences into sequences\n",
        "df['full_text'] = tokenizer.texts_to_sequences(df['full_text'])\n",
        "\n",
        "df['full_text']"
      ],
      "execution_count": 13,
      "outputs": [
        {
          "output_type": "execute_result",
          "data": {
            "text/plain": [
              "2        [935, 5, 56, 774, 8, 1854, 64, 11, 254, 214, 1...\n",
              "4        [293, 1409, 6, 745, 65, 675, 247, 550, 267, 9,...\n",
              "5        [29, 29, 146, 544, 321, 157, 1250, 1941, 2532,...\n",
              "6        [30, 120, 599, 301, 225, 24, 2533, 1877, 2802,...\n",
              "8        [1533, 8, 27, 1545, 328, 390, 898, 176, 44, 21...\n",
              "                               ...                        \n",
              "17065    [445, 213, 201, 1034, 48, 1464, 1170, 129, 291...\n",
              "17067    [968, 1, 1763, 26, 403, 697, 21, 2854, 80, 152...\n",
              "17069    [19, 619, 1101, 1006, 19, 51, 1101, 19, 23, 37...\n",
              "17071    [19, 43, 1, 360, 19, 1, 360, 24, 42, 5, 19, 1,...\n",
              "17073    [242, 1518, 220, 1512, 27, 379, 1919, 866, 103...\n",
              "Name: full_text, Length: 9733, dtype: object"
            ]
          },
          "metadata": {
            "tags": []
          },
          "execution_count": 13
        }
      ]
    },
    {
      "cell_type": "code",
      "metadata": {
        "colab": {
          "base_uri": "https://localhost:8080/"
        },
        "id": "RYqd1nsMUlde",
        "outputId": "6010e4f4-1677-48df-da76-dad00c7902bd"
      },
      "source": [
        "# Get max training sequence length\n",
        "maxlen = 150 #max([len(x) for x in df['full_text']])\n",
        "\n",
        "# Pad the training sequences\n",
        "padded = pad_sequences(df['full_text'], padding='post', truncating='post', maxlen=maxlen)\n",
        "\n",
        "padded"
      ],
      "execution_count": 14,
      "outputs": [
        {
          "output_type": "execute_result",
          "data": {
            "text/plain": [
              "array([[ 935,    5,   56, ...,    0,    0,    0],\n",
              "       [ 293, 1409,    6, ...,    0,    0,    0],\n",
              "       [  29,   29,  146, ...,    0,    0,    0],\n",
              "       ...,\n",
              "       [  19,  619, 1101, ...,    0,    0,    0],\n",
              "       [  19,   43,    1, ...,    0,    0,    0],\n",
              "       [ 242, 1518,  220, ...,    0,    0,    0]], dtype=int32)"
            ]
          },
          "metadata": {
            "tags": []
          },
          "execution_count": 14
        }
      ]
    },
    {
      "cell_type": "code",
      "metadata": {
        "colab": {
          "base_uri": "https://localhost:8080/"
        },
        "id": "L5Ba-k2OVBrS",
        "outputId": "9e17cb53-3f25-480a-c7b2-498f7a4c6495"
      },
      "source": [
        "df['full_text'] = [x for x in padded]\n",
        "\n",
        "df['full_text']"
      ],
      "execution_count": 15,
      "outputs": [
        {
          "output_type": "execute_result",
          "data": {
            "text/plain": [
              "2        [935, 5, 56, 774, 8, 1854, 64, 11, 254, 214, 1...\n",
              "4        [293, 1409, 6, 745, 65, 675, 247, 550, 267, 9,...\n",
              "5        [29, 29, 146, 544, 321, 157, 1250, 1941, 2532,...\n",
              "6        [30, 120, 599, 301, 225, 24, 2533, 1877, 2802,...\n",
              "8        [1533, 8, 27, 1545, 328, 390, 898, 176, 44, 21...\n",
              "                               ...                        \n",
              "17065    [445, 213, 201, 1034, 48, 1464, 1170, 129, 291...\n",
              "17067    [968, 1, 1763, 26, 403, 697, 21, 2854, 80, 152...\n",
              "17069    [19, 619, 1101, 1006, 19, 51, 1101, 19, 23, 37...\n",
              "17071    [19, 43, 1, 360, 19, 1, 360, 24, 42, 5, 19, 1,...\n",
              "17073    [242, 1518, 220, 1512, 27, 379, 1919, 866, 103...\n",
              "Name: full_text, Length: 9733, dtype: object"
            ]
          },
          "metadata": {
            "tags": []
          },
          "execution_count": 15
        }
      ]
    },
    {
      "cell_type": "code",
      "metadata": {
        "colab": {
          "base_uri": "https://localhost:8080/",
          "height": 195
        },
        "id": "BRDb5lesVNgb",
        "outputId": "d50a09c6-90dc-458e-ca3c-6b326f420260"
      },
      "source": [
        "df.head()"
      ],
      "execution_count": 16,
      "outputs": [
        {
          "output_type": "execute_result",
          "data": {
            "text/html": [
              "<div>\n",
              "<style scoped>\n",
              "    .dataframe tbody tr th:only-of-type {\n",
              "        vertical-align: middle;\n",
              "    }\n",
              "\n",
              "    .dataframe tbody tr th {\n",
              "        vertical-align: top;\n",
              "    }\n",
              "\n",
              "    .dataframe thead th {\n",
              "        text-align: right;\n",
              "    }\n",
              "</style>\n",
              "<table border=\"1\" class=\"dataframe\">\n",
              "  <thead>\n",
              "    <tr style=\"text-align: right;\">\n",
              "      <th></th>\n",
              "      <th>author</th>\n",
              "      <th>year</th>\n",
              "      <th>themes_encoded</th>\n",
              "      <th>full_text</th>\n",
              "    </tr>\n",
              "  </thead>\n",
              "  <tbody>\n",
              "    <tr>\n",
              "      <th>2</th>\n",
              "      <td>3416</td>\n",
              "      <td>2002</td>\n",
              "      <td>[0, 0, 0, 0, 0, 0, 0, 0, 0, 0, 0, 0, 0, 0, 0, ...</td>\n",
              "      <td>[935, 5, 56, 774, 8, 1854, 64, 11, 254, 214, 1...</td>\n",
              "    </tr>\n",
              "    <tr>\n",
              "      <th>4</th>\n",
              "      <td>2082</td>\n",
              "      <td>2002</td>\n",
              "      <td>[0, 0, 0, 0, 0, 0, 1, 0, 0, 0, 0, 0, 0, 0, 0, ...</td>\n",
              "      <td>[293, 1409, 6, 745, 65, 675, 247, 550, 267, 9,...</td>\n",
              "    </tr>\n",
              "    <tr>\n",
              "      <th>5</th>\n",
              "      <td>3289</td>\n",
              "      <td>2001</td>\n",
              "      <td>[0, 0, 0, 0, 0, 0, 0, 0, 0, 0, 0, 0, 0, 0, 0, ...</td>\n",
              "      <td>[29, 29, 146, 544, 321, 157, 1250, 1941, 2532,...</td>\n",
              "    </tr>\n",
              "    <tr>\n",
              "      <th>6</th>\n",
              "      <td>41</td>\n",
              "      <td>2002</td>\n",
              "      <td>[0, 0, 0, 0, 0, 0, 0, 0, 0, 0, 0, 0, 0, 0, 0, ...</td>\n",
              "      <td>[30, 120, 599, 301, 225, 24, 2533, 1877, 2802,...</td>\n",
              "    </tr>\n",
              "    <tr>\n",
              "      <th>8</th>\n",
              "      <td>752</td>\n",
              "      <td>2002</td>\n",
              "      <td>[0, 0, 0, 0, 0, 0, 0, 0, 0, 0, 0, 0, 0, 0, 0, ...</td>\n",
              "      <td>[1533, 8, 27, 1545, 328, 390, 898, 176, 44, 21...</td>\n",
              "    </tr>\n",
              "  </tbody>\n",
              "</table>\n",
              "</div>"
            ],
            "text/plain": [
              "   author  ...                                          full_text\n",
              "2    3416  ...  [935, 5, 56, 774, 8, 1854, 64, 11, 254, 214, 1...\n",
              "4    2082  ...  [293, 1409, 6, 745, 65, 675, 247, 550, 267, 9,...\n",
              "5    3289  ...  [29, 29, 146, 544, 321, 157, 1250, 1941, 2532,...\n",
              "6      41  ...  [30, 120, 599, 301, 225, 24, 2533, 1877, 2802,...\n",
              "8     752  ...  [1533, 8, 27, 1545, 328, 390, 898, 176, 44, 21...\n",
              "\n",
              "[5 rows x 4 columns]"
            ]
          },
          "metadata": {
            "tags": []
          },
          "execution_count": 16
        }
      ]
    },
    {
      "cell_type": "code",
      "metadata": {
        "colab": {
          "base_uri": "https://localhost:8080/",
          "height": 195
        },
        "id": "t713bk2ZaZmJ",
        "outputId": "2d46f849-0573-42e5-b3be-462a794decc5"
      },
      "source": [
        "df.drop(df.columns[0], axis=1, inplace = True)\n",
        "df.head()"
      ],
      "execution_count": 17,
      "outputs": [
        {
          "output_type": "execute_result",
          "data": {
            "text/html": [
              "<div>\n",
              "<style scoped>\n",
              "    .dataframe tbody tr th:only-of-type {\n",
              "        vertical-align: middle;\n",
              "    }\n",
              "\n",
              "    .dataframe tbody tr th {\n",
              "        vertical-align: top;\n",
              "    }\n",
              "\n",
              "    .dataframe thead th {\n",
              "        text-align: right;\n",
              "    }\n",
              "</style>\n",
              "<table border=\"1\" class=\"dataframe\">\n",
              "  <thead>\n",
              "    <tr style=\"text-align: right;\">\n",
              "      <th></th>\n",
              "      <th>year</th>\n",
              "      <th>themes_encoded</th>\n",
              "      <th>full_text</th>\n",
              "    </tr>\n",
              "  </thead>\n",
              "  <tbody>\n",
              "    <tr>\n",
              "      <th>2</th>\n",
              "      <td>2002</td>\n",
              "      <td>[0, 0, 0, 0, 0, 0, 0, 0, 0, 0, 0, 0, 0, 0, 0, ...</td>\n",
              "      <td>[935, 5, 56, 774, 8, 1854, 64, 11, 254, 214, 1...</td>\n",
              "    </tr>\n",
              "    <tr>\n",
              "      <th>4</th>\n",
              "      <td>2002</td>\n",
              "      <td>[0, 0, 0, 0, 0, 0, 1, 0, 0, 0, 0, 0, 0, 0, 0, ...</td>\n",
              "      <td>[293, 1409, 6, 745, 65, 675, 247, 550, 267, 9,...</td>\n",
              "    </tr>\n",
              "    <tr>\n",
              "      <th>5</th>\n",
              "      <td>2001</td>\n",
              "      <td>[0, 0, 0, 0, 0, 0, 0, 0, 0, 0, 0, 0, 0, 0, 0, ...</td>\n",
              "      <td>[29, 29, 146, 544, 321, 157, 1250, 1941, 2532,...</td>\n",
              "    </tr>\n",
              "    <tr>\n",
              "      <th>6</th>\n",
              "      <td>2002</td>\n",
              "      <td>[0, 0, 0, 0, 0, 0, 0, 0, 0, 0, 0, 0, 0, 0, 0, ...</td>\n",
              "      <td>[30, 120, 599, 301, 225, 24, 2533, 1877, 2802,...</td>\n",
              "    </tr>\n",
              "    <tr>\n",
              "      <th>8</th>\n",
              "      <td>2002</td>\n",
              "      <td>[0, 0, 0, 0, 0, 0, 0, 0, 0, 0, 0, 0, 0, 0, 0, ...</td>\n",
              "      <td>[1533, 8, 27, 1545, 328, 390, 898, 176, 44, 21...</td>\n",
              "    </tr>\n",
              "  </tbody>\n",
              "</table>\n",
              "</div>"
            ],
            "text/plain": [
              "   year  ...                                          full_text\n",
              "2  2002  ...  [935, 5, 56, 774, 8, 1854, 64, 11, 254, 214, 1...\n",
              "4  2002  ...  [293, 1409, 6, 745, 65, 675, 247, 550, 267, 9,...\n",
              "5  2001  ...  [29, 29, 146, 544, 321, 157, 1250, 1941, 2532,...\n",
              "6  2002  ...  [30, 120, 599, 301, 225, 24, 2533, 1877, 2802,...\n",
              "8  2002  ...  [1533, 8, 27, 1545, 328, 390, 898, 176, 44, 21...\n",
              "\n",
              "[5 rows x 3 columns]"
            ]
          },
          "metadata": {
            "tags": []
          },
          "execution_count": 17
        }
      ]
    },
    {
      "cell_type": "code",
      "metadata": {
        "colab": {
          "base_uri": "https://localhost:8080/",
          "height": 402
        },
        "id": "PBzBr1icNJde",
        "outputId": "a709ee5c-92c4-40a2-d30d-ca516b055919"
      },
      "source": [
        "def convert_to_decade(x):\n",
        "  dec = x // 10\n",
        "  res = dec * 10\n",
        "  return res\n",
        "\n",
        "df.year = df.year.apply(convert_to_decade)\n",
        "df"
      ],
      "execution_count": 18,
      "outputs": [
        {
          "output_type": "execute_result",
          "data": {
            "text/html": [
              "<div>\n",
              "<style scoped>\n",
              "    .dataframe tbody tr th:only-of-type {\n",
              "        vertical-align: middle;\n",
              "    }\n",
              "\n",
              "    .dataframe tbody tr th {\n",
              "        vertical-align: top;\n",
              "    }\n",
              "\n",
              "    .dataframe thead th {\n",
              "        text-align: right;\n",
              "    }\n",
              "</style>\n",
              "<table border=\"1\" class=\"dataframe\">\n",
              "  <thead>\n",
              "    <tr style=\"text-align: right;\">\n",
              "      <th></th>\n",
              "      <th>year</th>\n",
              "      <th>themes_encoded</th>\n",
              "      <th>full_text</th>\n",
              "    </tr>\n",
              "  </thead>\n",
              "  <tbody>\n",
              "    <tr>\n",
              "      <th>2</th>\n",
              "      <td>2000</td>\n",
              "      <td>[0, 0, 0, 0, 0, 0, 0, 0, 0, 0, 0, 0, 0, 0, 0, ...</td>\n",
              "      <td>[935, 5, 56, 774, 8, 1854, 64, 11, 254, 214, 1...</td>\n",
              "    </tr>\n",
              "    <tr>\n",
              "      <th>4</th>\n",
              "      <td>2000</td>\n",
              "      <td>[0, 0, 0, 0, 0, 0, 1, 0, 0, 0, 0, 0, 0, 0, 0, ...</td>\n",
              "      <td>[293, 1409, 6, 745, 65, 675, 247, 550, 267, 9,...</td>\n",
              "    </tr>\n",
              "    <tr>\n",
              "      <th>5</th>\n",
              "      <td>2000</td>\n",
              "      <td>[0, 0, 0, 0, 0, 0, 0, 0, 0, 0, 0, 0, 0, 0, 0, ...</td>\n",
              "      <td>[29, 29, 146, 544, 321, 157, 1250, 1941, 2532,...</td>\n",
              "    </tr>\n",
              "    <tr>\n",
              "      <th>6</th>\n",
              "      <td>2000</td>\n",
              "      <td>[0, 0, 0, 0, 0, 0, 0, 0, 0, 0, 0, 0, 0, 0, 0, ...</td>\n",
              "      <td>[30, 120, 599, 301, 225, 24, 2533, 1877, 2802,...</td>\n",
              "    </tr>\n",
              "    <tr>\n",
              "      <th>8</th>\n",
              "      <td>2000</td>\n",
              "      <td>[0, 0, 0, 0, 0, 0, 0, 0, 0, 0, 0, 0, 0, 0, 0, ...</td>\n",
              "      <td>[1533, 8, 27, 1545, 328, 390, 898, 176, 44, 21...</td>\n",
              "    </tr>\n",
              "    <tr>\n",
              "      <th>...</th>\n",
              "      <td>...</td>\n",
              "      <td>...</td>\n",
              "      <td>...</td>\n",
              "    </tr>\n",
              "    <tr>\n",
              "      <th>17065</th>\n",
              "      <td>1990</td>\n",
              "      <td>[1, 0, 0, 0, 0, 0, 0, 0, 0, 0, 0, 0, 0, 0, 0, ...</td>\n",
              "      <td>[445, 213, 201, 1034, 48, 1464, 1170, 129, 291...</td>\n",
              "    </tr>\n",
              "    <tr>\n",
              "      <th>17067</th>\n",
              "      <td>1990</td>\n",
              "      <td>[1, 0, 0, 0, 0, 0, 1, 0, 0, 0, 0, 0, 0, 0, 0, ...</td>\n",
              "      <td>[968, 1, 1763, 26, 403, 697, 21, 2854, 80, 152...</td>\n",
              "    </tr>\n",
              "    <tr>\n",
              "      <th>17069</th>\n",
              "      <td>1990</td>\n",
              "      <td>[0, 0, 0, 0, 0, 0, 1, 0, 0, 0, 0, 0, 0, 0, 0, ...</td>\n",
              "      <td>[19, 619, 1101, 1006, 19, 51, 1101, 19, 23, 37...</td>\n",
              "    </tr>\n",
              "    <tr>\n",
              "      <th>17071</th>\n",
              "      <td>2000</td>\n",
              "      <td>[0, 0, 0, 0, 0, 0, 0, 0, 0, 0, 0, 0, 0, 0, 0, ...</td>\n",
              "      <td>[19, 43, 1, 360, 19, 1, 360, 24, 42, 5, 19, 1,...</td>\n",
              "    </tr>\n",
              "    <tr>\n",
              "      <th>17073</th>\n",
              "      <td>1990</td>\n",
              "      <td>[0, 0, 0, 0, 0, 0, 0, 0, 0, 0, 0, 0, 0, 0, 0, ...</td>\n",
              "      <td>[242, 1518, 220, 1512, 27, 379, 1919, 866, 103...</td>\n",
              "    </tr>\n",
              "  </tbody>\n",
              "</table>\n",
              "<p>9733 rows × 3 columns</p>\n",
              "</div>"
            ],
            "text/plain": [
              "       year  ...                                          full_text\n",
              "2      2000  ...  [935, 5, 56, 774, 8, 1854, 64, 11, 254, 214, 1...\n",
              "4      2000  ...  [293, 1409, 6, 745, 65, 675, 247, 550, 267, 9,...\n",
              "5      2000  ...  [29, 29, 146, 544, 321, 157, 1250, 1941, 2532,...\n",
              "6      2000  ...  [30, 120, 599, 301, 225, 24, 2533, 1877, 2802,...\n",
              "8      2000  ...  [1533, 8, 27, 1545, 328, 390, 898, 176, 44, 21...\n",
              "...     ...  ...                                                ...\n",
              "17065  1990  ...  [445, 213, 201, 1034, 48, 1464, 1170, 129, 291...\n",
              "17067  1990  ...  [968, 1, 1763, 26, 403, 697, 21, 2854, 80, 152...\n",
              "17069  1990  ...  [19, 619, 1101, 1006, 19, 51, 1101, 19, 23, 37...\n",
              "17071  2000  ...  [19, 43, 1, 360, 19, 1, 360, 24, 42, 5, 19, 1,...\n",
              "17073  1990  ...  [242, 1518, 220, 1512, 27, 379, 1919, 866, 103...\n",
              "\n",
              "[9733 rows x 3 columns]"
            ]
          },
          "metadata": {
            "tags": []
          },
          "execution_count": 18
        }
      ]
    },
    {
      "cell_type": "markdown",
      "metadata": {
        "id": "RSDfvd0qZIyw"
      },
      "source": [
        "# Model"
      ]
    },
    {
      "cell_type": "code",
      "metadata": {
        "id": "QPFmQ_1haybQ"
      },
      "source": [
        "X = np.array(df['full_text'].to_list())\n",
        "Y = np.array(df['year'].to_list())"
      ],
      "execution_count": 19,
      "outputs": []
    },
    {
      "cell_type": "code",
      "metadata": {
        "id": "8-HtzAMjbc1G"
      },
      "source": [
        "X_train, X_test, Y_train, Y_test = model_selection.train_test_split(X, Y, test_size=0.1, random_state=37)"
      ],
      "execution_count": 20,
      "outputs": []
    },
    {
      "cell_type": "code",
      "metadata": {
        "colab": {
          "base_uri": "https://localhost:8080/"
        },
        "id": "5rrW1rvlNPGB",
        "outputId": "4c7eeb9a-a80a-4fd2-83e4-70b47d0c9d89"
      },
      "source": [
        "max_features = 10000 \n",
        "max_len = 150  \n",
        "embedding_dim = 16\n",
        "model = keras.models.Sequential([\n",
        "  keras.layers.Embedding(input_dim=max_features,\n",
        "                           output_dim=embedding_dim,\n",
        "                           input_length=max_len),\n",
        "  keras.layers.Flatten(),\n",
        "  keras.layers.Dense(64,activation='relu'),\n",
        "  keras.layers.Dense(32,activation='relu'),\n",
        "  keras.layers.Dense(16,activation='relu'),\n",
        "  keras.layers.Dense(8,activation='relu'),\n",
        "  keras.layers.Dense(1, activation='relu')\n",
        "])\n",
        "\n",
        "model.build()\n",
        "model.compile(optimizer='adam',\n",
        "              loss='mean_squared_error',\n",
        "              metrics=['MAE'])\n",
        "model.summary()"
      ],
      "execution_count": 117,
      "outputs": [
        {
          "output_type": "stream",
          "text": [
            "Model: \"sequential_44\"\n",
            "_________________________________________________________________\n",
            "Layer (type)                 Output Shape              Param #   \n",
            "=================================================================\n",
            "embedding_44 (Embedding)     (None, 150, 16)           160000    \n",
            "_________________________________________________________________\n",
            "flatten_44 (Flatten)         (None, 2400)              0         \n",
            "_________________________________________________________________\n",
            "dense_192 (Dense)            (None, 64)                153664    \n",
            "_________________________________________________________________\n",
            "dense_193 (Dense)            (None, 32)                2080      \n",
            "_________________________________________________________________\n",
            "dense_194 (Dense)            (None, 16)                528       \n",
            "_________________________________________________________________\n",
            "dense_195 (Dense)            (None, 8)                 136       \n",
            "_________________________________________________________________\n",
            "dense_196 (Dense)            (None, 1)                 9         \n",
            "=================================================================\n",
            "Total params: 316,417\n",
            "Trainable params: 316,417\n",
            "Non-trainable params: 0\n",
            "_________________________________________________________________\n"
          ],
          "name": "stdout"
        }
      ]
    },
    {
      "cell_type": "code",
      "metadata": {
        "colab": {
          "base_uri": "https://localhost:8080/"
        },
        "id": "6uzj9oV0NP2q",
        "outputId": "5f65134a-17f7-45e2-cd4b-4e37676cc6cc"
      },
      "source": [
        "model.fit(X_train, Y_train, epochs=10, batch_size = 64, validation_split=0.1)"
      ],
      "execution_count": 118,
      "outputs": [
        {
          "output_type": "stream",
          "text": [
            "Epoch 1/10\n",
            "124/124 [==============================] - 1s 7ms/step - loss: 2599283.2500 - MAE: 1461.8590 - val_loss: 32378.0723 - val_MAE: 150.9517\n",
            "Epoch 2/10\n",
            "124/124 [==============================] - 1s 6ms/step - loss: 13857.1611 - MAE: 88.9674 - val_loss: 7514.1919 - val_MAE: 66.7420\n",
            "Epoch 3/10\n",
            "124/124 [==============================] - 1s 6ms/step - loss: 6453.2554 - MAE: 56.0588 - val_loss: 3763.9778 - val_MAE: 44.2172\n",
            "Epoch 4/10\n",
            "124/124 [==============================] - 1s 6ms/step - loss: 4250.6353 - MAE: 40.6897 - val_loss: 2630.0073 - val_MAE: 35.8669\n",
            "Epoch 5/10\n",
            "124/124 [==============================] - 1s 6ms/step - loss: 3480.0339 - MAE: 34.4199 - val_loss: 2197.9019 - val_MAE: 32.3189\n",
            "Epoch 6/10\n",
            "124/124 [==============================] - 1s 6ms/step - loss: 3130.5952 - MAE: 31.6788 - val_loss: 2124.0005 - val_MAE: 32.8102\n",
            "Epoch 7/10\n",
            "124/124 [==============================] - 1s 6ms/step - loss: 2894.1628 - MAE: 29.9234 - val_loss: 1844.3820 - val_MAE: 28.8132\n",
            "Epoch 8/10\n",
            "124/124 [==============================] - 1s 6ms/step - loss: 2722.2478 - MAE: 28.3730 - val_loss: 1765.7322 - val_MAE: 28.1297\n",
            "Epoch 9/10\n",
            "124/124 [==============================] - 1s 6ms/step - loss: 2583.8596 - MAE: 27.0584 - val_loss: 1714.8002 - val_MAE: 27.6977\n",
            "Epoch 10/10\n",
            "124/124 [==============================] - 1s 6ms/step - loss: 2485.4358 - MAE: 26.6251 - val_loss: 1697.0245 - val_MAE: 27.6896\n"
          ],
          "name": "stdout"
        },
        {
          "output_type": "execute_result",
          "data": {
            "text/plain": [
              "<tensorflow.python.keras.callbacks.History at 0x7fa1c2705c10>"
            ]
          },
          "metadata": {
            "tags": []
          },
          "execution_count": 118
        }
      ]
    },
    {
      "cell_type": "code",
      "metadata": {
        "colab": {
          "base_uri": "https://localhost:8080/"
        },
        "id": "bVJkEsa-YGD1",
        "outputId": "f5fc0f93-3971-4680-b89d-f169df0a317d"
      },
      "source": [
        "score = model.evaluate(np.array(X_test), np.array(Y_test)) \n",
        "\n",
        "print(\"Test Score:\", score2[0])\n",
        "print(\"Test Accuracy:\", score2[1])"
      ],
      "execution_count": 119,
      "outputs": [
        {
          "output_type": "stream",
          "text": [
            "31/31 [==============================] - 0s 1ms/step - loss: 2224.3914 - MAE: 28.7269\n",
            "Test Score: 2224.391357421875\n",
            "Test Accuracy: 28.726938247680664\n"
          ],
          "name": "stdout"
        }
      ]
    },
    {
      "cell_type": "code",
      "metadata": {
        "colab": {
          "base_uri": "https://localhost:8080/"
        },
        "id": "PZuXsAs7ZhjO",
        "outputId": "c1b11f25-cffc-4011-e9ad-04b0cf9bc0cb"
      },
      "source": [
        "from google.colab import drive\n",
        "drive.mount('/drive')"
      ],
      "execution_count": 120,
      "outputs": [
        {
          "output_type": "stream",
          "text": [
            "Mounted at /drive\n"
          ],
          "name": "stdout"
        }
      ]
    },
    {
      "cell_type": "code",
      "metadata": {
        "id": "tjYSSUczZs5X"
      },
      "source": [
        "model.save('/drive/My Drive/Colab Notebooks/year_prediction.h5')"
      ],
      "execution_count": 122,
      "outputs": []
    }
  ]
}