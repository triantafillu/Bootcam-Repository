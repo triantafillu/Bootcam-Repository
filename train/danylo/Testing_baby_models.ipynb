{
 "cells": [
  {
   "cell_type": "code",
   "execution_count": 1,
   "metadata": {},
   "outputs": [],
   "source": [
    "import pandas as pd\n",
    "import spacy, json\n",
    "from sklearn import model_selection\n",
    "from sklearn.metrics import confusion_matrix, ConfusionMatrixDisplay\n",
    "import numpy as np\n",
    "\n",
    "\n",
    "import matplotlib.pyplot as plt\n",
    "from tensorflow import keras\n",
    "from tensorflow.keras import layers, models"
   ]
  },
  {
   "cell_type": "code",
   "execution_count": 2,
   "metadata": {},
   "outputs": [],
   "source": [
    "df = pd.read_json(open(\"data.json\", \"r\", encoding=\"utf8\"))\n",
    "\n",
    "with open('themes.json', 'r') as f:\n",
    "    theme_codes = json.load(f)"
   ]
  },
  {
   "cell_type": "code",
   "execution_count": 3,
   "metadata": {},
   "outputs": [
    {
     "data": {
      "text/html": [
       "<div>\n",
       "<style scoped>\n",
       "    .dataframe tbody tr th:only-of-type {\n",
       "        vertical-align: middle;\n",
       "    }\n",
       "\n",
       "    .dataframe tbody tr th {\n",
       "        vertical-align: top;\n",
       "    }\n",
       "\n",
       "    .dataframe thead th {\n",
       "        text-align: right;\n",
       "    }\n",
       "</style>\n",
       "<table border=\"1\" class=\"dataframe\">\n",
       "  <thead>\n",
       "    <tr style=\"text-align: right;\">\n",
       "      <th></th>\n",
       "      <th>title</th>\n",
       "      <th>url</th>\n",
       "      <th>author</th>\n",
       "      <th>year</th>\n",
       "      <th>text</th>\n",
       "      <th>themes</th>\n",
       "    </tr>\n",
       "  </thead>\n",
       "  <tbody>\n",
       "    <tr>\n",
       "      <th>0</th>\n",
       "      <td>[28, 508, 152, 720]</td>\n",
       "      <td>https://poets.org/poem/body-and-soul-ii</td>\n",
       "      <td>602</td>\n",
       "      <td>2002</td>\n",
       "      <td>[2221, 1012, 2, 2221, 273, 902, 128, 472, 57, ...</td>\n",
       "      <td>[0.0, 0.0, 0.0, 0.0, 0.0, 0.0, 0.0, 0.0, 0.0, ...</td>\n",
       "    </tr>\n",
       "    <tr>\n",
       "      <th>1</th>\n",
       "      <td>[2668]</td>\n",
       "      <td>https://poets.org/poem/novel</td>\n",
       "      <td>311</td>\n",
       "      <td>2002</td>\n",
       "      <td>[286, 3904, 1, 2778, 249, 19, 1268, 643, 410, ...</td>\n",
       "      <td>[0.0, 0.0, 0.0, 0.0, 0.0, 0.0, 0.0, 0.0, 0.0, ...</td>\n",
       "    </tr>\n",
       "    <tr>\n",
       "      <th>2</th>\n",
       "      <td>[178]</td>\n",
       "      <td>https://poets.org/poem/flying</td>\n",
       "      <td>3478</td>\n",
       "      <td>2002</td>\n",
       "      <td>[12, 602, 11, 1574, 197, 113, 402, 13, 2428, 2...</td>\n",
       "      <td>[0.0, 0.0, 0.0, 0.0, 0.0, 0.0, 0.0, 0.0, 0.0, ...</td>\n",
       "    </tr>\n",
       "    <tr>\n",
       "      <th>3</th>\n",
       "      <td>[1113, 2862, 88, 289, 1171, 2335]</td>\n",
       "      <td>https://poets.org/poem/photograph-people-danci...</td>\n",
       "      <td>2361</td>\n",
       "      <td>2002</td>\n",
       "      <td>[267, 16, 35, 5, 5, 27, 1229, 1823, 3196, 48, ...</td>\n",
       "      <td>[0.0, 0.0, 0.0, 0.0, 0.0, 0.0, 0.0, 0.0, 0.0, ...</td>\n",
       "    </tr>\n",
       "    <tr>\n",
       "      <th>4</th>\n",
       "      <td>[246, 1113]</td>\n",
       "      <td>https://poets.org/poem/war-photograph</td>\n",
       "      <td>2125</td>\n",
       "      <td>2002</td>\n",
       "      <td>[596, 50, 124, 467, 163, 612, 133, 77, 29, 44,...</td>\n",
       "      <td>[0.0, 0.0, 0.0, 0.0, 0.0, 0.0, 0.0, 0.0, 0.0, ...</td>\n",
       "    </tr>\n",
       "  </tbody>\n",
       "</table>\n",
       "</div>"
      ],
      "text/plain": [
       "                               title  \\\n",
       "0                [28, 508, 152, 720]   \n",
       "1                             [2668]   \n",
       "2                              [178]   \n",
       "3  [1113, 2862, 88, 289, 1171, 2335]   \n",
       "4                        [246, 1113]   \n",
       "\n",
       "                                                 url  author  year  \\\n",
       "0            https://poets.org/poem/body-and-soul-ii     602  2002   \n",
       "1                       https://poets.org/poem/novel     311  2002   \n",
       "2                      https://poets.org/poem/flying    3478  2002   \n",
       "3  https://poets.org/poem/photograph-people-danci...    2361  2002   \n",
       "4              https://poets.org/poem/war-photograph    2125  2002   \n",
       "\n",
       "                                                text  \\\n",
       "0  [2221, 1012, 2, 2221, 273, 902, 128, 472, 57, ...   \n",
       "1  [286, 3904, 1, 2778, 249, 19, 1268, 643, 410, ...   \n",
       "2  [12, 602, 11, 1574, 197, 113, 402, 13, 2428, 2...   \n",
       "3  [267, 16, 35, 5, 5, 27, 1229, 1823, 3196, 48, ...   \n",
       "4  [596, 50, 124, 467, 163, 612, 133, 77, 29, 44,...   \n",
       "\n",
       "                                              themes  \n",
       "0  [0.0, 0.0, 0.0, 0.0, 0.0, 0.0, 0.0, 0.0, 0.0, ...  \n",
       "1  [0.0, 0.0, 0.0, 0.0, 0.0, 0.0, 0.0, 0.0, 0.0, ...  \n",
       "2  [0.0, 0.0, 0.0, 0.0, 0.0, 0.0, 0.0, 0.0, 0.0, ...  \n",
       "3  [0.0, 0.0, 0.0, 0.0, 0.0, 0.0, 0.0, 0.0, 0.0, ...  \n",
       "4  [0.0, 0.0, 0.0, 0.0, 0.0, 0.0, 0.0, 0.0, 0.0, ...  "
      ]
     },
     "execution_count": 3,
     "metadata": {},
     "output_type": "execute_result"
    }
   ],
   "source": [
    "df.head()"
   ]
  },
  {
   "cell_type": "code",
   "execution_count": 4,
   "metadata": {},
   "outputs": [],
   "source": [
    "texts_len = df['text'].apply(len)\n",
    "df.drop(df[texts_len<50].index, inplace=True)"
   ]
  },
  {
   "cell_type": "code",
   "execution_count": 5,
   "metadata": {},
   "outputs": [],
   "source": [
    "max_len = 150  # max length of string\n",
    "max_features = 5001"
   ]
  },
  {
   "cell_type": "code",
   "execution_count": 6,
   "metadata": {},
   "outputs": [],
   "source": [
    "joined_text = df['title'] + df['text']\n",
    "X = keras.preprocessing.sequence.pad_sequences(list(joined_text), maxlen=max_len, padding='post')"
   ]
  },
  {
   "cell_type": "code",
   "execution_count": 7,
   "metadata": {},
   "outputs": [],
   "source": [
    "themes_to_predict = ['nature', 'family', 'love', 'body', 'animals']"
   ]
  },
  {
   "cell_type": "code",
   "execution_count": 8,
   "metadata": {},
   "outputs": [],
   "source": [
    "bin_models = {}\n",
    "for theme in themes_to_predict:\n",
    "    bin_models['model_' + theme] = keras.models.load_model('baby_models/model_' + theme + '.h5')"
   ]
  },
  {
   "cell_type": "code",
   "execution_count": 9,
   "metadata": {},
   "outputs": [
    {
     "data": {
      "text/plain": [
       "array([[  28,  508,  152, ...,    0,    0,    0],\n",
       "       [2668,  286, 3904, ...,    0,    0,    0],\n",
       "       [ 178,   12,  602, ...,    0,    0,    0],\n",
       "       ...,\n",
       "       [  66,   88,   88, ...,    0,    0,    0],\n",
       "       [  66,  180,    8, ...,    0,    0,    0],\n",
       "       [   4, 3966, 1337, ...,    0,    0,    0]], dtype=int32)"
      ]
     },
     "execution_count": 9,
     "metadata": {},
     "output_type": "execute_result"
    }
   ],
   "source": [
    "X"
   ]
  },
  {
   "cell_type": "code",
   "execution_count": 12,
   "metadata": {},
   "outputs": [
    {
     "name": "stdout",
     "output_type": "stream",
     "text": [
      "Theme #: nature\n",
      "35/35 [==============================] - 0s 2ms/step - loss: 0.1619 - accuracy: 0.9910 - auc: 0.0000e+00\n",
      "Test Score Model1: 0.16185005009174347\n",
      "Test Accuracy Model1: 0.9909991025924683\n",
      "Theme #: family\n",
      "35/35 [==============================] - 0s 2ms/step - loss: 0.2066 - accuracy: 0.9775 - auc_1: 0.5561\n",
      "Test Score Model1: 0.20656675100326538\n",
      "Test Accuracy Model1: 0.9774977564811707\n",
      "Theme #: love\n",
      "35/35 [==============================] - 0s 5ms/step - loss: 0.4335 - accuracy: 0.8929 - auc_2: 0.4743\n",
      "Test Score Model1: 0.43353450298309326\n",
      "Test Accuracy Model1: 0.8928892612457275\n",
      "Theme #: body\n",
      "35/35 [==============================] - 0s 2ms/step - loss: 0.1110 - accuracy: 0.9928 - auc_3: 0.0000e+00\n",
      "Test Score Model1: 0.11104116588830948\n",
      "Test Accuracy Model1: 0.9927992820739746\n",
      "Theme #: animals\n",
      "35/35 [==============================] - 0s 2ms/step - loss: 0.3711 - accuracy: 0.8857 - auc_4: 0.4842\n",
      "Test Score Model1: 0.37107184529304504\n",
      "Test Accuracy Model1: 0.8856885433197021\n"
     ]
    },
    {
     "data": {
      "image/png": "[encoded data removed]",
      "text/plain": [
       "<Figure size 1008x576 with 1 Axes>"
      ]
     },
     "metadata": {
      "needs_background": "light"
     },
     "output_type": "display_data"
    }
   ],
   "source": [
    "X_train, X_test, Y_train, Y_test = model_selection.train_test_split(X, df['themes'], test_size=0.1, random_state=42)\n",
    "for theme in themes_to_predict:\n",
    "    print('Theme #:', theme)\n",
    "    theme_index = theme_codes[theme]\n",
    "    y_test = np.array([row[theme_index] for index, row in Y_test.items()])\n",
    "    \n",
    "\n",
    "    bin_mod = bin_models['model_' + theme]\n",
    "    #print(np.array(X_test))\n",
    "    score = bin_mod.evaluate(np.array(X_test), \n",
    "                             np.array(y_test)) \n",
    "    print(\"Test Score Model1:\", score[0])\n",
    "    print(\"Test Accuracy Model1:\", score[1])\n",
    "    y_pred = bin_mod.predict(X_test)\n",
    "    \n",
    "    pd.Series(y_pred.flatten()).hist(bins=100, figsize=(14, 8)).figure\n"
   ]
  },
  {
   "cell_type": "code",
   "execution_count": null,
   "metadata": {},
   "outputs": [],
   "source": []
  }
 ],
 "metadata": {
  "kernelspec": {
   "display_name": "Python 3",
   "language": "python",
   "name": "python3"
  },
  "language_info": {
   "codemirror_mode": {
    "name": "ipython",
    "version": 3
   },
   "file_extension": ".py",
   "mimetype": "text/x-python",
   "name": "python",
   "nbconvert_exporter": "python",
   "pygments_lexer": "ipython3",
   "version": "3.6.9"
  }
 },
 "nbformat": 4,
 "nbformat_minor": 2
}
