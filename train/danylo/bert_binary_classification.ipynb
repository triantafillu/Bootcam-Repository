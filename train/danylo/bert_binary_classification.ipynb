{
  "nbformat": 4,
  "nbformat_minor": 0,
  "metadata": {
    "colab": {
      "name": "bert_binary_classification.ipynb",
      "provenance": []
    },
    "kernelspec": {
      "name": "python3",
      "display_name": "Python 3"
    },
    "language_info": {
      "name": "python"
    },
    "accelerator": "GPU"
  },
  "cells": [
    {
      "cell_type": "code",
      "metadata": {
        "id": "2DFQoyo1vPpI"
      },
      "source": [
        "!pip install -q -U tensorflow-text\n",
        "!pip install -q tf-models-official"
      ],
      "execution_count": null,
      "outputs": []
    },
    {
      "cell_type": "code",
      "metadata": {
        "id": "8dtz9l9kFKxH"
      },
      "source": [
        "import pandas as pd\n",
        "import spacy, json\n",
        "from sklearn import model_selection\n",
        "from sklearn.metrics import confusion_matrix, ConfusionMatrixDisplay\n",
        "import numpy as np\n",
        "\n",
        "\n",
        "import matplotlib.pyplot as plt\n",
        "from tensorflow import keras\n",
        "from tensorflow.keras import layers, models\n",
        "\n",
        "import os\n",
        "import shutil\n",
        "\n",
        "import tensorflow as tf\n",
        "import tensorflow_hub as hub\n",
        "import tensorflow_text as text\n",
        "from tensorflow.keras.optimizers import Adam\n",
        "from official.nlp import optimization  # to create AdamW optimizer\n",
        "\n",
        "import matplotlib.pyplot as plt\n",
        "\n",
        "tf.get_logger().setLevel('ERROR')"
      ],
      "execution_count": null,
      "outputs": []
    },
    {
      "cell_type": "code",
      "metadata": {
        "id": "0b506_23TnhS"
      },
      "source": [
        "bert_model_name = 'small_bert/bert_en_uncased_L-4_H-512_A-8'"
      ],
      "execution_count": null,
      "outputs": []
    },
    {
      "cell_type": "code",
      "metadata": {
        "id": "FRRsAMiSTner"
      },
      "source": [
        "tfhub_handle_encoder = 'https://tfhub.dev/tensorflow/small_bert/bert_en_uncased_L-4_H-512_A-8/1'\n",
        "tfhub_handle_preprocess = 'https://tfhub.dev/tensorflow/bert_en_uncased_preprocess/3'"
      ],
      "execution_count": null,
      "outputs": []
    },
    {
      "cell_type": "code",
      "metadata": {
        "id": "flUSdoPTTnbx"
      },
      "source": [
        "bert_preprocess_model = hub.KerasLayer(tfhub_handle_preprocess)"
      ],
      "execution_count": null,
      "outputs": []
    },
    {
      "cell_type": "code",
      "metadata": {
        "colab": {
          "base_uri": "https://localhost:8080/"
        },
        "id": "hnqRANqiTnZD",
        "outputId": "e9fdc40a-df23-46d4-ab1a-a4a91c0af76a"
      },
      "source": [
        "text_test = ['this is such an amazing movie!', 'music this very movie']\n",
        "text_preprocessed = bert_preprocess_model(text_test)\n",
        "\n",
        "print(f'Keys       : {list(text_preprocessed.keys())}')\n",
        "print(f'Shape      : {text_preprocessed[\"input_word_ids\"].shape}')\n",
        "print(f'Word Ids   : {text_preprocessed[\"input_word_ids\"][0, :12]}')\n",
        "print(f'Input Mask : {text_preprocessed[\"input_mask\"][0, :12]}')\n",
        "print(f'Type Ids   : {text_preprocessed[\"input_type_ids\"][0, :12]}')"
      ],
      "execution_count": null,
      "outputs": [
        {
          "output_type": "stream",
          "text": [
            "Keys       : ['input_word_ids', 'input_mask', 'input_type_ids']\n",
            "Shape      : (2, 128)\n",
            "Word Ids   : [ 101 2023 2003 2107 2019 6429 3185  999  102    0    0    0]\n",
            "Input Mask : [1 1 1 1 1 1 1 1 1 0 0 0]\n",
            "Type Ids   : [0 0 0 0 0 0 0 0 0 0 0 0]\n"
          ],
          "name": "stdout"
        }
      ]
    },
    {
      "cell_type": "code",
      "metadata": {
        "id": "DGKovFF_TnWg"
      },
      "source": [
        "bert_model = hub.KerasLayer(tfhub_handle_encoder)"
      ],
      "execution_count": null,
      "outputs": []
    },
    {
      "cell_type": "code",
      "metadata": {
        "colab": {
          "base_uri": "https://localhost:8080/"
        },
        "id": "vItGM9ThTnUN",
        "outputId": "78d0d019-db90-44c7-f47d-53c7c13f9e54"
      },
      "source": [
        "bert_results = bert_model(text_preprocessed)\n",
        "\n",
        "print(f'Loaded BERT: {tfhub_handle_encoder}')\n",
        "print(f'Pooled Outputs Shape:{bert_results[\"pooled_output\"].shape}')\n",
        "print(f'Pooled Outputs Values:{bert_results[\"pooled_output\"][0, :12]}')\n",
        "print(f'Sequence Outputs Shape:{bert_results[\"sequence_output\"].shape}')\n",
        "print(f'Sequence Outputs Values:{bert_results[\"sequence_output\"][0, :12]}')"
      ],
      "execution_count": null,
      "outputs": [
        {
          "output_type": "stream",
          "text": [
            "Loaded BERT: https://tfhub.dev/tensorflow/small_bert/bert_en_uncased_L-4_H-512_A-8/1\n",
            "Pooled Outputs Shape:(2, 512)\n",
            "Pooled Outputs Values:[ 0.76262903  0.99280983 -0.1861188   0.3667384   0.15233697  0.6550443\n",
            "  0.9681154  -0.948627    0.00216151 -0.9877732   0.06842711 -0.9763061 ]\n",
            "Sequence Outputs Shape:(2, 128, 512)\n",
            "Sequence Outputs Values:[[-0.28946322  0.34321278  0.332315   ...  0.21300861  0.7102075\n",
            "  -0.05771185]\n",
            " [-0.28742063  0.31980968 -0.23018526 ...  0.58455    -0.21329752\n",
            "   0.7269202 ]\n",
            " [-0.6615702   0.6887679  -0.8743295  ...  0.10877275 -0.2617321\n",
            "   0.47855455]\n",
            " ...\n",
            " [-0.22561184 -0.28925595 -0.0706443  ...  0.47566038  0.8327713\n",
            "   0.40025303]\n",
            " [-0.29824215 -0.27473155 -0.05450528 ...  0.488497    1.0955361\n",
            "   0.18163332]\n",
            " [-0.44378126  0.009308    0.07223716 ...  0.17290114  1.1833243\n",
            "   0.07897985]]\n"
          ],
          "name": "stdout"
        }
      ]
    },
    {
      "cell_type": "code",
      "metadata": {
        "id": "-iYTYNWuTnRe"
      },
      "source": [
        "def build_classifier_model():\n",
        "  text_input = tf.keras.layers.Input(shape=(), dtype=tf.string, name='text')\n",
        "  preprocessing_layer = hub.KerasLayer(tfhub_handle_preprocess, name='preprocessing')\n",
        "  encoder_inputs = preprocessing_layer(text_input)\n",
        "  encoder = hub.KerasLayer(tfhub_handle_encoder, trainable=True, name='BERT_encoder')\n",
        "  outputs = encoder(encoder_inputs)\n",
        "  net = outputs['pooled_output']\n",
        "  net = tf.keras.layers.Dropout(0.1)(net)\n",
        "  net = tf.keras.layers.Dense(1, activation=None, name='classifier')(net)\n",
        "  return tf.keras.Model(text_input, net)"
      ],
      "execution_count": null,
      "outputs": []
    },
    {
      "cell_type": "code",
      "metadata": {
        "colab": {
          "base_uri": "https://localhost:8080/"
        },
        "id": "2bY9vgQCTnMI",
        "outputId": "27453273-6d2c-427c-b992-1395685844b4"
      },
      "source": [
        "classifier_model = build_classifier_model()\n",
        "bert_raw_result = classifier_model(tf.constant(text_test))\n",
        "print(tf.sigmoid(bert_raw_result))"
      ],
      "execution_count": null,
      "outputs": [
        {
          "output_type": "stream",
          "text": [
            "tf.Tensor(\n",
            "[[0.7414849 ]\n",
            " [0.72591954]], shape=(2, 1), dtype=float32)\n"
          ],
          "name": "stdout"
        }
      ]
    },
    {
      "cell_type": "code",
      "metadata": {
        "colab": {
          "base_uri": "https://localhost:8080/",
          "height": 466
        },
        "id": "rMFjMfpwTnJj",
        "outputId": "6f0313c9-95a8-46b3-b0a8-e422c34f7f51"
      },
      "source": [
        "tf.keras.utils.plot_model(classifier_model)"
      ],
      "execution_count": null,
      "outputs": [
        {
          "output_type": "execute_result",
          "data": {
            "image/png": "[encoded data removed]",
            "text/plain": [
              "<IPython.core.display.Image object>"
            ]
          },
          "metadata": {
            "tags": []
          },
          "execution_count": 39
        }
      ]
    },
    {
      "cell_type": "code",
      "metadata": {
        "id": "M76VTazRTnG5"
      },
      "source": [
        "loss = tf.keras.losses.BinaryCrossentropy(from_logits=True)\n",
        "metrics = tf.metrics.BinaryAccuracy()"
      ],
      "execution_count": null,
      "outputs": []
    },
    {
      "cell_type": "code",
      "metadata": {
        "id": "3UQpqg6ZXvPo",
        "colab": {
          "base_uri": "https://localhost:8080/",
          "height": 195
        },
        "outputId": "2919336a-b471-4865-8ba4-1a3cade3041f"
      },
      "source": [
        "df3 = pd.read_json(open(\"data3.json\", \"r\", encoding=\"utf8\"))\n",
        "texts_len = df3['text'].apply(len)\n",
        "df3.drop(df3[texts_len<50].index, inplace=True)\n",
        "df3['text'] = df3['title'] + df3['text']\n",
        "df3 = df3[['text', 'themes']]\n",
        "df3.head()"
      ],
      "execution_count": null,
      "outputs": [
        {
          "output_type": "execute_result",
          "data": {
            "text/html": [
              "<div>\n",
              "<style scoped>\n",
              "    .dataframe tbody tr th:only-of-type {\n",
              "        vertical-align: middle;\n",
              "    }\n",
              "\n",
              "    .dataframe tbody tr th {\n",
              "        vertical-align: top;\n",
              "    }\n",
              "\n",
              "    .dataframe thead th {\n",
              "        text-align: right;\n",
              "    }\n",
              "</style>\n",
              "<table border=\"1\" class=\"dataframe\">\n",
              "  <thead>\n",
              "    <tr style=\"text-align: right;\">\n",
              "      <th></th>\n",
              "      <th>text</th>\n",
              "      <th>themes</th>\n",
              "    </tr>\n",
              "  </thead>\n",
              "  <tbody>\n",
              "    <tr>\n",
              "      <th>0</th>\n",
              "      <td>Body and Soul II(for Coleman Hawkins)\\nThe str...</td>\n",
              "      <td>[0, 0, 0, 0, 0, 0, 0, 0, 0, 0, 0, 0, 0, 0, 0, ...</td>\n",
              "    </tr>\n",
              "    <tr>\n",
              "      <th>1</th>\n",
              "      <td>NovelI.\\n\\nNo one's serious at seventeen.\\n—On...</td>\n",
              "      <td>[0, 0, 0, 0, 0, 0, 0, 0, 0, 0, 0, 0, 0, 0, 0, ...</td>\n",
              "    </tr>\n",
              "    <tr>\n",
              "      <th>2</th>\n",
              "      <td>FlyingOne said to me tonight or was it day \\no...</td>\n",
              "      <td>[0, 0, 0, 0, 0, 0, 0, 0, 0, 0, 0, 0, 0, 0, 0, ...</td>\n",
              "    </tr>\n",
              "    <tr>\n",
              "      <th>3</th>\n",
              "      <td>Photograph of People Dancing in FranceIt's tru...</td>\n",
              "      <td>[0, 0, 0, 0, 0, 0, 0, 0, 0, 0, 0, 0, 0, 0, 0, ...</td>\n",
              "    </tr>\n",
              "    <tr>\n",
              "      <th>4</th>\n",
              "      <td>War PhotographA naked child is running\\nalong ...</td>\n",
              "      <td>[0, 0, 0, 0, 0, 0, 0, 0, 0, 0, 0, 0, 0, 0, 0, ...</td>\n",
              "    </tr>\n",
              "  </tbody>\n",
              "</table>\n",
              "</div>"
            ],
            "text/plain": [
              "                                                text                                             themes\n",
              "0  Body and Soul II(for Coleman Hawkins)\\nThe str...  [0, 0, 0, 0, 0, 0, 0, 0, 0, 0, 0, 0, 0, 0, 0, ...\n",
              "1  NovelI.\\n\\nNo one's serious at seventeen.\\n—On...  [0, 0, 0, 0, 0, 0, 0, 0, 0, 0, 0, 0, 0, 0, 0, ...\n",
              "2  FlyingOne said to me tonight or was it day \\no...  [0, 0, 0, 0, 0, 0, 0, 0, 0, 0, 0, 0, 0, 0, 0, ...\n",
              "3  Photograph of People Dancing in FranceIt's tru...  [0, 0, 0, 0, 0, 0, 0, 0, 0, 0, 0, 0, 0, 0, 0, ...\n",
              "4  War PhotographA naked child is running\\nalong ...  [0, 0, 0, 0, 0, 0, 0, 0, 0, 0, 0, 0, 0, 0, 0, ..."
            ]
          },
          "metadata": {
            "tags": []
          },
          "execution_count": 41
        }
      ]
    },
    {
      "cell_type": "code",
      "metadata": {
        "id": "nTD8vXRR5WVd"
      },
      "source": [
        "with open('themes3.json', 'r') as f:\n",
        "    theme_codes3 = json.load(f)"
      ],
      "execution_count": null,
      "outputs": []
    },
    {
      "cell_type": "code",
      "metadata": {
        "id": "HPE_B2NbXvNx"
      },
      "source": [
        "theme = 'arts & sciences'"
      ],
      "execution_count": null,
      "outputs": []
    },
    {
      "cell_type": "code",
      "metadata": {
        "colab": {
          "base_uri": "https://localhost:8080/"
        },
        "id": "3yVuSyTM5a0z",
        "outputId": "32cb1752-8cce-4451-d3cc-0cd744f6b279"
      },
      "source": [
        "theme_codes3[theme]"
      ],
      "execution_count": null,
      "outputs": [
        {
          "output_type": "execute_result",
          "data": {
            "text/plain": [
              "69"
            ]
          },
          "metadata": {
            "tags": []
          },
          "execution_count": 44
        }
      ]
    },
    {
      "cell_type": "code",
      "metadata": {
        "id": "l7fvjUGL5hNZ"
      },
      "source": [
        "theme_index = theme_codes3[theme]\n",
        "df3['themes'] = pd.Series([row['themes'][theme_index] for index, row in df3.iterrows()])"
      ],
      "execution_count": null,
      "outputs": []
    },
    {
      "cell_type": "code",
      "metadata": {
        "colab": {
          "base_uri": "https://localhost:8080/"
        },
        "id": "9SXiesEv7gvc",
        "outputId": "255b39be-7ce0-4df5-8355-ab25c0efb586"
      },
      "source": [
        "df3.shape"
      ],
      "execution_count": null,
      "outputs": [
        {
          "output_type": "execute_result",
          "data": {
            "text/plain": [
              "(16545, 2)"
            ]
          },
          "metadata": {
            "tags": []
          },
          "execution_count": 46
        }
      ]
    },
    {
      "cell_type": "code",
      "metadata": {
        "colab": {
          "base_uri": "https://localhost:8080/"
        },
        "id": "oH--c2-l5JJb",
        "outputId": "c0bae07c-553a-45bb-9321-95a44662ebdc"
      },
      "source": [
        "df3.isna().sum()"
      ],
      "execution_count": null,
      "outputs": [
        {
          "output_type": "execute_result",
          "data": {
            "text/plain": [
              "text        0\n",
              "themes    529\n",
              "dtype: int64"
            ]
          },
          "metadata": {
            "tags": []
          },
          "execution_count": 47
        }
      ]
    },
    {
      "cell_type": "code",
      "metadata": {
        "id": "0iilizaP5I7W"
      },
      "source": [
        "df3 = df3.dropna()"
      ],
      "execution_count": null,
      "outputs": []
    },
    {
      "cell_type": "code",
      "metadata": {
        "colab": {
          "base_uri": "https://localhost:8080/",
          "height": 195
        },
        "id": "lCbOR8j9WL9G",
        "outputId": "b8cfcb8b-5114-40a4-a3c6-16961303f572"
      },
      "source": [
        "df3.head()"
      ],
      "execution_count": null,
      "outputs": [
        {
          "output_type": "execute_result",
          "data": {
            "text/html": [
              "<div>\n",
              "<style scoped>\n",
              "    .dataframe tbody tr th:only-of-type {\n",
              "        vertical-align: middle;\n",
              "    }\n",
              "\n",
              "    .dataframe tbody tr th {\n",
              "        vertical-align: top;\n",
              "    }\n",
              "\n",
              "    .dataframe thead th {\n",
              "        text-align: right;\n",
              "    }\n",
              "</style>\n",
              "<table border=\"1\" class=\"dataframe\">\n",
              "  <thead>\n",
              "    <tr style=\"text-align: right;\">\n",
              "      <th></th>\n",
              "      <th>text</th>\n",
              "      <th>themes</th>\n",
              "    </tr>\n",
              "  </thead>\n",
              "  <tbody>\n",
              "    <tr>\n",
              "      <th>0</th>\n",
              "      <td>Body and Soul II(for Coleman Hawkins)\\nThe str...</td>\n",
              "      <td>0.0</td>\n",
              "    </tr>\n",
              "    <tr>\n",
              "      <th>1</th>\n",
              "      <td>NovelI.\\n\\nNo one's serious at seventeen.\\n—On...</td>\n",
              "      <td>0.0</td>\n",
              "    </tr>\n",
              "    <tr>\n",
              "      <th>2</th>\n",
              "      <td>FlyingOne said to me tonight or was it day \\no...</td>\n",
              "      <td>0.0</td>\n",
              "    </tr>\n",
              "    <tr>\n",
              "      <th>3</th>\n",
              "      <td>Photograph of People Dancing in FranceIt's tru...</td>\n",
              "      <td>1.0</td>\n",
              "    </tr>\n",
              "    <tr>\n",
              "      <th>4</th>\n",
              "      <td>War PhotographA naked child is running\\nalong ...</td>\n",
              "      <td>1.0</td>\n",
              "    </tr>\n",
              "  </tbody>\n",
              "</table>\n",
              "</div>"
            ],
            "text/plain": [
              "                                                text  themes\n",
              "0  Body and Soul II(for Coleman Hawkins)\\nThe str...     0.0\n",
              "1  NovelI.\\n\\nNo one's serious at seventeen.\\n—On...     0.0\n",
              "2  FlyingOne said to me tonight or was it day \\no...     0.0\n",
              "3  Photograph of People Dancing in FranceIt's tru...     1.0\n",
              "4  War PhotographA naked child is running\\nalong ...     1.0"
            ]
          },
          "metadata": {
            "tags": []
          },
          "execution_count": 49
        }
      ]
    },
    {
      "cell_type": "code",
      "metadata": {
        "id": "OvValwSSXvJ_"
      },
      "source": [
        "optimizer = Adam( learning_rate=5e-05, epsilon=1e-08, decay=0.01, clipnorm=1.0)"
      ],
      "execution_count": null,
      "outputs": []
    },
    {
      "cell_type": "code",
      "metadata": {
        "id": "_5QhL2ZBXvH2"
      },
      "source": [
        "classifier_model.compile(optimizer=optimizer,\n",
        "                         loss=loss,\n",
        "                         metrics=metrics)"
      ],
      "execution_count": null,
      "outputs": []
    },
    {
      "cell_type": "code",
      "metadata": {
        "colab": {
          "base_uri": "https://localhost:8080/"
        },
        "id": "6nnp9J009MPT",
        "outputId": "27eee9ad-52e2-4ca0-99ef-4aaa482f65a2"
      },
      "source": [
        "df3.isna().sum()"
      ],
      "execution_count": null,
      "outputs": [
        {
          "output_type": "execute_result",
          "data": {
            "text/plain": [
              "text      0\n",
              "themes    0\n",
              "dtype: int64"
            ]
          },
          "metadata": {
            "tags": []
          },
          "execution_count": 52
        }
      ]
    },
    {
      "cell_type": "code",
      "metadata": {
        "id": "ns48GdvJcP1Y"
      },
      "source": [
        "X_train, X_test, Y_train, Y_test = model_selection.train_test_split(df3['text'], df3['themes'], test_size=0.1, random_state=42)"
      ],
      "execution_count": null,
      "outputs": []
    },
    {
      "cell_type": "code",
      "metadata": {
        "colab": {
          "base_uri": "https://localhost:8080/"
        },
        "id": "5qw2NPE1aK1r",
        "outputId": "3f2e7960-294f-4146-9425-c119a33de2b7"
      },
      "source": [
        "classifier_model.summary()"
      ],
      "execution_count": null,
      "outputs": [
        {
          "output_type": "stream",
          "text": [
            "Model: \"model_1\"\n",
            "__________________________________________________________________________________________________\n",
            "Layer (type)                    Output Shape         Param #     Connected to                     \n",
            "==================================================================================================\n",
            "text (InputLayer)               [(None,)]            0                                            \n",
            "__________________________________________________________________________________________________\n",
            "preprocessing (KerasLayer)      {'input_type_ids': ( 0           text[0][0]                       \n",
            "__________________________________________________________________________________________________\n",
            "BERT_encoder (KerasLayer)       {'pooled_output': (N 28763649    preprocessing[0][0]              \n",
            "                                                                 preprocessing[0][1]              \n",
            "                                                                 preprocessing[0][2]              \n",
            "__________________________________________________________________________________________________\n",
            "dropout_1 (Dropout)             (None, 512)          0           BERT_encoder[0][5]               \n",
            "__________________________________________________________________________________________________\n",
            "classifier (Dense)              (None, 1)            513         dropout_1[0][0]                  \n",
            "==================================================================================================\n",
            "Total params: 28,764,162\n",
            "Trainable params: 28,764,161\n",
            "Non-trainable params: 1\n",
            "__________________________________________________________________________________________________\n"
          ],
          "name": "stdout"
        }
      ]
    },
    {
      "cell_type": "code",
      "metadata": {
        "id": "WKAfPkxZXvFc",
        "colab": {
          "base_uri": "https://localhost:8080/"
        },
        "outputId": "be624a44-866d-4215-d2b1-7c15b3a1982c"
      },
      "source": [
        "print(f'Training model with {tfhub_handle_encoder}')\n",
        "history = classifier_model.fit(x=X_train, y=Y_train, \n",
        "                               validation_data=(np.array(X_test),np.array(Y_test)),\n",
        "                               epochs=3)"
      ],
      "execution_count": null,
      "outputs": [
        {
          "output_type": "stream",
          "text": [
            "Training model with https://tfhub.dev/tensorflow/small_bert/bert_en_uncased_L-4_H-512_A-8/1\n",
            "Epoch 1/3\n",
            "451/451 [==============================] - 111s 231ms/step - loss: 0.4419 - binary_accuracy: 0.8454 - val_loss: 0.4349 - val_binary_accuracy: 0.8427\n",
            "Epoch 2/3\n",
            "451/451 [==============================] - 104s 230ms/step - loss: 0.4311 - binary_accuracy: 0.8475 - val_loss: 0.4378 - val_binary_accuracy: 0.8427\n",
            "Epoch 3/3\n",
            "451/451 [==============================] - 105s 232ms/step - loss: 0.4251 - binary_accuracy: 0.8475 - val_loss: 0.4359 - val_binary_accuracy: 0.8427\n"
          ],
          "name": "stdout"
        }
      ]
    },
    {
      "cell_type": "code",
      "metadata": {
        "id": "pX7crN_QXvDG"
      },
      "source": [
        ""
      ],
      "execution_count": null,
      "outputs": []
    },
    {
      "cell_type": "code",
      "metadata": {
        "id": "WyKYq1Cg8KxK"
      },
      "source": [
        "themes_to_predict = ['arts & sciences', 'living', 'social commentaries', \n",
        "                     'relationships', 'love', 'nature', 'war', 'lgbtq', 'audio & music', 'public domain', \n",
        "                     'body', 'death', 'summer', 'religion', 'violence']"
      ],
      "execution_count": null,
      "outputs": []
    },
    {
      "cell_type": "code",
      "metadata": {
        "id": "1yyIjugtXPW0"
      },
      "source": [
        "optimizer = Adam( learning_rate=5e-05, epsilon=1e-08, decay=0.01, clipnorm=1.0)\n",
        "classifier_model.compile(optimizer=optimizer,\n",
        "                         loss=loss,\n",
        "                         metrics=metrics)"
      ],
      "execution_count": null,
      "outputs": []
    },
    {
      "cell_type": "code",
      "metadata": {
        "id": "Ub-JWCIn8KvD",
        "colab": {
          "base_uri": "https://localhost:8080/"
        },
        "outputId": "5479600f-dab9-4bbf-ac50-64d1171a2885"
      },
      "source": [
        "df3 = pd.read_json(open(\"data3.json\", \"r\", encoding=\"utf8\"))\n",
        "texts_len = df3['text'].apply(len)\n",
        "df3.drop(df3[texts_len<50].index, inplace=True)\n",
        "df3['text'] = df3['title'] + df3['text']\n",
        "df3 = df3[['text', 'themes']]\n",
        "print(f'Training model with {tfhub_handle_encoder}')\n",
        "for theme in themes_to_predict:\n",
        "  print(\"theme - \", theme)\n",
        "  theme_index = theme_codes3[theme]\n",
        "  df3_c = df3.copy()\n",
        "  df3_c['themes'] = pd.Series([row['themes'][theme_index] for index, row in df3_c.iterrows()])\n",
        "  df3_c = df3_c.dropna()\n",
        "  X_train, X_test, Y_train, Y_test = model_selection.train_test_split(df3_c['text'], df3_c['themes'], test_size=0.1, random_state=42)\n",
        "  history = classifier_model.fit(x=X_train, y=Y_train, \n",
        "                               validation_data=(np.array(X_test),np.array(Y_test)),\n",
        "                               epochs=3)"
      ],
      "execution_count": null,
      "outputs": [
        {
          "output_type": "stream",
          "text": [
            "Training model with https://tfhub.dev/tensorflow/small_bert/bert_en_uncased_L-4_H-512_A-8/1\n",
            "theme -  arts & sciences\n",
            "Epoch 1/3\n",
            "451/451 [==============================] - 104s 230ms/step - loss: 0.4269 - binary_accuracy: 0.8475 - val_loss: 0.5247 - val_binary_accuracy: 0.7937\n",
            "Epoch 2/3\n",
            "451/451 [==============================] - 104s 230ms/step - loss: 0.4246 - binary_accuracy: 0.8475 - val_loss: 0.5252 - val_binary_accuracy: 0.7937\n",
            "Epoch 3/3\n",
            "451/451 [==============================] - 104s 230ms/step - loss: 0.4221 - binary_accuracy: 0.8475 - val_loss: 0.5313 - val_binary_accuracy: 0.7937\n",
            "theme -  living\n",
            "Epoch 1/3\n",
            "451/451 [==============================] - 103s 229ms/step - loss: 0.6552 - binary_accuracy: 0.6559 - val_loss: 0.6207 - val_binary_accuracy: 0.6779\n",
            "Epoch 2/3\n",
            "451/451 [==============================] - 104s 230ms/step - loss: 0.6442 - binary_accuracy: 0.6559 - val_loss: 0.6213 - val_binary_accuracy: 0.6779\n",
            "Epoch 3/3\n",
            "451/451 [==============================] - 103s 229ms/step - loss: 0.6424 - binary_accuracy: 0.6557 - val_loss: 0.6223 - val_binary_accuracy: 0.6779\n",
            "theme -  social commentaries\n",
            "Epoch 1/3\n",
            "451/451 [==============================] - 104s 230ms/step - loss: 0.5247 - binary_accuracy: 0.7874 - val_loss: 0.5073 - val_binary_accuracy: 0.7903\n",
            "Epoch 2/3\n",
            "451/451 [==============================] - 103s 229ms/step - loss: 0.5169 - binary_accuracy: 0.7874 - val_loss: 0.5072 - val_binary_accuracy: 0.7903\n",
            "Epoch 3/3\n",
            "451/451 [==============================] - 103s 229ms/step - loss: 0.5163 - binary_accuracy: 0.7874 - val_loss: 0.5071 - val_binary_accuracy: 0.7903\n",
            "theme -  relationships\n",
            "Epoch 1/3\n",
            "451/451 [==============================] - 104s 230ms/step - loss: 0.4880 - binary_accuracy: 0.8109 - val_loss: 0.4911 - val_binary_accuracy: 0.8084\n",
            "Epoch 2/3\n",
            "451/451 [==============================] - 104s 230ms/step - loss: 0.4862 - binary_accuracy: 0.8109 - val_loss: 0.4900 - val_binary_accuracy: 0.8084\n",
            "Epoch 3/3\n",
            "451/451 [==============================] - 103s 229ms/step - loss: 0.4885 - binary_accuracy: 0.8109 - val_loss: 0.4894 - val_binary_accuracy: 0.8084\n",
            "theme -  love\n",
            "Epoch 1/3\n",
            "451/451 [==============================] - 103s 229ms/step - loss: 0.3822 - binary_accuracy: 0.8760 - val_loss: 0.3819 - val_binary_accuracy: 0.8733\n",
            "Epoch 2/3\n",
            "451/451 [==============================] - 104s 230ms/step - loss: 0.3805 - binary_accuracy: 0.8760 - val_loss: 0.3817 - val_binary_accuracy: 0.8733\n",
            "Epoch 3/3\n",
            "451/451 [==============================] - 103s 229ms/step - loss: 0.3789 - binary_accuracy: 0.8760 - val_loss: 0.3815 - val_binary_accuracy: 0.8733\n",
            "theme -  nature\n",
            "Epoch 1/3\n",
            "451/451 [==============================] - 103s 229ms/step - loss: 0.5215 - binary_accuracy: 0.7919 - val_loss: 0.4968 - val_binary_accuracy: 0.8027\n",
            "Epoch 2/3\n",
            "451/451 [==============================] - 104s 230ms/step - loss: 0.5193 - binary_accuracy: 0.7919 - val_loss: 0.4963 - val_binary_accuracy: 0.8027\n",
            "Epoch 3/3\n",
            "451/451 [==============================] - 104s 230ms/step - loss: 0.5173 - binary_accuracy: 0.7919 - val_loss: 0.4961 - val_binary_accuracy: 0.8027\n",
            "theme -  war\n",
            "Epoch 1/3\n",
            "451/451 [==============================] - 103s 229ms/step - loss: 0.2461 - binary_accuracy: 0.9407 - val_loss: 0.2528 - val_binary_accuracy: 0.9295\n",
            "Epoch 2/3\n",
            "451/451 [==============================] - 103s 229ms/step - loss: 0.2262 - binary_accuracy: 0.9407 - val_loss: 0.2544 - val_binary_accuracy: 0.9295\n",
            "Epoch 3/3\n",
            "451/451 [==============================] - 103s 229ms/step - loss: 0.2271 - binary_accuracy: 0.9407 - val_loss: 0.2548 - val_binary_accuracy: 0.9295\n",
            "theme -  lgbtq\n",
            "Epoch 1/3\n",
            "451/451 [==============================] - 103s 229ms/step - loss: 0.2145 - binary_accuracy: 0.9457 - val_loss: 0.1813 - val_binary_accuracy: 0.9557\n",
            "Epoch 2/3\n",
            "451/451 [==============================] - 104s 230ms/step - loss: 0.2145 - binary_accuracy: 0.9457 - val_loss: 0.1811 - val_binary_accuracy: 0.9557\n",
            "Epoch 3/3\n",
            "451/451 [==============================] - 104s 230ms/step - loss: 0.2145 - binary_accuracy: 0.9457 - val_loss: 0.1814 - val_binary_accuracy: 0.9557\n",
            "theme -  audio & music\n",
            "Epoch 1/3\n",
            "451/451 [==============================] - 104s 230ms/step - loss: 0.3629 - binary_accuracy: 0.8898 - val_loss: 0.3629 - val_binary_accuracy: 0.8864\n",
            "Epoch 2/3\n",
            "451/451 [==============================] - 103s 229ms/step - loss: 0.3562 - binary_accuracy: 0.8898 - val_loss: 0.3613 - val_binary_accuracy: 0.8864\n",
            "Epoch 3/3\n",
            "451/451 [==============================] - 103s 229ms/step - loss: 0.3552 - binary_accuracy: 0.8898 - val_loss: 0.3604 - val_binary_accuracy: 0.8864\n",
            "theme -  public domain\n",
            "Epoch 1/3\n",
            "451/451 [==============================] - 103s 228ms/step - loss: 0.1871 - binary_accuracy: 0.9586 - val_loss: 0.1687 - val_binary_accuracy: 0.9607\n",
            "Epoch 2/3\n",
            "451/451 [==============================] - 103s 228ms/step - loss: 0.1768 - binary_accuracy: 0.9586 - val_loss: 0.1672 - val_binary_accuracy: 0.9607\n",
            "Epoch 3/3\n",
            "451/451 [==============================] - 103s 228ms/step - loss: 0.1760 - binary_accuracy: 0.9586 - val_loss: 0.1670 - val_binary_accuracy: 0.9607\n",
            "theme -  body\n",
            "Epoch 1/3\n",
            "451/451 [==============================] - 103s 228ms/step - loss: 0.3471 - binary_accuracy: 0.8970 - val_loss: 0.3211 - val_binary_accuracy: 0.9014\n",
            "Epoch 2/3\n",
            "451/451 [==============================] - 103s 228ms/step - loss: 0.3355 - binary_accuracy: 0.8970 - val_loss: 0.3199 - val_binary_accuracy: 0.9014\n",
            "Epoch 3/3\n",
            "451/451 [==============================] - 103s 230ms/step - loss: 0.3352 - binary_accuracy: 0.8970 - val_loss: 0.3197 - val_binary_accuracy: 0.9014\n",
            "theme -  death\n",
            "Epoch 1/3\n",
            "451/451 [==============================] - 104s 230ms/step - loss: 0.3526 - binary_accuracy: 0.8893 - val_loss: 0.3162 - val_binary_accuracy: 0.9039\n",
            "Epoch 2/3\n",
            "451/451 [==============================] - 104s 230ms/step - loss: 0.3506 - binary_accuracy: 0.8893 - val_loss: 0.3164 - val_binary_accuracy: 0.9039\n",
            "Epoch 3/3\n",
            "451/451 [==============================] - 103s 229ms/step - loss: 0.3525 - binary_accuracy: 0.8893 - val_loss: 0.3165 - val_binary_accuracy: 0.9039\n",
            "theme -  summer\n",
            "Epoch 1/3\n",
            "451/451 [==============================] - 103s 229ms/step - loss: 0.1191 - binary_accuracy: 0.9825 - val_loss: 0.0891 - val_binary_accuracy: 0.9850\n",
            "Epoch 2/3\n",
            "451/451 [==============================] - 103s 228ms/step - loss: 0.0956 - binary_accuracy: 0.9825 - val_loss: 0.0807 - val_binary_accuracy: 0.9850\n",
            "Epoch 3/3\n",
            "451/451 [==============================] - 103s 228ms/step - loss: 0.0909 - binary_accuracy: 0.9825 - val_loss: 0.0784 - val_binary_accuracy: 0.9850\n",
            "theme -  religion\n",
            "Epoch 1/3\n",
            "451/451 [==============================] - 103s 228ms/step - loss: 0.3066 - binary_accuracy: 0.9183 - val_loss: 0.2694 - val_binary_accuracy: 0.9251\n",
            "Epoch 2/3\n",
            "451/451 [==============================] - 104s 230ms/step - loss: 0.2872 - binary_accuracy: 0.9183 - val_loss: 0.2651 - val_binary_accuracy: 0.9251\n",
            "Epoch 3/3\n",
            "451/451 [==============================] - 103s 229ms/step - loss: 0.2847 - binary_accuracy: 0.9183 - val_loss: 0.2649 - val_binary_accuracy: 0.9251\n",
            "theme -  violence\n",
            "Epoch 1/3\n",
            "451/451 [==============================] - 103s 227ms/step - loss: 0.0733 - binary_accuracy: 0.9929 - val_loss: 0.0507 - val_binary_accuracy: 0.9944\n",
            "Epoch 2/3\n",
            "451/451 [==============================] - 104s 230ms/step - loss: 0.0527 - binary_accuracy: 0.9929 - val_loss: 0.0413 - val_binary_accuracy: 0.9944\n",
            "Epoch 3/3\n",
            "451/451 [==============================] - 105s 232ms/step - loss: 0.0468 - binary_accuracy: 0.9929 - val_loss: 0.0378 - val_binary_accuracy: 0.9944\n"
          ],
          "name": "stdout"
        }
      ]
    },
    {
      "cell_type": "code",
      "metadata": {
        "id": "xV8puuuL8Ksy"
      },
      "source": [
        ""
      ],
      "execution_count": null,
      "outputs": []
    },
    {
      "cell_type": "code",
      "metadata": {
        "id": "LHio-HYi8Kqu"
      },
      "source": [
        ""
      ],
      "execution_count": null,
      "outputs": []
    },
    {
      "cell_type": "code",
      "metadata": {
        "id": "G6DikrKj8Koh"
      },
      "source": [
        ""
      ],
      "execution_count": null,
      "outputs": []
    },
    {
      "cell_type": "code",
      "metadata": {
        "id": "xMDbZhVGXvAx"
      },
      "source": [
        ""
      ],
      "execution_count": null,
      "outputs": []
    }
  ]
}