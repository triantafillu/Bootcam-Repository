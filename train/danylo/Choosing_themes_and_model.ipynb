{
  "nbformat": 4,
  "nbformat_minor": 0,
  "metadata": {
    "colab": {
      "name": "Choosing_themes_and_model.ipynb",
      "provenance": []
    },
    "kernelspec": {
      "name": "python3",
      "display_name": "Python 3"
    },
    "language_info": {
      "name": "python"
    },
    "accelerator": "GPU"
  },
  "cells": [
    {
      "cell_type": "code",
      "metadata": {
        "id": "hc4hWMaL3aKJ"
      },
      "source": [
        "import pandas as pd\n",
        "import spacy, json\n",
        "from sklearn import model_selection\n",
        "from sklearn.metrics import confusion_matrix, ConfusionMatrixDisplay\n",
        "import numpy as np\n",
        "\n",
        "\n",
        "import matplotlib.pyplot as plt\n",
        "from tensorflow import keras\n",
        "from tensorflow.keras import layers, models"
      ],
      "execution_count": 81,
      "outputs": []
    },
    {
      "cell_type": "code",
      "metadata": {
        "id": "kF0xF2bIGlBA"
      },
      "source": [
        "df = pd.read_json(open(\"data.json\", \"r\", encoding=\"utf8\"))\n",
        "\n",
        "with open('themes.json', 'r') as f:\n",
        "    theme_codes = json.load(f)"
      ],
      "execution_count": 82,
      "outputs": []
    },
    {
      "cell_type": "code",
      "metadata": {
        "id": "6xob1V-IoUpr"
      },
      "source": [
        "metrics = pd.read_csv('metrics.csv', index_col=0)"
      ],
      "execution_count": 83,
      "outputs": []
    },
    {
      "cell_type": "code",
      "metadata": {
        "colab": {
          "base_uri": "https://localhost:8080/",
          "height": 639
        },
        "id": "XaigsoMuoYOH",
        "outputId": "96a196ca-14c9-49cd-d350-d90aa5215d9e"
      },
      "source": [
        "metrics.sort_values(by=['val_auc'], ascending=False).head(20)"
      ],
      "execution_count": 84,
      "outputs": [
        {
          "output_type": "execute_result",
          "data": {
            "text/html": [
              "<div>\n",
              "<style scoped>\n",
              "    .dataframe tbody tr th:only-of-type {\n",
              "        vertical-align: middle;\n",
              "    }\n",
              "\n",
              "    .dataframe tbody tr th {\n",
              "        vertical-align: top;\n",
              "    }\n",
              "\n",
              "    .dataframe thead th {\n",
              "        text-align: right;\n",
              "    }\n",
              "</style>\n",
              "<table border=\"1\" class=\"dataframe\">\n",
              "  <thead>\n",
              "    <tr style=\"text-align: right;\">\n",
              "      <th></th>\n",
              "      <th>theme</th>\n",
              "      <th>accuracy</th>\n",
              "      <th>auc</th>\n",
              "      <th>val_accuracy</th>\n",
              "      <th>val_auc</th>\n",
              "    </tr>\n",
              "  </thead>\n",
              "  <tbody>\n",
              "    <tr>\n",
              "      <th>92</th>\n",
              "      <td>spanish</td>\n",
              "      <td>0.997788</td>\n",
              "      <td>0.817742</td>\n",
              "      <td>0.999314</td>\n",
              "      <td>1.000000</td>\n",
              "    </tr>\n",
              "    <tr>\n",
              "      <th>91</th>\n",
              "      <td>veterans day</td>\n",
              "      <td>0.998551</td>\n",
              "      <td>0.502356</td>\n",
              "      <td>0.999314</td>\n",
              "      <td>0.989011</td>\n",
              "    </tr>\n",
              "    <tr>\n",
              "      <th>58</th>\n",
              "      <td>autumn</td>\n",
              "      <td>0.990314</td>\n",
              "      <td>0.699268</td>\n",
              "      <td>0.991764</td>\n",
              "      <td>0.900433</td>\n",
              "    </tr>\n",
              "    <tr>\n",
              "      <th>25</th>\n",
              "      <td>public domain</td>\n",
              "      <td>0.962401</td>\n",
              "      <td>0.782370</td>\n",
              "      <td>0.970487</td>\n",
              "      <td>0.894540</td>\n",
              "    </tr>\n",
              "    <tr>\n",
              "      <th>120</th>\n",
              "      <td>writing</td>\n",
              "      <td>0.997026</td>\n",
              "      <td>0.556531</td>\n",
              "      <td>0.996568</td>\n",
              "      <td>0.891804</td>\n",
              "    </tr>\n",
              "    <tr>\n",
              "      <th>11</th>\n",
              "      <td>winter</td>\n",
              "      <td>0.983298</td>\n",
              "      <td>0.841221</td>\n",
              "      <td>0.972546</td>\n",
              "      <td>0.884536</td>\n",
              "    </tr>\n",
              "    <tr>\n",
              "      <th>76</th>\n",
              "      <td>water</td>\n",
              "      <td>0.971934</td>\n",
              "      <td>0.907987</td>\n",
              "      <td>0.971860</td>\n",
              "      <td>0.882093</td>\n",
              "    </tr>\n",
              "    <tr>\n",
              "      <th>56</th>\n",
              "      <td>plants</td>\n",
              "      <td>0.958206</td>\n",
              "      <td>0.825269</td>\n",
              "      <td>0.960192</td>\n",
              "      <td>0.851465</td>\n",
              "    </tr>\n",
              "    <tr>\n",
              "      <th>23</th>\n",
              "      <td>animals</td>\n",
              "      <td>0.934182</td>\n",
              "      <td>0.830411</td>\n",
              "      <td>0.917639</td>\n",
              "      <td>0.844710</td>\n",
              "    </tr>\n",
              "    <tr>\n",
              "      <th>41</th>\n",
              "      <td>summer</td>\n",
              "      <td>0.984976</td>\n",
              "      <td>0.881418</td>\n",
              "      <td>0.978037</td>\n",
              "      <td>0.840515</td>\n",
              "    </tr>\n",
              "    <tr>\n",
              "      <th>199</th>\n",
              "      <td>common measure</td>\n",
              "      <td>0.996110</td>\n",
              "      <td>0.577679</td>\n",
              "      <td>0.997255</td>\n",
              "      <td>0.840330</td>\n",
              "    </tr>\n",
              "    <tr>\n",
              "      <th>191</th>\n",
              "      <td>sestina</td>\n",
              "      <td>0.999161</td>\n",
              "      <td>0.519485</td>\n",
              "      <td>0.999314</td>\n",
              "      <td>0.838599</td>\n",
              "    </tr>\n",
              "    <tr>\n",
              "      <th>16</th>\n",
              "      <td>city</td>\n",
              "      <td>0.953173</td>\n",
              "      <td>0.802948</td>\n",
              "      <td>0.954015</td>\n",
              "      <td>0.836051</td>\n",
              "    </tr>\n",
              "    <tr>\n",
              "      <th>170</th>\n",
              "      <td>sonnet</td>\n",
              "      <td>0.975976</td>\n",
              "      <td>0.809631</td>\n",
              "      <td>0.978723</td>\n",
              "      <td>0.831632</td>\n",
              "    </tr>\n",
              "    <tr>\n",
              "      <th>6</th>\n",
              "      <td>violence</td>\n",
              "      <td>0.992907</td>\n",
              "      <td>0.673156</td>\n",
              "      <td>0.989705</td>\n",
              "      <td>0.827670</td>\n",
              "    </tr>\n",
              "    <tr>\n",
              "      <th>77</th>\n",
              "      <td>native american heritage month</td>\n",
              "      <td>0.994890</td>\n",
              "      <td>0.581246</td>\n",
              "      <td>0.993823</td>\n",
              "      <td>0.820442</td>\n",
              "    </tr>\n",
              "    <tr>\n",
              "      <th>184</th>\n",
              "      <td>rhymed stanza</td>\n",
              "      <td>0.945699</td>\n",
              "      <td>0.724919</td>\n",
              "      <td>0.935484</td>\n",
              "      <td>0.820308</td>\n",
              "    </tr>\n",
              "    <tr>\n",
              "      <th>178</th>\n",
              "      <td>ode</td>\n",
              "      <td>0.996568</td>\n",
              "      <td>0.602712</td>\n",
              "      <td>0.995882</td>\n",
              "      <td>0.819952</td>\n",
              "    </tr>\n",
              "    <tr>\n",
              "      <th>66</th>\n",
              "      <td>youth</td>\n",
              "      <td>0.968655</td>\n",
              "      <td>0.683346</td>\n",
              "      <td>0.972546</td>\n",
              "      <td>0.817255</td>\n",
              "    </tr>\n",
              "    <tr>\n",
              "      <th>13</th>\n",
              "      <td>food</td>\n",
              "      <td>0.971782</td>\n",
              "      <td>0.812274</td>\n",
              "      <td>0.970487</td>\n",
              "      <td>0.809295</td>\n",
              "    </tr>\n",
              "  </tbody>\n",
              "</table>\n",
              "</div>"
            ],
            "text/plain": [
              "                              theme  accuracy       auc  val_accuracy   val_auc\n",
              "92                          spanish  0.997788  0.817742      0.999314  1.000000\n",
              "91                     veterans day  0.998551  0.502356      0.999314  0.989011\n",
              "58                           autumn  0.990314  0.699268      0.991764  0.900433\n",
              "25                    public domain  0.962401  0.782370      0.970487  0.894540\n",
              "120                         writing  0.997026  0.556531      0.996568  0.891804\n",
              "11                           winter  0.983298  0.841221      0.972546  0.884536\n",
              "76                            water  0.971934  0.907987      0.971860  0.882093\n",
              "56                           plants  0.958206  0.825269      0.960192  0.851465\n",
              "23                          animals  0.934182  0.830411      0.917639  0.844710\n",
              "41                           summer  0.984976  0.881418      0.978037  0.840515\n",
              "199                  common measure  0.996110  0.577679      0.997255  0.840330\n",
              "191                         sestina  0.999161  0.519485      0.999314  0.838599\n",
              "16                             city  0.953173  0.802948      0.954015  0.836051\n",
              "170                          sonnet  0.975976  0.809631      0.978723  0.831632\n",
              "6                          violence  0.992907  0.673156      0.989705  0.827670\n",
              "77   native american heritage month  0.994890  0.581246      0.993823  0.820442\n",
              "184                   rhymed stanza  0.945699  0.724919      0.935484  0.820308\n",
              "178                             ode  0.996568  0.602712      0.995882  0.819952\n",
              "66                            youth  0.968655  0.683346      0.972546  0.817255\n",
              "13                             food  0.971782  0.812274      0.970487  0.809295"
            ]
          },
          "metadata": {
            "tags": []
          },
          "execution_count": 84
        }
      ]
    },
    {
      "cell_type": "code",
      "metadata": {
        "id": "GFBUrLKMGkzV"
      },
      "source": [
        "texts_len = df['text'].apply(len)\n",
        "df.drop(df[texts_len<50].index, inplace=True)"
      ],
      "execution_count": 85,
      "outputs": []
    },
    {
      "cell_type": "code",
      "metadata": {
        "id": "fpgSIfUzGkip"
      },
      "source": [
        "max_features = 10000  # maximum number of words in vocabulari 5000\n",
        "max_len = 150  # max length of string"
      ],
      "execution_count": 86,
      "outputs": []
    },
    {
      "cell_type": "code",
      "metadata": {
        "id": "TCfGpuwyGkhK"
      },
      "source": [
        "joined_text = df['title'] + df['text']\n",
        "X = keras.preprocessing.sequence.pad_sequences(list(joined_text), maxlen=max_len, padding='post')"
      ],
      "execution_count": 87,
      "outputs": []
    },
    {
      "cell_type": "code",
      "metadata": {
        "id": "ZhTFE6P3qIpx"
      },
      "source": [
        ""
      ],
      "execution_count": 168,
      "outputs": []
    },
    {
      "cell_type": "code",
      "metadata": {
        "colab": {
          "base_uri": "https://localhost:8080/"
        },
        "id": "_jVg00mCGke-",
        "outputId": "997dde84-3ac3-4ab4-f885-b87d8e020bc3"
      },
      "source": [
        "embedding_dim = 128\n",
        "bin_mod = keras.models.Sequential([\n",
        "  keras.layers.Embedding(input_dim=max_features,\n",
        "                           output_dim=embedding_dim,\n",
        "                           input_length=max_len),\n",
        "  keras.layers.Flatten(),\n",
        "  keras.layers.Dense(2000,activation='relu'),\n",
        "  keras.layers.Dense(500,activation='relu'),\n",
        "  keras.layers.Dense(100,activation='relu'),\n",
        "  keras.layers.Dense(1, activation='sigmoid')\n",
        "])\n",
        "\n",
        "bin_mod.compile(optimizer='nadam',\n",
        "              loss='binary_crossentropy',\n",
        "              metrics=['binary_accuracy'])\n",
        "\n",
        "bin_mod.summary()"
      ],
      "execution_count": 88,
      "outputs": [
        {
          "output_type": "stream",
          "text": [
            "Model: \"sequential_1\"\n",
            "_________________________________________________________________\n",
            "Layer (type)                 Output Shape              Param #   \n",
            "=================================================================\n",
            "embedding_1 (Embedding)      (None, 150, 128)          1280000   \n",
            "_________________________________________________________________\n",
            "flatten_1 (Flatten)          (None, 19200)             0         \n",
            "_________________________________________________________________\n",
            "dense_4 (Dense)              (None, 2000)              38402000  \n",
            "_________________________________________________________________\n",
            "dense_5 (Dense)              (None, 500)               1000500   \n",
            "_________________________________________________________________\n",
            "dense_6 (Dense)              (None, 100)               50100     \n",
            "_________________________________________________________________\n",
            "dense_7 (Dense)              (None, 1)                 101       \n",
            "=================================================================\n",
            "Total params: 40,732,701\n",
            "Trainable params: 40,732,701\n",
            "Non-trainable params: 0\n",
            "_________________________________________________________________\n"
          ],
          "name": "stdout"
        }
      ]
    },
    {
      "cell_type": "code",
      "metadata": {
        "colab": {
          "base_uri": "https://localhost:8080/"
        },
        "id": "tslfeZ8VzyOj",
        "outputId": "dfb8bd6f-7941-4cd9-eaac-a9b25d761b8a"
      },
      "source": [
        "len(df['themes'][0])"
      ],
      "execution_count": 89,
      "outputs": [
        {
          "output_type": "execute_result",
          "data": {
            "text/plain": [
              "93"
            ]
          },
          "metadata": {
            "tags": []
          },
          "execution_count": 89
        }
      ]
    },
    {
      "cell_type": "code",
      "metadata": {
        "id": "Pm8Vp99I1poT"
      },
      "source": [
        "df = df.reset_index(drop=True)"
      ],
      "execution_count": 90,
      "outputs": []
    },
    {
      "cell_type": "code",
      "metadata": {
        "id": "SI9gkiNgzyMN"
      },
      "source": [
        "frequencies = []\n",
        "for i in range(93):\n",
        "  t = 0 \n",
        "  print(i, ' theme')\n",
        "  for j in range(df.shape[0]):\n",
        "    t += df['themes'][j][i]\n",
        "  frequencies.append(t)\n",
        "  print(t)"
      ],
      "execution_count": null,
      "outputs": []
    },
    {
      "cell_type": "code",
      "metadata": {
        "id": "4t7f-aNQzyJt"
      },
      "source": [
        "frequencies = np.array(frequencies)"
      ],
      "execution_count": 92,
      "outputs": []
    },
    {
      "cell_type": "code",
      "metadata": {
        "colab": {
          "base_uri": "https://localhost:8080/"
        },
        "id": "ijVrnhhIzyCi",
        "outputId": "f1b630b7-6eb1-42db-c1c0-a8bd5a0850c1"
      },
      "source": [
        "frequencies[(-frequencies).argsort()[:15]]"
      ],
      "execution_count": 93,
      "outputs": [
        {
          "output_type": "execute_result",
          "data": {
            "text/plain": [
              "array([2653, 2624, 2209, 2042, 1671, 1519, 1488, 1419, 1412, 1406, 1296,\n",
              "       1140, 1122, 1098, 1097])"
            ]
          },
          "metadata": {
            "tags": []
          },
          "execution_count": 93
        }
      ]
    },
    {
      "cell_type": "code",
      "metadata": {
        "colab": {
          "base_uri": "https://localhost:8080/"
        },
        "id": "Q8MnzlY74Kj0",
        "outputId": "ecc00e52-edaa-42f4-804f-e03e4241bb23"
      },
      "source": [
        "for i in (-frequencies).argsort()[:15]:\n",
        "  for key, value in theme_codes.items():\n",
        "    if value == i:\n",
        "      print(key)"
      ],
      "execution_count": 94,
      "outputs": [
        {
          "output_type": "stream",
          "text": [
            "nature\n",
            "free verse\n",
            "family\n",
            "arts & sciences\n",
            "love\n",
            "activities\n",
            "death\n",
            "audio & music\n",
            "history & politics\n",
            "body\n",
            "heartache\n",
            "animals\n",
            "religion\n",
            "related audio\n",
            "life\n"
          ],
          "name": "stdout"
        }
      ]
    },
    {
      "cell_type": "code",
      "metadata": {
        "colab": {
          "base_uri": "https://localhost:8080/",
          "height": 195
        },
        "id": "sltkdSzK4KfP",
        "outputId": "283f888f-d76c-4035-efe9-6284a170a96e"
      },
      "source": [
        "metrics.loc[np.isin(metrics['theme'], ['nature', 'family', 'love', 'body', 'animals'])]"
      ],
      "execution_count": 95,
      "outputs": [
        {
          "output_type": "execute_result",
          "data": {
            "text/html": [
              "<div>\n",
              "<style scoped>\n",
              "    .dataframe tbody tr th:only-of-type {\n",
              "        vertical-align: middle;\n",
              "    }\n",
              "\n",
              "    .dataframe tbody tr th {\n",
              "        vertical-align: top;\n",
              "    }\n",
              "\n",
              "    .dataframe thead th {\n",
              "        text-align: right;\n",
              "    }\n",
              "</style>\n",
              "<table border=\"1\" class=\"dataframe\">\n",
              "  <thead>\n",
              "    <tr style=\"text-align: right;\">\n",
              "      <th></th>\n",
              "      <th>theme</th>\n",
              "      <th>accuracy</th>\n",
              "      <th>auc</th>\n",
              "      <th>val_accuracy</th>\n",
              "      <th>val_auc</th>\n",
              "    </tr>\n",
              "  </thead>\n",
              "  <tbody>\n",
              "    <tr>\n",
              "      <th>19</th>\n",
              "      <td>love</td>\n",
              "      <td>0.903066</td>\n",
              "      <td>0.845221</td>\n",
              "      <td>0.879204</td>\n",
              "      <td>0.784648</td>\n",
              "    </tr>\n",
              "    <tr>\n",
              "      <th>21</th>\n",
              "      <td>family</td>\n",
              "      <td>0.884228</td>\n",
              "      <td>0.839063</td>\n",
              "      <td>0.845573</td>\n",
              "      <td>0.764832</td>\n",
              "    </tr>\n",
              "    <tr>\n",
              "      <th>23</th>\n",
              "      <td>animals</td>\n",
              "      <td>0.934182</td>\n",
              "      <td>0.830411</td>\n",
              "      <td>0.917639</td>\n",
              "      <td>0.844710</td>\n",
              "    </tr>\n",
              "    <tr>\n",
              "      <th>49</th>\n",
              "      <td>nature</td>\n",
              "      <td>0.864780</td>\n",
              "      <td>0.826962</td>\n",
              "      <td>0.803706</td>\n",
              "      <td>0.763794</td>\n",
              "    </tr>\n",
              "    <tr>\n",
              "      <th>102</th>\n",
              "      <td>body</td>\n",
              "      <td>0.912980</td>\n",
              "      <td>0.860462</td>\n",
              "      <td>0.890185</td>\n",
              "      <td>0.709753</td>\n",
              "    </tr>\n",
              "  </tbody>\n",
              "</table>\n",
              "</div>"
            ],
            "text/plain": [
              "       theme  accuracy       auc  val_accuracy   val_auc\n",
              "19      love  0.903066  0.845221      0.879204  0.784648\n",
              "21    family  0.884228  0.839063      0.845573  0.764832\n",
              "23   animals  0.934182  0.830411      0.917639  0.844710\n",
              "49    nature  0.864780  0.826962      0.803706  0.763794\n",
              "102     body  0.912980  0.860462      0.890185  0.709753"
            ]
          },
          "metadata": {
            "tags": []
          },
          "execution_count": 95
        }
      ]
    },
    {
      "cell_type": "code",
      "metadata": {
        "id": "wasidxSe3dak"
      },
      "source": [
        "['nature', 'family', 'love', 'body', 'animals']"
      ],
      "execution_count": null,
      "outputs": []
    },
    {
      "cell_type": "code",
      "metadata": {
        "id": "SLQO6SK-Gk1p"
      },
      "source": [
        "themes_to_predict = ['nature', 'family', 'love', 'body', 'animals']"
      ],
      "execution_count": 96,
      "outputs": []
    },
    {
      "cell_type": "code",
      "metadata": {
        "colab": {
          "base_uri": "https://localhost:8080/",
          "height": 940
        },
        "id": "7WckbtH0sRGL",
        "outputId": "2a538a37-bdc9-43e9-a3f0-f2c098caad74"
      },
      "source": [
        "epochs = 1\n",
        "result = {}\n",
        "preds = {}\n",
        "bin_models = {}\n",
        "\n",
        "for theme in themes_to_predict:\n",
        "    print('Theme #:', theme)\n",
        "    theme_index = theme_codes[theme]\n",
        "    Y = np.array([row['themes'][theme_index] for index, row in df.iterrows()])\n",
        "    X_train, X_test, Y_train, Y_test = model_selection.train_test_split(X, Y, test_size=0.1, random_state=42)\n",
        "   \n",
        "    bin_mod_ = models.clone_model(bin_mod)\n",
        "\n",
        "    bin_mod_.compile(optimizer='nadam',\n",
        "              loss='binary_crossentropy',\n",
        "              metrics=['binary_accuracy'])\n",
        "\n",
        "    bin_mod_.fit(np.array(X_train), np.array(Y_train),\n",
        "          #batch_size=128,\n",
        "          validation_data=(np.array(X_test),np.array(Y_test)),\n",
        "          epochs=epochs)\n",
        "    score = bin_mod_.evaluate(np.array(X_test), np.array(Y_test)) \n",
        "    print(\"Test Score Model1:\", score[0])\n",
        "    print(\"Test Accuracy Model1:\", score[1])\n",
        "    y_pred = bin_mod_.predict(X_test)\n",
        "    bin_models['bin_model_' + theme] = bin_mod_\n",
        "    #class_names = ['out of cat ', 'in cat']\n",
        "    #cm = confusion_matrix(Y_test, np.rint(y_pred))\n",
        "    #disp = ConfusionMatrixDisplay(confusion_matrix=cm, display_labels=class_names)\n",
        "    #disp.plot()\n",
        "    #plt.show()\n",
        "    pd.Series(y_pred.flatten()).hist(bins=100, figsize=(14, 8)).figure\n",
        "    preds[theme] = y_pred\n",
        "    result[theme] = score[1]\n",
        "print(result)"
      ],
      "execution_count": 97,
      "outputs": [
        {
          "output_type": "stream",
          "text": [
            "Theme #: nature\n",
            "368/368 [==============================] - 241s 652ms/step - loss: 0.4774 - binary_accuracy: 0.7929 - val_loss: 0.3975 - val_binary_accuracy: 0.8205\n",
            "41/41 [==============================] - 2s 60ms/step - loss: 0.3975 - binary_accuracy: 0.8205\n",
            "Test Score Model1: 0.3975192606449127\n",
            "Test Accuracy Model1: 0.8204736709594727\n",
            "Theme #: family\n",
            "368/368 [==============================] - 242s 653ms/step - loss: 0.4312 - binary_accuracy: 0.8338 - val_loss: 0.3881 - val_binary_accuracy: 0.8442\n",
            "41/41 [==============================] - 2s 60ms/step - loss: 0.3881 - binary_accuracy: 0.8442\n",
            "Test Score Model1: 0.3880941569805145\n",
            "Test Accuracy Model1: 0.8441558480262756\n",
            "Theme #: love\n",
            "368/368 [==============================] - 244s 659ms/step - loss: 0.3699 - binary_accuracy: 0.8735 - val_loss: 0.3314 - val_binary_accuracy: 0.8747\n",
            "41/41 [==============================] - 2s 61ms/step - loss: 0.3314 - binary_accuracy: 0.8747\n",
            "Test Score Model1: 0.3313919007778168\n",
            "Test Accuracy Model1: 0.8747135400772095\n",
            "Theme #: body\n",
            "368/368 [==============================] - 244s 660ms/step - loss: 0.3376 - binary_accuracy: 0.8915 - val_loss: 0.3209 - val_binary_accuracy: 0.8885\n",
            "41/41 [==============================] - 3s 61ms/step - loss: 0.3209 - binary_accuracy: 0.8885\n",
            "Test Score Model1: 0.3208989202976227\n",
            "Test Accuracy Model1: 0.8884644508361816\n",
            "Theme #: animals\n",
            "368/368 [==============================] - 248s 671ms/step - loss: 0.2929 - binary_accuracy: 0.9109 - val_loss: 0.2437 - val_binary_accuracy: 0.9282\n",
            "41/41 [==============================] - 3s 81ms/step - loss: 0.2437 - binary_accuracy: 0.9282\n",
            "Test Score Model1: 0.24370825290679932\n",
            "Test Accuracy Model1: 0.9281894564628601\n",
            "{'nature': 0.8204736709594727, 'family': 0.8441558480262756, 'love': 0.8747135400772095, 'body': 0.8884644508361816, 'animals': 0.9281894564628601}\n"
          ],
          "name": "stdout"
        },
        {
          "output_type": "display_data",
          "data": {
            "image/png": "[encoded data removed]",
            "text/plain": [
              "<Figure size 1008x576 with 1 Axes>"
            ]
          },
          "metadata": {
            "tags": [],
            "needs_background": "light"
          }
        }
      ]
    },
    {
      "cell_type": "code",
      "metadata": {
        "colab": {
          "base_uri": "https://localhost:8080/"
        },
        "id": "tE8z7sbYsQ-3",
        "outputId": "dab51851-ae9d-4030-a2ff-5d2878c52024"
      },
      "source": [
        "result2 = {}\n",
        "preds2 = {}\n",
        "\n",
        "for theme in themes_to_predict:\n",
        "    print('Theme #:', theme)\n",
        "    theme_index = theme_codes[theme]\n",
        "    Y = np.array([row['themes'][theme_index] for index, row in df.iterrows()])\n",
        "    X_train, X_test, Y_train, Y_test = model_selection.train_test_split(X, Y, test_size=0.1, random_state=42)\n",
        "    bin_mod = bin_models['bin_model_' + theme]\n",
        "    #print(np.array(X_test))\n",
        "    score = bin_mod.evaluate(np.array(X_test), np.array(Y_test)) \n",
        "    print(\"Test Score Model1:\", score[0])\n",
        "    print(\"Test Accuracy Model1:\", score[1])\n",
        "    y_pred = bin_mod.predict(X_test)\n",
        "\n",
        "    preds2[theme] = y_pred\n",
        "    result2[theme] = score[1]\n",
        "print(result2)"
      ],
      "execution_count": 98,
      "outputs": [
        {
          "output_type": "stream",
          "text": [
            "Theme #: nature\n",
            "41/41 [==============================] - 3s 62ms/step - loss: 0.3975 - binary_accuracy: 0.8205\n",
            "Test Score Model1: 0.3975192606449127\n",
            "Test Accuracy Model1: 0.8204736709594727\n",
            "Theme #: family\n",
            "41/41 [==============================] - 3s 62ms/step - loss: 0.3881 - binary_accuracy: 0.8442\n",
            "Test Score Model1: 0.3880941569805145\n",
            "Test Accuracy Model1: 0.8441558480262756\n",
            "Theme #: love\n",
            "41/41 [==============================] - 3s 62ms/step - loss: 0.3314 - binary_accuracy: 0.8747\n",
            "Test Score Model1: 0.3313919007778168\n",
            "Test Accuracy Model1: 0.8747135400772095\n",
            "Theme #: body\n",
            "41/41 [==============================] - 3s 62ms/step - loss: 0.3209 - binary_accuracy: 0.8885\n",
            "Test Score Model1: 0.3208989202976227\n",
            "Test Accuracy Model1: 0.8884644508361816\n",
            "Theme #: animals\n",
            "41/41 [==============================] - 3s 62ms/step - loss: 0.2437 - binary_accuracy: 0.9282\n",
            "Test Score Model1: 0.24370825290679932\n",
            "Test Accuracy Model1: 0.9281894564628601\n",
            "{'nature': 0.8204736709594727, 'family': 0.8441558480262756, 'love': 0.8747135400772095, 'body': 0.8884644508361816, 'animals': 0.9281894564628601}\n"
          ],
          "name": "stdout"
        }
      ]
    },
    {
      "cell_type": "code",
      "metadata": {
        "id": "zEpkPJiRgxjO"
      },
      "source": [
        "for theme in themes_to_predict:\n",
        "  print(np.where(preds2[theme] >= 0.4))"
      ],
      "execution_count": null,
      "outputs": []
    },
    {
      "cell_type": "code",
      "metadata": {
        "colab": {
          "base_uri": "https://localhost:8080/"
        },
        "id": "Pp9m0X_8hQ8R",
        "outputId": "139e5d29-413b-433a-d3a3-987f97c9435a"
      },
      "source": [
        "preds2['nature'][[17,   23,   24,   28,   32,   37,   40,   45,   61,   62,   64]]"
      ],
      "execution_count": 106,
      "outputs": [
        {
          "output_type": "execute_result",
          "data": {
            "text/plain": [
              "array([[0.5010266 ],\n",
              "       [0.42018592],\n",
              "       [0.47127149],\n",
              "       [0.43191618],\n",
              "       [0.4009911 ],\n",
              "       [0.4746803 ],\n",
              "       [0.64071685],\n",
              "       [0.47019553],\n",
              "       [0.45225242],\n",
              "       [0.4421022 ],\n",
              "       [0.4129531 ]], dtype=float32)"
            ]
          },
          "metadata": {
            "tags": []
          },
          "execution_count": 106
        }
      ]
    },
    {
      "cell_type": "code",
      "metadata": {
        "colab": {
          "base_uri": "https://localhost:8080/"
        },
        "id": "ShTAGK44sQ4o",
        "outputId": "a705f71c-634a-49cd-df18-394e5008fd39"
      },
      "source": [
        "X_train, X_test, Y_train, Y_test = model_selection.train_test_split(X, df['themes'], test_size=0.1, random_state=42)\n",
        "for theme in themes_to_predict:\n",
        "    print('Theme #:', theme)\n",
        "    theme_index = theme_codes[theme]\n",
        "    y_test = np.array([row[theme_index] for index, row in Y_test.items()])\n",
        "    \n",
        "\n",
        "    bin_mod = bin_models['bin_model_' + theme]\n",
        "    #print(np.array(X_test))\n",
        "    score = bin_mod.evaluate(np.array(X_test), \n",
        "                             np.array(y_test)) \n",
        "    print(\"Test Score Model1:\", score[0])\n",
        "    print(\"Test Accuracy Model1:\", score[1])\n",
        "    y_pred = bin_mod.predict(X_test)"
      ],
      "execution_count": 107,
      "outputs": [
        {
          "output_type": "stream",
          "text": [
            "Theme #: nature\n",
            "41/41 [==============================] - 3s 65ms/step - loss: 0.3975 - binary_accuracy: 0.8205\n",
            "Test Score Model1: 0.3975192606449127\n",
            "Test Accuracy Model1: 0.8204736709594727\n",
            "Theme #: family\n",
            "41/41 [==============================] - 3s 64ms/step - loss: 0.3881 - binary_accuracy: 0.8442\n",
            "Test Score Model1: 0.3880941569805145\n",
            "Test Accuracy Model1: 0.8441558480262756\n",
            "Theme #: love\n",
            "41/41 [==============================] - 3s 66ms/step - loss: 0.3314 - binary_accuracy: 0.8747\n",
            "Test Score Model1: 0.3313919007778168\n",
            "Test Accuracy Model1: 0.8747135400772095\n",
            "Theme #: body\n",
            "41/41 [==============================] - 3s 62ms/step - loss: 0.3209 - binary_accuracy: 0.8885\n",
            "Test Score Model1: 0.3208989202976227\n",
            "Test Accuracy Model1: 0.8884644508361816\n",
            "Theme #: animals\n",
            "41/41 [==============================] - 2s 61ms/step - loss: 0.2437 - binary_accuracy: 0.9282\n",
            "Test Score Model1: 0.24370825290679932\n",
            "Test Accuracy Model1: 0.9281894564628601\n"
          ],
          "name": "stdout"
        }
      ]
    },
    {
      "cell_type": "code",
      "metadata": {
        "colab": {
          "base_uri": "https://localhost:8080/"
        },
        "id": "G9-ZLpbZNoTx",
        "outputId": "78a52e64-2a24-45b6-862e-3168ecf08d80"
      },
      "source": [
        "bin_models"
      ],
      "execution_count": 108,
      "outputs": [
        {
          "output_type": "execute_result",
          "data": {
            "text/plain": [
              "{'bin_model_animals': <tensorflow.python.keras.engine.sequential.Sequential at 0x7f1731280510>,\n",
              " 'bin_model_body': <tensorflow.python.keras.engine.sequential.Sequential at 0x7f17341bd290>,\n",
              " 'bin_model_family': <tensorflow.python.keras.engine.sequential.Sequential at 0x7f173dac2690>,\n",
              " 'bin_model_love': <tensorflow.python.keras.engine.sequential.Sequential at 0x7f173bc3e410>,\n",
              " 'bin_model_nature': <tensorflow.python.keras.engine.sequential.Sequential at 0x7f17471a6750>}"
            ]
          },
          "metadata": {
            "tags": []
          },
          "execution_count": 108
        }
      ]
    },
    {
      "cell_type": "code",
      "metadata": {
        "id": "cfPUQoE6NoRX"
      },
      "source": [
        ""
      ],
      "execution_count": 48,
      "outputs": []
    },
    {
      "cell_type": "code",
      "metadata": {
        "colab": {
          "base_uri": "https://localhost:8080/"
        },
        "id": "CF9KQCskNoPD",
        "outputId": "50e5a775-8538-4ab8-bcfc-c04bd6ffbdfc"
      },
      "source": [
        "X_test[0]\n",
        "print(y_test[15])"
      ],
      "execution_count": 109,
      "outputs": [
        {
          "output_type": "stream",
          "text": [
            "0\n"
          ],
          "name": "stdout"
        }
      ]
    },
    {
      "cell_type": "code",
      "metadata": {
        "id": "Ub7PKbvgd79k"
      },
      "source": [
        "indices = np.where(y_test == 1)[0]"
      ],
      "execution_count": 110,
      "outputs": []
    },
    {
      "cell_type": "code",
      "metadata": {
        "colab": {
          "base_uri": "https://localhost:8080/"
        },
        "id": "wH2UJV6EeIUq",
        "outputId": "1ec2319a-2d17-4506-8bcc-ef29874d33ab"
      },
      "source": [
        "y_test[indices]"
      ],
      "execution_count": 111,
      "outputs": [
        {
          "output_type": "execute_result",
          "data": {
            "text/plain": [
              "array([1, 1, 1, 1, 1, 1, 1, 1, 1, 1, 1, 1, 1, 1, 1, 1, 1, 1, 1, 1, 1, 1,\n",
              "       1, 1, 1, 1, 1, 1, 1, 1, 1, 1, 1, 1, 1, 1, 1, 1, 1, 1, 1, 1, 1, 1,\n",
              "       1, 1, 1, 1, 1, 1, 1, 1, 1, 1, 1, 1, 1, 1, 1, 1, 1, 1, 1, 1, 1, 1,\n",
              "       1, 1, 1, 1, 1, 1, 1, 1, 1, 1, 1, 1, 1, 1, 1, 1, 1, 1, 1, 1, 1, 1,\n",
              "       1, 1, 1, 1])"
            ]
          },
          "metadata": {
            "tags": []
          },
          "execution_count": 111
        }
      ]
    },
    {
      "cell_type": "code",
      "metadata": {
        "id": "_rLKBCS-sQxp"
      },
      "source": [
        "with np.printoptions(threshold=np.inf):\n",
        "    print(y_test)"
      ],
      "execution_count": null,
      "outputs": []
    },
    {
      "cell_type": "code",
      "metadata": {
        "colab": {
          "base_uri": "https://localhost:8080/"
        },
        "id": "vSSp9v18SpVo",
        "outputId": "6c074a12-1d10-4de3-e2e7-534a4694368f"
      },
      "source": [
        "X_test[15]"
      ],
      "execution_count": 113,
      "outputs": [
        {
          "output_type": "execute_result",
          "data": {
            "text/plain": [
              "array([ 143,  631,    1, 1601, 2404,  168,  166,   27,    1,  686, 9210,\n",
              "        983,  143,  631,   64, 1558, 2012,   31,   69,  654,   84,  402,\n",
              "         59, 2664, 1986,   58,    1, 3660, 1350,  631,  581,    1,  427,\n",
              "       1242,   65,   21, 3136,  179, 1103, 1878,    1,  492, 4876,    2,\n",
              "       2404, 1371,  111,   79,   11, 1103, 3701,  438,  378,  774,  214,\n",
              "        102,    1,   31, 4927, 2404,  153,  146,  479,  123,  146,    1,\n",
              "       1043,  767,  102, 2174,    1,   31, 1320,  266, 2906,  445,  581,\n",
              "         72,   58,   69, 2113,    1,   31, 6460,  111,   44,  236, 3966,\n",
              "        377, 2188,  131, 1074,  835, 2309,    1,   31,    1, 3213,   45,\n",
              "        609,  295,    1,  158,  512, 4039,  255,    4,    1,   31, 6356,\n",
              "          1,    9,   36,  174, 9963,   69,  122,  950,  332, 4537,    4,\n",
              "          1,  600,  241,  626,  160,  146,  585,  878,    0,    0,    0,\n",
              "          0,    0,    0,    0,    0,    0,    0,    0,    0,    0,    0,\n",
              "          0,    0,    0,    0,    0,    0,    0], dtype=int32)"
            ]
          },
          "metadata": {
            "tags": []
          },
          "execution_count": 113
        }
      ]
    },
    {
      "cell_type": "code",
      "metadata": {
        "colab": {
          "base_uri": "https://localhost:8080/"
        },
        "id": "5GUAsAQiTVeN",
        "outputId": "683a8d2e-1663-4c00-8d51-2b2c75879dd0"
      },
      "source": [
        "X_test.shape"
      ],
      "execution_count": 114,
      "outputs": [
        {
          "output_type": "execute_result",
          "data": {
            "text/plain": [
              "(1309, 150)"
            ]
          },
          "metadata": {
            "tags": []
          },
          "execution_count": 114
        }
      ]
    },
    {
      "cell_type": "code",
      "metadata": {
        "colab": {
          "base_uri": "https://localhost:8080/"
        },
        "id": "N5QOGuIqTXf4",
        "outputId": "8a4ea906-2c83-476b-fdc5-8070923b182e"
      },
      "source": [
        "X_test[15].shape"
      ],
      "execution_count": 115,
      "outputs": [
        {
          "output_type": "execute_result",
          "data": {
            "text/plain": [
              "(150,)"
            ]
          },
          "metadata": {
            "tags": []
          },
          "execution_count": 115
        }
      ]
    },
    {
      "cell_type": "code",
      "metadata": {
        "colab": {
          "base_uri": "https://localhost:8080/"
        },
        "id": "rH9qVfO6TiVo",
        "outputId": "d379aa3c-1426-4ddf-cf6b-dba6e03c744b"
      },
      "source": [
        "np.reshape(X_test[15], (1, 150))"
      ],
      "execution_count": 116,
      "outputs": [
        {
          "output_type": "execute_result",
          "data": {
            "text/plain": [
              "array([[ 143,  631,    1, 1601, 2404,  168,  166,   27,    1,  686, 9210,\n",
              "         983,  143,  631,   64, 1558, 2012,   31,   69,  654,   84,  402,\n",
              "          59, 2664, 1986,   58,    1, 3660, 1350,  631,  581,    1,  427,\n",
              "        1242,   65,   21, 3136,  179, 1103, 1878,    1,  492, 4876,    2,\n",
              "        2404, 1371,  111,   79,   11, 1103, 3701,  438,  378,  774,  214,\n",
              "         102,    1,   31, 4927, 2404,  153,  146,  479,  123,  146,    1,\n",
              "        1043,  767,  102, 2174,    1,   31, 1320,  266, 2906,  445,  581,\n",
              "          72,   58,   69, 2113,    1,   31, 6460,  111,   44,  236, 3966,\n",
              "         377, 2188,  131, 1074,  835, 2309,    1,   31,    1, 3213,   45,\n",
              "         609,  295,    1,  158,  512, 4039,  255,    4,    1,   31, 6356,\n",
              "           1,    9,   36,  174, 9963,   69,  122,  950,  332, 4537,    4,\n",
              "           1,  600,  241,  626,  160,  146,  585,  878,    0,    0,    0,\n",
              "           0,    0,    0,    0,    0,    0,    0,    0,    0,    0,    0,\n",
              "           0,    0,    0,    0,    0,    0,    0]], dtype=int32)"
            ]
          },
          "metadata": {
            "tags": []
          },
          "execution_count": 116
        }
      ]
    },
    {
      "cell_type": "code",
      "metadata": {
        "colab": {
          "base_uri": "https://localhost:8080/"
        },
        "id": "lau1MDyZew_q",
        "outputId": "a214e588-f8c4-4dfc-b894-692ad3e38d3a"
      },
      "source": [
        "X_test[indices]"
      ],
      "execution_count": 117,
      "outputs": [
        {
          "output_type": "execute_result",
          "data": {
            "text/plain": [
              "array([[6975,  901,  124, ...,    0,    0,    0],\n",
              "       [ 104, 7961,   41, ...,    0,    0,    0],\n",
              "       [  52,   11,  182, ...,    0,    0,    0],\n",
              "       ...,\n",
              "       [ 519,   37,    1, ...,    0,    0,    0],\n",
              "       [  69,   60, 3403, ...,    0,    0,    0],\n",
              "       [   2,  120,    1, ...,    0,    0,    0]], dtype=int32)"
            ]
          },
          "metadata": {
            "tags": []
          },
          "execution_count": 117
        }
      ]
    },
    {
      "cell_type": "code",
      "metadata": {
        "id": "JTveA9xXsQqB",
        "colab": {
          "base_uri": "https://localhost:8080/"
        },
        "outputId": "baecb40e-38aa-4565-bdcb-0b1931cb1cfc"
      },
      "source": [
        "for name, model in bin_models.items():\n",
        "  print(name)\n",
        "  print(np.where(model.predict(X_test) >= 0.5))"
      ],
      "execution_count": 118,
      "outputs": [
        {
          "output_type": "stream",
          "text": [
            "bin_model_nature\n",
            "(array([  17,   40,   91,  104,  107,  114,  122,  192,  223,  237,  238,\n",
            "        239,  269,  270,  281,  284,  285,  294,  311,  316,  326,  345,\n",
            "        395,  410,  420,  428,  468,  478,  499,  504,  509,  527,  535,\n",
            "        543,  555,  560,  565,  569,  609,  627,  640,  662,  706,  729,\n",
            "        730,  736,  745,  747,  792,  819,  837,  850,  862,  959,  966,\n",
            "        970,  978,  993,  994, 1017, 1022, 1066, 1073, 1106, 1149, 1156,\n",
            "       1158, 1167, 1228, 1246, 1247, 1251, 1255, 1271, 1272, 1281, 1294,\n",
            "       1299, 1302, 1304, 1308]), array([0, 0, 0, 0, 0, 0, 0, 0, 0, 0, 0, 0, 0, 0, 0, 0, 0, 0, 0, 0, 0, 0,\n",
            "       0, 0, 0, 0, 0, 0, 0, 0, 0, 0, 0, 0, 0, 0, 0, 0, 0, 0, 0, 0, 0, 0,\n",
            "       0, 0, 0, 0, 0, 0, 0, 0, 0, 0, 0, 0, 0, 0, 0, 0, 0, 0, 0, 0, 0, 0,\n",
            "       0, 0, 0, 0, 0, 0, 0, 0, 0, 0, 0, 0, 0, 0, 0]))\n",
            "bin_model_family\n",
            "(array([  29,   33,   41,   44,   57,   69,   99,  106,  117,  121,  128,\n",
            "        129,  133,  134,  135,  140,  147,  148,  178,  190,  212,  219,\n",
            "        221,  224,  226,  231,  252,  259,  268,  280,  285,  286,  290,\n",
            "        297,  303,  305,  308,  329,  330,  335,  348,  349,  362,  377,\n",
            "        385,  386,  417,  418,  422,  425,  426,  436,  459,  462,  463,\n",
            "        490,  503,  524,  534,  539,  568,  572,  613,  615,  635,  650,\n",
            "        658,  661,  689,  694,  696,  699,  710,  724,  726,  768,  771,\n",
            "        798,  804,  808,  813,  829,  830,  836,  844,  854,  861,  863,\n",
            "        888,  889,  912,  938,  951,  960,  964,  965,  990,  991, 1002,\n",
            "       1010, 1031, 1036, 1040, 1055, 1062, 1067, 1074, 1078, 1080, 1085,\n",
            "       1092, 1099, 1123, 1140, 1150, 1151, 1160, 1169, 1171, 1178, 1182,\n",
            "       1229, 1267, 1273, 1287, 1302]), array([0, 0, 0, 0, 0, 0, 0, 0, 0, 0, 0, 0, 0, 0, 0, 0, 0, 0, 0, 0, 0, 0,\n",
            "       0, 0, 0, 0, 0, 0, 0, 0, 0, 0, 0, 0, 0, 0, 0, 0, 0, 0, 0, 0, 0, 0,\n",
            "       0, 0, 0, 0, 0, 0, 0, 0, 0, 0, 0, 0, 0, 0, 0, 0, 0, 0, 0, 0, 0, 0,\n",
            "       0, 0, 0, 0, 0, 0, 0, 0, 0, 0, 0, 0, 0, 0, 0, 0, 0, 0, 0, 0, 0, 0,\n",
            "       0, 0, 0, 0, 0, 0, 0, 0, 0, 0, 0, 0, 0, 0, 0, 0, 0, 0, 0, 0, 0, 0,\n",
            "       0, 0, 0, 0, 0, 0, 0, 0, 0, 0, 0, 0, 0, 0, 0, 0]))\n",
            "bin_model_love\n",
            "(array([ 257,  260,  372,  396,  801,  836,  851,  874,  902,  938, 1037,\n",
            "       1056, 1077]), array([0, 0, 0, 0, 0, 0, 0, 0, 0, 0, 0, 0, 0]))\n",
            "bin_model_body\n",
            "(array([], dtype=int64), array([], dtype=int64))\n",
            "bin_model_animals\n",
            "(array([  89,  104,  107,  139,  157,  178,  237,  261,  316,  512,  766,\n",
            "       1255]), array([0, 0, 0, 0, 0, 0, 0, 0, 0, 0, 0, 0]))\n"
          ],
          "name": "stdout"
        }
      ]
    },
    {
      "cell_type": "code",
      "metadata": {
        "id": "qObZruQ6mBp3"
      },
      "source": [
        ""
      ],
      "execution_count": null,
      "outputs": []
    },
    {
      "cell_type": "code",
      "metadata": {
        "id": "kEgKdhVOde6u"
      },
      "source": [
        ""
      ],
      "execution_count": null,
      "outputs": []
    },
    {
      "cell_type": "code",
      "metadata": {
        "id": "TUwnC8uZdvyR"
      },
      "source": [
        "df = pd.read_json(open(\"data.json\", \"r\", encoding=\"utf8\"))\n",
        "\n",
        "with open('themes.json', 'r') as f:\n",
        "    theme_codes = json.load(f)"
      ],
      "execution_count": 123,
      "outputs": []
    },
    {
      "cell_type": "code",
      "metadata": {
        "id": "PW8PwJWIdvvQ"
      },
      "source": [
        "texts_len = df['text'].apply(len)\n",
        "df.drop(df[texts_len<50].index, inplace=True)"
      ],
      "execution_count": 124,
      "outputs": []
    },
    {
      "cell_type": "code",
      "metadata": {
        "id": "32VagpnJdvsi"
      },
      "source": [
        "themes_to_predict = ['nature', 'family', 'love', 'body', 'animals']"
      ],
      "execution_count": 125,
      "outputs": []
    },
    {
      "cell_type": "code",
      "metadata": {
        "id": "Qptlfd-TdvqC"
      },
      "source": [
        "max_features = 10000  # maximum number of words in vocabulari 5000\n",
        "max_len = 150  # max length of string"
      ],
      "execution_count": 126,
      "outputs": []
    },
    {
      "cell_type": "code",
      "metadata": {
        "id": "csVtjm65dvne"
      },
      "source": [
        "joined_text = df['title'] + df['text']\n",
        "X = keras.preprocessing.sequence.pad_sequences(list(joined_text), maxlen=max_len, padding='post')"
      ],
      "execution_count": 127,
      "outputs": []
    },
    {
      "cell_type": "code",
      "metadata": {
        "id": "wSFaO_CJGkbQ",
        "colab": {
          "base_uri": "https://localhost:8080/"
        },
        "outputId": "d70b0e75-3bd2-4de2-91ad-d16e54668740"
      },
      "source": [
        "embedding_dim = 64\n",
        "\n",
        "mult_mod = keras.models.Sequential([\n",
        "  keras.layers.Embedding(input_dim=max_features,\n",
        "                           output_dim=embedding_dim,\n",
        "                           input_length=max_len),\n",
        "  keras.layers.Flatten(),\n",
        "  keras.layers.Dense(2000, activation='relu'),\n",
        "  keras.layers.Dropout(0.3),\n",
        "  keras.layers.Dense(500, activation='relu'),\n",
        "  keras.layers.Dropout(0.3),\n",
        "  keras.layers.Dense(100, activation='relu'),\n",
        "  keras.layers.Dense(5, activation='sigmoid')\n",
        "])\n",
        "\n",
        "mult_mod.compile(optimizer='nadam',\n",
        "              loss='categorical_crossentropy',\n",
        "              metrics=['categorical_accuracy'])\n",
        "\n",
        "mult_mod.summary()"
      ],
      "execution_count": 128,
      "outputs": [
        {
          "output_type": "stream",
          "text": [
            "Model: \"sequential_3\"\n",
            "_________________________________________________________________\n",
            "Layer (type)                 Output Shape              Param #   \n",
            "=================================================================\n",
            "embedding_4 (Embedding)      (None, 150, 64)           640000    \n",
            "_________________________________________________________________\n",
            "flatten_4 (Flatten)          (None, 9600)              0         \n",
            "_________________________________________________________________\n",
            "dense_15 (Dense)             (None, 2000)              19202000  \n",
            "_________________________________________________________________\n",
            "dropout_4 (Dropout)          (None, 2000)              0         \n",
            "_________________________________________________________________\n",
            "dense_16 (Dense)             (None, 500)               1000500   \n",
            "_________________________________________________________________\n",
            "dropout_5 (Dropout)          (None, 500)               0         \n",
            "_________________________________________________________________\n",
            "dense_17 (Dense)             (None, 100)               50100     \n",
            "_________________________________________________________________\n",
            "dense_18 (Dense)             (None, 5)                 505       \n",
            "=================================================================\n",
            "Total params: 20,893,105\n",
            "Trainable params: 20,893,105\n",
            "Non-trainable params: 0\n",
            "_________________________________________________________________\n"
          ],
          "name": "stdout"
        }
      ]
    },
    {
      "cell_type": "markdown",
      "metadata": {
        "id": "F8ue_TT1KQ9A"
      },
      "source": [
        "Create list with indices for themes to predict"
      ]
    },
    {
      "cell_type": "code",
      "metadata": {
        "colab": {
          "base_uri": "https://localhost:8080/"
        },
        "id": "Tn0-6lHEmb7I",
        "outputId": "99822ea3-4365-4282-8692-dce08d68c12e"
      },
      "source": [
        "theme_indices = []\n",
        "for theme in themes_to_predict:\n",
        "  print('Theme #:', theme)\n",
        "  theme_index = theme_codes[theme]\n",
        "  theme_indices.append(theme_index)"
      ],
      "execution_count": 136,
      "outputs": [
        {
          "output_type": "stream",
          "text": [
            "Theme #: nature\n",
            "Theme #: family\n",
            "Theme #: love\n",
            "Theme #: body\n",
            "Theme #: animals\n"
          ],
          "name": "stdout"
        }
      ]
    },
    {
      "cell_type": "code",
      "metadata": {
        "id": "LdOc0seiGkX-",
        "colab": {
          "base_uri": "https://localhost:8080/"
        },
        "outputId": "de3c0a43-f34f-4bf9-eaad-cc866cc2b736"
      },
      "source": [
        "Y = np.array([[row['themes'][theme_index] for theme_index in theme_indices] for index, row in df.iterrows()])\n",
        "X_train, X_test, Y_train, Y_test = model_selection.train_test_split(X, Y, test_size=0.1, random_state=42)\n",
        "epochs = 5\n",
        "mult_mod.fit(np.array(X_train), np.array(Y_train),\n",
        "          #batch_size=128,\n",
        "          validation_data=(np.array(X_test),np.array(Y_test)),\n",
        "          epochs=epochs)"
      ],
      "execution_count": 143,
      "outputs": [
        {
          "output_type": "stream",
          "text": [
            "Epoch 1/5\n",
            "368/368 [==============================] - 130s 349ms/step - loss: 1683417.0000 - categorical_accuracy: 0.2676 - val_loss: 11983520.0000 - val_categorical_accuracy: 0.1482\n",
            "Epoch 2/5\n",
            "368/368 [==============================] - 128s 348ms/step - loss: 67817776.0000 - categorical_accuracy: 0.2514 - val_loss: 277027232.0000 - val_categorical_accuracy: 0.0176\n",
            "Epoch 3/5\n",
            "368/368 [==============================] - 128s 349ms/step - loss: 475247744.0000 - categorical_accuracy: 0.2491 - val_loss: 1227387264.0000 - val_categorical_accuracy: 0.1482\n",
            "Epoch 4/5\n",
            "368/368 [==============================] - 128s 348ms/step - loss: 1657308800.0000 - categorical_accuracy: 0.2576 - val_loss: 1903147264.0000 - val_categorical_accuracy: 0.1482\n",
            "Epoch 5/5\n",
            "368/368 [==============================] - 128s 348ms/step - loss: 4026296064.0000 - categorical_accuracy: 0.2487 - val_loss: 4908861440.0000 - val_categorical_accuracy: 0.1482\n"
          ],
          "name": "stdout"
        },
        {
          "output_type": "execute_result",
          "data": {
            "text/plain": [
              "<tensorflow.python.keras.callbacks.History at 0x7f1730ead210>"
            ]
          },
          "metadata": {
            "tags": []
          },
          "execution_count": 143
        }
      ]
    },
    {
      "cell_type": "code",
      "metadata": {
        "id": "mm4zVvQCGkU_",
        "colab": {
          "base_uri": "https://localhost:8080/"
        },
        "outputId": "63f56781-1a97-486d-c4d3-ebddd2825551"
      },
      "source": [
        "X_test[15]"
      ],
      "execution_count": 168,
      "outputs": [
        {
          "output_type": "execute_result",
          "data": {
            "text/plain": [
              "array([ 143,  631,    1, 1601, 2404,  168,  166,   27,    1,  686, 9210,\n",
              "        983,  143,  631,   64, 1558, 2012,   31,   69,  654,   84,  402,\n",
              "         59, 2664, 1986,   58,    1, 3660, 1350,  631,  581,    1,  427,\n",
              "       1242,   65,   21, 3136,  179, 1103, 1878,    1,  492, 4876,    2,\n",
              "       2404, 1371,  111,   79,   11, 1103, 3701,  438,  378,  774,  214,\n",
              "        102,    1,   31, 4927, 2404,  153,  146,  479,  123,  146,    1,\n",
              "       1043,  767,  102, 2174,    1,   31, 1320,  266, 2906,  445,  581,\n",
              "         72,   58,   69, 2113,    1,   31, 6460,  111,   44,  236, 3966,\n",
              "        377, 2188,  131, 1074,  835, 2309,    1,   31,    1, 3213,   45,\n",
              "        609,  295,    1,  158,  512, 4039,  255,    4,    1,   31, 6356,\n",
              "          1,    9,   36,  174, 9963,   69,  122,  950,  332, 4537,    4,\n",
              "          1,  600,  241,  626,  160,  146,  585,  878,    0,    0,    0,\n",
              "          0,    0,    0,    0,    0,    0,    0,    0,    0,    0,    0,\n",
              "          0,    0,    0,    0,    0,    0,    0], dtype=int32)"
            ]
          },
          "metadata": {
            "tags": []
          },
          "execution_count": 168
        }
      ]
    },
    {
      "cell_type": "code",
      "metadata": {
        "colab": {
          "base_uri": "https://localhost:8080/"
        },
        "id": "HgznuQL0-Hz6",
        "outputId": "c8eab3e6-02fe-4452-d4f6-34979928d6cb"
      },
      "source": [
        "Y_test[13:15]"
      ],
      "execution_count": 151,
      "outputs": [
        {
          "output_type": "execute_result",
          "data": {
            "text/plain": [
              "array([[0, 1, 0, 0, 0],\n",
              "       [0, 1, 1, 0, 0]])"
            ]
          },
          "metadata": {
            "tags": []
          },
          "execution_count": 151
        }
      ]
    },
    {
      "cell_type": "code",
      "metadata": {
        "colab": {
          "base_uri": "https://localhost:8080/"
        },
        "id": "ch7Z7X1k_L06",
        "outputId": "4ec76c6f-2898-4d39-b73a-f603fc2d5579"
      },
      "source": [
        "X_test.shape"
      ],
      "execution_count": 159,
      "outputs": [
        {
          "output_type": "execute_result",
          "data": {
            "text/plain": [
              "(1309, 150)"
            ]
          },
          "metadata": {
            "tags": []
          },
          "execution_count": 159
        }
      ]
    },
    {
      "cell_type": "code",
      "metadata": {
        "colab": {
          "base_uri": "https://localhost:8080/"
        },
        "id": "-VWkrZvc_OMr",
        "outputId": "5d5b7c8c-8961-41dc-816d-f90b4c26136b"
      },
      "source": [
        "X_test[15].shape"
      ],
      "execution_count": 160,
      "outputs": [
        {
          "output_type": "execute_result",
          "data": {
            "text/plain": [
              "(150,)"
            ]
          },
          "metadata": {
            "tags": []
          },
          "execution_count": 160
        }
      ]
    },
    {
      "cell_type": "markdown",
      "metadata": {
        "id": "6hk7R0jWKAdw"
      },
      "source": [
        "This shows that model output only zeros"
      ]
    },
    {
      "cell_type": "code",
      "metadata": {
        "colab": {
          "base_uri": "https://localhost:8080/"
        },
        "id": "3KMYaxrF_fIr",
        "outputId": "5166241b-a7c4-4b89-cd63-8355996a3e33"
      },
      "source": [
        "np.unique(mult_mod.predict(X_test))"
      ],
      "execution_count": 167,
      "outputs": [
        {
          "output_type": "execute_result",
          "data": {
            "text/plain": [
              "array([0.], dtype=float32)"
            ]
          },
          "metadata": {
            "tags": []
          },
          "execution_count": 167
        }
      ]
    },
    {
      "cell_type": "code",
      "metadata": {
        "id": "FZ6Gybu_GkOF"
      },
      "source": [
        ""
      ],
      "execution_count": 168,
      "outputs": []
    },
    {
      "cell_type": "code",
      "metadata": {
        "id": "5h_9pR8eNJxB"
      },
      "source": [
        ""
      ],
      "execution_count": 168,
      "outputs": []
    },
    {
      "cell_type": "code",
      "metadata": {
        "id": "8XZWJOUeNJqj"
      },
      "source": [
        ""
      ],
      "execution_count": null,
      "outputs": []
    },
    {
      "cell_type": "code",
      "metadata": {
        "id": "yEQ4h3y3NJhn"
      },
      "source": [
        ""
      ],
      "execution_count": 168,
      "outputs": []
    },
    {
      "cell_type": "code",
      "metadata": {
        "id": "tAwRKXNPNJZ3"
      },
      "source": [
        ""
      ],
      "execution_count": null,
      "outputs": []
    },
    {
      "cell_type": "code",
      "metadata": {
        "id": "8-tGPWFONJRX"
      },
      "source": [
        ""
      ],
      "execution_count": null,
      "outputs": []
    },
    {
      "cell_type": "code",
      "metadata": {
        "id": "omFMs4JWNJKh"
      },
      "source": [
        ""
      ],
      "execution_count": null,
      "outputs": []
    },
    {
      "cell_type": "code",
      "metadata": {
        "id": "qwFChvw6NJEd"
      },
      "source": [
        ""
      ],
      "execution_count": null,
      "outputs": []
    },
    {
      "cell_type": "code",
      "metadata": {
        "id": "YAv1vM21NI_A"
      },
      "source": [
        ""
      ],
      "execution_count": null,
      "outputs": []
    },
    {
      "cell_type": "code",
      "metadata": {
        "id": "RXqtUOkFoCEC"
      },
      "source": [
        ""
      ],
      "execution_count": null,
      "outputs": []
    }
  ]
}