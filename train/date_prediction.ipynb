{
 "cells": [
  {
   "cell_type": "code",
   "execution_count": 1,
   "metadata": {},
   "outputs": [],
   "source": [
    "import pandas as pd\n",
    "import spacy\n",
    "from sklearn import model_selection\n",
    "import numpy as np\n",
    "\n",
    "\n",
    "from tensorflow import keras\n",
    "from tensorflow.keras import layers, models"
   ]
  },
  {
   "cell_type": "code",
   "execution_count": 2,
   "metadata": {},
   "outputs": [
    {
     "data": {
      "text/html": [
       "<div>\n",
       "<style scoped>\n",
       "    .dataframe tbody tr th:only-of-type {\n",
       "        vertical-align: middle;\n",
       "    }\n",
       "\n",
       "    .dataframe tbody tr th {\n",
       "        vertical-align: top;\n",
       "    }\n",
       "\n",
       "    .dataframe thead th {\n",
       "        text-align: right;\n",
       "    }\n",
       "</style>\n",
       "<table border=\"1\" class=\"dataframe\">\n",
       "  <thead>\n",
       "    <tr style=\"text-align: right;\">\n",
       "      <th></th>\n",
       "      <th>title</th>\n",
       "      <th>url</th>\n",
       "      <th>author</th>\n",
       "      <th>year</th>\n",
       "      <th>text</th>\n",
       "      <th>themes</th>\n",
       "    </tr>\n",
       "  </thead>\n",
       "  <tbody>\n",
       "    <tr>\n",
       "      <th>0</th>\n",
       "      <td>[30, 419, 145, 978]</td>\n",
       "      <td>https://poets.org/poem/body-and-soul-ii</td>\n",
       "      <td>401</td>\n",
       "      <td>2002</td>\n",
       "      <td>[2104, 1237, 2, 2104, 252, 830, 137, 483, 54, ...</td>\n",
       "      <td>[0.0, 0.0, 0.0, 0.0, 0.0, 0.0, 0.0, 0.0, 0.0, ...</td>\n",
       "    </tr>\n",
       "    <tr>\n",
       "      <th>1</th>\n",
       "      <td>[3112]</td>\n",
       "      <td>https://poets.org/poem/novel</td>\n",
       "      <td>222</td>\n",
       "      <td>2002</td>\n",
       "      <td>[288, 3496, 1, 2337, 238, 17, 1164, 633, 427, ...</td>\n",
       "      <td>[0.0, 0.0, 0.0, 0.0, 0.0, 0.0, 0.0, 0.0, 0.0, ...</td>\n",
       "    </tr>\n",
       "    <tr>\n",
       "      <th>2</th>\n",
       "      <td>[169]</td>\n",
       "      <td>https://poets.org/poem/flying</td>\n",
       "      <td>2263</td>\n",
       "      <td>2002</td>\n",
       "      <td>[13, 620, 9, 1559, 192, 106, 433, 11, 2338, 21...</td>\n",
       "      <td>[0.0, 0.0, 0.0, 0.0, 0.0, 0.0, 0.0, 0.0, 0.0, ...</td>\n",
       "    </tr>\n",
       "    <tr>\n",
       "      <th>3</th>\n",
       "      <td>[1345, 3162, 95, 292, 1003, 2815]</td>\n",
       "      <td>https://poets.org/poem/photograph-people-danci...</td>\n",
       "      <td>1528</td>\n",
       "      <td>2002</td>\n",
       "      <td>[245, 16, 23, 5, 5, 29, 1034, 1579, 3199, 50, ...</td>\n",
       "      <td>[0.0, 0.0, 0.0, 0.0, 0.0, 0.0, 0.0, 0.0, 0.0, ...</td>\n",
       "    </tr>\n",
       "    <tr>\n",
       "      <th>4</th>\n",
       "      <td>[2673, 358]</td>\n",
       "      <td>https://poets.org/poem/borrowed-dress</td>\n",
       "      <td>371</td>\n",
       "      <td>2001</td>\n",
       "      <td>[19, 107, 4188, 4726, 29, 581, 2967, 1659, 587...</td>\n",
       "      <td>[0.0, 0.0, 0.0, 0.0, 0.0, 0.0, 0.0, 0.0, 0.0, ...</td>\n",
       "    </tr>\n",
       "  </tbody>\n",
       "</table>\n",
       "</div>"
      ],
      "text/plain": [
       "                               title  \\\n",
       "0                [30, 419, 145, 978]   \n",
       "1                             [3112]   \n",
       "2                              [169]   \n",
       "3  [1345, 3162, 95, 292, 1003, 2815]   \n",
       "4                        [2673, 358]   \n",
       "\n",
       "                                                 url  author  year  \\\n",
       "0            https://poets.org/poem/body-and-soul-ii     401  2002   \n",
       "1                       https://poets.org/poem/novel     222  2002   \n",
       "2                      https://poets.org/poem/flying    2263  2002   \n",
       "3  https://poets.org/poem/photograph-people-danci...    1528  2002   \n",
       "4              https://poets.org/poem/borrowed-dress     371  2001   \n",
       "\n",
       "                                                text  \\\n",
       "0  [2104, 1237, 2, 2104, 252, 830, 137, 483, 54, ...   \n",
       "1  [288, 3496, 1, 2337, 238, 17, 1164, 633, 427, ...   \n",
       "2  [13, 620, 9, 1559, 192, 106, 433, 11, 2338, 21...   \n",
       "3  [245, 16, 23, 5, 5, 29, 1034, 1579, 3199, 50, ...   \n",
       "4  [19, 107, 4188, 4726, 29, 581, 2967, 1659, 587...   \n",
       "\n",
       "                                              themes  \n",
       "0  [0.0, 0.0, 0.0, 0.0, 0.0, 0.0, 0.0, 0.0, 0.0, ...  \n",
       "1  [0.0, 0.0, 0.0, 0.0, 0.0, 0.0, 0.0, 0.0, 0.0, ...  \n",
       "2  [0.0, 0.0, 0.0, 0.0, 0.0, 0.0, 0.0, 0.0, 0.0, ...  \n",
       "3  [0.0, 0.0, 0.0, 0.0, 0.0, 0.0, 0.0, 0.0, 0.0, ...  \n",
       "4  [0.0, 0.0, 0.0, 0.0, 0.0, 0.0, 0.0, 0.0, 0.0, ...  "
      ]
     },
     "execution_count": 2,
     "metadata": {},
     "output_type": "execute_result"
    }
   ],
   "source": [
    "df = pd.read_json(open(\"../data/data.json\", \"r\", encoding=\"utf8\"))\n",
    "df.head()"
   ]
  },
  {
   "cell_type": "code",
   "execution_count": 3,
   "metadata": {},
   "outputs": [
    {
     "data": {
      "text/plain": [
       "<matplotlib.axes._subplots.AxesSubplot at 0x7fa714ff2ac8>"
      ]
     },
     "execution_count": 3,
     "metadata": {},
     "output_type": "execute_result"
    },
    {
     "data": {
      "image/png": "[encoded data removed]",
      "text/plain": [
       "<Figure size 1440x720 with 1 Axes>"
      ]
     },
     "metadata": {
      "needs_background": "light"
     },
     "output_type": "display_data"
    }
   ],
   "source": [
    "texts_len = df['text'].apply(len)\n",
    "texts_len.hist(bins=200, figsize=(20, 10))"
   ]
  },
  {
   "cell_type": "code",
   "execution_count": 4,
   "metadata": {},
   "outputs": [],
   "source": [
    "texts_len = df['text'].apply(len)\n",
    "df.drop(df[texts_len<50].index, inplace=True)\n",
    "#a_dataframe.drop(a_dataframe[a_dataframe.B > 3].index, inplace=True)"
   ]
  },
  {
   "cell_type": "code",
   "execution_count": 5,
   "metadata": {},
   "outputs": [],
   "source": [
    "max_features = 5000  # maximum number of words in vocabulari 5000\n",
    "max_len = 150  # max length of string\n",
    "output_dim =100 "
   ]
  },
  {
   "cell_type": "code",
   "execution_count": null,
   "metadata": {},
   "outputs": [],
   "source": []
  },
  {
   "cell_type": "code",
   "execution_count": 6,
   "metadata": {},
   "outputs": [],
   "source": [
    "X = keras.preprocessing.sequence.pad_sequences(list(df['text']), maxlen=max_len, padding='post')\n",
    "Y = np.array(df['themes'].to_list())"
   ]
  },
  {
   "cell_type": "code",
   "execution_count": 7,
   "metadata": {},
   "outputs": [
    {
     "data": {
      "text/html": [
       "<div>\n",
       "<style scoped>\n",
       "    .dataframe tbody tr th:only-of-type {\n",
       "        vertical-align: middle;\n",
       "    }\n",
       "\n",
       "    .dataframe tbody tr th {\n",
       "        vertical-align: top;\n",
       "    }\n",
       "\n",
       "    .dataframe thead th {\n",
       "        text-align: right;\n",
       "    }\n",
       "</style>\n",
       "<table border=\"1\" class=\"dataframe\">\n",
       "  <thead>\n",
       "    <tr style=\"text-align: right;\">\n",
       "      <th></th>\n",
       "      <th>title</th>\n",
       "      <th>url</th>\n",
       "      <th>author</th>\n",
       "      <th>year</th>\n",
       "      <th>text</th>\n",
       "      <th>themes</th>\n",
       "    </tr>\n",
       "  </thead>\n",
       "  <tbody>\n",
       "    <tr>\n",
       "      <th>0</th>\n",
       "      <td>[30, 419, 145, 978]</td>\n",
       "      <td>https://poets.org/poem/body-and-soul-ii</td>\n",
       "      <td>401</td>\n",
       "      <td>2002</td>\n",
       "      <td>[2104, 1237, 2, 2104, 252, 830, 137, 483, 54, ...</td>\n",
       "      <td>[0.0, 0.0, 0.0, 0.0, 0.0, 0.0, 0.0, 0.0, 0.0, ...</td>\n",
       "    </tr>\n",
       "    <tr>\n",
       "      <th>1</th>\n",
       "      <td>[3112]</td>\n",
       "      <td>https://poets.org/poem/novel</td>\n",
       "      <td>222</td>\n",
       "      <td>2002</td>\n",
       "      <td>[288, 3496, 1, 2337, 238, 17, 1164, 633, 427, ...</td>\n",
       "      <td>[0.0, 0.0, 0.0, 0.0, 0.0, 0.0, 0.0, 0.0, 0.0, ...</td>\n",
       "    </tr>\n",
       "    <tr>\n",
       "      <th>2</th>\n",
       "      <td>[169]</td>\n",
       "      <td>https://poets.org/poem/flying</td>\n",
       "      <td>2263</td>\n",
       "      <td>2002</td>\n",
       "      <td>[13, 620, 9, 1559, 192, 106, 433, 11, 2338, 21...</td>\n",
       "      <td>[0.0, 0.0, 0.0, 0.0, 0.0, 0.0, 0.0, 0.0, 0.0, ...</td>\n",
       "    </tr>\n",
       "    <tr>\n",
       "      <th>3</th>\n",
       "      <td>[1345, 3162, 95, 292, 1003, 2815]</td>\n",
       "      <td>https://poets.org/poem/photograph-people-danci...</td>\n",
       "      <td>1528</td>\n",
       "      <td>2002</td>\n",
       "      <td>[245, 16, 23, 5, 5, 29, 1034, 1579, 3199, 50, ...</td>\n",
       "      <td>[0.0, 0.0, 0.0, 0.0, 0.0, 0.0, 0.0, 0.0, 0.0, ...</td>\n",
       "    </tr>\n",
       "    <tr>\n",
       "      <th>4</th>\n",
       "      <td>[2673, 358]</td>\n",
       "      <td>https://poets.org/poem/borrowed-dress</td>\n",
       "      <td>371</td>\n",
       "      <td>2001</td>\n",
       "      <td>[19, 107, 4188, 4726, 29, 581, 2967, 1659, 587...</td>\n",
       "      <td>[0.0, 0.0, 0.0, 0.0, 0.0, 0.0, 0.0, 0.0, 0.0, ...</td>\n",
       "    </tr>\n",
       "  </tbody>\n",
       "</table>\n",
       "</div>"
      ],
      "text/plain": [
       "                               title  \\\n",
       "0                [30, 419, 145, 978]   \n",
       "1                             [3112]   \n",
       "2                              [169]   \n",
       "3  [1345, 3162, 95, 292, 1003, 2815]   \n",
       "4                        [2673, 358]   \n",
       "\n",
       "                                                 url  author  year  \\\n",
       "0            https://poets.org/poem/body-and-soul-ii     401  2002   \n",
       "1                       https://poets.org/poem/novel     222  2002   \n",
       "2                      https://poets.org/poem/flying    2263  2002   \n",
       "3  https://poets.org/poem/photograph-people-danci...    1528  2002   \n",
       "4              https://poets.org/poem/borrowed-dress     371  2001   \n",
       "\n",
       "                                                text  \\\n",
       "0  [2104, 1237, 2, 2104, 252, 830, 137, 483, 54, ...   \n",
       "1  [288, 3496, 1, 2337, 238, 17, 1164, 633, 427, ...   \n",
       "2  [13, 620, 9, 1559, 192, 106, 433, 11, 2338, 21...   \n",
       "3  [245, 16, 23, 5, 5, 29, 1034, 1579, 3199, 50, ...   \n",
       "4  [19, 107, 4188, 4726, 29, 581, 2967, 1659, 587...   \n",
       "\n",
       "                                              themes  \n",
       "0  [0.0, 0.0, 0.0, 0.0, 0.0, 0.0, 0.0, 0.0, 0.0, ...  \n",
       "1  [0.0, 0.0, 0.0, 0.0, 0.0, 0.0, 0.0, 0.0, 0.0, ...  \n",
       "2  [0.0, 0.0, 0.0, 0.0, 0.0, 0.0, 0.0, 0.0, 0.0, ...  \n",
       "3  [0.0, 0.0, 0.0, 0.0, 0.0, 0.0, 0.0, 0.0, 0.0, ...  \n",
       "4  [0.0, 0.0, 0.0, 0.0, 0.0, 0.0, 0.0, 0.0, 0.0, ...  "
      ]
     },
     "execution_count": 7,
     "metadata": {},
     "output_type": "execute_result"
    }
   ],
   "source": [
    "df.head()"
   ]
  },
  {
   "cell_type": "code",
   "execution_count": 8,
   "metadata": {},
   "outputs": [],
   "source": [
    "X_train, X_test, Y_train, Y_test = model_selection.train_test_split(X, Y, test_size=0.2, random_state=42)"
   ]
  },
  {
   "cell_type": "code",
   "execution_count": 9,
   "metadata": {},
   "outputs": [],
   "source": [
    "model = keras.Sequential([\n",
    "    layers.Embedding(max_features, output_dim, input_length=max_len),\n",
    "    layers.SpatialDropout1D(0.2),\n",
    "    layers.LSTM(100, dropout=0.2, recurrent_dropout=0.2),\n",
    "    layers.Dense(153, activation='softmax')\n",
    "])"
   ]
  },
  {
   "cell_type": "code",
   "execution_count": 10,
   "metadata": {},
   "outputs": [],
   "source": [
    "model.compile(loss='categorical_crossentropy', optimizer='adam', metrics=['accuracy'])"
   ]
  },
  {
   "cell_type": "code",
   "execution_count": 11,
   "metadata": {},
   "outputs": [
    {
     "name": "stdout",
     "output_type": "stream",
     "text": [
      "Epoch 1/5\n",
      "28/28 [==============================] - 6s 208ms/step - loss: 9.6440 - accuracy: 0.1146 - val_loss: 9.7061 - val_accuracy: 0.1788\n",
      "Epoch 2/5\n",
      "28/28 [==============================] - 5s 189ms/step - loss: 9.2602 - accuracy: 0.1281 - val_loss: 9.7494 - val_accuracy: 0.1788\n",
      "Epoch 3/5\n",
      "28/28 [==============================] - 5s 192ms/step - loss: 9.2822 - accuracy: 0.1281 - val_loss: 9.7714 - val_accuracy: 0.1788\n",
      "Epoch 4/5\n",
      "28/28 [==============================] - 5s 184ms/step - loss: 9.3157 - accuracy: 0.1281 - val_loss: 9.8453 - val_accuracy: 0.1788\n"
     ]
    }
   ],
   "source": [
    "epochs = 5\n",
    "batch_size = 128\n",
    "\n",
    "early_stopping_callback = keras.callbacks.EarlyStopping(monitor='val_loss', patience=3, min_delta=0.0001)\n",
    "history = model.fit(X_train, Y_train, epochs=epochs, batch_size=batch_size,validation_split=0.1,callbacks=[early_stopping_callback])"
   ]
  },
  {
   "cell_type": "code",
   "execution_count": 12,
   "metadata": {},
   "outputs": [
    {
     "name": "stdout",
     "output_type": "stream",
     "text": [
      "WARNING:tensorflow:Model was constructed with shape (None, 150) for input Tensor(\"embedding_input:0\", shape=(None, 150), dtype=float32), but it was called on an input with incompatible shape (None, 1).\n"
     ]
    }
   ],
   "source": [
    "result = model.predict(X_test[8])"
   ]
  },
  {
   "cell_type": "code",
   "execution_count": 13,
   "metadata": {},
   "outputs": [
    {
     "data": {
      "text/plain": [
       "array([[0.00657617, 0.00679536, 0.0066459 , ..., 0.0062066 , 0.00621996,\n",
       "        0.00647593],\n",
       "       [0.00661888, 0.006893  , 0.0067419 , ..., 0.00613602, 0.00618355,\n",
       "        0.00643473],\n",
       "       [0.00662678, 0.00694303, 0.0067132 , ..., 0.00597954, 0.00592299,\n",
       "        0.00643727],\n",
       "       ...,\n",
       "       [0.00699296, 0.00739812, 0.00690947, ..., 0.00525111, 0.00516508,\n",
       "        0.00619545],\n",
       "       [0.00699296, 0.00739812, 0.00690947, ..., 0.00525111, 0.00516508,\n",
       "        0.00619545],\n",
       "       [0.00699296, 0.00739812, 0.00690947, ..., 0.00525111, 0.00516508,\n",
       "        0.00619545]], dtype=float32)"
      ]
     },
     "execution_count": 13,
     "metadata": {},
     "output_type": "execute_result"
    }
   ],
   "source": [
    "result"
   ]
  },
  {
   "cell_type": "code",
   "execution_count": 14,
   "metadata": {},
   "outputs": [
    {
     "name": "stdout",
     "output_type": "stream",
     "text": [
      "31/31 [==============================] - 0s 14ms/step - loss: 9.5587 - accuracy: 0.1399\n",
      "Test set\n",
      "  Loss: 9.559\n",
      "  Accuracy: 0.140\n"
     ]
    }
   ],
   "source": [
    "accr = model.evaluate(X_test,Y_test)\n",
    "print('Test set\\n  Loss: {:0.3f}\\n  Accuracy: {:0.3f}'.format(accr[0],accr[1]))"
   ]
  },
  {
   "cell_type": "code",
   "execution_count": 15,
   "metadata": {},
   "outputs": [
    {
     "data": {
      "text/plain": [
       "array([ 162,    5,   75,   68,    5,  214,  372, 1011,  543,  217,   17,\n",
       "        225,  409,    2,   63,  792,  214,  317,   33,  111,  123,    1,\n",
       "        334, 1290,  130,   27,   31,  186,  212,   81,  264,  119, 1011,\n",
       "        315, 1852,   13,    5,  203,  401,  323, 1526,    1, 1294,    5,\n",
       "        723,  623,  790,  401,  787,  255,  110,    4,    0,    0,    0,\n",
       "          0,    0,    0,    0,    0,    0,    0,    0,    0,    0,    0,\n",
       "          0,    0,    0,    0,    0,    0,    0,    0,    0,    0,    0,\n",
       "          0,    0,    0,    0,    0,    0,    0,    0,    0,    0,    0,\n",
       "          0,    0,    0,    0,    0,    0,    0,    0,    0,    0,    0,\n",
       "          0,    0,    0,    0,    0,    0,    0,    0,    0,    0,    0,\n",
       "          0,    0,    0,    0,    0,    0,    0,    0,    0,    0,    0,\n",
       "          0,    0,    0,    0,    0,    0,    0,    0,    0,    0,    0,\n",
       "          0,    0,    0,    0,    0,    0,    0,    0,    0,    0,    0,\n",
       "          0,    0,    0,    0,    0,    0,    0], dtype=int32)"
      ]
     },
     "execution_count": 15,
     "metadata": {},
     "output_type": "execute_result"
    }
   ],
   "source": [
    "X_test[7]"
   ]
  },
  {
   "cell_type": "code",
   "execution_count": 16,
   "metadata": {},
   "outputs": [],
   "source": [
    "inputs = keras.Input(shape=(None,), dtype=\"int64\")\n",
    "\n",
    "# Next, we add a layer to map those vocab indices into a space of dimensionality\n",
    "# 'embedding_dim'.\n",
    "x = layers.Embedding(max_features, output_dim)(inputs)\n",
    "x = layers.Dropout(0.5)(x)\n",
    "\n",
    "# Conv1D + global max pooling\n",
    "x = layers.Conv1D(128, 7, padding=\"valid\", activation=\"relu\", strides=3)(x)\n",
    "x = layers.Conv1D(128, 7, padding=\"valid\", activation=\"relu\", strides=3)(x)\n",
    "x = layers.GlobalMaxPooling1D()(x)\n",
    "\n",
    "# We add a vanilla hidden layer:\n",
    "x = layers.Dense(128, activation=\"relu\")(x)\n",
    "x = layers.Dropout(0.5)(x)\n",
    "\n",
    "predictions = layers.Dense(153, activation='softmax', name=\"predictions\")(x)\n",
    "\n",
    "model2 = keras.Model(inputs, predictions)\n",
    "\n",
    "# Compile the model with binary crossentropy loss and an adam optimizer.\n",
    "model2.compile(loss=\"binary_crossentropy\", optimizer=\"adam\", metrics=[\"accuracy\"])\n"
   ]
  },
  {
   "cell_type": "code",
   "execution_count": 17,
   "metadata": {},
   "outputs": [
    {
     "name": "stdout",
     "output_type": "stream",
     "text": [
      "Epoch 1/5\n",
      "28/28 [==============================] - 1s 48ms/step - loss: 0.0704 - accuracy: 0.0875 - val_loss: 0.0693 - val_accuracy: 0.1788\n",
      "Epoch 2/5\n",
      "28/28 [==============================] - 1s 41ms/step - loss: 0.0668 - accuracy: 0.1114 - val_loss: 0.0683 - val_accuracy: 0.1788\n",
      "Epoch 3/5\n",
      "28/28 [==============================] - 1s 53ms/step - loss: 0.0661 - accuracy: 0.1195 - val_loss: 0.0681 - val_accuracy: 0.1788\n",
      "Epoch 4/5\n",
      "28/28 [==============================] - 1s 48ms/step - loss: 0.0656 - accuracy: 0.1247 - val_loss: 0.0679 - val_accuracy: 0.1788\n",
      "Epoch 5/5\n",
      "28/28 [==============================] - 1s 48ms/step - loss: 0.0652 - accuracy: 0.1253 - val_loss: 0.0679 - val_accuracy: 0.1788\n"
     ]
    },
    {
     "data": {
      "text/plain": [
       "<tensorflow.python.keras.callbacks.History at 0x7fa6e07db6d8>"
      ]
     },
     "execution_count": 17,
     "metadata": {},
     "output_type": "execute_result"
    }
   ],
   "source": [
    "model2.fit(X_train, Y_train, epochs=epochs, batch_size=batch_size,validation_split=0.1)"
   ]
  },
  {
   "cell_type": "code",
   "execution_count": 18,
   "metadata": {},
   "outputs": [
    {
     "name": "stdout",
     "output_type": "stream",
     "text": [
      "31/31 [==============================] - 0s 5ms/step - loss: 0.0660 - accuracy: 0.1399\n",
      "Test set\n",
      "  Loss: 0.066\n",
      "  Accuracy: 0.140\n"
     ]
    }
   ],
   "source": [
    "accr = model2.evaluate(X_test,Y_test)\n",
    "print('Test set\\n  Loss: {:0.3f}\\n  Accuracy: {:0.3f}'.format(accr[0],accr[1]))"
   ]
  },
  {
   "cell_type": "code",
   "execution_count": null,
   "metadata": {},
   "outputs": [],
   "source": []
  }
 ],
 "metadata": {
  "kernelspec": {
   "display_name": "Python 3",
   "language": "python",
   "name": "python3"
  },
  "language_info": {
   "codemirror_mode": {
    "name": "ipython",
    "version": 3
   },
   "file_extension": ".py",
   "mimetype": "text/x-python",
   "name": "python",
   "nbconvert_exporter": "python",
   "pygments_lexer": "ipython3",
   "version": "3.6.9"
  }
 },
 "nbformat": 4,
 "nbformat_minor": 2
}
