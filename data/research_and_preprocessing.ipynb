{
 "cells": [
  {
   "cell_type": "code",
   "execution_count": 1,
   "metadata": {},
   "outputs": [],
   "source": [
    "import data_analysis\n",
    "import pandas as pd\n",
    "import tensorflow as tf\n",
    "import string\n",
    "import numpy as np\n",
    "import spacy\n",
    "import data_analysis\n",
    "import re\n",
    "\n",
    "from spacy.lang.en.stop_words import STOP_WORDS"
   ]
  },
  {
   "cell_type": "code",
   "execution_count": 2,
   "metadata": {},
   "outputs": [
    {
     "name": "stdout",
     "output_type": "stream",
     "text": [
      "<class 'pandas.core.frame.DataFrame'>\n",
      "RangeIndex: 10665 entries, 0 to 10664\n",
      "Data columns (total 8 columns):\n",
      " #   Column     Non-Null Count  Dtype  \n",
      "---  ------     --------------  -----  \n",
      " 0   title      10665 non-null  object \n",
      " 1   url        10665 non-null  object \n",
      " 2   author     10665 non-null  object \n",
      " 3   year       10520 non-null  float64\n",
      " 4   text       10664 non-null  object \n",
      " 5   themes     9447 non-null   object \n",
      " 6   occasions  2580 non-null   object \n",
      " 7   forms      837 non-null    object \n",
      "dtypes: float64(1), object(7)\n",
      "memory usage: 666.7+ KB\n",
      "None\n",
      "\n",
      "\n",
      "               year\n",
      "count  10520.000000\n",
      "mean    1979.957224\n",
      "std       70.301632\n",
      "min     1374.000000\n",
      "25%     1983.000000\n",
      "50%     2010.000000\n",
      "75%     2016.000000\n",
      "max     2021.000000\n",
      "\n",
      "\n",
      "title           0\n",
      "url             0\n",
      "author          0\n",
      "year          145\n",
      "text            1\n",
      "themes       1218\n",
      "occasions    8085\n",
      "forms        9828\n",
      "dtype: int64\n",
      "\n",
      "\n",
      "0                                   NaN\n",
      "1                               [audio]\n",
      "2                                [lust]\n",
      "3                      [dreams, flight]\n",
      "4                                   NaN\n",
      "                      ...              \n",
      "10660    [buildings, childhood, cities]\n",
      "10661     [illness, mothers, parenting]\n",
      "10662                                []\n",
      "10663                               NaN\n",
      "10664                                []\n",
      "Name: themes, Length: 10665, dtype: object\n"
     ]
    }
   ],
   "source": [
    "df = pd.read_json(open(\"raw_data.json\", \"r\", encoding=\"utf8\"))\n",
    "\n",
    "print(df.info())\n",
    "print('\\n')\n",
    "print(df.describe())\n",
    "print('\\n')\n",
    "print(df.isna().sum())\n",
    "print('\\n')\n",
    "print(df['themes'])"
   ]
  },
  {
   "cell_type": "code",
   "execution_count": 3,
   "metadata": {},
   "outputs": [
    {
     "name": "stdout",
     "output_type": "stream",
     "text": [
      "['afterlife', 'aging', 'ambition', 'america', 'american revolution', 'americana', 'ancestry', 'anger', 'animals', 'anxiety', 'apocalypse', 'audio', 'beauty', 'beginning', 'birds', 'body', 'brothers', 'buildings', 'carpe diem', 'cats', 'childhood', 'cities', 'civil war', 'clothing', 'cooking', 'creation', 'dance', 'daughters', 'death', 'deception', 'desire', 'despair', 'divorce', 'dogs', 'doubt', 'dreams', 'drinking', 'drugs', 'earth', 'eating', 'economy', 'enemies', 'environment', 'existential', 'family', 'fathers', 'flight', 'flowers', 'for children', 'for mom', 'for teens', 'friendship', 'future', 'gardens', 'gender', 'ghosts', 'gratitude', 'grief', 'gun violence', 'happiness', 'heartache', 'heroes', 'high school', 'history', 'home', 'hope', 'humor', 'identity', 'illness', 'immigration', 'incarceration', 'infidelity', 'innocence', 'jealousy', 'lgbtq', 'landscapes', 'language', 'loneliness', 'loss', 'love', 'love, contemporary', 'luck', 'lust', 'marriage', 'math', 'memories', 'migration', 'miracles', 'money', 'mothers', 'mourning', 'movies', 'moving', 'music', 'myth', 'national parks', 'nature', 'new york city', 'night', 'nostalgia', 'oblivion', 'oceans', 'old age', 'pacifism', 'parenting', 'past', 'pastoral', 'patience', 'pets', 'plants', 'politics', 'popular culture', 'public domain', 'reading', 'rebellion', 'regret', 'religion', 'romance', 'sadness', 'school', 'science', 'self', 'sex', 'silence', 'sisters', 'slavery', 'social justice', 'sons', 'space', 'spanish', 'spirituality', 'sports', 'storms', 'suburbia', 'suffrage', 'survival', 'teaching', 'technology', 'theft', 'thought', 'time', 'tragedy', 'translation', 'travel', 'turmoil', 'underworld', 'vanity', 'violence', 'visual art', 'war', 'weather', 'work', 'writing']\n"
     ]
    }
   ],
   "source": [
    "topics = data_analysis.scrape_topics()\n",
    "print(topics)"
   ]
  },
  {
   "cell_type": "code",
   "execution_count": 4,
   "metadata": {},
   "outputs": [
    {
     "name": "stdout",
     "output_type": "stream",
     "text": [
      "{'afterlife': 0, 'aging': 1, 'ambition': 2, 'america': 3, 'american revolution': 4, 'americana': 5, 'ancestry': 6, 'anger': 7, 'animals': 8, 'anxiety': 9, 'apocalypse': 10, 'audio': 11, 'beauty': 12, 'beginning': 13, 'birds': 14, 'body': 15, 'brothers': 16, 'buildings': 17, 'carpe diem': 18, 'cats': 19, 'childhood': 20, 'cities': 21, 'civil war': 22, 'clothing': 23, 'cooking': 24, 'creation': 25, 'dance': 26, 'daughters': 27, 'death': 28, 'deception': 29, 'desire': 30, 'despair': 31, 'divorce': 32, 'dogs': 33, 'doubt': 34, 'dreams': 35, 'drinking': 36, 'drugs': 37, 'earth': 38, 'eating': 39, 'economy': 40, 'enemies': 41, 'environment': 42, 'existential': 43, 'family': 44, 'fathers': 45, 'flight': 46, 'flowers': 47, 'for children': 48, 'for mom': 49, 'for teens': 50, 'friendship': 51, 'future': 52, 'gardens': 53, 'gender': 54, 'ghosts': 55, 'gratitude': 56, 'grief': 57, 'gun violence': 58, 'happiness': 59, 'heartache': 60, 'heroes': 61, 'high school': 62, 'history': 63, 'home': 64, 'hope': 65, 'humor': 66, 'identity': 67, 'illness': 68, 'immigration': 69, 'incarceration': 70, 'infidelity': 71, 'innocence': 72, 'jealousy': 73, 'landscapes': 74, 'language': 75, 'lgbtq': 76, 'loneliness': 77, 'loss': 78, 'love': 79, 'love, contemporary': 80, 'luck': 81, 'lust': 82, 'marriage': 83, 'math': 84, 'memories': 85, 'migration': 86, 'miracles': 87, 'money': 88, 'mothers': 89, 'mourning': 90, 'movies': 91, 'moving': 92, 'music': 93, 'myth': 94, 'national parks': 95, 'nature': 96, 'new york city': 97, 'night': 98, 'nostalgia': 99, 'oblivion': 100, 'oceans': 101, 'old age': 102, 'pacifism': 103, 'parenting': 104, 'past': 105, 'pastoral': 106, 'patience': 107, 'pets': 108, 'plants': 109, 'politics': 110, 'popular culture': 111, 'public domain': 112, 'reading': 113, 'rebellion': 114, 'regret': 115, 'religion': 116, 'romance': 117, 'sadness': 118, 'school': 119, 'science': 120, 'self': 121, 'sex': 122, 'silence': 123, 'sisters': 124, 'slavery': 125, 'social justice': 126, 'sons': 127, 'space': 128, 'spanish': 129, 'spirituality': 130, 'sports': 131, 'storms': 132, 'suburbia': 133, 'suffrage': 134, 'survival': 135, 'teaching': 136, 'technology': 137, 'theft': 138, 'thought': 139, 'time': 140, 'tragedy': 141, 'translation': 142, 'travel': 143, 'turmoil': 144, 'underworld': 145, 'vanity': 146, 'violence': 147, 'visual art': 148, 'war': 149, 'weather': 150, 'work': 151, 'writing': 152}\n"
     ]
    }
   ],
   "source": [
    "encoded_topics = data_analysis.encode_topics(topics)\n",
    "print(encoded_topics)"
   ]
  },
  {
   "cell_type": "code",
   "execution_count": 5,
   "metadata": {},
   "outputs": [
    {
     "name": "stdout",
     "output_type": "stream",
     "text": [
      "['audio']\n",
      "[0. 0. 0. 0. 0. 0. 0. 0. 0. 0. 0. 0. 0. 0. 0. 0. 0. 0. 0. 0. 0. 0. 0. 0.\n",
      " 0. 0. 0. 0. 0. 0. 0. 0. 0. 0. 0. 0. 0. 0. 0. 0. 0. 0. 0. 0. 0. 0. 0. 0.\n",
      " 0. 0. 0. 0. 0. 0. 0. 0. 0. 0. 0. 0. 0. 0. 0. 0. 0. 0. 0. 0. 0. 0. 0. 0.\n",
      " 0. 0. 0. 0. 0. 0. 0. 0. 0. 0. 0. 0. 0. 0. 0. 0. 0. 0. 0. 0. 0. 0. 0. 0.\n",
      " 0. 0. 0. 0. 0. 0. 0. 0. 0. 0. 0. 0. 0. 0. 0. 0. 0. 0. 0. 0. 0. 0. 0. 0.\n",
      " 0. 0. 0. 0. 0. 0. 0. 0. 0. 0. 0. 0. 0. 0. 0. 0. 0. 0. 0. 0. 0. 0. 0. 0.\n",
      " 0. 0. 0. 0. 0. 0. 0. 0. 0. 0. 0. 0. 0. 0. 0. 0. 0. 0. 0. 0. 0. 0. 0. 0.\n",
      " 0. 0. 0. 0. 0. 0. 0. 0. 0. 0. 0. 0. 0. 0. 0. 0. 0. 0. 0. 0. 0. 0. 0. 0.\n",
      " 0. 0. 0. 0. 0. 0. 0. 0. 0. 0.]\n"
     ]
    }
   ],
   "source": [
    "row = df['themes'][1]\n",
    "print(row)\n",
    "encoded = data_analysis.encode_column(row)\n",
    "print(encoded)"
   ]
  },
  {
   "cell_type": "code",
   "execution_count": 6,
   "metadata": {
    "scrolled": true
   },
   "outputs": [
    {
     "name": "stdout",
     "output_type": "stream",
     "text": [
      "1        [0.0, 0.0, 0.0, 0.0, 0.0, 0.0, 0.0, 0.0, 0.0, ...\n",
      "2        [0.0, 0.0, 0.0, 0.0, 0.0, 0.0, 0.0, 0.0, 0.0, ...\n",
      "3        [0.0, 0.0, 0.0, 0.0, 0.0, 0.0, 0.0, 0.0, 0.0, ...\n",
      "5        [0.0, 0.0, 0.0, 0.0, 0.0, 0.0, 0.0, 0.0, 0.0, ...\n",
      "6        [0.0, 0.0, 0.0, 0.0, 0.0, 0.0, 0.0, 0.0, 0.0, ...\n",
      "                               ...                        \n",
      "10659    [0.0, 0.0, 0.0, 0.0, 0.0, 0.0, 0.0, 0.0, 0.0, ...\n",
      "10660    [0.0, 0.0, 0.0, 0.0, 0.0, 0.0, 0.0, 0.0, 0.0, ...\n",
      "10661    [0.0, 0.0, 0.0, 0.0, 0.0, 0.0, 0.0, 0.0, 0.0, ...\n",
      "10662    [0.0, 0.0, 0.0, 0.0, 0.0, 0.0, 0.0, 0.0, 0.0, ...\n",
      "10664    [0.0, 0.0, 0.0, 0.0, 0.0, 0.0, 0.0, 0.0, 0.0, ...\n",
      "Name: themes, Length: 9447, dtype: object\n"
     ]
    }
   ],
   "source": [
    "df = df[df['themes'].notna()]\n",
    "df['themes'] = df['themes'].apply(data_analysis.encode_column)\n",
    "print(df['themes'])"
   ]
  },
  {
   "cell_type": "markdown",
   "metadata": {},
   "source": [
    "#### Using added functions to clear df and encode authors"
   ]
  },
  {
   "cell_type": "code",
   "execution_count": 7,
   "metadata": {},
   "outputs": [
    {
     "data": {
      "text/html": [
       "<div>\n",
       "<style scoped>\n",
       "    .dataframe tbody tr th:only-of-type {\n",
       "        vertical-align: middle;\n",
       "    }\n",
       "\n",
       "    .dataframe tbody tr th {\n",
       "        vertical-align: top;\n",
       "    }\n",
       "\n",
       "    .dataframe thead th {\n",
       "        text-align: right;\n",
       "    }\n",
       "</style>\n",
       "<table border=\"1\" class=\"dataframe\">\n",
       "  <thead>\n",
       "    <tr style=\"text-align: right;\">\n",
       "      <th></th>\n",
       "      <th>title</th>\n",
       "      <th>url</th>\n",
       "      <th>author</th>\n",
       "      <th>year</th>\n",
       "      <th>text</th>\n",
       "      <th>themes</th>\n",
       "      <th>occasions</th>\n",
       "      <th>forms</th>\n",
       "    </tr>\n",
       "  </thead>\n",
       "  <tbody>\n",
       "    <tr>\n",
       "      <th>1</th>\n",
       "      <td>Body and Soul II</td>\n",
       "      <td>https://poets.org/poem/body-and-soul-ii</td>\n",
       "      <td>Charles Wright</td>\n",
       "      <td>2002.0</td>\n",
       "      <td>(for Coleman Hawkins)\\nThe structure of landsc...</td>\n",
       "      <td>[0.0, 0.0, 0.0, 0.0, 0.0, 0.0, 0.0, 0.0, 0.0, ...</td>\n",
       "      <td>NaN</td>\n",
       "      <td>NaN</td>\n",
       "    </tr>\n",
       "    <tr>\n",
       "      <th>2</th>\n",
       "      <td>Novel</td>\n",
       "      <td>https://poets.org/poem/novel</td>\n",
       "      <td>Arthur Rimbaud</td>\n",
       "      <td>2002.0</td>\n",
       "      <td>I.\\n\\nNo one's serious at seventeen.\\n—On beau...</td>\n",
       "      <td>[0.0, 0.0, 0.0, 0.0, 0.0, 0.0, 0.0, 0.0, 0.0, ...</td>\n",
       "      <td>[lgbtq pride month]</td>\n",
       "      <td>NaN</td>\n",
       "    </tr>\n",
       "    <tr>\n",
       "      <th>3</th>\n",
       "      <td>Flying</td>\n",
       "      <td>https://poets.org/poem/flying</td>\n",
       "      <td>Sarah Arvio</td>\n",
       "      <td>2002.0</td>\n",
       "      <td>One said to me tonight or was it day \\nor was ...</td>\n",
       "      <td>[0.0, 0.0, 0.0, 0.0, 0.0, 0.0, 0.0, 0.0, 0.0, ...</td>\n",
       "      <td>NaN</td>\n",
       "      <td>NaN</td>\n",
       "    </tr>\n",
       "    <tr>\n",
       "      <th>5</th>\n",
       "      <td>Photograph of People Dancing in France</td>\n",
       "      <td>https://poets.org/poem/photograph-people-danci...</td>\n",
       "      <td>Leslie Adrienne Miller</td>\n",
       "      <td>2002.0</td>\n",
       "      <td>It's true that you don't know them--nor do I \\...</td>\n",
       "      <td>[0.0, 0.0, 0.0, 0.0, 0.0, 0.0, 0.0, 0.0, 0.0, ...</td>\n",
       "      <td>NaN</td>\n",
       "      <td>[ekphrastic]</td>\n",
       "    </tr>\n",
       "    <tr>\n",
       "      <th>6</th>\n",
       "      <td>Borrowed Dress</td>\n",
       "      <td>https://poets.org/poem/borrowed-dress</td>\n",
       "      <td>Cathy Colman</td>\n",
       "      <td>2001.0</td>\n",
       "      <td>He left the room, assured of his immortality--...</td>\n",
       "      <td>[0.0, 0.0, 0.0, 0.0, 0.0, 0.0, 0.0, 0.0, 0.0, ...</td>\n",
       "      <td>NaN</td>\n",
       "      <td>NaN</td>\n",
       "    </tr>\n",
       "  </tbody>\n",
       "</table>\n",
       "</div>"
      ],
      "text/plain": [
       "                                    title  \\\n",
       "1                        Body and Soul II   \n",
       "2                                   Novel   \n",
       "3                                  Flying   \n",
       "5  Photograph of People Dancing in France   \n",
       "6                          Borrowed Dress   \n",
       "\n",
       "                                                 url                  author  \\\n",
       "1            https://poets.org/poem/body-and-soul-ii          Charles Wright   \n",
       "2                       https://poets.org/poem/novel          Arthur Rimbaud   \n",
       "3                      https://poets.org/poem/flying             Sarah Arvio   \n",
       "5  https://poets.org/poem/photograph-people-danci...  Leslie Adrienne Miller   \n",
       "6              https://poets.org/poem/borrowed-dress            Cathy Colman   \n",
       "\n",
       "     year                                               text  \\\n",
       "1  2002.0  (for Coleman Hawkins)\\nThe structure of landsc...   \n",
       "2  2002.0  I.\\n\\nNo one's serious at seventeen.\\n—On beau...   \n",
       "3  2002.0  One said to me tonight or was it day \\nor was ...   \n",
       "5  2002.0  It's true that you don't know them--nor do I \\...   \n",
       "6  2001.0  He left the room, assured of his immortality--...   \n",
       "\n",
       "                                              themes            occasions  \\\n",
       "1  [0.0, 0.0, 0.0, 0.0, 0.0, 0.0, 0.0, 0.0, 0.0, ...                  NaN   \n",
       "2  [0.0, 0.0, 0.0, 0.0, 0.0, 0.0, 0.0, 0.0, 0.0, ...  [lgbtq pride month]   \n",
       "3  [0.0, 0.0, 0.0, 0.0, 0.0, 0.0, 0.0, 0.0, 0.0, ...                  NaN   \n",
       "5  [0.0, 0.0, 0.0, 0.0, 0.0, 0.0, 0.0, 0.0, 0.0, ...                  NaN   \n",
       "6  [0.0, 0.0, 0.0, 0.0, 0.0, 0.0, 0.0, 0.0, 0.0, ...                  NaN   \n",
       "\n",
       "          forms  \n",
       "1           NaN  \n",
       "2           NaN  \n",
       "3           NaN  \n",
       "5  [ekphrastic]  \n",
       "6           NaN  "
      ]
     },
     "execution_count": 7,
     "metadata": {},
     "output_type": "execute_result"
    }
   ],
   "source": [
    "df.head()"
   ]
  },
  {
   "cell_type": "code",
   "execution_count": 8,
   "metadata": {},
   "outputs": [
    {
     "data": {
      "text/plain": [
       "(9447, 8)"
      ]
     },
     "execution_count": 8,
     "metadata": {},
     "output_type": "execute_result"
    }
   ],
   "source": [
    "df.shape"
   ]
  },
  {
   "cell_type": "code",
   "execution_count": 9,
   "metadata": {},
   "outputs": [
    {
     "data": {
      "text/plain": [
       "(8308, 8)"
      ]
     },
     "execution_count": 9,
     "metadata": {},
     "output_type": "execute_result"
    }
   ],
   "source": [
    "df = data_analysis.clear_nans(df)\n",
    "df.shape"
   ]
  },
  {
   "cell_type": "code",
   "execution_count": 10,
   "metadata": {},
   "outputs": [
    {
     "data": {
      "text/plain": [
       "title           0\n",
       "url             0\n",
       "author          0\n",
       "year            0\n",
       "text            0\n",
       "themes          0\n",
       "occasions    6157\n",
       "forms        7598\n",
       "dtype: int64"
      ]
     },
     "execution_count": 10,
     "metadata": {},
     "output_type": "execute_result"
    }
   ],
   "source": [
    "df.isna().sum()"
   ]
  },
  {
   "cell_type": "code",
   "execution_count": 11,
   "metadata": {},
   "outputs": [
    {
     "data": {
      "text/html": [
       "<div>\n",
       "<style scoped>\n",
       "    .dataframe tbody tr th:only-of-type {\n",
       "        vertical-align: middle;\n",
       "    }\n",
       "\n",
       "    .dataframe tbody tr th {\n",
       "        vertical-align: top;\n",
       "    }\n",
       "\n",
       "    .dataframe thead th {\n",
       "        text-align: right;\n",
       "    }\n",
       "</style>\n",
       "<table border=\"1\" class=\"dataframe\">\n",
       "  <thead>\n",
       "    <tr style=\"text-align: right;\">\n",
       "      <th></th>\n",
       "      <th>title</th>\n",
       "      <th>url</th>\n",
       "      <th>author</th>\n",
       "      <th>year</th>\n",
       "      <th>text</th>\n",
       "      <th>themes</th>\n",
       "      <th>occasions</th>\n",
       "      <th>forms</th>\n",
       "    </tr>\n",
       "  </thead>\n",
       "  <tbody>\n",
       "    <tr>\n",
       "      <th>0</th>\n",
       "      <td>Body and Soul II</td>\n",
       "      <td>https://poets.org/poem/body-and-soul-ii</td>\n",
       "      <td>Charles Wright</td>\n",
       "      <td>2002.0</td>\n",
       "      <td>(for Coleman Hawkins)\\nThe structure of landsc...</td>\n",
       "      <td>[0.0, 0.0, 0.0, 0.0, 0.0, 0.0, 0.0, 0.0, 0.0, ...</td>\n",
       "      <td>NaN</td>\n",
       "      <td>NaN</td>\n",
       "    </tr>\n",
       "    <tr>\n",
       "      <th>1</th>\n",
       "      <td>Novel</td>\n",
       "      <td>https://poets.org/poem/novel</td>\n",
       "      <td>Arthur Rimbaud</td>\n",
       "      <td>2002.0</td>\n",
       "      <td>I.\\n\\nNo one's serious at seventeen.\\n—On beau...</td>\n",
       "      <td>[0.0, 0.0, 0.0, 0.0, 0.0, 0.0, 0.0, 0.0, 0.0, ...</td>\n",
       "      <td>[lgbtq pride month]</td>\n",
       "      <td>NaN</td>\n",
       "    </tr>\n",
       "    <tr>\n",
       "      <th>2</th>\n",
       "      <td>Flying</td>\n",
       "      <td>https://poets.org/poem/flying</td>\n",
       "      <td>Sarah Arvio</td>\n",
       "      <td>2002.0</td>\n",
       "      <td>One said to me tonight or was it day \\nor was ...</td>\n",
       "      <td>[0.0, 0.0, 0.0, 0.0, 0.0, 0.0, 0.0, 0.0, 0.0, ...</td>\n",
       "      <td>NaN</td>\n",
       "      <td>NaN</td>\n",
       "    </tr>\n",
       "    <tr>\n",
       "      <th>3</th>\n",
       "      <td>Photograph of People Dancing in France</td>\n",
       "      <td>https://poets.org/poem/photograph-people-danci...</td>\n",
       "      <td>Leslie Adrienne Miller</td>\n",
       "      <td>2002.0</td>\n",
       "      <td>It's true that you don't know them--nor do I \\...</td>\n",
       "      <td>[0.0, 0.0, 0.0, 0.0, 0.0, 0.0, 0.0, 0.0, 0.0, ...</td>\n",
       "      <td>NaN</td>\n",
       "      <td>[ekphrastic]</td>\n",
       "    </tr>\n",
       "    <tr>\n",
       "      <th>4</th>\n",
       "      <td>Borrowed Dress</td>\n",
       "      <td>https://poets.org/poem/borrowed-dress</td>\n",
       "      <td>Cathy Colman</td>\n",
       "      <td>2001.0</td>\n",
       "      <td>He left the room, assured of his immortality--...</td>\n",
       "      <td>[0.0, 0.0, 0.0, 0.0, 0.0, 0.0, 0.0, 0.0, 0.0, ...</td>\n",
       "      <td>NaN</td>\n",
       "      <td>NaN</td>\n",
       "    </tr>\n",
       "    <tr>\n",
       "      <th>...</th>\n",
       "      <td>...</td>\n",
       "      <td>...</td>\n",
       "      <td>...</td>\n",
       "      <td>...</td>\n",
       "      <td>...</td>\n",
       "      <td>...</td>\n",
       "      <td>...</td>\n",
       "      <td>...</td>\n",
       "    </tr>\n",
       "    <tr>\n",
       "      <th>8303</th>\n",
       "      <td>Who Has Seen the Wind?</td>\n",
       "      <td>https://poets.org/poem/who-has-seen-wind</td>\n",
       "      <td>Christina Rossetti</td>\n",
       "      <td>1893.0</td>\n",
       "      <td>Who has seen the wind?\\nNeither I nor you.\\nBu...</td>\n",
       "      <td>[0.0, 0.0, 0.0, 0.0, 0.0, 0.0, 0.0, 0.0, 0.0, ...</td>\n",
       "      <td>NaN</td>\n",
       "      <td>NaN</td>\n",
       "    </tr>\n",
       "    <tr>\n",
       "      <th>8304</th>\n",
       "      <td>Block City</td>\n",
       "      <td>https://poets.org/poem/block-city</td>\n",
       "      <td>Robert Louis Stevenson</td>\n",
       "      <td>1913.0</td>\n",
       "      <td>What are you able to build with your blocks?\\n...</td>\n",
       "      <td>[0.0, 0.0, 0.0, 0.0, 0.0, 0.0, 0.0, 0.0, 0.0, ...</td>\n",
       "      <td>NaN</td>\n",
       "      <td>NaN</td>\n",
       "    </tr>\n",
       "    <tr>\n",
       "      <th>8305</th>\n",
       "      <td>The Sick Child</td>\n",
       "      <td>https://poets.org/poem/sick-child</td>\n",
       "      <td>Robert Louis Stevenson</td>\n",
       "      <td>1887.0</td>\n",
       "      <td>CHILD.\\nO Mother, lay your hand on my brow!\\nO...</td>\n",
       "      <td>[0.0, 0.0, 0.0, 0.0, 0.0, 0.0, 0.0, 0.0, 0.0, ...</td>\n",
       "      <td>NaN</td>\n",
       "      <td>NaN</td>\n",
       "    </tr>\n",
       "    <tr>\n",
       "      <th>8306</th>\n",
       "      <td>The Celestial Surgeon</td>\n",
       "      <td>https://poets.org/poem/celestial-surgeon</td>\n",
       "      <td>Robert Louis Stevenson</td>\n",
       "      <td>1887.0</td>\n",
       "      <td>If I have faltered more or less\\nIn my great t...</td>\n",
       "      <td>[0.0, 0.0, 0.0, 0.0, 0.0, 0.0, 0.0, 0.0, 0.0, ...</td>\n",
       "      <td>NaN</td>\n",
       "      <td>NaN</td>\n",
       "    </tr>\n",
       "    <tr>\n",
       "      <th>8307</th>\n",
       "      <td>The Swing</td>\n",
       "      <td>https://poets.org/poem/swing</td>\n",
       "      <td>Robert Louis Stevenson</td>\n",
       "      <td>1885.0</td>\n",
       "      <td>How do you like to go up in a swing, \\n       ...</td>\n",
       "      <td>[0.0, 0.0, 0.0, 0.0, 0.0, 0.0, 0.0, 0.0, 0.0, ...</td>\n",
       "      <td>NaN</td>\n",
       "      <td>NaN</td>\n",
       "    </tr>\n",
       "  </tbody>\n",
       "</table>\n",
       "<p>8308 rows × 8 columns</p>\n",
       "</div>"
      ],
      "text/plain": [
       "                                       title  \\\n",
       "0                           Body and Soul II   \n",
       "1                                      Novel   \n",
       "2                                     Flying   \n",
       "3     Photograph of People Dancing in France   \n",
       "4                             Borrowed Dress   \n",
       "...                                      ...   \n",
       "8303                  Who Has Seen the Wind?   \n",
       "8304                              Block City   \n",
       "8305                          The Sick Child   \n",
       "8306                   The Celestial Surgeon   \n",
       "8307                               The Swing   \n",
       "\n",
       "                                                    url  \\\n",
       "0               https://poets.org/poem/body-and-soul-ii   \n",
       "1                          https://poets.org/poem/novel   \n",
       "2                         https://poets.org/poem/flying   \n",
       "3     https://poets.org/poem/photograph-people-danci...   \n",
       "4                 https://poets.org/poem/borrowed-dress   \n",
       "...                                                 ...   \n",
       "8303           https://poets.org/poem/who-has-seen-wind   \n",
       "8304                  https://poets.org/poem/block-city   \n",
       "8305                  https://poets.org/poem/sick-child   \n",
       "8306           https://poets.org/poem/celestial-surgeon   \n",
       "8307                       https://poets.org/poem/swing   \n",
       "\n",
       "                      author    year  \\\n",
       "0             Charles Wright  2002.0   \n",
       "1             Arthur Rimbaud  2002.0   \n",
       "2                Sarah Arvio  2002.0   \n",
       "3     Leslie Adrienne Miller  2002.0   \n",
       "4               Cathy Colman  2001.0   \n",
       "...                      ...     ...   \n",
       "8303      Christina Rossetti  1893.0   \n",
       "8304  Robert Louis Stevenson  1913.0   \n",
       "8305  Robert Louis Stevenson  1887.0   \n",
       "8306  Robert Louis Stevenson  1887.0   \n",
       "8307  Robert Louis Stevenson  1885.0   \n",
       "\n",
       "                                                   text  \\\n",
       "0     (for Coleman Hawkins)\\nThe structure of landsc...   \n",
       "1     I.\\n\\nNo one's serious at seventeen.\\n—On beau...   \n",
       "2     One said to me tonight or was it day \\nor was ...   \n",
       "3     It's true that you don't know them--nor do I \\...   \n",
       "4     He left the room, assured of his immortality--...   \n",
       "...                                                 ...   \n",
       "8303  Who has seen the wind?\\nNeither I nor you.\\nBu...   \n",
       "8304  What are you able to build with your blocks?\\n...   \n",
       "8305  CHILD.\\nO Mother, lay your hand on my brow!\\nO...   \n",
       "8306  If I have faltered more or less\\nIn my great t...   \n",
       "8307  How do you like to go up in a swing, \\n       ...   \n",
       "\n",
       "                                                 themes            occasions  \\\n",
       "0     [0.0, 0.0, 0.0, 0.0, 0.0, 0.0, 0.0, 0.0, 0.0, ...                  NaN   \n",
       "1     [0.0, 0.0, 0.0, 0.0, 0.0, 0.0, 0.0, 0.0, 0.0, ...  [lgbtq pride month]   \n",
       "2     [0.0, 0.0, 0.0, 0.0, 0.0, 0.0, 0.0, 0.0, 0.0, ...                  NaN   \n",
       "3     [0.0, 0.0, 0.0, 0.0, 0.0, 0.0, 0.0, 0.0, 0.0, ...                  NaN   \n",
       "4     [0.0, 0.0, 0.0, 0.0, 0.0, 0.0, 0.0, 0.0, 0.0, ...                  NaN   \n",
       "...                                                 ...                  ...   \n",
       "8303  [0.0, 0.0, 0.0, 0.0, 0.0, 0.0, 0.0, 0.0, 0.0, ...                  NaN   \n",
       "8304  [0.0, 0.0, 0.0, 0.0, 0.0, 0.0, 0.0, 0.0, 0.0, ...                  NaN   \n",
       "8305  [0.0, 0.0, 0.0, 0.0, 0.0, 0.0, 0.0, 0.0, 0.0, ...                  NaN   \n",
       "8306  [0.0, 0.0, 0.0, 0.0, 0.0, 0.0, 0.0, 0.0, 0.0, ...                  NaN   \n",
       "8307  [0.0, 0.0, 0.0, 0.0, 0.0, 0.0, 0.0, 0.0, 0.0, ...                  NaN   \n",
       "\n",
       "             forms  \n",
       "0              NaN  \n",
       "1              NaN  \n",
       "2              NaN  \n",
       "3     [ekphrastic]  \n",
       "4              NaN  \n",
       "...            ...  \n",
       "8303           NaN  \n",
       "8304           NaN  \n",
       "8305           NaN  \n",
       "8306           NaN  \n",
       "8307           NaN  \n",
       "\n",
       "[8308 rows x 8 columns]"
      ]
     },
     "execution_count": 11,
     "metadata": {},
     "output_type": "execute_result"
    }
   ],
   "source": [
    "df"
   ]
  },
  {
   "cell_type": "code",
   "execution_count": 12,
   "metadata": {},
   "outputs": [
    {
     "data": {
      "text/html": [
       "<div>\n",
       "<style scoped>\n",
       "    .dataframe tbody tr th:only-of-type {\n",
       "        vertical-align: middle;\n",
       "    }\n",
       "\n",
       "    .dataframe tbody tr th {\n",
       "        vertical-align: top;\n",
       "    }\n",
       "\n",
       "    .dataframe thead th {\n",
       "        text-align: right;\n",
       "    }\n",
       "</style>\n",
       "<table border=\"1\" class=\"dataframe\">\n",
       "  <thead>\n",
       "    <tr style=\"text-align: right;\">\n",
       "      <th></th>\n",
       "      <th>title</th>\n",
       "      <th>url</th>\n",
       "      <th>author</th>\n",
       "      <th>year</th>\n",
       "      <th>text</th>\n",
       "      <th>themes</th>\n",
       "      <th>occasions</th>\n",
       "      <th>forms</th>\n",
       "    </tr>\n",
       "  </thead>\n",
       "  <tbody>\n",
       "    <tr>\n",
       "      <th>0</th>\n",
       "      <td>Body and Soul II</td>\n",
       "      <td>https://poets.org/poem/body-and-soul-ii</td>\n",
       "      <td>373</td>\n",
       "      <td>2002.0</td>\n",
       "      <td>(for Coleman Hawkins)\\nThe structure of landsc...</td>\n",
       "      <td>[0.0, 0.0, 0.0, 0.0, 0.0, 0.0, 0.0, 0.0, 0.0, ...</td>\n",
       "      <td>NaN</td>\n",
       "      <td>NaN</td>\n",
       "    </tr>\n",
       "    <tr>\n",
       "      <th>1</th>\n",
       "      <td>Novel</td>\n",
       "      <td>https://poets.org/poem/novel</td>\n",
       "      <td>205</td>\n",
       "      <td>2002.0</td>\n",
       "      <td>I.\\n\\nNo one's serious at seventeen.\\n—On beau...</td>\n",
       "      <td>[0.0, 0.0, 0.0, 0.0, 0.0, 0.0, 0.0, 0.0, 0.0, ...</td>\n",
       "      <td>[lgbtq pride month]</td>\n",
       "      <td>NaN</td>\n",
       "    </tr>\n",
       "    <tr>\n",
       "      <th>2</th>\n",
       "      <td>Flying</td>\n",
       "      <td>https://poets.org/poem/flying</td>\n",
       "      <td>2117</td>\n",
       "      <td>2002.0</td>\n",
       "      <td>One said to me tonight or was it day \\nor was ...</td>\n",
       "      <td>[0.0, 0.0, 0.0, 0.0, 0.0, 0.0, 0.0, 0.0, 0.0, ...</td>\n",
       "      <td>NaN</td>\n",
       "      <td>NaN</td>\n",
       "    </tr>\n",
       "    <tr>\n",
       "      <th>3</th>\n",
       "      <td>Photograph of People Dancing in France</td>\n",
       "      <td>https://poets.org/poem/photograph-people-danci...</td>\n",
       "      <td>1437</td>\n",
       "      <td>2002.0</td>\n",
       "      <td>It's true that you don't know them--nor do I \\...</td>\n",
       "      <td>[0.0, 0.0, 0.0, 0.0, 0.0, 0.0, 0.0, 0.0, 0.0, ...</td>\n",
       "      <td>NaN</td>\n",
       "      <td>[ekphrastic]</td>\n",
       "    </tr>\n",
       "    <tr>\n",
       "      <th>4</th>\n",
       "      <td>Borrowed Dress</td>\n",
       "      <td>https://poets.org/poem/borrowed-dress</td>\n",
       "      <td>346</td>\n",
       "      <td>2001.0</td>\n",
       "      <td>He left the room, assured of his immortality--...</td>\n",
       "      <td>[0.0, 0.0, 0.0, 0.0, 0.0, 0.0, 0.0, 0.0, 0.0, ...</td>\n",
       "      <td>NaN</td>\n",
       "      <td>NaN</td>\n",
       "    </tr>\n",
       "  </tbody>\n",
       "</table>\n",
       "</div>"
      ],
      "text/plain": [
       "                                    title  \\\n",
       "0                        Body and Soul II   \n",
       "1                                   Novel   \n",
       "2                                  Flying   \n",
       "3  Photograph of People Dancing in France   \n",
       "4                          Borrowed Dress   \n",
       "\n",
       "                                                 url  author    year  \\\n",
       "0            https://poets.org/poem/body-and-soul-ii     373  2002.0   \n",
       "1                       https://poets.org/poem/novel     205  2002.0   \n",
       "2                      https://poets.org/poem/flying    2117  2002.0   \n",
       "3  https://poets.org/poem/photograph-people-danci...    1437  2002.0   \n",
       "4              https://poets.org/poem/borrowed-dress     346  2001.0   \n",
       "\n",
       "                                                text  \\\n",
       "0  (for Coleman Hawkins)\\nThe structure of landsc...   \n",
       "1  I.\\n\\nNo one's serious at seventeen.\\n—On beau...   \n",
       "2  One said to me tonight or was it day \\nor was ...   \n",
       "3  It's true that you don't know them--nor do I \\...   \n",
       "4  He left the room, assured of his immortality--...   \n",
       "\n",
       "                                              themes            occasions  \\\n",
       "0  [0.0, 0.0, 0.0, 0.0, 0.0, 0.0, 0.0, 0.0, 0.0, ...                  NaN   \n",
       "1  [0.0, 0.0, 0.0, 0.0, 0.0, 0.0, 0.0, 0.0, 0.0, ...  [lgbtq pride month]   \n",
       "2  [0.0, 0.0, 0.0, 0.0, 0.0, 0.0, 0.0, 0.0, 0.0, ...                  NaN   \n",
       "3  [0.0, 0.0, 0.0, 0.0, 0.0, 0.0, 0.0, 0.0, 0.0, ...                  NaN   \n",
       "4  [0.0, 0.0, 0.0, 0.0, 0.0, 0.0, 0.0, 0.0, 0.0, ...                  NaN   \n",
       "\n",
       "          forms  \n",
       "0           NaN  \n",
       "1           NaN  \n",
       "2           NaN  \n",
       "3  [ekphrastic]  \n",
       "4           NaN  "
      ]
     },
     "execution_count": 12,
     "metadata": {},
     "output_type": "execute_result"
    }
   ],
   "source": [
    "df = data_analysis.init_author_encoding(df)\n",
    "df.head()"
   ]
  },
  {
   "cell_type": "markdown",
   "metadata": {},
   "source": [
    "###  Text preprocessing"
   ]
  },
  {
   "cell_type": "code",
   "execution_count": 13,
   "metadata": {},
   "outputs": [],
   "source": [
    "#  set up data types\n",
    "df = df.astype({'text': 'str', 'year': 'int32'})\n",
    "\n",
    "#  change the texts to lowercase\n",
    "df['text'] = df['text'].str.lower()\n",
    "df['title'] = df['title'].str.lower()\n",
    "\n",
    "# Drop empty texts\n",
    "df['text'].replace('', np.nan, inplace=True)\n",
    "df.dropna(subset=['text'], inplace=True)\n",
    "\n",
    "#  Remove punctuation\n",
    "table = str.maketrans('', '', string.punctuation)\n",
    "df['text'] = [row['text'].translate(table) for index, row in df.iterrows()]\n",
    "df['title'] = [row['title'].translate(table) for index, row in df.iterrows()]\n"
   ]
  },
  {
   "cell_type": "code",
   "execution_count": 14,
   "metadata": {},
   "outputs": [
    {
     "data": {
      "text/plain": [
       "<matplotlib.axes._subplots.AxesSubplot at 0x7f816c4dd160>"
      ]
     },
     "execution_count": 14,
     "metadata": {},
     "output_type": "execute_result"
    },
    {
     "data": {
      "image/png": "[encoded data removed]",
      "text/plain": [
       "<Figure size 1800x1080 with 1 Axes>"
      ]
     },
     "metadata": {
      "needs_background": "light"
     },
     "output_type": "display_data"
    }
   ],
   "source": [
    "#  Plot the words distribution\n",
    "freq = pd.Series(' '.join(df['text']).split(' ')).value_counts()\n",
    "freq[:50].plot(figsize=(25, 15))"
   ]
  },
  {
   "cell_type": "code",
   "execution_count": 15,
   "metadata": {},
   "outputs": [],
   "source": [
    "#  Remove stopwords\n",
    "df['text'] = df['text'].apply(lambda x: \" \".join(x for x in x.split() if x not in STOP_WORDS))"
   ]
  },
  {
   "cell_type": "code",
   "execution_count": 16,
   "metadata": {},
   "outputs": [
    {
     "data": {
      "text/plain": [
       "<matplotlib.axes._subplots.AxesSubplot at 0x7f81700eb780>"
      ]
     },
     "execution_count": 16,
     "metadata": {},
     "output_type": "execute_result"
    },
    {
     "data": {
      "image/png": "[encoded data removed]",
      "text/plain": [
       "<Figure size 1800x1080 with 1 Axes>"
      ]
     },
     "metadata": {
      "needs_background": "light"
     },
     "output_type": "display_data"
    }
   ],
   "source": [
    "#  Words distribution after stop words removing\n",
    "freq = pd.Series(' '.join(df['text']).split(' ')).value_counts()\n",
    "freq[:100].plot(figsize=(25, 15))"
   ]
  },
  {
   "cell_type": "code",
   "execution_count": 17,
   "metadata": {},
   "outputs": [
    {
     "data": {
      "text/plain": [
       "<matplotlib.axes._subplots.AxesSubplot at 0x7f81700fbe80>"
      ]
     },
     "execution_count": 17,
     "metadata": {},
     "output_type": "execute_result"
    },
    {
     "data": {
      "image/png": "[encoded data removed]",
      "text/plain": [
       "<Figure size 1440x720 with 1 Axes>"
      ]
     },
     "metadata": {
      "needs_background": "light"
     },
     "output_type": "display_data"
    }
   ],
   "source": [
    "#  Texts length distribution\n",
    "texts_len = df['text'].apply(len)\n",
    "texts_len.hist(bins=200, figsize=(20, 10))"
   ]
  },
  {
   "cell_type": "code",
   "execution_count": 18,
   "metadata": {},
   "outputs": [],
   "source": [
    "#  Set max text length\n",
    "df['text'] = [row['text'][:1000] for index, row in df.iterrows()]\n",
    "df['text'] = [row['text'].rsplit(' ', 1)[0] for index, row in df.iterrows()]"
   ]
  },
  {
   "cell_type": "code",
   "execution_count": 19,
   "metadata": {},
   "outputs": [
    {
     "data": {
      "text/plain": [
       "<matplotlib.axes._subplots.AxesSubplot at 0x7f81700d53c8>"
      ]
     },
     "execution_count": 19,
     "metadata": {},
     "output_type": "execute_result"
    },
    {
     "data": {
      "image/png": "[encoded data removed]",
      "text/plain": [
       "<Figure size 1440x720 with 1 Axes>"
      ]
     },
     "metadata": {
      "needs_background": "light"
     },
     "output_type": "display_data"
    }
   ],
   "source": [
    "#  Texts length distribution after max setted up\n",
    "texts_len = df['text'].apply(len)\n",
    "texts_len.hist(bins=200, figsize=(20, 10))"
   ]
  },
  {
   "cell_type": "code",
   "execution_count": 20,
   "metadata": {},
   "outputs": [
    {
     "name": "stdout",
     "output_type": "stream",
     "text": [
      "                                         title  \\\n",
      "0                        [body, and, soul, ii]   \n",
      "1                                      [novel]   \n",
      "2                                        [fly]   \n",
      "3  [photograph, of, people, dance, in, france]   \n",
      "4                              [borrow, dress]   \n",
      "\n",
      "                                                 url  author  year  \\\n",
      "0            https://poets.org/poem/body-and-soul-ii     373  2002   \n",
      "1                       https://poets.org/poem/novel     205  2002   \n",
      "2                      https://poets.org/poem/flying    2117  2002   \n",
      "3  https://poets.org/poem/photograph-people-danci...    1437  2002   \n",
      "4              https://poets.org/poem/borrowed-dress     346  2001   \n",
      "\n",
      "                                                text  \\\n",
      "0  [coleman, hawkin, structure, landscape, infini...   \n",
      "1  [one, seventeen, —, on, beautiful, night, beer...   \n",
      "2  [say, tonight, day, passage, hard, remember, c...   \n",
      "3  [true, do, nt, know, themnor, know, want, move...   \n",
      "4  [leave, room, assure, immortality, cologne, wa...   \n",
      "\n",
      "                                              themes            occasions  \\\n",
      "0  [0.0, 0.0, 0.0, 0.0, 0.0, 0.0, 0.0, 0.0, 0.0, ...                  NaN   \n",
      "1  [0.0, 0.0, 0.0, 0.0, 0.0, 0.0, 0.0, 0.0, 0.0, ...  [lgbtq pride month]   \n",
      "2  [0.0, 0.0, 0.0, 0.0, 0.0, 0.0, 0.0, 0.0, 0.0, ...                  NaN   \n",
      "3  [0.0, 0.0, 0.0, 0.0, 0.0, 0.0, 0.0, 0.0, 0.0, ...                  NaN   \n",
      "4  [0.0, 0.0, 0.0, 0.0, 0.0, 0.0, 0.0, 0.0, 0.0, ...                  NaN   \n",
      "\n",
      "          forms  \n",
      "0           NaN  \n",
      "1           NaN  \n",
      "2           NaN  \n",
      "3  [ekphrastic]  \n",
      "4           NaN  \n"
     ]
    }
   ],
   "source": [
    "#  Lemmatization\n",
    "nlp = spacy.load(\"en_core_web_sm\")\n",
    "lemmatizer = nlp.get_pipe(\"lemmatizer\")\n",
    "\n",
    "df['text'] = [\n",
    "                [token.lemma_ for token in nlp(row['text'])]\n",
    "                for index, row in df.iterrows()\n",
    "             ]\n",
    "df['title'] = [\n",
    "                [token.lemma_ for token in nlp(row['title'])]\n",
    "                for index, row in df.iterrows()\n",
    "             ]\n",
    "print(df.head())"
   ]
  },
  {
   "cell_type": "code",
   "execution_count": 21,
   "metadata": {},
   "outputs": [
    {
     "name": "stdout",
     "output_type": "stream",
     "text": [
      "                                         title  \\\n",
      "0                        [body, and, soul, ii]   \n",
      "1                                      [novel]   \n",
      "2                                        [fly]   \n",
      "3  [photograph, of, people, dance, in, france]   \n",
      "4                              [borrow, dress]   \n",
      "\n",
      "                                                 url  author  year  \\\n",
      "0            https://poets.org/poem/body-and-soul-ii     373  2002   \n",
      "1                       https://poets.org/poem/novel     205  2002   \n",
      "2                      https://poets.org/poem/flying    2117  2002   \n",
      "3  https://poets.org/poem/photograph-people-danci...    1437  2002   \n",
      "4              https://poets.org/poem/borrowed-dress     346  2001   \n",
      "\n",
      "                                                text  \\\n",
      "0  [coleman, hawkin, structure, landscape, infini...   \n",
      "1  [one, seventeen, —, on, beautiful, night, beer...   \n",
      "2  [say, tonight, day, passage, hard, remember, c...   \n",
      "3  [true, do, not, know, themnor, know, want, mov...   \n",
      "4  [leave, room, assure, immortality, cologne, wa...   \n",
      "\n",
      "                                              themes            occasions  \\\n",
      "0  [0.0, 0.0, 0.0, 0.0, 0.0, 0.0, 0.0, 0.0, 0.0, ...                  NaN   \n",
      "1  [0.0, 0.0, 0.0, 0.0, 0.0, 0.0, 0.0, 0.0, 0.0, ...  [lgbtq pride month]   \n",
      "2  [0.0, 0.0, 0.0, 0.0, 0.0, 0.0, 0.0, 0.0, 0.0, ...                  NaN   \n",
      "3  [0.0, 0.0, 0.0, 0.0, 0.0, 0.0, 0.0, 0.0, 0.0, ...                  NaN   \n",
      "4  [0.0, 0.0, 0.0, 0.0, 0.0, 0.0, 0.0, 0.0, 0.0, ...                  NaN   \n",
      "\n",
      "          forms  \n",
      "0           NaN  \n",
      "1           NaN  \n",
      "2           NaN  \n",
      "3  [ekphrastic]  \n",
      "4           NaN  \n"
     ]
    }
   ],
   "source": [
    "def full_form(word):\n",
    "    if word == 'nt': word = 'not'\n",
    "    if word == 're': word = 'are'\n",
    "    if word == 's': word = 'is'\n",
    "    if word == 'd': word = 'would'\n",
    "    if word == 'll': word = 'will'\n",
    "    if word == 't': word = 'not'\n",
    "    if word == 've': word = 'have'\n",
    "    if word == 'm': word = 'am'\n",
    "    return word\n",
    "\n",
    "\n",
    "df['text'] = [\n",
    "                [full_form(w) for w in row['text']]\n",
    "                for index, row in df.iterrows()\n",
    "             ]\n",
    "print(df.head())"
   ]
  },
  {
   "cell_type": "code",
   "execution_count": 22,
   "metadata": {},
   "outputs": [
    {
     "data": {
      "text/html": [
       "<div>\n",
       "<style scoped>\n",
       "    .dataframe tbody tr th:only-of-type {\n",
       "        vertical-align: middle;\n",
       "    }\n",
       "\n",
       "    .dataframe tbody tr th {\n",
       "        vertical-align: top;\n",
       "    }\n",
       "\n",
       "    .dataframe thead th {\n",
       "        text-align: right;\n",
       "    }\n",
       "</style>\n",
       "<table border=\"1\" class=\"dataframe\">\n",
       "  <thead>\n",
       "    <tr style=\"text-align: right;\">\n",
       "      <th></th>\n",
       "      <th>title</th>\n",
       "      <th>url</th>\n",
       "      <th>author</th>\n",
       "      <th>year</th>\n",
       "      <th>text</th>\n",
       "      <th>themes</th>\n",
       "      <th>occasions</th>\n",
       "      <th>forms</th>\n",
       "    </tr>\n",
       "  </thead>\n",
       "  <tbody>\n",
       "    <tr>\n",
       "      <th>0</th>\n",
       "      <td>[body, and, soul, ii]</td>\n",
       "      <td>https://poets.org/poem/body-and-soul-ii</td>\n",
       "      <td>373</td>\n",
       "      <td>2002</td>\n",
       "      <td>[coleman, hawkin, structure, landscape, infini...</td>\n",
       "      <td>[0.0, 0.0, 0.0, 0.0, 0.0, 0.0, 0.0, 0.0, 0.0, ...</td>\n",
       "      <td>NaN</td>\n",
       "      <td>NaN</td>\n",
       "    </tr>\n",
       "    <tr>\n",
       "      <th>1</th>\n",
       "      <td>[novel]</td>\n",
       "      <td>https://poets.org/poem/novel</td>\n",
       "      <td>205</td>\n",
       "      <td>2002</td>\n",
       "      <td>[one, seventeen, —, on, beautiful, night, beer...</td>\n",
       "      <td>[0.0, 0.0, 0.0, 0.0, 0.0, 0.0, 0.0, 0.0, 0.0, ...</td>\n",
       "      <td>[lgbtq pride month]</td>\n",
       "      <td>NaN</td>\n",
       "    </tr>\n",
       "    <tr>\n",
       "      <th>2</th>\n",
       "      <td>[fly]</td>\n",
       "      <td>https://poets.org/poem/flying</td>\n",
       "      <td>2117</td>\n",
       "      <td>2002</td>\n",
       "      <td>[say, tonight, day, passage, hard, remember, c...</td>\n",
       "      <td>[0.0, 0.0, 0.0, 0.0, 0.0, 0.0, 0.0, 0.0, 0.0, ...</td>\n",
       "      <td>NaN</td>\n",
       "      <td>NaN</td>\n",
       "    </tr>\n",
       "    <tr>\n",
       "      <th>3</th>\n",
       "      <td>[photograph, of, people, dance, in, france]</td>\n",
       "      <td>https://poets.org/poem/photograph-people-danci...</td>\n",
       "      <td>1437</td>\n",
       "      <td>2002</td>\n",
       "      <td>[true, do, not, know, themnor, know, want, mov...</td>\n",
       "      <td>[0.0, 0.0, 0.0, 0.0, 0.0, 0.0, 0.0, 0.0, 0.0, ...</td>\n",
       "      <td>NaN</td>\n",
       "      <td>[ekphrastic]</td>\n",
       "    </tr>\n",
       "    <tr>\n",
       "      <th>4</th>\n",
       "      <td>[borrow, dress]</td>\n",
       "      <td>https://poets.org/poem/borrowed-dress</td>\n",
       "      <td>346</td>\n",
       "      <td>2001</td>\n",
       "      <td>[leave, room, assure, immortality, cologne, wa...</td>\n",
       "      <td>[0.0, 0.0, 0.0, 0.0, 0.0, 0.0, 0.0, 0.0, 0.0, ...</td>\n",
       "      <td>NaN</td>\n",
       "      <td>NaN</td>\n",
       "    </tr>\n",
       "  </tbody>\n",
       "</table>\n",
       "</div>"
      ],
      "text/plain": [
       "                                         title  \\\n",
       "0                        [body, and, soul, ii]   \n",
       "1                                      [novel]   \n",
       "2                                        [fly]   \n",
       "3  [photograph, of, people, dance, in, france]   \n",
       "4                              [borrow, dress]   \n",
       "\n",
       "                                                 url  author  year  \\\n",
       "0            https://poets.org/poem/body-and-soul-ii     373  2002   \n",
       "1                       https://poets.org/poem/novel     205  2002   \n",
       "2                      https://poets.org/poem/flying    2117  2002   \n",
       "3  https://poets.org/poem/photograph-people-danci...    1437  2002   \n",
       "4              https://poets.org/poem/borrowed-dress     346  2001   \n",
       "\n",
       "                                                text  \\\n",
       "0  [coleman, hawkin, structure, landscape, infini...   \n",
       "1  [one, seventeen, —, on, beautiful, night, beer...   \n",
       "2  [say, tonight, day, passage, hard, remember, c...   \n",
       "3  [true, do, not, know, themnor, know, want, mov...   \n",
       "4  [leave, room, assure, immortality, cologne, wa...   \n",
       "\n",
       "                                              themes            occasions  \\\n",
       "0  [0.0, 0.0, 0.0, 0.0, 0.0, 0.0, 0.0, 0.0, 0.0, ...                  NaN   \n",
       "1  [0.0, 0.0, 0.0, 0.0, 0.0, 0.0, 0.0, 0.0, 0.0, ...  [lgbtq pride month]   \n",
       "2  [0.0, 0.0, 0.0, 0.0, 0.0, 0.0, 0.0, 0.0, 0.0, ...                  NaN   \n",
       "3  [0.0, 0.0, 0.0, 0.0, 0.0, 0.0, 0.0, 0.0, 0.0, ...                  NaN   \n",
       "4  [0.0, 0.0, 0.0, 0.0, 0.0, 0.0, 0.0, 0.0, 0.0, ...                  NaN   \n",
       "\n",
       "          forms  \n",
       "0           NaN  \n",
       "1           NaN  \n",
       "2           NaN  \n",
       "3  [ekphrastic]  \n",
       "4           NaN  "
      ]
     },
     "execution_count": 22,
     "metadata": {},
     "output_type": "execute_result"
    }
   ],
   "source": [
    "df.head()"
   ]
  },
  {
   "cell_type": "code",
   "execution_count": 23,
   "metadata": {},
   "outputs": [],
   "source": [
    "### Texts to digits transforming"
   ]
  },
  {
   "cell_type": "code",
   "execution_count": 24,
   "metadata": {},
   "outputs": [],
   "source": [
    "max_features=5000 #  set maximum number of words to 5000\n",
    "tok = tf.keras.preprocessing.text.Tokenizer(num_words=max_features)  \n",
    "tok.fit_on_texts(df['text'])"
   ]
  },
  {
   "cell_type": "code",
   "execution_count": 25,
   "metadata": {},
   "outputs": [
    {
     "data": {
      "text/plain": [
       "'{\"coleman\": 4, \"hawkin\": 5, \"structure\": 47, \"landscape\": 81, \"infinitesimal\": 6, \"like\": 5971, \"music\": 411, \"seamless\": 9, \"invisible\": 128, \"rain\": 697, \"large\": 235, \"suture\": 4, \"hold\": 1160, \"faith\": 144, \"appear\": 260, \"\\\\u2014\": 8317, \"eye\": 2030, \"ear\": 407, \"language\": 316, \"cloud\": 636, \"chug\": 5, \"west\": 170, \"east\": 129, \"blossom\": 207, \"blow\": 455, \"wind\": 1131, \"april\": 80, \"anything\": 6, \"possible\": 93, \"story\": 434, \"hsuan\": 1, \"tsang\": 1, \"buddhist\": 13, \"monk\": 39, \"go\": 1762, '"
      ]
     },
     "execution_count": 25,
     "metadata": {},
     "output_type": "execute_result"
    }
   ],
   "source": [
    "tok.get_config()['word_counts'][:500]"
   ]
  },
  {
   "cell_type": "code",
   "execution_count": 26,
   "metadata": {},
   "outputs": [],
   "source": [
    "#  create sequences\n",
    "df['text'] = tok.texts_to_sequences(df['text'])\n",
    "df['title'] = tok.texts_to_sequences(df['title'])\n"
   ]
  },
  {
   "cell_type": "code",
   "execution_count": 27,
   "metadata": {},
   "outputs": [
    {
     "data": {
      "text/html": [
       "<div>\n",
       "<style scoped>\n",
       "    .dataframe tbody tr th:only-of-type {\n",
       "        vertical-align: middle;\n",
       "    }\n",
       "\n",
       "    .dataframe tbody tr th {\n",
       "        vertical-align: top;\n",
       "    }\n",
       "\n",
       "    .dataframe thead th {\n",
       "        text-align: right;\n",
       "    }\n",
       "</style>\n",
       "<table border=\"1\" class=\"dataframe\">\n",
       "  <thead>\n",
       "    <tr style=\"text-align: right;\">\n",
       "      <th></th>\n",
       "      <th>title</th>\n",
       "      <th>url</th>\n",
       "      <th>author</th>\n",
       "      <th>year</th>\n",
       "      <th>text</th>\n",
       "      <th>themes</th>\n",
       "      <th>occasions</th>\n",
       "      <th>forms</th>\n",
       "    </tr>\n",
       "  </thead>\n",
       "  <tbody>\n",
       "    <tr>\n",
       "      <th>0</th>\n",
       "      <td>[30, 419, 142, 984]</td>\n",
       "      <td>https://poets.org/poem/body-and-soul-ii</td>\n",
       "      <td>373</td>\n",
       "      <td>2002</td>\n",
       "      <td>[2009, 1234, 2, 2009, 255, 835, 140, 473, 55, ...</td>\n",
       "      <td>[0.0, 0.0, 0.0, 0.0, 0.0, 0.0, 0.0, 0.0, 0.0, ...</td>\n",
       "      <td>NaN</td>\n",
       "      <td>NaN</td>\n",
       "    </tr>\n",
       "    <tr>\n",
       "      <th>1</th>\n",
       "      <td>[3044]</td>\n",
       "      <td>https://poets.org/poem/novel</td>\n",
       "      <td>205</td>\n",
       "      <td>2002</td>\n",
       "      <td>[287, 3522, 1, 2351, 237, 17, 1175, 616, 428, ...</td>\n",
       "      <td>[0.0, 0.0, 0.0, 0.0, 0.0, 0.0, 0.0, 0.0, 0.0, ...</td>\n",
       "      <td>[lgbtq pride month]</td>\n",
       "      <td>NaN</td>\n",
       "    </tr>\n",
       "    <tr>\n",
       "      <th>2</th>\n",
       "      <td>[172]</td>\n",
       "      <td>https://poets.org/poem/flying</td>\n",
       "      <td>2117</td>\n",
       "      <td>2002</td>\n",
       "      <td>[13, 612, 9, 1547, 192, 110, 433, 12, 2309, 20...</td>\n",
       "      <td>[0.0, 0.0, 0.0, 0.0, 0.0, 0.0, 0.0, 0.0, 0.0, ...</td>\n",
       "      <td>NaN</td>\n",
       "      <td>NaN</td>\n",
       "    </tr>\n",
       "    <tr>\n",
       "      <th>3</th>\n",
       "      <td>[1336, 3184, 94, 293, 1008, 2842]</td>\n",
       "      <td>https://poets.org/poem/photograph-people-danci...</td>\n",
       "      <td>1437</td>\n",
       "      <td>2002</td>\n",
       "      <td>[246, 16, 20, 5, 5, 29, 1031, 1569, 3222, 51, ...</td>\n",
       "      <td>[0.0, 0.0, 0.0, 0.0, 0.0, 0.0, 0.0, 0.0, 0.0, ...</td>\n",
       "      <td>NaN</td>\n",
       "      <td>[ekphrastic]</td>\n",
       "    </tr>\n",
       "    <tr>\n",
       "      <th>4</th>\n",
       "      <td>[2704, 359]</td>\n",
       "      <td>https://poets.org/poem/borrowed-dress</td>\n",
       "      <td>346</td>\n",
       "      <td>2001</td>\n",
       "      <td>[19, 113, 4225, 4768, 29, 591, 2979, 1674, 592...</td>\n",
       "      <td>[0.0, 0.0, 0.0, 0.0, 0.0, 0.0, 0.0, 0.0, 0.0, ...</td>\n",
       "      <td>NaN</td>\n",
       "      <td>NaN</td>\n",
       "    </tr>\n",
       "  </tbody>\n",
       "</table>\n",
       "</div>"
      ],
      "text/plain": [
       "                               title  \\\n",
       "0                [30, 419, 142, 984]   \n",
       "1                             [3044]   \n",
       "2                              [172]   \n",
       "3  [1336, 3184, 94, 293, 1008, 2842]   \n",
       "4                        [2704, 359]   \n",
       "\n",
       "                                                 url  author  year  \\\n",
       "0            https://poets.org/poem/body-and-soul-ii     373  2002   \n",
       "1                       https://poets.org/poem/novel     205  2002   \n",
       "2                      https://poets.org/poem/flying    2117  2002   \n",
       "3  https://poets.org/poem/photograph-people-danci...    1437  2002   \n",
       "4              https://poets.org/poem/borrowed-dress     346  2001   \n",
       "\n",
       "                                                text  \\\n",
       "0  [2009, 1234, 2, 2009, 255, 835, 140, 473, 55, ...   \n",
       "1  [287, 3522, 1, 2351, 237, 17, 1175, 616, 428, ...   \n",
       "2  [13, 612, 9, 1547, 192, 110, 433, 12, 2309, 20...   \n",
       "3  [246, 16, 20, 5, 5, 29, 1031, 1569, 3222, 51, ...   \n",
       "4  [19, 113, 4225, 4768, 29, 591, 2979, 1674, 592...   \n",
       "\n",
       "                                              themes            occasions  \\\n",
       "0  [0.0, 0.0, 0.0, 0.0, 0.0, 0.0, 0.0, 0.0, 0.0, ...                  NaN   \n",
       "1  [0.0, 0.0, 0.0, 0.0, 0.0, 0.0, 0.0, 0.0, 0.0, ...  [lgbtq pride month]   \n",
       "2  [0.0, 0.0, 0.0, 0.0, 0.0, 0.0, 0.0, 0.0, 0.0, ...                  NaN   \n",
       "3  [0.0, 0.0, 0.0, 0.0, 0.0, 0.0, 0.0, 0.0, 0.0, ...                  NaN   \n",
       "4  [0.0, 0.0, 0.0, 0.0, 0.0, 0.0, 0.0, 0.0, 0.0, ...                  NaN   \n",
       "\n",
       "          forms  \n",
       "0           NaN  \n",
       "1           NaN  \n",
       "2           NaN  \n",
       "3  [ekphrastic]  \n",
       "4           NaN  "
      ]
     },
     "execution_count": 27,
     "metadata": {},
     "output_type": "execute_result"
    }
   ],
   "source": [
    "df.head()"
   ]
  },
  {
   "cell_type": "code",
   "execution_count": 28,
   "metadata": {},
   "outputs": [],
   "source": [
    "data = df.to_json()\n",
    "with open('data.json', 'w') as f:\n",
    "    f.write(data)"
   ]
  },
  {
   "cell_type": "code",
   "execution_count": null,
   "metadata": {},
   "outputs": [],
   "source": []
  }
 ],
 "metadata": {
  "kernelspec": {
   "display_name": "Python 3",
   "language": "python",
   "name": "python3"
  },
  "language_info": {
   "codemirror_mode": {
    "name": "ipython",
    "version": 3
   },
   "file_extension": ".py",
   "mimetype": "text/x-python",
   "name": "python",
   "nbconvert_exporter": "python",
   "pygments_lexer": "ipython3",
   "version": "3.6.9"
  }
 },
 "nbformat": 4,
 "nbformat_minor": 2
}
