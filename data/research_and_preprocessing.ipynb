{
 "cells": [
  {
   "cell_type": "code",
   "execution_count": 1,
   "metadata": {},
   "outputs": [],
   "source": [
    "import data_analysis\n",
    "import pandas as pd\n",
    "import tensorflow as tf\n",
    "import string\n",
    "import numpy as np\n",
    "import spacy\n",
    "import data_analysis\n",
    "import re\n",
    "\n",
    "from spacy.lang.en.stop_words import STOP_WORDS"
   ]
  },
  {
   "cell_type": "code",
   "execution_count": 3,
   "metadata": {},
   "outputs": [
    {
     "name": "stdout",
     "output_type": "stream",
     "text": [
      "<class 'pandas.core.frame.DataFrame'>\n",
      "Int64Index: 17074 entries, 0 to 17073\n",
      "Data columns (total 6 columns):\n",
      " #   Column  Non-Null Count  Dtype \n",
      "---  ------  --------------  ----- \n",
      " 0   title   17074 non-null  object\n",
      " 1   url     17074 non-null  object\n",
      " 2   author  17074 non-null  object\n",
      " 3   year    17074 non-null  int64 \n",
      " 4   text    17074 non-null  object\n",
      " 5   themes  17074 non-null  object\n",
      "dtypes: int64(1), object(5)\n",
      "memory usage: 933.7+ KB\n",
      "None\n",
      "\n",
      "\n",
      "               year\n",
      "count  17074.000000\n",
      "mean    1992.636113\n",
      "std       53.657173\n",
      "min      213.000000\n",
      "25%     1990.000000\n",
      "50%     2011.000000\n",
      "75%     2016.000000\n",
      "max     2021.000000\n",
      "\n",
      "\n",
      "title     0\n",
      "url       0\n",
      "author    0\n",
      "year      0\n",
      "text      0\n",
      "themes    0\n",
      "dtype: int64\n",
      "\n",
      "\n",
      "0                                          [audio & music]\n",
      "1                                            [lust, lgbtq]\n",
      "2                                         [dreams, flight]\n",
      "3                                        [arts & sciences]\n",
      "4                         [violence, arts & sciences, war]\n",
      "                               ...                        \n",
      "17069    [related audio, nature, pastoral, arts & scien...\n",
      "17070    [religion, social commentaries, dramatic monol...\n",
      "17071    [living, death, time & brevity, love, realisti...\n",
      "17072    [living, death, heartache, relationships, fami...\n",
      "17073                   [living, life, religion, religion]\n",
      "Name: themes, Length: 17074, dtype: object\n"
     ]
    }
   ],
   "source": [
    "df = pd.read_json(open(\"final_dataset/merged_dset.json\", \"r\", encoding=\"utf8\"))\n",
    "\n",
    "print(df.info())\n",
    "print('\\n')\n",
    "print(df.describe())\n",
    "print('\\n')\n",
    "print(df.isna().sum())\n",
    "print('\\n')\n",
    "print(df['themes'])"
   ]
  },
  {
   "cell_type": "code",
   "execution_count": 4,
   "metadata": {},
   "outputs": [
    {
     "name": "stdout",
     "output_type": "stream",
     "text": [
      "['afterlife', 'aging', 'ambition', 'america', 'american revolution', 'americana', 'ancestry', 'anger', 'animals', 'anxiety', 'apocalypse', 'audio', 'beauty', 'beginning', 'birds', 'body', 'brothers', 'buildings', 'carpe diem', 'cats', 'childhood', 'cities', 'civil war', 'clothing', 'cooking', 'creation', 'dance', 'daughters', 'death', 'deception', 'desire', 'despair', 'divorce', 'dogs', 'doubt', 'dreams', 'drinking', 'drugs', 'earth', 'eating', 'economy', 'enemies', 'environment', 'existential', 'family', 'fathers', 'flight', 'flowers', 'for children', 'for mom', 'for teens', 'friendship', 'future', 'gardens', 'gender', 'ghosts', 'gratitude', 'grief', 'gun violence', 'happiness', 'heartache', 'heroes', 'high school', 'history', 'home', 'hope', 'humor', 'identity', 'illness', 'immigration', 'incarceration', 'infidelity', 'innocence', 'jealousy', 'lgbtq', 'landscapes', 'language', 'loneliness', 'loss', 'love', 'love, contemporary', 'luck', 'lust', 'marriage', 'math', 'memories', 'migration', 'miracles', 'money', 'mothers', 'mourning', 'movies', 'moving', 'music', 'myth', 'national parks', 'nature', 'new york city', 'night', 'nostalgia', 'oblivion', 'oceans', 'old age', 'pacifism', 'parenting', 'past', 'pastoral', 'patience', 'pets', 'plants', 'politics', 'popular culture', 'public domain', 'reading', 'rebellion', 'regret', 'religion', 'romance', 'sadness', 'school', 'science', 'self', 'sex', 'silence', 'sisters', 'slavery', 'social justice', 'sons', 'space', 'spanish', 'spirituality', 'sports', 'storms', 'suburbia', 'suffrage', 'survival', 'teaching', 'technology', 'theft', 'thought', 'time', 'tragedy', 'translation', 'travel', 'turmoil', 'underworld', 'vanity', 'violence', 'visual art', 'war', 'weather', 'work', 'writing']\n"
     ]
    }
   ],
   "source": [
    "topics = data_analysis.scrape_topics()\n",
    "print(topics)"
   ]
  },
  {
   "cell_type": "code",
   "execution_count": 5,
   "metadata": {},
   "outputs": [
    {
     "name": "stdout",
     "output_type": "stream",
     "text": [
      "{'afterlife': 0, 'aging': 1, 'ambition': 2, 'america': 3, 'american revolution': 4, 'americana': 5, 'ancestry': 6, 'anger': 7, 'animals': 8, 'anxiety': 9, 'apocalypse': 10, 'audio': 11, 'beauty': 12, 'beginning': 13, 'birds': 14, 'body': 15, 'brothers': 16, 'buildings': 17, 'carpe diem': 18, 'cats': 19, 'childhood': 20, 'cities': 21, 'civil war': 22, 'clothing': 23, 'cooking': 24, 'creation': 25, 'dance': 26, 'daughters': 27, 'death': 28, 'deception': 29, 'desire': 30, 'despair': 31, 'divorce': 32, 'dogs': 33, 'doubt': 34, 'dreams': 35, 'drinking': 36, 'drugs': 37, 'earth': 38, 'eating': 39, 'economy': 40, 'enemies': 41, 'environment': 42, 'existential': 43, 'family': 44, 'fathers': 45, 'flight': 46, 'flowers': 47, 'for children': 48, 'for mom': 49, 'for teens': 50, 'friendship': 51, 'future': 52, 'gardens': 53, 'gender': 54, 'ghosts': 55, 'gratitude': 56, 'grief': 57, 'gun violence': 58, 'happiness': 59, 'heartache': 60, 'heroes': 61, 'high school': 62, 'history': 63, 'home': 64, 'hope': 65, 'humor': 66, 'identity': 67, 'illness': 68, 'immigration': 69, 'incarceration': 70, 'infidelity': 71, 'innocence': 72, 'jealousy': 73, 'landscapes': 74, 'language': 75, 'lgbtq': 76, 'loneliness': 77, 'loss': 78, 'love': 79, 'love, contemporary': 80, 'luck': 81, 'lust': 82, 'marriage': 83, 'math': 84, 'memories': 85, 'migration': 86, 'miracles': 87, 'money': 88, 'mothers': 89, 'mourning': 90, 'movies': 91, 'moving': 92, 'music': 93, 'myth': 94, 'national parks': 95, 'nature': 96, 'new york city': 97, 'night': 98, 'nostalgia': 99, 'oblivion': 100, 'oceans': 101, 'old age': 102, 'pacifism': 103, 'parenting': 104, 'past': 105, 'pastoral': 106, 'patience': 107, 'pets': 108, 'plants': 109, 'politics': 110, 'popular culture': 111, 'public domain': 112, 'reading': 113, 'rebellion': 114, 'regret': 115, 'religion': 116, 'romance': 117, 'sadness': 118, 'school': 119, 'science': 120, 'self': 121, 'sex': 122, 'silence': 123, 'sisters': 124, 'slavery': 125, 'social justice': 126, 'sons': 127, 'space': 128, 'spanish': 129, 'spirituality': 130, 'sports': 131, 'storms': 132, 'suburbia': 133, 'suffrage': 134, 'survival': 135, 'teaching': 136, 'technology': 137, 'theft': 138, 'thought': 139, 'time': 140, 'tragedy': 141, 'translation': 142, 'travel': 143, 'turmoil': 144, 'underworld': 145, 'vanity': 146, 'violence': 147, 'visual art': 148, 'war': 149, 'weather': 150, 'work': 151, 'writing': 152}\n"
     ]
    }
   ],
   "source": [
    "encoded_topics = data_analysis.encode_topics(topics)\n",
    "print(encoded_topics)"
   ]
  },
  {
   "cell_type": "code",
   "execution_count": 6,
   "metadata": {},
   "outputs": [
    {
     "name": "stdout",
     "output_type": "stream",
     "text": [
      "['lust', 'lgbtq']\n",
      "[0. 0. 0. 0. 0. 0. 0. 0. 0. 0. 0. 0. 0. 0. 0. 0. 0. 0. 0. 0. 0. 0. 0. 0.\n",
      " 0. 0. 0. 0. 0. 0. 0. 0. 0. 0. 0. 0. 0. 0. 0. 0. 0. 0. 0. 0. 0. 0. 0. 0.\n",
      " 0. 0. 0. 0. 0. 0. 0. 0. 0. 0. 0. 0. 0. 0. 0. 0. 0. 0. 0. 0. 0. 0. 0. 0.\n",
      " 0. 0. 0. 0. 0. 0. 0. 0. 0. 0. 0. 0. 0. 0. 0. 0. 0. 0. 0. 0. 0. 0. 0. 1.\n",
      " 0. 0. 0. 0. 0. 0. 1. 0. 0. 0. 0. 0. 0. 0. 0. 0. 0. 0. 0. 0. 0. 0. 0. 0.\n",
      " 0. 0. 0. 0. 0. 0. 0. 0. 0. 0. 0. 0. 0. 0. 0. 0. 0. 0. 0. 0. 0. 0. 0. 0.\n",
      " 0. 0. 0. 0. 0. 0. 0. 0. 0. 0. 0. 0. 0. 0. 0. 0. 0. 0. 0. 0. 0. 0. 0. 0.\n",
      " 0. 0. 0. 0. 0. 0. 0. 0. 0. 0. 0. 0. 0. 0. 0. 0. 0. 0. 0. 0. 0. 0. 0. 0.\n",
      " 0. 0. 0. 0. 0. 0. 0. 0. 0. 0.]\n"
     ]
    }
   ],
   "source": [
    "row = df['themes'][1]\n",
    "print(row)\n",
    "encoded = data_analysis.encode_column(row)\n",
    "print(encoded)"
   ]
  },
  {
   "cell_type": "code",
   "execution_count": 7,
   "metadata": {
    "scrolled": true
   },
   "outputs": [
    {
     "name": "stdout",
     "output_type": "stream",
     "text": [
      "0        [0.0, 0.0, 0.0, 0.0, 0.0, 0.0, 0.0, 0.0, 0.0, ...\n",
      "1        [0.0, 0.0, 0.0, 0.0, 0.0, 0.0, 0.0, 0.0, 0.0, ...\n",
      "2        [0.0, 0.0, 0.0, 0.0, 0.0, 0.0, 0.0, 0.0, 0.0, ...\n",
      "3        [0.0, 0.0, 0.0, 0.0, 0.0, 0.0, 0.0, 0.0, 0.0, ...\n",
      "4        [0.0, 0.0, 0.0, 0.0, 0.0, 0.0, 0.0, 0.0, 0.0, ...\n",
      "                               ...                        \n",
      "17069    [0.0, 0.0, 0.0, 0.0, 0.0, 0.0, 0.0, 0.0, 0.0, ...\n",
      "17070    [0.0, 0.0, 0.0, 0.0, 0.0, 0.0, 0.0, 0.0, 0.0, ...\n",
      "17071    [0.0, 0.0, 0.0, 0.0, 0.0, 0.0, 0.0, 0.0, 0.0, ...\n",
      "17072    [0.0, 0.0, 0.0, 0.0, 0.0, 0.0, 0.0, 0.0, 0.0, ...\n",
      "17073    [0.0, 0.0, 0.0, 0.0, 0.0, 0.0, 0.0, 0.0, 0.0, ...\n",
      "Name: themes, Length: 17074, dtype: object\n"
     ]
    }
   ],
   "source": [
    "df = df[df['themes'].notna()]\n",
    "df['themes'] = df['themes'].apply(data_analysis.encode_column)\n",
    "print(df['themes'])"
   ]
  },
  {
   "cell_type": "markdown",
   "metadata": {},
   "source": [
    "#### Using added functions to clear df and encode authors"
   ]
  },
  {
   "cell_type": "code",
   "execution_count": 8,
   "metadata": {},
   "outputs": [
    {
     "data": {
      "text/html": [
       "<div>\n",
       "<style scoped>\n",
       "    .dataframe tbody tr th:only-of-type {\n",
       "        vertical-align: middle;\n",
       "    }\n",
       "\n",
       "    .dataframe tbody tr th {\n",
       "        vertical-align: top;\n",
       "    }\n",
       "\n",
       "    .dataframe thead th {\n",
       "        text-align: right;\n",
       "    }\n",
       "</style>\n",
       "<table border=\"1\" class=\"dataframe\">\n",
       "  <thead>\n",
       "    <tr style=\"text-align: right;\">\n",
       "      <th></th>\n",
       "      <th>title</th>\n",
       "      <th>url</th>\n",
       "      <th>author</th>\n",
       "      <th>year</th>\n",
       "      <th>text</th>\n",
       "      <th>themes</th>\n",
       "    </tr>\n",
       "  </thead>\n",
       "  <tbody>\n",
       "    <tr>\n",
       "      <th>0</th>\n",
       "      <td>Body and Soul II</td>\n",
       "      <td>https://poets.org/poem/body-and-soul-ii</td>\n",
       "      <td>Charles Wright</td>\n",
       "      <td>2002</td>\n",
       "      <td>(for Coleman Hawkins)\\nThe structure of landsc...</td>\n",
       "      <td>[0.0, 0.0, 0.0, 0.0, 0.0, 0.0, 0.0, 0.0, 0.0, ...</td>\n",
       "    </tr>\n",
       "    <tr>\n",
       "      <th>1</th>\n",
       "      <td>Novel</td>\n",
       "      <td>https://poets.org/poem/novel</td>\n",
       "      <td>Arthur Rimbaud</td>\n",
       "      <td>2002</td>\n",
       "      <td>I.\\n\\nNo one's serious at seventeen.\\n—On beau...</td>\n",
       "      <td>[0.0, 0.0, 0.0, 0.0, 0.0, 0.0, 0.0, 0.0, 0.0, ...</td>\n",
       "    </tr>\n",
       "    <tr>\n",
       "      <th>2</th>\n",
       "      <td>Flying</td>\n",
       "      <td>https://poets.org/poem/flying</td>\n",
       "      <td>Sarah Arvio</td>\n",
       "      <td>2002</td>\n",
       "      <td>One said to me tonight or was it day \\nor was ...</td>\n",
       "      <td>[0.0, 0.0, 0.0, 0.0, 0.0, 0.0, 0.0, 0.0, 0.0, ...</td>\n",
       "    </tr>\n",
       "    <tr>\n",
       "      <th>3</th>\n",
       "      <td>Photograph of People Dancing in France</td>\n",
       "      <td>https://poets.org/poem/photograph-people-danci...</td>\n",
       "      <td>Leslie Adrienne Miller</td>\n",
       "      <td>2002</td>\n",
       "      <td>It's true that you don't know them--nor do I \\...</td>\n",
       "      <td>[0.0, 0.0, 0.0, 0.0, 0.0, 0.0, 0.0, 0.0, 0.0, ...</td>\n",
       "    </tr>\n",
       "    <tr>\n",
       "      <th>4</th>\n",
       "      <td>War Photograph</td>\n",
       "      <td>https://poets.org/poem/war-photograph</td>\n",
       "      <td>Kate Daniels</td>\n",
       "      <td>2002</td>\n",
       "      <td>A naked child is running\\nalong the path towar...</td>\n",
       "      <td>[0.0, 0.0, 0.0, 0.0, 0.0, 0.0, 0.0, 0.0, 0.0, ...</td>\n",
       "    </tr>\n",
       "  </tbody>\n",
       "</table>\n",
       "</div>"
      ],
      "text/plain": [
       "                                    title  \\\n",
       "0                        Body and Soul II   \n",
       "1                                   Novel   \n",
       "2                                  Flying   \n",
       "3  Photograph of People Dancing in France   \n",
       "4                          War Photograph   \n",
       "\n",
       "                                                 url                  author  \\\n",
       "0            https://poets.org/poem/body-and-soul-ii          Charles Wright   \n",
       "1                       https://poets.org/poem/novel          Arthur Rimbaud   \n",
       "2                      https://poets.org/poem/flying             Sarah Arvio   \n",
       "3  https://poets.org/poem/photograph-people-danci...  Leslie Adrienne Miller   \n",
       "4              https://poets.org/poem/war-photograph            Kate Daniels   \n",
       "\n",
       "   year                                               text  \\\n",
       "0  2002  (for Coleman Hawkins)\\nThe structure of landsc...   \n",
       "1  2002  I.\\n\\nNo one's serious at seventeen.\\n—On beau...   \n",
       "2  2002  One said to me tonight or was it day \\nor was ...   \n",
       "3  2002  It's true that you don't know them--nor do I \\...   \n",
       "4  2002  A naked child is running\\nalong the path towar...   \n",
       "\n",
       "                                              themes  \n",
       "0  [0.0, 0.0, 0.0, 0.0, 0.0, 0.0, 0.0, 0.0, 0.0, ...  \n",
       "1  [0.0, 0.0, 0.0, 0.0, 0.0, 0.0, 0.0, 0.0, 0.0, ...  \n",
       "2  [0.0, 0.0, 0.0, 0.0, 0.0, 0.0, 0.0, 0.0, 0.0, ...  \n",
       "3  [0.0, 0.0, 0.0, 0.0, 0.0, 0.0, 0.0, 0.0, 0.0, ...  \n",
       "4  [0.0, 0.0, 0.0, 0.0, 0.0, 0.0, 0.0, 0.0, 0.0, ...  "
      ]
     },
     "execution_count": 8,
     "metadata": {},
     "output_type": "execute_result"
    }
   ],
   "source": [
    "df.head()"
   ]
  },
  {
   "cell_type": "code",
   "execution_count": 9,
   "metadata": {},
   "outputs": [
    {
     "data": {
      "text/plain": [
       "(17074, 6)"
      ]
     },
     "execution_count": 9,
     "metadata": {},
     "output_type": "execute_result"
    }
   ],
   "source": [
    "df.shape"
   ]
  },
  {
   "cell_type": "code",
   "execution_count": 10,
   "metadata": {},
   "outputs": [
    {
     "data": {
      "text/plain": [
       "(17074, 6)"
      ]
     },
     "execution_count": 10,
     "metadata": {},
     "output_type": "execute_result"
    }
   ],
   "source": [
    "df = data_analysis.clear_nans(df)\n",
    "df.shape"
   ]
  },
  {
   "cell_type": "code",
   "execution_count": 11,
   "metadata": {},
   "outputs": [
    {
     "data": {
      "text/plain": [
       "title     0\n",
       "url       0\n",
       "author    0\n",
       "year      0\n",
       "text      0\n",
       "themes    0\n",
       "dtype: int64"
      ]
     },
     "execution_count": 11,
     "metadata": {},
     "output_type": "execute_result"
    }
   ],
   "source": [
    "df.isna().sum()"
   ]
  },
  {
   "cell_type": "code",
   "execution_count": 12,
   "metadata": {},
   "outputs": [
    {
     "data": {
      "text/html": [
       "<div>\n",
       "<style scoped>\n",
       "    .dataframe tbody tr th:only-of-type {\n",
       "        vertical-align: middle;\n",
       "    }\n",
       "\n",
       "    .dataframe tbody tr th {\n",
       "        vertical-align: top;\n",
       "    }\n",
       "\n",
       "    .dataframe thead th {\n",
       "        text-align: right;\n",
       "    }\n",
       "</style>\n",
       "<table border=\"1\" class=\"dataframe\">\n",
       "  <thead>\n",
       "    <tr style=\"text-align: right;\">\n",
       "      <th></th>\n",
       "      <th>title</th>\n",
       "      <th>url</th>\n",
       "      <th>author</th>\n",
       "      <th>year</th>\n",
       "      <th>text</th>\n",
       "      <th>themes</th>\n",
       "    </tr>\n",
       "  </thead>\n",
       "  <tbody>\n",
       "    <tr>\n",
       "      <th>0</th>\n",
       "      <td>Body and Soul II</td>\n",
       "      <td>https://poets.org/poem/body-and-soul-ii</td>\n",
       "      <td>Charles Wright</td>\n",
       "      <td>2002</td>\n",
       "      <td>(for Coleman Hawkins)\\nThe structure of landsc...</td>\n",
       "      <td>[0.0, 0.0, 0.0, 0.0, 0.0, 0.0, 0.0, 0.0, 0.0, ...</td>\n",
       "    </tr>\n",
       "    <tr>\n",
       "      <th>1</th>\n",
       "      <td>Novel</td>\n",
       "      <td>https://poets.org/poem/novel</td>\n",
       "      <td>Arthur Rimbaud</td>\n",
       "      <td>2002</td>\n",
       "      <td>I.\\n\\nNo one's serious at seventeen.\\n—On beau...</td>\n",
       "      <td>[0.0, 0.0, 0.0, 0.0, 0.0, 0.0, 0.0, 0.0, 0.0, ...</td>\n",
       "    </tr>\n",
       "    <tr>\n",
       "      <th>2</th>\n",
       "      <td>Flying</td>\n",
       "      <td>https://poets.org/poem/flying</td>\n",
       "      <td>Sarah Arvio</td>\n",
       "      <td>2002</td>\n",
       "      <td>One said to me tonight or was it day \\nor was ...</td>\n",
       "      <td>[0.0, 0.0, 0.0, 0.0, 0.0, 0.0, 0.0, 0.0, 0.0, ...</td>\n",
       "    </tr>\n",
       "    <tr>\n",
       "      <th>3</th>\n",
       "      <td>Photograph of People Dancing in France</td>\n",
       "      <td>https://poets.org/poem/photograph-people-danci...</td>\n",
       "      <td>Leslie Adrienne Miller</td>\n",
       "      <td>2002</td>\n",
       "      <td>It's true that you don't know them--nor do I \\...</td>\n",
       "      <td>[0.0, 0.0, 0.0, 0.0, 0.0, 0.0, 0.0, 0.0, 0.0, ...</td>\n",
       "    </tr>\n",
       "    <tr>\n",
       "      <th>4</th>\n",
       "      <td>War Photograph</td>\n",
       "      <td>https://poets.org/poem/war-photograph</td>\n",
       "      <td>Kate Daniels</td>\n",
       "      <td>2002</td>\n",
       "      <td>A naked child is running\\nalong the path towar...</td>\n",
       "      <td>[0.0, 0.0, 0.0, 0.0, 0.0, 0.0, 0.0, 0.0, 0.0, ...</td>\n",
       "    </tr>\n",
       "    <tr>\n",
       "      <th>...</th>\n",
       "      <td>...</td>\n",
       "      <td>...</td>\n",
       "      <td>...</td>\n",
       "      <td>...</td>\n",
       "      <td>...</td>\n",
       "      <td>...</td>\n",
       "    </tr>\n",
       "    <tr>\n",
       "      <th>17069</th>\n",
       "      <td>You Can't Buy Shoes in a Painting</td>\n",
       "      <td>https://www.poetryfoundation.org/poetrymagazin...</td>\n",
       "      <td>Jill Osier</td>\n",
       "      <td>1990</td>\n",
       "      <td>You can't even buy a soda. You can only\\n\\r se...</td>\n",
       "      <td>[0.0, 0.0, 0.0, 0.0, 0.0, 0.0, 0.0, 0.0, 0.0, ...</td>\n",
       "    </tr>\n",
       "    <tr>\n",
       "      <th>17070</th>\n",
       "      <td>You People</td>\n",
       "      <td>https://www.poetryfoundation.org/poetrymagazin...</td>\n",
       "      <td>Nance Van Winckel</td>\n",
       "      <td>1990</td>\n",
       "      <td>People, don't ask me again where my shoes are....</td>\n",
       "      <td>[0.0, 0.0, 0.0, 0.0, 0.0, 0.0, 0.0, 0.0, 0.0, ...</td>\n",
       "    </tr>\n",
       "    <tr>\n",
       "      <th>17071</th>\n",
       "      <td>You That I Loved</td>\n",
       "      <td>https://www.poetryfoundation.org/poetrymagazin...</td>\n",
       "      <td>A. F. Moritz</td>\n",
       "      <td>2005</td>\n",
       "      <td>You that I loved all my life long, \\nyou are n...</td>\n",
       "      <td>[0.0, 0.0, 0.0, 0.0, 0.0, 0.0, 0.0, 0.0, 0.0, ...</td>\n",
       "    </tr>\n",
       "    <tr>\n",
       "      <th>17072</th>\n",
       "      <td>Your Clothes</td>\n",
       "      <td>https://www.poetryfoundation.org/poetrymagazin...</td>\n",
       "      <td>Judith Kroll</td>\n",
       "      <td>1990</td>\n",
       "      <td>Of course they are empty shells, without hope ...</td>\n",
       "      <td>[0.0, 0.0, 0.0, 0.0, 0.0, 0.0, 0.0, 0.0, 0.0, ...</td>\n",
       "    </tr>\n",
       "    <tr>\n",
       "      <th>17073</th>\n",
       "      <td>“Your Luck Is About To Change”</td>\n",
       "      <td>https://www.poetryfoundation.org/poetrymagazin...</td>\n",
       "      <td>Susan Elizabeth Howe</td>\n",
       "      <td>1990</td>\n",
       "      <td>Ominous inscrutable Chinese news \\nto get just...</td>\n",
       "      <td>[0.0, 0.0, 0.0, 0.0, 0.0, 0.0, 0.0, 0.0, 0.0, ...</td>\n",
       "    </tr>\n",
       "  </tbody>\n",
       "</table>\n",
       "<p>17074 rows × 6 columns</p>\n",
       "</div>"
      ],
      "text/plain": [
       "                                        title  \\\n",
       "0                            Body and Soul II   \n",
       "1                                       Novel   \n",
       "2                                      Flying   \n",
       "3      Photograph of People Dancing in France   \n",
       "4                              War Photograph   \n",
       "...                                       ...   \n",
       "17069       You Can't Buy Shoes in a Painting   \n",
       "17070                              You People   \n",
       "17071                        You That I Loved   \n",
       "17072                            Your Clothes   \n",
       "17073          “Your Luck Is About To Change”   \n",
       "\n",
       "                                                     url  \\\n",
       "0                https://poets.org/poem/body-and-soul-ii   \n",
       "1                           https://poets.org/poem/novel   \n",
       "2                          https://poets.org/poem/flying   \n",
       "3      https://poets.org/poem/photograph-people-danci...   \n",
       "4                  https://poets.org/poem/war-photograph   \n",
       "...                                                  ...   \n",
       "17069  https://www.poetryfoundation.org/poetrymagazin...   \n",
       "17070  https://www.poetryfoundation.org/poetrymagazin...   \n",
       "17071  https://www.poetryfoundation.org/poetrymagazin...   \n",
       "17072  https://www.poetryfoundation.org/poetrymagazin...   \n",
       "17073  https://www.poetryfoundation.org/poetrymagazin...   \n",
       "\n",
       "                       author  year  \\\n",
       "0              Charles Wright  2002   \n",
       "1              Arthur Rimbaud  2002   \n",
       "2                 Sarah Arvio  2002   \n",
       "3      Leslie Adrienne Miller  2002   \n",
       "4                Kate Daniels  2002   \n",
       "...                       ...   ...   \n",
       "17069              Jill Osier  1990   \n",
       "17070       Nance Van Winckel  1990   \n",
       "17071            A. F. Moritz  2005   \n",
       "17072            Judith Kroll  1990   \n",
       "17073    Susan Elizabeth Howe  1990   \n",
       "\n",
       "                                                    text  \\\n",
       "0      (for Coleman Hawkins)\\nThe structure of landsc...   \n",
       "1      I.\\n\\nNo one's serious at seventeen.\\n—On beau...   \n",
       "2      One said to me tonight or was it day \\nor was ...   \n",
       "3      It's true that you don't know them--nor do I \\...   \n",
       "4      A naked child is running\\nalong the path towar...   \n",
       "...                                                  ...   \n",
       "17069  You can't even buy a soda. You can only\\n\\r se...   \n",
       "17070  People, don't ask me again where my shoes are....   \n",
       "17071  You that I loved all my life long, \\nyou are n...   \n",
       "17072  Of course they are empty shells, without hope ...   \n",
       "17073  Ominous inscrutable Chinese news \\nto get just...   \n",
       "\n",
       "                                                  themes  \n",
       "0      [0.0, 0.0, 0.0, 0.0, 0.0, 0.0, 0.0, 0.0, 0.0, ...  \n",
       "1      [0.0, 0.0, 0.0, 0.0, 0.0, 0.0, 0.0, 0.0, 0.0, ...  \n",
       "2      [0.0, 0.0, 0.0, 0.0, 0.0, 0.0, 0.0, 0.0, 0.0, ...  \n",
       "3      [0.0, 0.0, 0.0, 0.0, 0.0, 0.0, 0.0, 0.0, 0.0, ...  \n",
       "4      [0.0, 0.0, 0.0, 0.0, 0.0, 0.0, 0.0, 0.0, 0.0, ...  \n",
       "...                                                  ...  \n",
       "17069  [0.0, 0.0, 0.0, 0.0, 0.0, 0.0, 0.0, 0.0, 0.0, ...  \n",
       "17070  [0.0, 0.0, 0.0, 0.0, 0.0, 0.0, 0.0, 0.0, 0.0, ...  \n",
       "17071  [0.0, 0.0, 0.0, 0.0, 0.0, 0.0, 0.0, 0.0, 0.0, ...  \n",
       "17072  [0.0, 0.0, 0.0, 0.0, 0.0, 0.0, 0.0, 0.0, 0.0, ...  \n",
       "17073  [0.0, 0.0, 0.0, 0.0, 0.0, 0.0, 0.0, 0.0, 0.0, ...  \n",
       "\n",
       "[17074 rows x 6 columns]"
      ]
     },
     "execution_count": 12,
     "metadata": {},
     "output_type": "execute_result"
    }
   ],
   "source": [
    "df"
   ]
  },
  {
   "cell_type": "code",
   "execution_count": 13,
   "metadata": {},
   "outputs": [
    {
     "data": {
      "text/html": [
       "<div>\n",
       "<style scoped>\n",
       "    .dataframe tbody tr th:only-of-type {\n",
       "        vertical-align: middle;\n",
       "    }\n",
       "\n",
       "    .dataframe tbody tr th {\n",
       "        vertical-align: top;\n",
       "    }\n",
       "\n",
       "    .dataframe thead th {\n",
       "        text-align: right;\n",
       "    }\n",
       "</style>\n",
       "<table border=\"1\" class=\"dataframe\">\n",
       "  <thead>\n",
       "    <tr style=\"text-align: right;\">\n",
       "      <th></th>\n",
       "      <th>title</th>\n",
       "      <th>url</th>\n",
       "      <th>author</th>\n",
       "      <th>year</th>\n",
       "      <th>text</th>\n",
       "      <th>themes</th>\n",
       "    </tr>\n",
       "  </thead>\n",
       "  <tbody>\n",
       "    <tr>\n",
       "      <th>0</th>\n",
       "      <td>Body and Soul II</td>\n",
       "      <td>https://poets.org/poem/body-and-soul-ii</td>\n",
       "      <td>602</td>\n",
       "      <td>2002</td>\n",
       "      <td>(for Coleman Hawkins)\\nThe structure of landsc...</td>\n",
       "      <td>[0.0, 0.0, 0.0, 0.0, 0.0, 0.0, 0.0, 0.0, 0.0, ...</td>\n",
       "    </tr>\n",
       "    <tr>\n",
       "      <th>1</th>\n",
       "      <td>Novel</td>\n",
       "      <td>https://poets.org/poem/novel</td>\n",
       "      <td>311</td>\n",
       "      <td>2002</td>\n",
       "      <td>I.\\n\\nNo one's serious at seventeen.\\n—On beau...</td>\n",
       "      <td>[0.0, 0.0, 0.0, 0.0, 0.0, 0.0, 0.0, 0.0, 0.0, ...</td>\n",
       "    </tr>\n",
       "    <tr>\n",
       "      <th>2</th>\n",
       "      <td>Flying</td>\n",
       "      <td>https://poets.org/poem/flying</td>\n",
       "      <td>3478</td>\n",
       "      <td>2002</td>\n",
       "      <td>One said to me tonight or was it day \\nor was ...</td>\n",
       "      <td>[0.0, 0.0, 0.0, 0.0, 0.0, 0.0, 0.0, 0.0, 0.0, ...</td>\n",
       "    </tr>\n",
       "    <tr>\n",
       "      <th>3</th>\n",
       "      <td>Photograph of People Dancing in France</td>\n",
       "      <td>https://poets.org/poem/photograph-people-danci...</td>\n",
       "      <td>2361</td>\n",
       "      <td>2002</td>\n",
       "      <td>It's true that you don't know them--nor do I \\...</td>\n",
       "      <td>[0.0, 0.0, 0.0, 0.0, 0.0, 0.0, 0.0, 0.0, 0.0, ...</td>\n",
       "    </tr>\n",
       "    <tr>\n",
       "      <th>4</th>\n",
       "      <td>War Photograph</td>\n",
       "      <td>https://poets.org/poem/war-photograph</td>\n",
       "      <td>2125</td>\n",
       "      <td>2002</td>\n",
       "      <td>A naked child is running\\nalong the path towar...</td>\n",
       "      <td>[0.0, 0.0, 0.0, 0.0, 0.0, 0.0, 0.0, 0.0, 0.0, ...</td>\n",
       "    </tr>\n",
       "  </tbody>\n",
       "</table>\n",
       "</div>"
      ],
      "text/plain": [
       "                                    title  \\\n",
       "0                        Body and Soul II   \n",
       "1                                   Novel   \n",
       "2                                  Flying   \n",
       "3  Photograph of People Dancing in France   \n",
       "4                          War Photograph   \n",
       "\n",
       "                                                 url  author  year  \\\n",
       "0            https://poets.org/poem/body-and-soul-ii     602  2002   \n",
       "1                       https://poets.org/poem/novel     311  2002   \n",
       "2                      https://poets.org/poem/flying    3478  2002   \n",
       "3  https://poets.org/poem/photograph-people-danci...    2361  2002   \n",
       "4              https://poets.org/poem/war-photograph    2125  2002   \n",
       "\n",
       "                                                text  \\\n",
       "0  (for Coleman Hawkins)\\nThe structure of landsc...   \n",
       "1  I.\\n\\nNo one's serious at seventeen.\\n—On beau...   \n",
       "2  One said to me tonight or was it day \\nor was ...   \n",
       "3  It's true that you don't know them--nor do I \\...   \n",
       "4  A naked child is running\\nalong the path towar...   \n",
       "\n",
       "                                              themes  \n",
       "0  [0.0, 0.0, 0.0, 0.0, 0.0, 0.0, 0.0, 0.0, 0.0, ...  \n",
       "1  [0.0, 0.0, 0.0, 0.0, 0.0, 0.0, 0.0, 0.0, 0.0, ...  \n",
       "2  [0.0, 0.0, 0.0, 0.0, 0.0, 0.0, 0.0, 0.0, 0.0, ...  \n",
       "3  [0.0, 0.0, 0.0, 0.0, 0.0, 0.0, 0.0, 0.0, 0.0, ...  \n",
       "4  [0.0, 0.0, 0.0, 0.0, 0.0, 0.0, 0.0, 0.0, 0.0, ...  "
      ]
     },
     "execution_count": 13,
     "metadata": {},
     "output_type": "execute_result"
    }
   ],
   "source": [
    "df = data_analysis.init_author_encoding(df)\n",
    "df.head()"
   ]
  },
  {
   "cell_type": "markdown",
   "metadata": {},
   "source": [
    "###  Text preprocessing"
   ]
  },
  {
   "cell_type": "code",
   "execution_count": 14,
   "metadata": {},
   "outputs": [],
   "source": [
    "#  set up data types\n",
    "df = df.astype({'text': 'str', 'year': 'int32'})\n",
    "\n",
    "#  change the texts to lowercase\n",
    "df['text'] = df['text'].str.lower()\n",
    "df['title'] = df['title'].str.lower()\n",
    "\n",
    "# Drop empty texts\n",
    "df['text'].replace('', np.nan, inplace=True)\n",
    "df.dropna(subset=['text'], inplace=True)\n",
    "\n",
    "#  Remove punctuation\n",
    "table = str.maketrans('', '', string.punctuation)\n",
    "df['text'] = [row['text'].translate(table) for index, row in df.iterrows()]\n",
    "df['title'] = [row['title'].translate(table) for index, row in df.iterrows()]\n"
   ]
  },
  {
   "cell_type": "code",
   "execution_count": 15,
   "metadata": {},
   "outputs": [
    {
     "data": {
      "text/plain": [
       "<matplotlib.axes._subplots.AxesSubplot at 0x7f42b1f35160>"
      ]
     },
     "execution_count": 15,
     "metadata": {},
     "output_type": "execute_result"
    },
    {
     "data": {
      "image/png": "[encoded data removed]",
      "text/plain": [
       "<Figure size 1800x1080 with 1 Axes>"
      ]
     },
     "metadata": {
      "needs_background": "light"
     },
     "output_type": "display_data"
    }
   ],
   "source": [
    "#  Plot the words distribution\n",
    "freq = pd.Series(' '.join(df['text']).split(' ')).value_counts()\n",
    "freq[:50].plot(figsize=(25, 15))"
   ]
  },
  {
   "cell_type": "code",
   "execution_count": 16,
   "metadata": {},
   "outputs": [],
   "source": [
    "#  Remove stopwords\n",
    "df['text'] = df['text'].apply(lambda x: \" \".join(x for x in x.split() if x not in STOP_WORDS))"
   ]
  },
  {
   "cell_type": "code",
   "execution_count": 17,
   "metadata": {},
   "outputs": [
    {
     "data": {
      "text/plain": [
       "<matplotlib.axes._subplots.AxesSubplot at 0x7f42bff12780>"
      ]
     },
     "execution_count": 17,
     "metadata": {},
     "output_type": "execute_result"
    },
    {
     "data": {
      "image/png": "[encoded data removed]",
      "text/plain": [
       "<Figure size 1800x1080 with 1 Axes>"
      ]
     },
     "metadata": {
      "needs_background": "light"
     },
     "output_type": "display_data"
    }
   ],
   "source": [
    "#  Words distribution after stop words removing\n",
    "freq = pd.Series(' '.join(df['text']).split(' ')).value_counts()\n",
    "freq[:100].plot(figsize=(25, 15))"
   ]
  },
  {
   "cell_type": "code",
   "execution_count": 18,
   "metadata": {},
   "outputs": [
    {
     "data": {
      "text/plain": [
       "<matplotlib.axes._subplots.AxesSubplot at 0x7f42bff22668>"
      ]
     },
     "execution_count": 18,
     "metadata": {},
     "output_type": "execute_result"
    },
    {
     "data": {
      "image/png": "[encoded data removed]",
      "text/plain": [
       "<Figure size 1440x720 with 1 Axes>"
      ]
     },
     "metadata": {
      "needs_background": "light"
     },
     "output_type": "display_data"
    }
   ],
   "source": [
    "#  Texts length distribution\n",
    "texts_len = df['text'].apply(len)\n",
    "texts_len.hist(bins=200, figsize=(20, 10))"
   ]
  },
  {
   "cell_type": "code",
   "execution_count": 19,
   "metadata": {},
   "outputs": [],
   "source": [
    "#  Set max text length\n",
    "df['text'] = [row['text'][:1000] for index, row in df.iterrows()]\n",
    "df['text'] = [row['text'].rsplit(' ', 1)[0] for index, row in df.iterrows()]"
   ]
  },
  {
   "cell_type": "code",
   "execution_count": 20,
   "metadata": {},
   "outputs": [
    {
     "data": {
      "text/plain": [
       "<matplotlib.axes._subplots.AxesSubplot at 0x7f42bff2f390>"
      ]
     },
     "execution_count": 20,
     "metadata": {},
     "output_type": "execute_result"
    },
    {
     "data": {
      "image/png": "[encoded data removed]",
      "text/plain": [
       "<Figure size 1440x720 with 1 Axes>"
      ]
     },
     "metadata": {
      "needs_background": "light"
     },
     "output_type": "display_data"
    }
   ],
   "source": [
    "#  Texts length distribution after max setted up\n",
    "texts_len = df['text'].apply(len)\n",
    "texts_len.hist(bins=200, figsize=(20, 10))"
   ]
  },
  {
   "cell_type": "code",
   "execution_count": 21,
   "metadata": {},
   "outputs": [
    {
     "name": "stdout",
     "output_type": "stream",
     "text": [
      "                                         title  \\\n",
      "0                        [body, and, soul, ii]   \n",
      "1                                      [novel]   \n",
      "2                                        [fly]   \n",
      "3  [photograph, of, people, dance, in, france]   \n",
      "4                            [war, photograph]   \n",
      "\n",
      "                                                 url  author  year  \\\n",
      "0            https://poets.org/poem/body-and-soul-ii     602  2002   \n",
      "1                       https://poets.org/poem/novel     311  2002   \n",
      "2                      https://poets.org/poem/flying    3478  2002   \n",
      "3  https://poets.org/poem/photograph-people-danci...    2361  2002   \n",
      "4              https://poets.org/poem/war-photograph    2125  2002   \n",
      "\n",
      "                                                text  \\\n",
      "0  [coleman, hawkin, structure, landscape, infini...   \n",
      "1  [one, seventeen, —, on, beautiful, night, beer...   \n",
      "2  [say, tonight, day, passage, hard, remember, c...   \n",
      "3  [true, do, nt, know, themnor, know, want, move...   \n",
      "4  [naked, child, run, path, arm, stretch, mouth,...   \n",
      "\n",
      "                                              themes  \n",
      "0  [0.0, 0.0, 0.0, 0.0, 0.0, 0.0, 0.0, 0.0, 0.0, ...  \n",
      "1  [0.0, 0.0, 0.0, 0.0, 0.0, 0.0, 0.0, 0.0, 0.0, ...  \n",
      "2  [0.0, 0.0, 0.0, 0.0, 0.0, 0.0, 0.0, 0.0, 0.0, ...  \n",
      "3  [0.0, 0.0, 0.0, 0.0, 0.0, 0.0, 0.0, 0.0, 0.0, ...  \n",
      "4  [0.0, 0.0, 0.0, 0.0, 0.0, 0.0, 0.0, 0.0, 0.0, ...  \n"
     ]
    }
   ],
   "source": [
    "#  Lemmatization\n",
    "nlp = spacy.load(\"en_core_web_sm\")\n",
    "lemmatizer = nlp.get_pipe(\"lemmatizer\")\n",
    "\n",
    "df['text'] = [\n",
    "                [token.lemma_ for token in nlp(row['text'])]\n",
    "                for index, row in df.iterrows()\n",
    "             ]\n",
    "df['title'] = [\n",
    "                [token.lemma_ for token in nlp(row['title'])]\n",
    "                for index, row in df.iterrows()\n",
    "             ]\n",
    "print(df.head())"
   ]
  },
  {
   "cell_type": "code",
   "execution_count": 22,
   "metadata": {},
   "outputs": [
    {
     "name": "stdout",
     "output_type": "stream",
     "text": [
      "                                         title  \\\n",
      "0                        [body, and, soul, ii]   \n",
      "1                                      [novel]   \n",
      "2                                        [fly]   \n",
      "3  [photograph, of, people, dance, in, france]   \n",
      "4                            [war, photograph]   \n",
      "\n",
      "                                                 url  author  year  \\\n",
      "0            https://poets.org/poem/body-and-soul-ii     602  2002   \n",
      "1                       https://poets.org/poem/novel     311  2002   \n",
      "2                      https://poets.org/poem/flying    3478  2002   \n",
      "3  https://poets.org/poem/photograph-people-danci...    2361  2002   \n",
      "4              https://poets.org/poem/war-photograph    2125  2002   \n",
      "\n",
      "                                                text  \\\n",
      "0  [coleman, hawkin, structure, landscape, infini...   \n",
      "1  [one, seventeen, —, on, beautiful, night, beer...   \n",
      "2  [say, tonight, day, passage, hard, remember, c...   \n",
      "3  [true, do, not, know, themnor, know, want, mov...   \n",
      "4  [naked, child, run, path, arm, stretch, mouth,...   \n",
      "\n",
      "                                              themes  \n",
      "0  [0.0, 0.0, 0.0, 0.0, 0.0, 0.0, 0.0, 0.0, 0.0, ...  \n",
      "1  [0.0, 0.0, 0.0, 0.0, 0.0, 0.0, 0.0, 0.0, 0.0, ...  \n",
      "2  [0.0, 0.0, 0.0, 0.0, 0.0, 0.0, 0.0, 0.0, 0.0, ...  \n",
      "3  [0.0, 0.0, 0.0, 0.0, 0.0, 0.0, 0.0, 0.0, 0.0, ...  \n",
      "4  [0.0, 0.0, 0.0, 0.0, 0.0, 0.0, 0.0, 0.0, 0.0, ...  \n"
     ]
    }
   ],
   "source": [
    "def full_form(word):\n",
    "    if word == 'nt': word = 'not'\n",
    "    if word == 're': word = 'are'\n",
    "    if word == 's': word = 'is'\n",
    "    if word == 'd': word = 'would'\n",
    "    if word == 'll': word = 'will'\n",
    "    if word == 't': word = 'not'\n",
    "    if word == 've': word = 'have'\n",
    "    if word == 'm': word = 'am'\n",
    "    return word\n",
    "\n",
    "\n",
    "df['text'] = [\n",
    "                [full_form(w) for w in row['text']]\n",
    "                for index, row in df.iterrows()\n",
    "             ]\n",
    "print(df.head())"
   ]
  },
  {
   "cell_type": "code",
   "execution_count": 23,
   "metadata": {},
   "outputs": [
    {
     "data": {
      "text/html": [
       "<div>\n",
       "<style scoped>\n",
       "    .dataframe tbody tr th:only-of-type {\n",
       "        vertical-align: middle;\n",
       "    }\n",
       "\n",
       "    .dataframe tbody tr th {\n",
       "        vertical-align: top;\n",
       "    }\n",
       "\n",
       "    .dataframe thead th {\n",
       "        text-align: right;\n",
       "    }\n",
       "</style>\n",
       "<table border=\"1\" class=\"dataframe\">\n",
       "  <thead>\n",
       "    <tr style=\"text-align: right;\">\n",
       "      <th></th>\n",
       "      <th>title</th>\n",
       "      <th>url</th>\n",
       "      <th>author</th>\n",
       "      <th>year</th>\n",
       "      <th>text</th>\n",
       "      <th>themes</th>\n",
       "    </tr>\n",
       "  </thead>\n",
       "  <tbody>\n",
       "    <tr>\n",
       "      <th>0</th>\n",
       "      <td>[body, and, soul, ii]</td>\n",
       "      <td>https://poets.org/poem/body-and-soul-ii</td>\n",
       "      <td>602</td>\n",
       "      <td>2002</td>\n",
       "      <td>[coleman, hawkin, structure, landscape, infini...</td>\n",
       "      <td>[0.0, 0.0, 0.0, 0.0, 0.0, 0.0, 0.0, 0.0, 0.0, ...</td>\n",
       "    </tr>\n",
       "    <tr>\n",
       "      <th>1</th>\n",
       "      <td>[novel]</td>\n",
       "      <td>https://poets.org/poem/novel</td>\n",
       "      <td>311</td>\n",
       "      <td>2002</td>\n",
       "      <td>[one, seventeen, —, on, beautiful, night, beer...</td>\n",
       "      <td>[0.0, 0.0, 0.0, 0.0, 0.0, 0.0, 0.0, 0.0, 0.0, ...</td>\n",
       "    </tr>\n",
       "    <tr>\n",
       "      <th>2</th>\n",
       "      <td>[fly]</td>\n",
       "      <td>https://poets.org/poem/flying</td>\n",
       "      <td>3478</td>\n",
       "      <td>2002</td>\n",
       "      <td>[say, tonight, day, passage, hard, remember, c...</td>\n",
       "      <td>[0.0, 0.0, 0.0, 0.0, 0.0, 0.0, 0.0, 0.0, 0.0, ...</td>\n",
       "    </tr>\n",
       "    <tr>\n",
       "      <th>3</th>\n",
       "      <td>[photograph, of, people, dance, in, france]</td>\n",
       "      <td>https://poets.org/poem/photograph-people-danci...</td>\n",
       "      <td>2361</td>\n",
       "      <td>2002</td>\n",
       "      <td>[true, do, not, know, themnor, know, want, mov...</td>\n",
       "      <td>[0.0, 0.0, 0.0, 0.0, 0.0, 0.0, 0.0, 0.0, 0.0, ...</td>\n",
       "    </tr>\n",
       "    <tr>\n",
       "      <th>4</th>\n",
       "      <td>[war, photograph]</td>\n",
       "      <td>https://poets.org/poem/war-photograph</td>\n",
       "      <td>2125</td>\n",
       "      <td>2002</td>\n",
       "      <td>[naked, child, run, path, arm, stretch, mouth,...</td>\n",
       "      <td>[0.0, 0.0, 0.0, 0.0, 0.0, 0.0, 0.0, 0.0, 0.0, ...</td>\n",
       "    </tr>\n",
       "  </tbody>\n",
       "</table>\n",
       "</div>"
      ],
      "text/plain": [
       "                                         title  \\\n",
       "0                        [body, and, soul, ii]   \n",
       "1                                      [novel]   \n",
       "2                                        [fly]   \n",
       "3  [photograph, of, people, dance, in, france]   \n",
       "4                            [war, photograph]   \n",
       "\n",
       "                                                 url  author  year  \\\n",
       "0            https://poets.org/poem/body-and-soul-ii     602  2002   \n",
       "1                       https://poets.org/poem/novel     311  2002   \n",
       "2                      https://poets.org/poem/flying    3478  2002   \n",
       "3  https://poets.org/poem/photograph-people-danci...    2361  2002   \n",
       "4              https://poets.org/poem/war-photograph    2125  2002   \n",
       "\n",
       "                                                text  \\\n",
       "0  [coleman, hawkin, structure, landscape, infini...   \n",
       "1  [one, seventeen, —, on, beautiful, night, beer...   \n",
       "2  [say, tonight, day, passage, hard, remember, c...   \n",
       "3  [true, do, not, know, themnor, know, want, mov...   \n",
       "4  [naked, child, run, path, arm, stretch, mouth,...   \n",
       "\n",
       "                                              themes  \n",
       "0  [0.0, 0.0, 0.0, 0.0, 0.0, 0.0, 0.0, 0.0, 0.0, ...  \n",
       "1  [0.0, 0.0, 0.0, 0.0, 0.0, 0.0, 0.0, 0.0, 0.0, ...  \n",
       "2  [0.0, 0.0, 0.0, 0.0, 0.0, 0.0, 0.0, 0.0, 0.0, ...  \n",
       "3  [0.0, 0.0, 0.0, 0.0, 0.0, 0.0, 0.0, 0.0, 0.0, ...  \n",
       "4  [0.0, 0.0, 0.0, 0.0, 0.0, 0.0, 0.0, 0.0, 0.0, ...  "
      ]
     },
     "execution_count": 23,
     "metadata": {},
     "output_type": "execute_result"
    }
   ],
   "source": [
    "df.head()"
   ]
  },
  {
   "cell_type": "code",
   "execution_count": 24,
   "metadata": {},
   "outputs": [],
   "source": [
    "### Texts to digits transforming"
   ]
  },
  {
   "cell_type": "code",
   "execution_count": 25,
   "metadata": {},
   "outputs": [],
   "source": [
    "max_features=5001 #  set maximum number of words to 5000\n",
    "tok = tf.keras.preprocessing.text.Tokenizer(num_words=max_features)  \n",
    "tok.fit_on_texts(df['text'])"
   ]
  },
  {
   "cell_type": "code",
   "execution_count": 26,
   "metadata": {},
   "outputs": [
    {
     "data": {
      "text/plain": [
       "'{\"coleman\": 5, \"hawkin\": 6, \"structure\": 96, \"landscape\": 231, \"infinitesimal\": 11, \"like\": 13922, \"music\": 865, \"seamless\": 15, \"invisible\": 265, \"rain\": 1609, \"large\": 520, \"suture\": 15, \"hold\": 2589, \"faith\": 313, \"appear\": 573, \"\\\\u2014\": 17815, \"eye\": 4574, \"ear\": 900, \"language\": 676, \"cloud\": 1308, \"chug\": 9, \"west\": 388, \"east\": 309, \"blossom\": 372, \"blow\": 955, \"wind\": 2362, \"april\": 192, \"anything\": 24, \"possible\": 242, \"story\": 1047, \"hsuan\": 1, \"tsang\": 1, \"buddhist\": 21, \"monk\": 94, '"
      ]
     },
     "execution_count": 26,
     "metadata": {},
     "output_type": "execute_result"
    }
   ],
   "source": [
    "tok.get_config()['word_counts'][:500]"
   ]
  },
  {
   "cell_type": "code",
   "execution_count": 27,
   "metadata": {},
   "outputs": [],
   "source": [
    "#  create sequences\n",
    "df['text'] = tok.texts_to_sequences(df['text'])\n",
    "df['title'] = tok.texts_to_sequences(df['title'])\n"
   ]
  },
  {
   "cell_type": "code",
   "execution_count": 28,
   "metadata": {},
   "outputs": [
    {
     "data": {
      "text/html": [
       "<div>\n",
       "<style scoped>\n",
       "    .dataframe tbody tr th:only-of-type {\n",
       "        vertical-align: middle;\n",
       "    }\n",
       "\n",
       "    .dataframe tbody tr th {\n",
       "        vertical-align: top;\n",
       "    }\n",
       "\n",
       "    .dataframe thead th {\n",
       "        text-align: right;\n",
       "    }\n",
       "</style>\n",
       "<table border=\"1\" class=\"dataframe\">\n",
       "  <thead>\n",
       "    <tr style=\"text-align: right;\">\n",
       "      <th></th>\n",
       "      <th>title</th>\n",
       "      <th>url</th>\n",
       "      <th>author</th>\n",
       "      <th>year</th>\n",
       "      <th>text</th>\n",
       "      <th>themes</th>\n",
       "    </tr>\n",
       "  </thead>\n",
       "  <tbody>\n",
       "    <tr>\n",
       "      <th>0</th>\n",
       "      <td>[28, 508, 152, 720]</td>\n",
       "      <td>https://poets.org/poem/body-and-soul-ii</td>\n",
       "      <td>602</td>\n",
       "      <td>2002</td>\n",
       "      <td>[2221, 1012, 2, 2221, 273, 902, 128, 472, 57, ...</td>\n",
       "      <td>[0.0, 0.0, 0.0, 0.0, 0.0, 0.0, 0.0, 0.0, 0.0, ...</td>\n",
       "    </tr>\n",
       "    <tr>\n",
       "      <th>1</th>\n",
       "      <td>[2668]</td>\n",
       "      <td>https://poets.org/poem/novel</td>\n",
       "      <td>311</td>\n",
       "      <td>2002</td>\n",
       "      <td>[286, 3904, 1, 2778, 249, 19, 1268, 643, 410, ...</td>\n",
       "      <td>[0.0, 0.0, 0.0, 0.0, 0.0, 0.0, 0.0, 0.0, 0.0, ...</td>\n",
       "    </tr>\n",
       "    <tr>\n",
       "      <th>2</th>\n",
       "      <td>[178]</td>\n",
       "      <td>https://poets.org/poem/flying</td>\n",
       "      <td>3478</td>\n",
       "      <td>2002</td>\n",
       "      <td>[12, 602, 11, 1574, 197, 113, 402, 13, 2428, 2...</td>\n",
       "      <td>[0.0, 0.0, 0.0, 0.0, 0.0, 0.0, 0.0, 0.0, 0.0, ...</td>\n",
       "    </tr>\n",
       "    <tr>\n",
       "      <th>3</th>\n",
       "      <td>[1113, 2862, 88, 289, 1171, 2335]</td>\n",
       "      <td>https://poets.org/poem/photograph-people-danci...</td>\n",
       "      <td>2361</td>\n",
       "      <td>2002</td>\n",
       "      <td>[267, 16, 35, 5, 5, 27, 1229, 1823, 3196, 48, ...</td>\n",
       "      <td>[0.0, 0.0, 0.0, 0.0, 0.0, 0.0, 0.0, 0.0, 0.0, ...</td>\n",
       "    </tr>\n",
       "    <tr>\n",
       "      <th>4</th>\n",
       "      <td>[246, 1113]</td>\n",
       "      <td>https://poets.org/poem/war-photograph</td>\n",
       "      <td>2125</td>\n",
       "      <td>2002</td>\n",
       "      <td>[596, 50, 124, 467, 163, 612, 133, 77, 29, 44,...</td>\n",
       "      <td>[0.0, 0.0, 0.0, 0.0, 0.0, 0.0, 0.0, 0.0, 0.0, ...</td>\n",
       "    </tr>\n",
       "  </tbody>\n",
       "</table>\n",
       "</div>"
      ],
      "text/plain": [
       "                               title  \\\n",
       "0                [28, 508, 152, 720]   \n",
       "1                             [2668]   \n",
       "2                              [178]   \n",
       "3  [1113, 2862, 88, 289, 1171, 2335]   \n",
       "4                        [246, 1113]   \n",
       "\n",
       "                                                 url  author  year  \\\n",
       "0            https://poets.org/poem/body-and-soul-ii     602  2002   \n",
       "1                       https://poets.org/poem/novel     311  2002   \n",
       "2                      https://poets.org/poem/flying    3478  2002   \n",
       "3  https://poets.org/poem/photograph-people-danci...    2361  2002   \n",
       "4              https://poets.org/poem/war-photograph    2125  2002   \n",
       "\n",
       "                                                text  \\\n",
       "0  [2221, 1012, 2, 2221, 273, 902, 128, 472, 57, ...   \n",
       "1  [286, 3904, 1, 2778, 249, 19, 1268, 643, 410, ...   \n",
       "2  [12, 602, 11, 1574, 197, 113, 402, 13, 2428, 2...   \n",
       "3  [267, 16, 35, 5, 5, 27, 1229, 1823, 3196, 48, ...   \n",
       "4  [596, 50, 124, 467, 163, 612, 133, 77, 29, 44,...   \n",
       "\n",
       "                                              themes  \n",
       "0  [0.0, 0.0, 0.0, 0.0, 0.0, 0.0, 0.0, 0.0, 0.0, ...  \n",
       "1  [0.0, 0.0, 0.0, 0.0, 0.0, 0.0, 0.0, 0.0, 0.0, ...  \n",
       "2  [0.0, 0.0, 0.0, 0.0, 0.0, 0.0, 0.0, 0.0, 0.0, ...  \n",
       "3  [0.0, 0.0, 0.0, 0.0, 0.0, 0.0, 0.0, 0.0, 0.0, ...  \n",
       "4  [0.0, 0.0, 0.0, 0.0, 0.0, 0.0, 0.0, 0.0, 0.0, ...  "
      ]
     },
     "execution_count": 28,
     "metadata": {},
     "output_type": "execute_result"
    }
   ],
   "source": [
    "df.head()"
   ]
  },
  {
   "cell_type": "code",
   "execution_count": 29,
   "metadata": {},
   "outputs": [],
   "source": [
    "data = df.to_json()\n",
    "with open('data.json', 'w') as f:\n",
    "    f.write(data)"
   ]
  },
  {
   "cell_type": "code",
   "execution_count": null,
   "metadata": {},
   "outputs": [],
   "source": []
  },
  {
   "cell_type": "code",
   "execution_count": null,
   "metadata": {},
   "outputs": [],
   "source": []
  }
 ],
 "metadata": {
  "kernelspec": {
   "display_name": "Python 3",
   "language": "python",
   "name": "python3"
  },
  "language_info": {
   "codemirror_mode": {
    "name": "ipython",
    "version": 3
   },
   "file_extension": ".py",
   "mimetype": "text/x-python",
   "name": "python",
   "nbconvert_exporter": "python",
   "pygments_lexer": "ipython3",
   "version": "3.6.9"
  }
 },
 "nbformat": 4,
 "nbformat_minor": 2
}
