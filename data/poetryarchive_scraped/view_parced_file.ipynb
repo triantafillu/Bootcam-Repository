{
 "cells": [
  {
   "cell_type": "code",
   "execution_count": 1,
   "metadata": {},
   "outputs": [],
   "source": [
    "import numpy as np\n",
    "import pandas as pd"
   ]
  },
  {
   "cell_type": "code",
   "execution_count": 2,
   "metadata": {},
   "outputs": [],
   "source": [
    "df = pd.read_json('result.json')"
   ]
  },
  {
   "cell_type": "code",
   "execution_count": 3,
   "metadata": {},
   "outputs": [
    {
     "data": {
      "text/html": [
       "<div>\n",
       "<style scoped>\n",
       "    .dataframe tbody tr th:only-of-type {\n",
       "        vertical-align: middle;\n",
       "    }\n",
       "\n",
       "    .dataframe tbody tr th {\n",
       "        vertical-align: top;\n",
       "    }\n",
       "\n",
       "    .dataframe thead th {\n",
       "        text-align: right;\n",
       "    }\n",
       "</style>\n",
       "<table border=\"1\" class=\"dataframe\">\n",
       "  <thead>\n",
       "    <tr style=\"text-align: right;\">\n",
       "      <th></th>\n",
       "      <th>title</th>\n",
       "      <th>url</th>\n",
       "      <th>author</th>\n",
       "      <th>text</th>\n",
       "      <th>themes</th>\n",
       "    </tr>\n",
       "  </thead>\n",
       "  <tbody>\n",
       "    <tr>\n",
       "      <th>0</th>\n",
       "      <td>Wordview 2020: Chromosomes</td>\n",
       "      <td>https://poetryarchive.org/poem/wordview-2020-c...</td>\n",
       "      <td>Oje Taiye</td>\n",
       "      <td>these poems aren’t mine per se they are my mot...</td>\n",
       "      <td>[Body, Equality, Family, Fathers, Mothers, Pow...</td>\n",
       "    </tr>\n",
       "    <tr>\n",
       "      <th>1</th>\n",
       "      <td>Wordview 2020: New Cloth</td>\n",
       "      <td>https://poetryarchive.org/poem/wordview-2020-n...</td>\n",
       "      <td>Ankh Spice</td>\n",
       "      <td>Your pattern pinned itself to the fray of me t...</td>\n",
       "      <td>[Body, Change, Future, Gender, Love, Prejudice...</td>\n",
       "    </tr>\n",
       "    <tr>\n",
       "      <th>2</th>\n",
       "      <td>Wordview 2020: Computer Generated Images</td>\n",
       "      <td>https://poetryarchive.org/poem/wordview-2020-c...</td>\n",
       "      <td>Carmina Masoliver</td>\n",
       "      <td>we grew up on html   love was a cartoon heart ...</td>\n",
       "      <td>[Betrayal, Change, Love, Sex, Technology, Thea...</td>\n",
       "    </tr>\n",
       "    <tr>\n",
       "      <th>3</th>\n",
       "      <td>Wordview 2020: Avalon</td>\n",
       "      <td>https://poetryarchive.org/poem/wordview-2020-a...</td>\n",
       "      <td>Nicholas McGaughey</td>\n",
       "      <td>This boat on the shore has no sail or paddle, ...</td>\n",
       "      <td>[Change, Death]</td>\n",
       "    </tr>\n",
       "    <tr>\n",
       "      <th>4</th>\n",
       "      <td>Wordview 2020: Close Ups in Lockdown</td>\n",
       "      <td>https://poetryarchive.org/poem/wordview-2020-c...</td>\n",
       "      <td>Kathy Pimlott</td>\n",
       "      <td>London 2020   Confined to the same streets, I ...</td>\n",
       "      <td>[Change, Observation, Photography]</td>\n",
       "    </tr>\n",
       "  </tbody>\n",
       "</table>\n",
       "</div>"
      ],
      "text/plain": [
       "                                      title  \\\n",
       "0                Wordview 2020: Chromosomes   \n",
       "1                  Wordview 2020: New Cloth   \n",
       "2  Wordview 2020: Computer Generated Images   \n",
       "3                     Wordview 2020: Avalon   \n",
       "4      Wordview 2020: Close Ups in Lockdown   \n",
       "\n",
       "                                                 url              author  \\\n",
       "0  https://poetryarchive.org/poem/wordview-2020-c...           Oje Taiye   \n",
       "1  https://poetryarchive.org/poem/wordview-2020-n...          Ankh Spice   \n",
       "2  https://poetryarchive.org/poem/wordview-2020-c...   Carmina Masoliver   \n",
       "3  https://poetryarchive.org/poem/wordview-2020-a...  Nicholas McGaughey   \n",
       "4  https://poetryarchive.org/poem/wordview-2020-c...       Kathy Pimlott   \n",
       "\n",
       "                                                text  \\\n",
       "0  these poems aren’t mine per se they are my mot...   \n",
       "1  Your pattern pinned itself to the fray of me t...   \n",
       "2  we grew up on html   love was a cartoon heart ...   \n",
       "3  This boat on the shore has no sail or paddle, ...   \n",
       "4  London 2020   Confined to the same streets, I ...   \n",
       "\n",
       "                                              themes  \n",
       "0  [Body, Equality, Family, Fathers, Mothers, Pow...  \n",
       "1  [Body, Change, Future, Gender, Love, Prejudice...  \n",
       "2  [Betrayal, Change, Love, Sex, Technology, Thea...  \n",
       "3                                    [Change, Death]  \n",
       "4                 [Change, Observation, Photography]  "
      ]
     },
     "execution_count": 3,
     "metadata": {},
     "output_type": "execute_result"
    }
   ],
   "source": [
    "df.head()"
   ]
  },
  {
   "cell_type": "code",
   "execution_count": 4,
   "metadata": {},
   "outputs": [
    {
     "data": {
      "text/plain": [
       "title      0\n",
       "url        0\n",
       "author     0\n",
       "text       0\n",
       "themes    21\n",
       "dtype: int64"
      ]
     },
     "execution_count": 4,
     "metadata": {},
     "output_type": "execute_result"
    }
   ],
   "source": [
    "df.isna().sum()"
   ]
  },
  {
   "cell_type": "code",
   "execution_count": 5,
   "metadata": {},
   "outputs": [
    {
     "data": {
      "text/plain": [
       "(2160, 5)"
      ]
     },
     "execution_count": 5,
     "metadata": {},
     "output_type": "execute_result"
    }
   ],
   "source": [
    "df.shape"
   ]
  },
  {
   "cell_type": "code",
   "execution_count": null,
   "metadata": {},
   "outputs": [],
   "source": []
  }
 ],
 "metadata": {
  "kernelspec": {
   "display_name": "Python 3",
   "language": "python",
   "name": "python3"
  },
  "language_info": {
   "codemirror_mode": {
    "name": "ipython",
    "version": 3
   },
   "file_extension": ".py",
   "mimetype": "text/x-python",
   "name": "python",
   "nbconvert_exporter": "python",
   "pygments_lexer": "ipython3",
   "version": "3.6.9"
  }
 },
 "nbformat": 4,
 "nbformat_minor": 2
}
