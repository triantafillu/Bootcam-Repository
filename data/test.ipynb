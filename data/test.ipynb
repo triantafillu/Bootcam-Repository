{
 "cells": [
  {
   "cell_type": "code",
   "execution_count": 1,
   "metadata": {},
   "outputs": [],
   "source": [
    "import data_analysis\n",
    "import pandas as pd"
   ]
  },
  {
   "cell_type": "code",
   "execution_count": 2,
   "metadata": {},
   "outputs": [
    {
     "name": "stdout",
     "output_type": "stream",
     "text": [
      "<class 'pandas.core.frame.DataFrame'>\n",
      "RangeIndex: 10665 entries, 0 to 10664\n",
      "Data columns (total 8 columns):\n",
      " #   Column     Non-Null Count  Dtype  \n",
      "---  ------     --------------  -----  \n",
      " 0   title      10665 non-null  object \n",
      " 1   url        10665 non-null  object \n",
      " 2   author     10665 non-null  object \n",
      " 3   year       10520 non-null  float64\n",
      " 4   text       10664 non-null  object \n",
      " 5   themes     9447 non-null   object \n",
      " 6   occasions  2580 non-null   object \n",
      " 7   forms      837 non-null    object \n",
      "dtypes: float64(1), object(7)\n",
      "memory usage: 666.7+ KB\n",
      "None\n",
      "\n",
      "\n",
      "               year\n",
      "count  10520.000000\n",
      "mean    1979.957224\n",
      "std       70.301632\n",
      "min     1374.000000\n",
      "25%     1983.000000\n",
      "50%     2010.000000\n",
      "75%     2016.000000\n",
      "max     2021.000000\n",
      "\n",
      "\n",
      "title           0\n",
      "url             0\n",
      "author          0\n",
      "year          145\n",
      "text            1\n",
      "themes       1218\n",
      "occasions    8085\n",
      "forms        9828\n",
      "dtype: int64\n",
      "\n",
      "\n",
      "0                                   NaN\n",
      "1                               [audio]\n",
      "2                                [lust]\n",
      "3                      [dreams, flight]\n",
      "4                                   NaN\n",
      "                      ...              \n",
      "10660    [buildings, childhood, cities]\n",
      "10661     [illness, mothers, parenting]\n",
      "10662                                []\n",
      "10663                               NaN\n",
      "10664                                []\n",
      "Name: themes, Length: 10665, dtype: object\n"
     ]
    }
   ],
   "source": [
    "df = pd.read_json(open(\"raw_data.json\", \"r\", encoding=\"utf8\"))\n",
    "\n",
    "print(df.info())\n",
    "print('\\n')\n",
    "print(df.describe())\n",
    "print('\\n')\n",
    "print(df.isna().sum())\n",
    "print('\\n')\n",
    "print(df['themes'])"
   ]
  },
  {
   "cell_type": "code",
   "execution_count": 3,
   "metadata": {},
   "outputs": [
    {
     "name": "stdout",
     "output_type": "stream",
     "text": [
      "['afterlife', 'aging', 'ambition', 'america', 'american revolution', 'americana', 'ancestry', 'anger', 'animals', 'anxiety', 'apocalypse', 'audio', 'beauty', 'beginning', 'birds', 'body', 'brothers', 'buildings', 'carpe diem', 'cats', 'childhood', 'cities', 'civil war', 'clothing', 'cooking', 'creation', 'dance', 'daughters', 'death', 'deception', 'desire', 'despair', 'divorce', 'dogs', 'doubt', 'dreams', 'drinking', 'drugs', 'earth', 'eating', 'economy', 'enemies', 'environment', 'existential', 'family', 'fathers', 'flight', 'flowers', 'for children', 'for mom', 'for teens', 'friendship', 'future', 'gardens', 'gender', 'ghosts', 'gratitude', 'grief', 'gun violence', 'happiness', 'heartache', 'heroes', 'high school', 'history', 'home', 'hope', 'humor', 'identity', 'illness', 'immigration', 'incarceration', 'infidelity', 'innocence', 'jealousy', 'lgbtq', 'landscapes', 'language', 'loneliness', 'loss', 'love', 'love, contemporary', 'luck', 'lust', 'marriage', 'math', 'memories', 'migration', 'miracles', 'money', 'mothers', 'mourning', 'movies', 'moving', 'music', 'myth', 'national parks', 'nature', 'new york city', 'night', 'nostalgia', 'oblivion', 'oceans', 'old age', 'pacifism', 'parenting', 'past', 'pastoral', 'patience', 'pets', 'plants', 'politics', 'popular culture', 'public domain', 'reading', 'rebellion', 'regret', 'religion', 'romance', 'sadness', 'school', 'science', 'self', 'sex', 'silence', 'sisters', 'slavery', 'social justice', 'sons', 'space', 'spanish', 'spirituality', 'sports', 'storms', 'suburbia', 'suffrage', 'survival', 'teaching', 'technology', 'theft', 'thought', 'time', 'tragedy', 'translation', 'travel', 'turmoil', 'underworld', 'vanity', 'violence', 'visual art', 'war', 'weather', 'work', 'writing']\n"
     ]
    }
   ],
   "source": [
    "topics = data_analysis.scrape_topics()\n",
    "print(topics)"
   ]
  },
  {
   "cell_type": "code",
   "execution_count": 4,
   "metadata": {},
   "outputs": [
    {
     "name": "stdout",
     "output_type": "stream",
     "text": [
      "{'afterlife': 0, 'aging': 1, 'ambition': 2, 'america': 3, 'american revolution': 4, 'americana': 5, 'ancestry': 6, 'anger': 7, 'animals': 8, 'anxiety': 9, 'apocalypse': 10, 'audio': 11, 'beauty': 12, 'beginning': 13, 'birds': 14, 'body': 15, 'brothers': 16, 'buildings': 17, 'carpe diem': 18, 'cats': 19, 'childhood': 20, 'cities': 21, 'civil war': 22, 'clothing': 23, 'cooking': 24, 'creation': 25, 'dance': 26, 'daughters': 27, 'death': 28, 'deception': 29, 'desire': 30, 'despair': 31, 'divorce': 32, 'dogs': 33, 'doubt': 34, 'dreams': 35, 'drinking': 36, 'drugs': 37, 'earth': 38, 'eating': 39, 'economy': 40, 'enemies': 41, 'environment': 42, 'existential': 43, 'family': 44, 'fathers': 45, 'flight': 46, 'flowers': 47, 'for children': 48, 'for mom': 49, 'for teens': 50, 'friendship': 51, 'future': 52, 'gardens': 53, 'gender': 54, 'ghosts': 55, 'gratitude': 56, 'grief': 57, 'gun violence': 58, 'happiness': 59, 'heartache': 60, 'heroes': 61, 'high school': 62, 'history': 63, 'home': 64, 'hope': 65, 'humor': 66, 'identity': 67, 'illness': 68, 'immigration': 69, 'incarceration': 70, 'infidelity': 71, 'innocence': 72, 'jealousy': 73, 'landscapes': 74, 'language': 75, 'lgbtq': 76, 'loneliness': 77, 'loss': 78, 'love': 79, 'love, contemporary': 80, 'luck': 81, 'lust': 82, 'marriage': 83, 'math': 84, 'memories': 85, 'migration': 86, 'miracles': 87, 'money': 88, 'mothers': 89, 'mourning': 90, 'movies': 91, 'moving': 92, 'music': 93, 'myth': 94, 'national parks': 95, 'nature': 96, 'new york city': 97, 'night': 98, 'nostalgia': 99, 'oblivion': 100, 'oceans': 101, 'old age': 102, 'pacifism': 103, 'parenting': 104, 'past': 105, 'pastoral': 106, 'patience': 107, 'pets': 108, 'plants': 109, 'politics': 110, 'popular culture': 111, 'public domain': 112, 'reading': 113, 'rebellion': 114, 'regret': 115, 'religion': 116, 'romance': 117, 'sadness': 118, 'school': 119, 'science': 120, 'self': 121, 'sex': 122, 'silence': 123, 'sisters': 124, 'slavery': 125, 'social justice': 126, 'sons': 127, 'space': 128, 'spanish': 129, 'spirituality': 130, 'sports': 131, 'storms': 132, 'suburbia': 133, 'suffrage': 134, 'survival': 135, 'teaching': 136, 'technology': 137, 'theft': 138, 'thought': 139, 'time': 140, 'tragedy': 141, 'translation': 142, 'travel': 143, 'turmoil': 144, 'underworld': 145, 'vanity': 146, 'violence': 147, 'visual art': 148, 'war': 149, 'weather': 150, 'work': 151, 'writing': 152}\n"
     ]
    }
   ],
   "source": [
    "encoded_topics = data_analysis.encode_topics(topics)\n",
    "print(encoded_topics)"
   ]
  },
  {
   "cell_type": "code",
   "execution_count": 5,
   "metadata": {},
   "outputs": [
    {
     "name": "stdout",
     "output_type": "stream",
     "text": [
      "['audio']\n",
      "[0. 0. 0. 0. 0. 0. 0. 0. 0. 0. 0. 1. 0. 0. 0. 0. 0. 0. 0. 0. 0. 0. 0. 0.\n",
      " 0. 0. 0. 0. 0. 0. 0. 0. 0. 0. 0. 0. 0. 0. 0. 0. 0. 0. 0. 0. 0. 0. 0. 0.\n",
      " 0. 0. 0. 0. 0. 0. 0. 0. 0. 0. 0. 0. 0. 0. 0. 0. 0. 0. 0. 0. 0. 0. 0. 0.\n",
      " 0. 0. 0. 0. 0. 0. 0. 0. 0. 0. 0. 0. 0. 0. 0. 0. 0. 0. 0. 0. 0. 0. 0. 0.\n",
      " 0. 0. 0. 0. 0. 0. 0. 0. 0. 0. 0. 0. 0. 0. 0. 0. 0. 0. 0. 0. 0. 0. 0. 0.\n",
      " 0. 0. 0. 0. 0. 0. 0. 0. 0. 0. 0. 0. 0. 0. 0. 0. 0. 0. 0. 0. 0. 0. 0. 0.\n",
      " 0. 0. 0. 0. 0. 0. 0. 0. 0.]\n"
     ]
    }
   ],
   "source": [
    "row = df['themes'][1]\n",
    "print(row)\n",
    "encoded = data_analysis.encode_column(row)\n",
    "print(encoded)"
   ]
  },
  {
   "cell_type": "code",
   "execution_count": 6,
   "metadata": {
    "scrolled": true
   },
   "outputs": [
    {
     "name": "stdout",
     "output_type": "stream",
     "text": [
      "1        [0.0, 0.0, 0.0, 0.0, 0.0, 0.0, 0.0, 0.0, 0.0, ...\n",
      "2        [0.0, 0.0, 0.0, 0.0, 0.0, 0.0, 0.0, 0.0, 0.0, ...\n",
      "3        [0.0, 0.0, 0.0, 0.0, 0.0, 0.0, 0.0, 0.0, 0.0, ...\n",
      "5        [0.0, 0.0, 0.0, 0.0, 0.0, 0.0, 0.0, 0.0, 0.0, ...\n",
      "6        [0.0, 0.0, 0.0, 0.0, 0.0, 0.0, 0.0, 0.0, 0.0, ...\n",
      "                               ...                        \n",
      "10659    [0.0, 0.0, 0.0, 0.0, 0.0, 0.0, 0.0, 0.0, 0.0, ...\n",
      "10660    [0.0, 0.0, 0.0, 0.0, 0.0, 0.0, 0.0, 0.0, 0.0, ...\n",
      "10661    [0.0, 0.0, 0.0, 0.0, 0.0, 0.0, 0.0, 0.0, 0.0, ...\n",
      "10662    [0.0, 0.0, 0.0, 0.0, 0.0, 0.0, 0.0, 0.0, 0.0, ...\n",
      "10664    [0.0, 0.0, 0.0, 0.0, 0.0, 0.0, 0.0, 0.0, 0.0, ...\n",
      "Name: themes, Length: 9447, dtype: object\n"
     ]
    }
   ],
   "source": [
    "df = df[df['themes'].notna()]\n",
    "df['themes'] = df['themes'].apply(data_analysis.encode_column)\n",
    "print(df['themes'])"
   ]
  },
  {
   "cell_type": "markdown",
   "metadata": {},
   "source": [
    "#### Using added functions to clear df and encode authors"
   ]
  },
  {
   "cell_type": "code",
   "execution_count": 7,
   "metadata": {},
   "outputs": [
    {
     "data": {
      "text/html": [
       "<div>\n",
       "<style scoped>\n",
       "    .dataframe tbody tr th:only-of-type {\n",
       "        vertical-align: middle;\n",
       "    }\n",
       "\n",
       "    .dataframe tbody tr th {\n",
       "        vertical-align: top;\n",
       "    }\n",
       "\n",
       "    .dataframe thead th {\n",
       "        text-align: right;\n",
       "    }\n",
       "</style>\n",
       "<table border=\"1\" class=\"dataframe\">\n",
       "  <thead>\n",
       "    <tr style=\"text-align: right;\">\n",
       "      <th></th>\n",
       "      <th>title</th>\n",
       "      <th>url</th>\n",
       "      <th>author</th>\n",
       "      <th>year</th>\n",
       "      <th>text</th>\n",
       "      <th>themes</th>\n",
       "      <th>occasions</th>\n",
       "      <th>forms</th>\n",
       "    </tr>\n",
       "  </thead>\n",
       "  <tbody>\n",
       "    <tr>\n",
       "      <th>1</th>\n",
       "      <td>Body and Soul II</td>\n",
       "      <td>https://poets.org/poem/body-and-soul-ii</td>\n",
       "      <td>Charles Wright</td>\n",
       "      <td>2002.0</td>\n",
       "      <td>(for Coleman Hawkins)\\nThe structure of landsc...</td>\n",
       "      <td>[0.0, 0.0, 0.0, 0.0, 0.0, 0.0, 0.0, 0.0, 0.0, ...</td>\n",
       "      <td>NaN</td>\n",
       "      <td>NaN</td>\n",
       "    </tr>\n",
       "    <tr>\n",
       "      <th>2</th>\n",
       "      <td>Novel</td>\n",
       "      <td>https://poets.org/poem/novel</td>\n",
       "      <td>Arthur Rimbaud</td>\n",
       "      <td>2002.0</td>\n",
       "      <td>I.\\n\\nNo one's serious at seventeen.\\n—On beau...</td>\n",
       "      <td>[0.0, 0.0, 0.0, 0.0, 0.0, 0.0, 0.0, 0.0, 0.0, ...</td>\n",
       "      <td>[lgbtq pride month]</td>\n",
       "      <td>NaN</td>\n",
       "    </tr>\n",
       "    <tr>\n",
       "      <th>3</th>\n",
       "      <td>Flying</td>\n",
       "      <td>https://poets.org/poem/flying</td>\n",
       "      <td>Sarah Arvio</td>\n",
       "      <td>2002.0</td>\n",
       "      <td>One said to me tonight or was it day \\nor was ...</td>\n",
       "      <td>[0.0, 0.0, 0.0, 0.0, 0.0, 0.0, 0.0, 0.0, 0.0, ...</td>\n",
       "      <td>NaN</td>\n",
       "      <td>NaN</td>\n",
       "    </tr>\n",
       "    <tr>\n",
       "      <th>5</th>\n",
       "      <td>Photograph of People Dancing in France</td>\n",
       "      <td>https://poets.org/poem/photograph-people-danci...</td>\n",
       "      <td>Leslie Adrienne Miller</td>\n",
       "      <td>2002.0</td>\n",
       "      <td>It's true that you don't know them--nor do I \\...</td>\n",
       "      <td>[0.0, 0.0, 0.0, 0.0, 0.0, 0.0, 0.0, 0.0, 0.0, ...</td>\n",
       "      <td>NaN</td>\n",
       "      <td>[ekphrastic]</td>\n",
       "    </tr>\n",
       "    <tr>\n",
       "      <th>6</th>\n",
       "      <td>Borrowed Dress</td>\n",
       "      <td>https://poets.org/poem/borrowed-dress</td>\n",
       "      <td>Cathy Colman</td>\n",
       "      <td>2001.0</td>\n",
       "      <td>He left the room, assured of his immortality--...</td>\n",
       "      <td>[0.0, 0.0, 0.0, 0.0, 0.0, 0.0, 0.0, 0.0, 0.0, ...</td>\n",
       "      <td>NaN</td>\n",
       "      <td>NaN</td>\n",
       "    </tr>\n",
       "  </tbody>\n",
       "</table>\n",
       "</div>"
      ],
      "text/plain": [
       "                                    title  \\\n",
       "1                        Body and Soul II   \n",
       "2                                   Novel   \n",
       "3                                  Flying   \n",
       "5  Photograph of People Dancing in France   \n",
       "6                          Borrowed Dress   \n",
       "\n",
       "                                                 url                  author  \\\n",
       "1            https://poets.org/poem/body-and-soul-ii          Charles Wright   \n",
       "2                       https://poets.org/poem/novel          Arthur Rimbaud   \n",
       "3                      https://poets.org/poem/flying             Sarah Arvio   \n",
       "5  https://poets.org/poem/photograph-people-danci...  Leslie Adrienne Miller   \n",
       "6              https://poets.org/poem/borrowed-dress            Cathy Colman   \n",
       "\n",
       "     year                                               text  \\\n",
       "1  2002.0  (for Coleman Hawkins)\\nThe structure of landsc...   \n",
       "2  2002.0  I.\\n\\nNo one's serious at seventeen.\\n—On beau...   \n",
       "3  2002.0  One said to me tonight or was it day \\nor was ...   \n",
       "5  2002.0  It's true that you don't know them--nor do I \\...   \n",
       "6  2001.0  He left the room, assured of his immortality--...   \n",
       "\n",
       "                                              themes            occasions  \\\n",
       "1  [0.0, 0.0, 0.0, 0.0, 0.0, 0.0, 0.0, 0.0, 0.0, ...                  NaN   \n",
       "2  [0.0, 0.0, 0.0, 0.0, 0.0, 0.0, 0.0, 0.0, 0.0, ...  [lgbtq pride month]   \n",
       "3  [0.0, 0.0, 0.0, 0.0, 0.0, 0.0, 0.0, 0.0, 0.0, ...                  NaN   \n",
       "5  [0.0, 0.0, 0.0, 0.0, 0.0, 0.0, 0.0, 0.0, 0.0, ...                  NaN   \n",
       "6  [0.0, 0.0, 0.0, 0.0, 0.0, 0.0, 0.0, 0.0, 0.0, ...                  NaN   \n",
       "\n",
       "          forms  \n",
       "1           NaN  \n",
       "2           NaN  \n",
       "3           NaN  \n",
       "5  [ekphrastic]  \n",
       "6           NaN  "
      ]
     },
     "execution_count": 7,
     "metadata": {},
     "output_type": "execute_result"
    }
   ],
   "source": [
    "df.head()"
   ]
  },
  {
   "cell_type": "code",
   "execution_count": 8,
   "metadata": {},
   "outputs": [
    {
     "data": {
      "text/plain": [
       "(9447, 8)"
      ]
     },
     "execution_count": 8,
     "metadata": {},
     "output_type": "execute_result"
    }
   ],
   "source": [
    "df.shape"
   ]
  },
  {
   "cell_type": "code",
   "execution_count": 9,
   "metadata": {},
   "outputs": [
    {
     "data": {
      "text/plain": [
       "(9326, 6)"
      ]
     },
     "execution_count": 9,
     "metadata": {},
     "output_type": "execute_result"
    }
   ],
   "source": [
    "df = data_analysis.clear_nans(df)\n",
    "df.shape"
   ]
  },
  {
   "cell_type": "code",
   "execution_count": 10,
   "metadata": {},
   "outputs": [
    {
     "data": {
      "text/plain": [
       "title     0\n",
       "url       0\n",
       "author    0\n",
       "year      0\n",
       "text      0\n",
       "themes    0\n",
       "dtype: int64"
      ]
     },
     "execution_count": 10,
     "metadata": {},
     "output_type": "execute_result"
    }
   ],
   "source": [
    "df.isna().sum()"
   ]
  },
  {
   "cell_type": "code",
   "execution_count": 31,
   "metadata": {},
   "outputs": [
    {
     "ename": "NameError",
     "evalue": "name 'df' is not defined",
     "output_type": "error",
     "traceback": [
      "\u001B[0;31m---------------------------------------------------------------------------\u001B[0m",
      "\u001B[0;31mNameError\u001B[0m                                 Traceback (most recent call last)",
      "\u001B[0;32m<ipython-input-31-00cf07b74dcd>\u001B[0m in \u001B[0;36m<module>\u001B[0;34m\u001B[0m\n\u001B[0;32m----> 1\u001B[0;31m \u001B[0mdf\u001B[0m\u001B[0;34m\u001B[0m\u001B[0;34m\u001B[0m\u001B[0m\n\u001B[0m",
      "\u001B[0;31mNameError\u001B[0m: name 'df' is not defined"
     ]
    }
   ],
   "source": [
    "df"
   ]
  },
  {
   "cell_type": "code",
   "execution_count": 25,
   "metadata": {},
   "outputs": [
    {
     "ename": "NameError",
     "evalue": "name 'data_analysis' is not defined",
     "output_type": "error",
     "traceback": [
      "\u001B[0;31m---------------------------------------------------------------------------\u001B[0m",
      "\u001B[0;31mNameError\u001B[0m                                 Traceback (most recent call last)",
      "\u001B[0;32m<ipython-input-25-73e4fac1e905>\u001B[0m in \u001B[0;36m<module>\u001B[0;34m\u001B[0m\n\u001B[0;32m----> 1\u001B[0;31m \u001B[0mdf\u001B[0m \u001B[0;34m=\u001B[0m \u001B[0mdata_analysis\u001B[0m\u001B[0;34m.\u001B[0m\u001B[0mfile_author_encoding\u001B[0m\u001B[0;34m(\u001B[0m\u001B[0mdf\u001B[0m\u001B[0;34m)\u001B[0m\u001B[0;34m\u001B[0m\u001B[0;34m\u001B[0m\u001B[0m\n\u001B[0m\u001B[1;32m      2\u001B[0m \u001B[0mdf\u001B[0m\u001B[0;34m\u001B[0m\u001B[0;34m\u001B[0m\u001B[0m\n",
      "\u001B[0;31mNameError\u001B[0m: name 'data_analysis' is not defined"
     ]
    }
   ],
   "source": [
    "df = data_analysis.file_author_encoding(df)\n",
    "df"
   ]
  },
  {
   "cell_type": "code",
   "execution_count": 10,
   "metadata": {},
   "outputs": [
    {
     "ename": "WebDriverException",
     "evalue": "Message: 'geckodriver' executable needs to be in PATH. \n",
     "output_type": "error",
     "traceback": [
      "\u001B[0;31m---------------------------------------------------------------------------\u001B[0m",
      "\u001B[0;31mFileNotFoundError\u001B[0m                         Traceback (most recent call last)",
      "\u001B[0;32m/usr/local/lib/python3.6/dist-packages/selenium/webdriver/common/service.py\u001B[0m in \u001B[0;36mstart\u001B[0;34m(self)\u001B[0m\n\u001B[1;32m     75\u001B[0m                                             \u001B[0mstderr\u001B[0m\u001B[0;34m=\u001B[0m\u001B[0mself\u001B[0m\u001B[0;34m.\u001B[0m\u001B[0mlog_file\u001B[0m\u001B[0;34m,\u001B[0m\u001B[0;34m\u001B[0m\u001B[0;34m\u001B[0m\u001B[0m\n\u001B[0;32m---> 76\u001B[0;31m                                             stdin=PIPE)\n\u001B[0m\u001B[1;32m     77\u001B[0m         \u001B[0;32mexcept\u001B[0m \u001B[0mTypeError\u001B[0m\u001B[0;34m:\u001B[0m\u001B[0;34m\u001B[0m\u001B[0;34m\u001B[0m\u001B[0m\n",
      "\u001B[0;32m/usr/lib/python3.6/subprocess.py\u001B[0m in \u001B[0;36m__init__\u001B[0;34m(self, args, bufsize, executable, stdin, stdout, stderr, preexec_fn, close_fds, shell, cwd, env, universal_newlines, startupinfo, creationflags, restore_signals, start_new_session, pass_fds, encoding, errors)\u001B[0m\n\u001B[1;32m    728\u001B[0m                                 \u001B[0merrread\u001B[0m\u001B[0;34m,\u001B[0m \u001B[0merrwrite\u001B[0m\u001B[0;34m,\u001B[0m\u001B[0;34m\u001B[0m\u001B[0;34m\u001B[0m\u001B[0m\n\u001B[0;32m--> 729\u001B[0;31m                                 restore_signals, start_new_session)\n\u001B[0m\u001B[1;32m    730\u001B[0m         \u001B[0;32mexcept\u001B[0m\u001B[0;34m:\u001B[0m\u001B[0;34m\u001B[0m\u001B[0;34m\u001B[0m\u001B[0m\n",
      "\u001B[0;32m/usr/lib/python3.6/subprocess.py\u001B[0m in \u001B[0;36m_execute_child\u001B[0;34m(self, args, executable, preexec_fn, close_fds, pass_fds, cwd, env, startupinfo, creationflags, shell, p2cread, p2cwrite, c2pread, c2pwrite, errread, errwrite, restore_signals, start_new_session)\u001B[0m\n\u001B[1;32m   1363\u001B[0m                             \u001B[0merr_msg\u001B[0m \u001B[0;34m+=\u001B[0m \u001B[0;34m': '\u001B[0m \u001B[0;34m+\u001B[0m \u001B[0mrepr\u001B[0m\u001B[0;34m(\u001B[0m\u001B[0merr_filename\u001B[0m\u001B[0;34m)\u001B[0m\u001B[0;34m\u001B[0m\u001B[0;34m\u001B[0m\u001B[0m\n\u001B[0;32m-> 1364\u001B[0;31m                     \u001B[0;32mraise\u001B[0m \u001B[0mchild_exception_type\u001B[0m\u001B[0;34m(\u001B[0m\u001B[0merrno_num\u001B[0m\u001B[0;34m,\u001B[0m \u001B[0merr_msg\u001B[0m\u001B[0;34m,\u001B[0m \u001B[0merr_filename\u001B[0m\u001B[0;34m)\u001B[0m\u001B[0;34m\u001B[0m\u001B[0;34m\u001B[0m\u001B[0m\n\u001B[0m\u001B[1;32m   1365\u001B[0m                 \u001B[0;32mraise\u001B[0m \u001B[0mchild_exception_type\u001B[0m\u001B[0;34m(\u001B[0m\u001B[0merr_msg\u001B[0m\u001B[0;34m)\u001B[0m\u001B[0;34m\u001B[0m\u001B[0;34m\u001B[0m\u001B[0m\n",
      "\u001B[0;31mFileNotFoundError\u001B[0m: [Errno 2] No such file or directory: 'geckodriver': 'geckodriver'",
      "\nDuring handling of the above exception, another exception occurred:\n",
      "\u001B[0;31mWebDriverException\u001B[0m                        Traceback (most recent call last)",
      "\u001B[0;32m<ipython-input-10-8b5f095f3254>\u001B[0m in \u001B[0;36m<module>\u001B[0;34m\u001B[0m\n\u001B[1;32m      7\u001B[0m \u001B[0;31m# driver = webdriver.Firefox(firefox_binary=binary, executable_path=gecko+'.exe')\u001B[0m\u001B[0;34m\u001B[0m\u001B[0;34m\u001B[0m\u001B[0;34m\u001B[0m\u001B[0m\n\u001B[1;32m      8\u001B[0m \u001B[0;34m\u001B[0m\u001B[0m\n\u001B[0;32m----> 9\u001B[0;31m \u001B[0mdriver\u001B[0m \u001B[0;34m=\u001B[0m \u001B[0mwebdriver\u001B[0m\u001B[0;34m.\u001B[0m\u001B[0mFirefox\u001B[0m\u001B[0;34m(\u001B[0m\u001B[0;34m)\u001B[0m\u001B[0;34m\u001B[0m\u001B[0;34m\u001B[0m\u001B[0m\n\u001B[0m",
      "\u001B[0;32m/usr/local/lib/python3.6/dist-packages/selenium/webdriver/firefox/webdriver.py\u001B[0m in \u001B[0;36m__init__\u001B[0;34m(self, firefox_profile, firefox_binary, timeout, capabilities, proxy, executable_path, options, service_log_path, firefox_options, service_args, desired_capabilities, log_path, keep_alive)\u001B[0m\n\u001B[1;32m    162\u001B[0m                 \u001B[0mservice_args\u001B[0m\u001B[0;34m=\u001B[0m\u001B[0mservice_args\u001B[0m\u001B[0;34m,\u001B[0m\u001B[0;34m\u001B[0m\u001B[0;34m\u001B[0m\u001B[0m\n\u001B[1;32m    163\u001B[0m                 log_path=service_log_path)\n\u001B[0;32m--> 164\u001B[0;31m             \u001B[0mself\u001B[0m\u001B[0;34m.\u001B[0m\u001B[0mservice\u001B[0m\u001B[0;34m.\u001B[0m\u001B[0mstart\u001B[0m\u001B[0;34m(\u001B[0m\u001B[0;34m)\u001B[0m\u001B[0;34m\u001B[0m\u001B[0;34m\u001B[0m\u001B[0m\n\u001B[0m\u001B[1;32m    165\u001B[0m \u001B[0;34m\u001B[0m\u001B[0m\n\u001B[1;32m    166\u001B[0m             \u001B[0mcapabilities\u001B[0m\u001B[0;34m.\u001B[0m\u001B[0mupdate\u001B[0m\u001B[0;34m(\u001B[0m\u001B[0moptions\u001B[0m\u001B[0;34m.\u001B[0m\u001B[0mto_capabilities\u001B[0m\u001B[0;34m(\u001B[0m\u001B[0;34m)\u001B[0m\u001B[0;34m)\u001B[0m\u001B[0;34m\u001B[0m\u001B[0;34m\u001B[0m\u001B[0m\n",
      "\u001B[0;32m/usr/local/lib/python3.6/dist-packages/selenium/webdriver/common/service.py\u001B[0m in \u001B[0;36mstart\u001B[0;34m(self)\u001B[0m\n\u001B[1;32m     81\u001B[0m                 raise WebDriverException(\n\u001B[1;32m     82\u001B[0m                     \"'%s' executable needs to be in PATH. %s\" % (\n\u001B[0;32m---> 83\u001B[0;31m                         os.path.basename(self.path), self.start_error_message)\n\u001B[0m\u001B[1;32m     84\u001B[0m                 )\n\u001B[1;32m     85\u001B[0m             \u001B[0;32melif\u001B[0m \u001B[0merr\u001B[0m\u001B[0;34m.\u001B[0m\u001B[0merrno\u001B[0m \u001B[0;34m==\u001B[0m \u001B[0merrno\u001B[0m\u001B[0;34m.\u001B[0m\u001B[0mEACCES\u001B[0m\u001B[0;34m:\u001B[0m\u001B[0;34m\u001B[0m\u001B[0;34m\u001B[0m\u001B[0m\n",
      "\u001B[0;31mWebDriverException\u001B[0m: Message: 'geckodriver' executable needs to be in PATH. \n"
     ]
    }
   ],
   "source": [
    "from selenium import webdriver\n",
    "from selenium.webdriver.firefox.firefox_binary import FirefoxBinary\n",
    "import os\n",
    "\n",
    "# gecko = os.path.normpath(os.path.join(os.path.dirname('C:\\Program Files (x86)\\geckodriver.exe'), 'geckodriver'))\n",
    "# binary = FirefoxBinary(r'C:\\Program Files\\Mozilla Firefox\\firefox.exe')\n",
    "# driver = webdriver.Firefox(firefox_binary=binary, executable_path=gecko+'.exe')\n",
    "\n",
    "driver = webdriver.Firefox()"
   ]
  }
 ],
 "metadata": {
  "kernelspec": {
   "display_name": "Python 3",
   "language": "python",
   "name": "python3"
  },
  "language_info": {
   "codemirror_mode": {
    "name": "ipython",
    "version": 3
   },
   "file_extension": ".py",
   "mimetype": "text/x-python",
   "name": "python",
   "nbconvert_exporter": "python",
   "pygments_lexer": "ipython3",
   "version": "3.6.9"
  }
 },
 "nbformat": 4,
 "nbformat_minor": 2
}