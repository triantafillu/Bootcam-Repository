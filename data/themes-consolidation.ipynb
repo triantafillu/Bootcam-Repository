{
 "cells": [
  {
   "cell_type": "code",
   "execution_count": 1,
   "metadata": {},
   "outputs": [],
   "source": [
    "import json, itertools\n",
    "import pandas as pd"
   ]
  },
  {
   "cell_type": "code",
   "execution_count": 2,
   "metadata": {},
   "outputs": [],
   "source": [
    "\"\"\"File consist dict {'theme to replace': 'theme to insert'},\n",
    "We need to unite same themes with different names from different sources.\"\"\"\n",
    "\n",
    "with open('themes_to_consolidate.json', 'r') as file:\n",
    "    data = file.read()\n",
    "    themes_to_consolidate = json.loads(data)\n",
    "\n",
    "df = pd.read_json(open(\"final_dataset/merged_dset.json\", \"r\", encoding=\"utf8\"))"
   ]
  },
  {
   "cell_type": "code",
   "execution_count": 3,
   "metadata": {},
   "outputs": [
    {
     "name": "stdout",
     "output_type": "stream",
     "text": [
      "Themes before consideration:  248\n"
     ]
    }
   ],
   "source": [
    "print('Themes before consideration: ', len(set(itertools.chain.from_iterable(df.themes))))"
   ]
  },
  {
   "cell_type": "code",
   "execution_count": 4,
   "metadata": {},
   "outputs": [],
   "source": [
    "# save list of themes to check the result\n",
    "before = set(itertools.chain.from_iterable(df.themes))"
   ]
  },
  {
   "cell_type": "code",
   "execution_count": 5,
   "metadata": {
    "scrolled": true
   },
   "outputs": [],
   "source": [
    "def process_one_entry(themes):\n",
    "    result = []\n",
    "    for theme in themes:\n",
    "        if theme not in themes_to_consolidate.keys():\n",
    "            result.append(theme)\n",
    "        elif themes_to_consolidate[theme] not in themes:\n",
    "            result.append(themes_to_consolidate[theme])\n",
    "    return result\n",
    "                \n",
    "df.themes = df.themes.apply(process_one_entry)"
   ]
  },
  {
   "cell_type": "code",
   "execution_count": 6,
   "metadata": {},
   "outputs": [
    {
     "name": "stdout",
     "output_type": "stream",
     "text": [
      "Themes after consideration:  213\n"
     ]
    }
   ],
   "source": [
    "print('Themes after consideration: ', len(set(itertools.chain.from_iterable(df.themes))))"
   ]
  },
  {
   "cell_type": "code",
   "execution_count": 7,
   "metadata": {},
   "outputs": [
    {
     "data": {
      "text/plain": [
       "set()"
      ]
     },
     "execution_count": 7,
     "metadata": {},
     "output_type": "execute_result"
    }
   ],
   "source": [
    "# check the result\n",
    "after = set(itertools.chain.from_iterable(df.themes))\n",
    "before -= set(themes_to_consolidate.keys())\n",
    "before.difference(after)"
   ]
  },
  {
   "cell_type": "code",
   "execution_count": null,
   "metadata": {},
   "outputs": [],
   "source": []
  },
  {
   "cell_type": "code",
   "execution_count": 8,
   "metadata": {},
   "outputs": [],
   "source": [
    "data = df.to_json()\n",
    "with open('final_dataset/merged_dset.json', 'w') as f:\n",
    "    f.write(data)"
   ]
  },
  {
   "cell_type": "code",
   "execution_count": null,
   "metadata": {},
   "outputs": [],
   "source": []
  }
 ],
 "metadata": {
  "kernelspec": {
   "display_name": "Python 3",
   "language": "python",
   "name": "python3"
  },
  "language_info": {
   "codemirror_mode": {
    "name": "ipython",
    "version": 3
   },
   "file_extension": ".py",
   "mimetype": "text/x-python",
   "name": "python",
   "nbconvert_exporter": "python",
   "pygments_lexer": "ipython3",
   "version": "3.6.9"
  }
 },
 "nbformat": 4,
 "nbformat_minor": 2
}
