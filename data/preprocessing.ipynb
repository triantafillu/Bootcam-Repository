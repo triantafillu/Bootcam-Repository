{
 "cells": [
  {
   "cell_type": "code",
   "execution_count": 1,
   "metadata": {},
   "outputs": [],
   "source": [
    "import string, json, itertools, spacy\n",
    "import pandas as pd\n",
    "from tensorflow import keras\n",
    "import numpy as np\n",
    "\n",
    "from spacy.lang.en.stop_words import STOP_WORDS"
   ]
  },
  {
   "cell_type": "code",
   "execution_count": 2,
   "metadata": {},
   "outputs": [],
   "source": [
    "df = pd.read_json(open(\"final_dataset/merged_dset.json\", \"r\", encoding=\"utf8\"))\n",
    "df = df.drop(['url'], axis=1)"
   ]
  },
  {
   "cell_type": "code",
   "execution_count": 3,
   "metadata": {},
   "outputs": [],
   "source": [
    "# count quantity of entries by theme\n",
    "theme_entry_count = {}\n",
    "for entry in df.themes:\n",
    "    for theme in entry:\n",
    "        if theme in theme_entry_count.keys():\n",
    "            theme_entry_count[theme] += 1\n",
    "        else:\n",
    "            theme_entry_count[theme] = 1"
   ]
  },
  {
   "cell_type": "code",
   "execution_count": 4,
   "metadata": {},
   "outputs": [],
   "source": [
    "# remove the least frequent themes if needed\n",
    "themes_to_remove = []\n",
    "for key, value in theme_entry_count.items(): \n",
    "    if value < 100:\n",
    "        themes_to_remove.append(key)\n",
    "        \n",
    "def remove_themes(themes): # TODO\n",
    "    result = []\n",
    "    for theme in themes:\n",
    "        if theme not in themes_to_remove:\n",
    "            result.append(theme)\n",
    "    return result\n",
    "\n",
    "# low correlated themes\n",
    "themes_to_remove = themes_to_remove + ['blank verse', 'living', 'philosophy', 'relationships', \n",
    "                                       'social commentaries', 'social justice']\n",
    "\n",
    "df.themes = df.themes.apply(remove_themes)\n",
    "\n",
    "# remove entries without theme\n",
    "df = df[df['themes'].str.len() != 0]"
   ]
  },
  {
   "cell_type": "code",
   "execution_count": 5,
   "metadata": {},
   "outputs": [],
   "source": [
    "# get a set of themes\n",
    "themes = set(itertools.chain.from_iterable(df.themes))\n",
    "\n",
    "# themes encoding\n",
    "themes = {list(themes)[i]: i for i in range(len(themes))}\n",
    "\n",
    "def encode_themes(available_themes):\n",
    "    result = [0,] * len(themes)\n",
    "    for i in available_themes:\n",
    "        result[themes[i]] = 1\n",
    "    return result\n",
    "\n",
    "df.themes = df.themes.apply(encode_themes)"
   ]
  },
  {
   "cell_type": "code",
   "execution_count": 6,
   "metadata": {},
   "outputs": [
    {
     "data": {
      "text/plain": [
       "93"
      ]
     },
     "execution_count": 6,
     "metadata": {},
     "output_type": "execute_result"
    }
   ],
   "source": [
    "len(themes)"
   ]
  },
  {
   "cell_type": "code",
   "execution_count": 7,
   "metadata": {},
   "outputs": [],
   "source": [
    "# authors encoding\n",
    "authors = df.author.unique()\n",
    "authors = {list(authors)[i]: i for i in range(len(authors))}\n",
    "df.author = [authors[row['author']]for index, row in df.iterrows()]"
   ]
  },
  {
   "cell_type": "code",
   "execution_count": 8,
   "metadata": {},
   "outputs": [],
   "source": [
    "#  Remove punctuation\n",
    "table = str.maketrans('', '', string.punctuation)\n",
    "df['text'] = [row['text'].translate(table) for index, row in df.iterrows()]\n",
    "df['title'] = [row['title'].translate(table) for index, row in df.iterrows()]\n",
    "#  Remove stopwords\n",
    "df['text'] = df['text'].apply(lambda x: \" \".join(x for x in x.split() if x not in STOP_WORDS))"
   ]
  },
  {
   "cell_type": "code",
   "execution_count": 9,
   "metadata": {},
   "outputs": [],
   "source": [
    "#  Lemmatization\n",
    "nlp = spacy.load(\"en_core_web_sm\")\n",
    "lemmatizer = nlp.get_pipe(\"lemmatizer\")\n",
    "\n",
    "df['title'] = [\n",
    "                [token.lemma_ for token in nlp(row['title'])]\n",
    "                for index, row in df.iterrows()\n",
    "             ]\n",
    "df['text'] = [\n",
    "                [token.lemma_ for token in nlp(row['text'])]\n",
    "                for index, row in df.iterrows()\n",
    "             ]"
   ]
  },
  {
   "cell_type": "code",
   "execution_count": 10,
   "metadata": {},
   "outputs": [],
   "source": [
    "# remove too short texts\n",
    "texts_len = df['text'].apply(len)\n",
    "df.drop(df[texts_len<50].index, inplace=True)"
   ]
  },
  {
   "cell_type": "code",
   "execution_count": 11,
   "metadata": {},
   "outputs": [],
   "source": [
    "max_features=10000\n",
    "\n",
    "# tokenization\n",
    "tok = keras.preprocessing.text.Tokenizer(\n",
    "    num_words=max_features,\n",
    "    filters='!\"#$%&()*+,-./:;<=>?@[\\\\]^_`{|}~\\t\\n',\n",
    "    lower=True)  \n",
    "tok.fit_on_texts(df['text'])"
   ]
  },
  {
   "cell_type": "code",
   "execution_count": 12,
   "metadata": {},
   "outputs": [],
   "source": [
    "# text to number sequences\n",
    "df['text'] = tok.texts_to_sequences(df['text'])\n",
    "df['title'] = tok.texts_to_sequences(df['title'])"
   ]
  },
  {
   "cell_type": "code",
   "execution_count": 13,
   "metadata": {},
   "outputs": [
    {
     "data": {
      "text/html": [
       "<div>\n",
       "<style scoped>\n",
       "    .dataframe tbody tr th:only-of-type {\n",
       "        vertical-align: middle;\n",
       "    }\n",
       "\n",
       "    .dataframe tbody tr th {\n",
       "        vertical-align: top;\n",
       "    }\n",
       "\n",
       "    .dataframe thead th {\n",
       "        text-align: right;\n",
       "    }\n",
       "</style>\n",
       "<table border=\"1\" class=\"dataframe\">\n",
       "  <thead>\n",
       "    <tr style=\"text-align: right;\">\n",
       "      <th></th>\n",
       "      <th>title</th>\n",
       "      <th>author</th>\n",
       "      <th>year</th>\n",
       "      <th>text</th>\n",
       "      <th>themes</th>\n",
       "    </tr>\n",
       "  </thead>\n",
       "  <tbody>\n",
       "    <tr>\n",
       "      <th>0</th>\n",
       "      <td>[45, 4, 141, 901]</td>\n",
       "      <td>0</td>\n",
       "      <td>2002</td>\n",
       "      <td>[2, 2330, 1093, 5, 2330, 297, 9769, 1000, 415,...</td>\n",
       "      <td>[0, 0, 0, 0, 0, 0, 0, 0, 0, 0, 0, 0, 0, 0, 0, ...</td>\n",
       "    </tr>\n",
       "    <tr>\n",
       "      <th>1</th>\n",
       "      <td>[2846]</td>\n",
       "      <td>1</td>\n",
       "      <td>2002</td>\n",
       "      <td>[1, 94, 106, 4382, 3, 144, 292, 33, 1422, 8790...</td>\n",
       "      <td>[0, 0, 0, 0, 0, 0, 0, 0, 0, 0, 0, 0, 0, 0, 0, ...</td>\n",
       "    </tr>\n",
       "    <tr>\n",
       "      <th>2</th>\n",
       "      <td>[209]</td>\n",
       "      <td>2</td>\n",
       "      <td>2002</td>\n",
       "      <td>[106, 20, 732, 21, 1470, 329, 240, 161, 421, 2...</td>\n",
       "      <td>[0, 0, 0, 0, 0, 0, 0, 0, 0, 0, 0, 0, 0, 0, 0, ...</td>\n",
       "    </tr>\n",
       "    <tr>\n",
       "      <th>3</th>\n",
       "      <td>[1210, 40, 113, 1985, 17, 2315]</td>\n",
       "      <td>3</td>\n",
       "      <td>2002</td>\n",
       "      <td>[329, 304, 19, 70, 8, 1, 8, 1, 43, 1347, 1, 20...</td>\n",
       "      <td>[0, 0, 0, 0, 0, 0, 0, 0, 0, 0, 0, 0, 0, 0, 0, ...</td>\n",
       "    </tr>\n",
       "    <tr>\n",
       "      <th>4</th>\n",
       "      <td>[258, 1210]</td>\n",
       "      <td>4</td>\n",
       "      <td>2002</td>\n",
       "      <td>[10, 650, 76, 140, 544, 206, 679, 179, 107, 44...</td>\n",
       "      <td>[0, 0, 0, 0, 0, 0, 0, 0, 0, 0, 0, 1, 0, 0, 0, ...</td>\n",
       "    </tr>\n",
       "    <tr>\n",
       "      <th>...</th>\n",
       "      <td>...</td>\n",
       "      <td>...</td>\n",
       "      <td>...</td>\n",
       "      <td>...</td>\n",
       "      <td>...</td>\n",
       "    </tr>\n",
       "    <tr>\n",
       "      <th>17067</th>\n",
       "      <td>[151, 17, 2, 5250]</td>\n",
       "      <td>168</td>\n",
       "      <td>1990</td>\n",
       "      <td>[1, 399, 2514, 331, 545, 8931, 28, 2567, 93, 8...</td>\n",
       "      <td>[0, 0, 0, 0, 0, 0, 0, 0, 0, 0, 0, 0, 1, 0, 0, ...</td>\n",
       "    </tr>\n",
       "    <tr>\n",
       "      <th>17068</th>\n",
       "      <td>[]</td>\n",
       "      <td>1172</td>\n",
       "      <td>1990</td>\n",
       "      <td>[2, 596, 152, 153, 200, 277, 167, 4105, 3074, ...</td>\n",
       "      <td>[0, 0, 0, 0, 0, 0, 0, 0, 0, 0, 0, 0, 1, 0, 0, ...</td>\n",
       "    </tr>\n",
       "    <tr>\n",
       "      <th>17070</th>\n",
       "      <td>[15, 113]</td>\n",
       "      <td>3189</td>\n",
       "      <td>1990</td>\n",
       "      <td>[113, 19, 70, 125, 629, 2, 797, 1, 99, 1130, 1...</td>\n",
       "      <td>[0, 0, 0, 0, 0, 0, 0, 0, 0, 0, 0, 0, 0, 0, 0, ...</td>\n",
       "    </tr>\n",
       "    <tr>\n",
       "      <th>17071</th>\n",
       "      <td>[15, 25, 1, 13]</td>\n",
       "      <td>3431</td>\n",
       "      <td>2005</td>\n",
       "      <td>[15, 1, 13, 37, 36, 15, 1, 310, 174, 544, 38, ...</td>\n",
       "      <td>[0, 0, 0, 0, 0, 1, 0, 0, 0, 0, 0, 0, 1, 0, 0, ...</td>\n",
       "    </tr>\n",
       "    <tr>\n",
       "      <th>17073</th>\n",
       "      <td>[7, 285, 1623, 26, 1171, 24, 224, 7]</td>\n",
       "      <td>3013</td>\n",
       "      <td>1990</td>\n",
       "      <td>[6330, 6978, 1921, 793, 1609, 1024, 7634, 1789...</td>\n",
       "      <td>[0, 0, 0, 0, 0, 0, 0, 0, 0, 0, 0, 0, 0, 0, 0, ...</td>\n",
       "    </tr>\n",
       "  </tbody>\n",
       "</table>\n",
       "<p>13648 rows × 5 columns</p>\n",
       "</div>"
      ],
      "text/plain": [
       "                                      title  author  year  \\\n",
       "0                         [45, 4, 141, 901]       0  2002   \n",
       "1                                    [2846]       1  2002   \n",
       "2                                     [209]       2  2002   \n",
       "3           [1210, 40, 113, 1985, 17, 2315]       3  2002   \n",
       "4                               [258, 1210]       4  2002   \n",
       "...                                     ...     ...   ...   \n",
       "17067                    [151, 17, 2, 5250]     168  1990   \n",
       "17068                                    []    1172  1990   \n",
       "17070                             [15, 113]    3189  1990   \n",
       "17071                       [15, 25, 1, 13]    3431  2005   \n",
       "17073  [7, 285, 1623, 26, 1171, 24, 224, 7]    3013  1990   \n",
       "\n",
       "                                                    text  \\\n",
       "0      [2, 2330, 1093, 5, 2330, 297, 9769, 1000, 415,...   \n",
       "1      [1, 94, 106, 4382, 3, 144, 292, 33, 1422, 8790...   \n",
       "2      [106, 20, 732, 21, 1470, 329, 240, 161, 421, 2...   \n",
       "3      [329, 304, 19, 70, 8, 1, 8, 1, 43, 1347, 1, 20...   \n",
       "4      [10, 650, 76, 140, 544, 206, 679, 179, 107, 44...   \n",
       "...                                                  ...   \n",
       "17067  [1, 399, 2514, 331, 545, 8931, 28, 2567, 93, 8...   \n",
       "17068  [2, 596, 152, 153, 200, 277, 167, 4105, 3074, ...   \n",
       "17070  [113, 19, 70, 125, 629, 2, 797, 1, 99, 1130, 1...   \n",
       "17071  [15, 1, 13, 37, 36, 15, 1, 310, 174, 544, 38, ...   \n",
       "17073  [6330, 6978, 1921, 793, 1609, 1024, 7634, 1789...   \n",
       "\n",
       "                                                  themes  \n",
       "0      [0, 0, 0, 0, 0, 0, 0, 0, 0, 0, 0, 0, 0, 0, 0, ...  \n",
       "1      [0, 0, 0, 0, 0, 0, 0, 0, 0, 0, 0, 0, 0, 0, 0, ...  \n",
       "2      [0, 0, 0, 0, 0, 0, 0, 0, 0, 0, 0, 0, 0, 0, 0, ...  \n",
       "3      [0, 0, 0, 0, 0, 0, 0, 0, 0, 0, 0, 0, 0, 0, 0, ...  \n",
       "4      [0, 0, 0, 0, 0, 0, 0, 0, 0, 0, 0, 1, 0, 0, 0, ...  \n",
       "...                                                  ...  \n",
       "17067  [0, 0, 0, 0, 0, 0, 0, 0, 0, 0, 0, 0, 1, 0, 0, ...  \n",
       "17068  [0, 0, 0, 0, 0, 0, 0, 0, 0, 0, 0, 0, 1, 0, 0, ...  \n",
       "17070  [0, 0, 0, 0, 0, 0, 0, 0, 0, 0, 0, 0, 0, 0, 0, ...  \n",
       "17071  [0, 0, 0, 0, 0, 1, 0, 0, 0, 0, 0, 0, 1, 0, 0, ...  \n",
       "17073  [0, 0, 0, 0, 0, 0, 0, 0, 0, 0, 0, 0, 0, 0, 0, ...  \n",
       "\n",
       "[13648 rows x 5 columns]"
      ]
     },
     "execution_count": 13,
     "metadata": {},
     "output_type": "execute_result"
    }
   ],
   "source": [
    "df"
   ]
  },
  {
   "cell_type": "code",
   "execution_count": 14,
   "metadata": {},
   "outputs": [],
   "source": [
    "# export encoded data\n",
    "data = df.to_json()\n",
    "with open('../data/data.json', 'w') as f:\n",
    "    f.write(data)\n",
    "with open('../data/themes.json', 'w') as f:\n",
    "    json.dump(themes, f)"
   ]
  }
 ],
 "metadata": {
  "kernelspec": {
   "display_name": "Python 3",
   "language": "python",
   "name": "python3"
  },
  "language_info": {
   "codemirror_mode": {
    "name": "ipython",
    "version": 3
   },
   "file_extension": ".py",
   "mimetype": "text/x-python",
   "name": "python",
   "nbconvert_exporter": "python",
   "pygments_lexer": "ipython3",
   "version": "3.6.9"
  }
 },
 "nbformat": 4,
 "nbformat_minor": 2
}
